{
  "nbformat": 4,
  "nbformat_minor": 0,
  "metadata": {
    "colab": {
      "name": "Data-Science-Club-Mahindra-Hackathon : Using Algorithms - H2O- Lightgbm- CatBoost",
      "version": "0.3.2",
      "provenance": [],
      "toc_visible": true
    },
    "kernelspec": {
      "name": "python3",
      "display_name": "Python 3"
    },
    "accelerator": "TPU"
  },
  "cells": [
    {
      "cell_type": "markdown",
      "metadata": {
        "id": "4waBFmOVdcVr",
        "colab_type": "text"
      },
      "source": [
        "## Since the data set is bigger one and i use Google colab to process that data . \n",
        "- To get access the access of data directely  is bit tedious  task so i do what ,  \n",
        "- Upload the both train and test file to my Google Drive then try to access that data."
      ]
    },
    {
      "cell_type": "markdown",
      "metadata": {
        "id": "rpveELIMmUcL",
        "colab_type": "text"
      },
      "source": [
        "### Work on data which stored on google Drive\n",
        "\n"
      ]
    },
    {
      "cell_type": "markdown",
      "metadata": {
        "id": "n0T2uaqwrFsD",
        "colab_type": "text"
      },
      "source": [
        "This model inspired from  Github KamalChhirang\n",
        "[Github Notebook](https://github.com/KamalChhirang/Data-Science-Club-Mahindra-Hackathon/blob/master/LightgbmAndCatBoostModel.py)"
      ]
    },
    {
      "cell_type": "code",
      "metadata": {
        "id": "gRkc85Ynq8I6",
        "colab_type": "code",
        "outputId": "bf425927-5458-45c4-9fd3-9a679219f427",
        "colab": {
          "base_uri": "https://localhost:8080/",
          "height": 122
        }
      },
      "source": [
        "from google.colab import drive \n",
        "drive.mount('/content/drive')"
      ],
      "execution_count": 1,
      "outputs": [
        {
          "output_type": "stream",
          "text": [
            "Go to this URL in a browser: https://accounts.google.com/o/oauth2/auth?client_id=947318989803-6bn6qk8qdgf4n4g3pfee6491hc0brc4i.apps.googleusercontent.com&redirect_uri=urn%3Aietf%3Awg%3Aoauth%3A2.0%3Aoob&scope=email%20https%3A%2F%2Fwww.googleapis.com%2Fauth%2Fdocs.test%20https%3A%2F%2Fwww.googleapis.com%2Fauth%2Fdrive%20https%3A%2F%2Fwww.googleapis.com%2Fauth%2Fdrive.photos.readonly%20https%3A%2F%2Fwww.googleapis.com%2Fauth%2Fpeopleapi.readonly&response_type=code\n",
            "\n",
            "Enter your authorization code:\n",
            "··········\n",
            "Mounted at /content/drive\n"
          ],
          "name": "stdout"
        }
      ]
    },
    {
      "cell_type": "code",
      "metadata": {
        "id": "rKGIUr44sLH4",
        "colab_type": "code",
        "colab": {}
      },
      "source": [
        "import pandas as pd\n",
        "import numpy as np\n",
        "import matplotlib.pyplot as plt\n",
        "import seaborn as sns\n",
        "from scipy import stats\n",
        "from scipy.stats import norm,skew\n",
        "\n",
        "from datetime import date\n",
        "%matplotlib inline"
      ],
      "execution_count": 0,
      "outputs": []
    },
    {
      "cell_type": "markdown",
      "metadata": {
        "id": "y4lJdT99uZJ3",
        "colab_type": "text"
      },
      "source": [
        "## Explain the feature set."
      ]
    },
    {
      "cell_type": "code",
      "metadata": {
        "id": "ubrgziADuXyk",
        "colab_type": "code",
        "outputId": "595bea1b-c13e-45c7-9cc3-625e58f584e3",
        "colab": {
          "resources": {
            "http://localhost:8080/nbextensions/google.colab/files.js": {
              "data": "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",
              "ok": true,
              "headers": [
                [
                  "content-type",
                  "application/javascript"
                ]
              ],
              "status": 200,
              "status_text": ""
            }
          },
          "base_uri": "https://localhost:8080/",
          "height": 111
        }
      },
      "source": [
        "from google.colab import files\n",
        "files.upload()"
      ],
      "execution_count": 3,
      "outputs": [
        {
          "output_type": "display_data",
          "data": {
            "text/html": [
              "\n",
              "     <input type=\"file\" id=\"files-413193b5-b0eb-4c99-9188-67cf5a315097\" name=\"files[]\" multiple disabled />\n",
              "     <output id=\"result-413193b5-b0eb-4c99-9188-67cf5a315097\">\n",
              "      Upload widget is only available when the cell has been executed in the\n",
              "      current browser session. Please rerun this cell to enable.\n",
              "      </output>\n",
              "      <script src=\"/nbextensions/google.colab/files.js\"></script> "
            ],
            "text/plain": [
              "<IPython.core.display.HTML object>"
            ]
          },
          "metadata": {
            "tags": []
          }
        },
        {
          "output_type": "stream",
          "text": [
            "Saving Data_Dictionary.xlsx to Data_Dictionary.xlsx\n"
          ],
          "name": "stdout"
        },
        {
          "output_type": "execute_result",
          "data": {
            "text/plain": [
              "{'Data_Dictionary.xlsx': b'PK\\x03\\x04\\x14\\x00\\x06\\x00\\x08\\x00\\x00\\x00!\\x00B;>\\xc9Y\\x01\\x00\\x00\\x90\\x04\\x00\\x00\\x13\\x00\\x08\\x02[Content_Types].xml \\xa2\\x04\\x02(\\xa0\\x00\\x02\\x00\\x00\\x00\\x00\\x00\\x00\\x00\\x00\\x00\\x00\\x00\\x00\\x00\\x00\\x00\\x00\\x00\\x00\\x00\\x00\\x00\\x00\\x00\\x00\\x00\\x00\\x00\\x00\\x00\\x00\\x00\\x00\\x00\\x00\\x00\\x00\\x00\\x00\\x00\\x00\\x00\\x00\\x00\\x00\\x00\\x00\\x00\\x00\\x00\\x00\\x00\\x00\\x00\\x00\\x00\\x00\\x00\\x00\\x00\\x00\\x00\\x00\\x00\\x00\\x00\\x00\\x00\\x00\\x00\\x00\\x00\\x00\\x00\\x00\\x00\\x00\\x00\\x00\\x00\\x00\\x00\\x00\\x00\\x00\\x00\\x00\\x00\\x00\\x00\\x00\\x00\\x00\\x00\\x00\\x00\\x00\\x00\\x00\\x00\\x00\\x00\\x00\\x00\\x00\\x00\\x00\\x00\\x00\\x00\\x00\\x00\\x00\\x00\\x00\\x00\\x00\\x00\\x00\\x00\\x00\\x00\\x00\\x00\\x00\\x00\\x00\\x00\\x00\\x00\\x00\\x00\\x00\\x00\\x00\\x00\\x00\\x00\\x00\\x00\\x00\\x00\\x00\\x00\\x00\\x00\\x00\\x00\\x00\\x00\\x00\\x00\\x00\\x00\\x00\\x00\\x00\\x00\\x00\\x00\\x00\\x00\\x00\\x00\\x00\\x00\\x00\\x00\\x00\\x00\\x00\\x00\\x00\\x00\\x00\\x00\\x00\\x00\\x00\\x00\\x00\\x00\\x00\\x00\\x00\\x00\\x00\\x00\\x00\\x00\\x00\\x00\\x00\\x00\\x00\\x00\\x00\\x00\\x00\\x00\\x00\\x00\\x00\\x00\\x00\\x00\\x00\\x00\\x00\\x00\\x00\\x00\\x00\\x00\\x00\\x00\\x00\\x00\\x00\\x00\\x00\\x00\\x00\\x00\\x00\\x00\\x00\\x00\\x00\\x00\\x00\\x00\\x00\\x00\\x00\\x00\\x00\\x00\\x00\\x00\\x00\\x00\\x00\\x00\\x00\\x00\\x00\\x00\\x00\\x00\\x00\\x00\\x00\\x00\\x00\\x00\\x00\\x00\\x00\\x00\\x00\\x00\\x00\\x00\\x00\\x00\\x00\\x00\\x00\\x00\\x00\\x00\\x00\\x00\\x00\\x00\\x00\\x00\\x00\\x00\\x00\\x00\\x00\\x00\\x00\\x00\\x00\\x00\\x00\\x00\\x00\\x00\\x00\\x00\\x00\\x00\\x00\\x00\\x00\\x00\\x00\\x00\\x00\\x00\\x00\\x00\\x00\\x00\\x00\\x00\\x00\\x00\\x00\\x00\\x00\\x00\\x00\\x00\\x00\\x00\\x00\\x00\\x00\\x00\\x00\\x00\\x00\\x00\\x00\\x00\\x00\\x00\\x00\\x00\\x00\\x00\\x00\\x00\\x00\\x00\\x00\\x00\\x00\\x00\\x00\\x00\\x00\\x00\\x00\\x00\\x00\\x00\\x00\\x00\\x00\\x00\\x00\\x00\\x00\\x00\\x00\\x00\\x00\\x00\\x00\\x00\\x00\\x00\\x00\\x00\\x00\\x00\\x00\\x00\\x00\\x00\\x00\\x00\\x00\\x00\\x00\\x00\\x00\\x00\\x00\\x00\\x00\\x00\\x00\\x00\\x00\\x00\\x00\\x00\\x00\\x00\\x00\\x00\\x00\\x00\\x00\\x00\\x00\\x00\\x00\\x00\\x00\\x00\\x00\\x00\\x00\\x00\\x00\\x00\\x00\\x00\\x00\\x00\\x00\\x00\\x00\\x00\\x00\\x00\\x00\\x00\\x00\\x00\\x00\\x00\\x00\\x00\\x00\\x00\\x00\\x00\\x00\\x00\\x00\\x00\\x00\\x00\\x00\\x00\\x00\\x00\\x00\\x00\\x00\\x00\\x00\\x00\\x00\\x00\\x00\\x00\\x00\\x00\\x00\\x00\\x00\\x00\\x00\\x00\\x00\\x00\\x00\\x00\\x00\\x00\\x00\\x00\\x00\\x00\\x00\\x00\\x00\\x00\\x00\\x00\\x00\\x00\\x00\\x00\\x00\\x00\\x00\\x00\\x00\\x00\\x00\\x00\\x00\\x00\\x00\\x00\\x00\\x00\\x00\\x00\\x00\\x00\\x00\\x00\\x00\\x00\\x00\\x00\\x00\\x00\\x00\\x00\\x00\\xac\\x94MN\\xc30\\x10\\x85\\xf7H\\xdc!\\xf2\\x16%nY \\x84\\x9av\\xc1\\xcf\\x12*Q\\x0e`\\xe2Ic\\xd5\\xb1-\\xcf\\xb4\\xb4\\xb7g\\xe2\\x16\\x84P\\x95\\x80\\xdaM\\xac\\xc4~\\xef}\\x99\\xccd2\\xdb\\xb66\\xdb@D\\xe3])\\xc6\\xc5Hd\\xe0*\\xaf\\x8d[\\x96\\xe2m\\xf1\\x94\\xdf\\x8a\\x0cI9\\xad\\xacwP\\x8a\\x1d\\xa0\\x98M//&\\x8b]\\x00\\xccX\\xed\\xb0\\x14\\rQ\\xb8\\x93\\x12\\xab\\x06Z\\x85\\x85\\x0f\\xe0x\\xa7\\xf6\\xb1U\\xc4\\xb7q)\\x83\\xaaVj\\t\\xf2z4\\xba\\x91\\x95w\\x04\\x8er\\xea<\\xc4t\\xf2\\x00\\xb5Z[\\xca\\x1e\\xb7\\xfcxO\\xc2r\\x91\\xdd\\xef\\xcfuQ\\xa5P!XS)bP\\xd9\\xed\\xca\\xa3\\xba\\x08\\x16{\\x84\\x1b\\xa7\\x7f\\xd1\\xe5\\x07\\xb2\\x82\\x95\\xc9\\x1c\\x1b\\x13\\xf0\\xea\\x90\\xf0\\xc2\\xa5\\x89FC6W\\x91\\x9eU\\xcb\\x1crk\\xe5\\x87\\x8f\\xabw\\xefWE?\\xe6\\x914_\\xd7\\xa6\\x02\\xed\\xabu\\xcb\\x15(0DP\\x1a\\x1b\\x00jm\\x91\\xd6\\xa2U\\xc6\\xfd!?\\x1dF\\x99\\x96\\xf1\\x99A\\xba\\xf7K\\xc6\\x03\\x1c\\xc4\\xdf\\x1bd\\xba\\x9e\\x8e\\x90l\\x06\\x02\\x91v\\x16\\xf0\\xdceO\\xa6C\\xc9\\x8d\\x8a\\xa0_)\\xf2d\\x9c\\x1d\\xe0\\xa7w\\x1f\\x07\\xf7\\xcd<\\xfa\\x80<A\\x11\\xfe_\\x85\\xafV\\xef\\xd4y`#\\x88d\\xa0\\xb7\\xd9\\xbf\\x13y\\xfcN.;t\\xf3\\xadA\\x1f\\xc9\\x96\\xe9\\x7f2\\xfd\\x04\\x00\\x00\\xff\\xff\\x03\\x00PK\\x03\\x04\\x14\\x00\\x06\\x00\\x08\\x00\\x00\\x00!\\x00P|N\\xc1\\xf3\\x00\\x00\\x00L\\x02\\x00\\x00\\x0b\\x00\\x08\\x02_rels/.rels \\xa2\\x04\\x02(\\xa0\\x00\\x02\\x00\\x00\\x00\\x00\\x00\\x00\\x00\\x00\\x00\\x00\\x00\\x00\\x00\\x00\\x00\\x00\\x00\\x00\\x00\\x00\\x00\\x00\\x00\\x00\\x00\\x00\\x00\\x00\\x00\\x00\\x00\\x00\\x00\\x00\\x00\\x00\\x00\\x00\\x00\\x00\\x00\\x00\\x00\\x00\\x00\\x00\\x00\\x00\\x00\\x00\\x00\\x00\\x00\\x00\\x00\\x00\\x00\\x00\\x00\\x00\\x00\\x00\\x00\\x00\\x00\\x00\\x00\\x00\\x00\\x00\\x00\\x00\\x00\\x00\\x00\\x00\\x00\\x00\\x00\\x00\\x00\\x00\\x00\\x00\\x00\\x00\\x00\\x00\\x00\\x00\\x00\\x00\\x00\\x00\\x00\\x00\\x00\\x00\\x00\\x00\\x00\\x00\\x00\\x00\\x00\\x00\\x00\\x00\\x00\\x00\\x00\\x00\\x00\\x00\\x00\\x00\\x00\\x00\\x00\\x00\\x00\\x00\\x00\\x00\\x00\\x00\\x00\\x00\\x00\\x00\\x00\\x00\\x00\\x00\\x00\\x00\\x00\\x00\\x00\\x00\\x00\\x00\\x00\\x00\\x00\\x00\\x00\\x00\\x00\\x00\\x00\\x00\\x00\\x00\\x00\\x00\\x00\\x00\\x00\\x00\\x00\\x00\\x00\\x00\\x00\\x00\\x00\\x00\\x00\\x00\\x00\\x00\\x00\\x00\\x00\\x00\\x00\\x00\\x00\\x00\\x00\\x00\\x00\\x00\\x00\\x00\\x00\\x00\\x00\\x00\\x00\\x00\\x00\\x00\\x00\\x00\\x00\\x00\\x00\\x00\\x00\\x00\\x00\\x00\\x00\\x00\\x00\\x00\\x00\\x00\\x00\\x00\\x00\\x00\\x00\\x00\\x00\\x00\\x00\\x00\\x00\\x00\\x00\\x00\\x00\\x00\\x00\\x00\\x00\\x00\\x00\\x00\\x00\\x00\\x00\\x00\\x00\\x00\\x00\\x00\\x00\\x00\\x00\\x00\\x00\\x00\\x00\\x00\\x00\\x00\\x00\\x00\\x00\\x00\\x00\\x00\\x00\\x00\\x00\\x00\\x00\\x00\\x00\\x00\\x00\\x00\\x00\\x00\\x00\\x00\\x00\\x00\\x00\\x00\\x00\\x00\\x00\\x00\\x00\\x00\\x00\\x00\\x00\\x00\\x00\\x00\\x00\\x00\\x00\\x00\\x00\\x00\\x00\\x00\\x00\\x00\\x00\\x00\\x00\\x00\\x00\\x00\\x00\\x00\\x00\\x00\\x00\\x00\\x00\\x00\\x00\\x00\\x00\\x00\\x00\\x00\\x00\\x00\\x00\\x00\\x00\\x00\\x00\\x00\\x00\\x00\\x00\\x00\\x00\\x00\\x00\\x00\\x00\\x00\\x00\\x00\\x00\\x00\\x00\\x00\\x00\\x00\\x00\\x00\\x00\\x00\\x00\\x00\\x00\\x00\\x00\\x00\\x00\\x00\\x00\\x00\\x00\\x00\\x00\\x00\\x00\\x00\\x00\\x00\\x00\\x00\\x00\\x00\\x00\\x00\\x00\\x00\\x00\\x00\\x00\\x00\\x00\\x00\\x00\\x00\\x00\\x00\\x00\\x00\\x00\\x00\\x00\\x00\\x00\\x00\\x00\\x00\\x00\\x00\\x00\\x00\\x00\\x00\\x00\\x00\\x00\\x00\\x00\\x00\\x00\\x00\\x00\\x00\\x00\\x00\\x00\\x00\\x00\\x00\\x00\\x00\\x00\\x00\\x00\\x00\\x00\\x00\\x00\\x00\\x00\\x00\\x00\\x00\\x00\\x00\\x00\\x00\\x00\\x00\\x00\\x00\\x00\\x00\\x00\\x00\\x00\\x00\\x00\\x00\\x00\\x00\\x00\\x00\\x00\\x00\\x00\\x00\\x00\\x00\\x00\\x00\\x00\\x00\\x00\\x00\\x00\\x00\\x00\\x00\\x00\\x00\\x00\\x00\\x00\\x00\\x00\\x00\\x00\\x00\\x00\\x00\\x00\\x00\\x00\\x00\\x00\\x00\\x00\\x00\\x00\\x00\\x00\\x00\\x00\\x00\\x00\\x00\\x00\\x00\\x00\\x00\\x00\\x00\\x00\\x00\\x00\\x00\\x00\\x00\\x00\\x00\\x00\\x00\\x00\\x00\\x00\\x00\\xac\\x92\\xcfJ\\x031\\x10\\x87\\xef\\x82\\xef\\x10\\xe6\\xde\\x9dm\\x05\\x11i\\xb6\\x17\\x11z\\x13\\xa9\\x0f0&\\xb3\\x7f\\xd8M&$Q\\xb7oo\\x10\\x14\\x17j\\xf5\\xe013\\x93o\\xbe\\xfc\\xc8v7\\xbbI\\xbdrL\\x83x\\r\\xeb\\xaa\\x06\\xc5\\xde\\x88\\x1d|\\xa7\\xe1\\xe9p\\xbf\\xba\\x01\\x952yK\\x93x\\xd6p\\xe4\\x04\\xbb\\xe6\\xf2b\\xfb\\xc8\\x13\\xe5r)\\xf5CH\\xaaP|\\xd2\\xd0\\xe7\\x1cn\\x11\\x93\\xe9\\xd9Q\\xaa$\\xb0/\\x9dV\\xa2\\xa3\\\\\\x8e\\xb1\\xc3@f\\xa4\\x8eqS\\xd7\\xd7\\x18\\xbf3\\xa0Y0\\xd5\\xdej\\x88{\\xbb\\x06u8\\x86\\xb2\\xf9w\\xb6\\xb4\\xed`\\xf8N\\xcc\\x8bc\\x9fO\\xac\\xc0\\xe5D!S\\xec8k\\x98\\'|\\x938>\\x8b\\x8cU\\x11\\x06<\\xed\\xb2\\xf9\\xbb\\xcb\\xcf\\xefD\\xc7\\x99,eB#\\x91W!\\x96\\x94b\\x1eJ\\xae_:V\\xccC)\\xa7\\x8f\\x89sBW\\xff\\x19\\x0e\\xcf\\x99\\xbde{^\\x89B\\xf84\\xc2\\xc5\\x1fh\\xde\\x01\\x00\\x00\\xff\\xff\\x03\\x00PK\\x03\\x04\\x14\\x00\\x06\\x00\\x08\\x00\\x00\\x00!\\x00\\x8c\\x96\\xc5n\\xf3\\x00\\x00\\x00\\xba\\x02\\x00\\x00\\x1a\\x00\\x08\\x01xl/_rels/workbook.xml.rels \\xa2\\x04\\x01(\\xa0\\x00\\x01\\x00\\x00\\x00\\x00\\x00\\x00\\x00\\x00\\x00\\x00\\x00\\x00\\x00\\x00\\x00\\x00\\x00\\x00\\x00\\x00\\x00\\x00\\x00\\x00\\x00\\x00\\x00\\x00\\x00\\x00\\x00\\x00\\x00\\x00\\x00\\x00\\x00\\x00\\x00\\x00\\x00\\x00\\x00\\x00\\x00\\x00\\x00\\x00\\x00\\x00\\x00\\x00\\x00\\x00\\x00\\x00\\x00\\x00\\x00\\x00\\x00\\x00\\x00\\x00\\x00\\x00\\x00\\x00\\x00\\x00\\x00\\x00\\x00\\x00\\x00\\x00\\x00\\x00\\x00\\x00\\x00\\x00\\x00\\x00\\x00\\x00\\x00\\x00\\x00\\x00\\x00\\x00\\x00\\x00\\x00\\x00\\x00\\x00\\x00\\x00\\x00\\x00\\x00\\x00\\x00\\x00\\x00\\x00\\x00\\x00\\x00\\x00\\x00\\x00\\x00\\x00\\x00\\x00\\x00\\x00\\x00\\x00\\x00\\x00\\x00\\x00\\x00\\x00\\x00\\x00\\x00\\x00\\x00\\x00\\x00\\x00\\x00\\x00\\x00\\x00\\x00\\x00\\x00\\x00\\x00\\x00\\x00\\x00\\x00\\x00\\x00\\x00\\x00\\x00\\x00\\x00\\x00\\x00\\x00\\x00\\x00\\x00\\x00\\x00\\x00\\x00\\x00\\x00\\x00\\x00\\x00\\x00\\x00\\x00\\x00\\x00\\x00\\x00\\x00\\x00\\x00\\x00\\x00\\x00\\x00\\x00\\x00\\x00\\x00\\x00\\x00\\x00\\x00\\x00\\x00\\x00\\x00\\x00\\x00\\x00\\x00\\x00\\x00\\x00\\x00\\x00\\x00\\x00\\x00\\x00\\x00\\x00\\x00\\x00\\x00\\x00\\x00\\x00\\x00\\x00\\x00\\x00\\x00\\x00\\x00\\x00\\x00\\x00\\x00\\x00\\x00\\x00\\x00\\x00\\x00\\x00\\x00\\x00\\x00\\x00\\x00\\x00\\x00\\x00\\x00\\x00\\x00\\x00\\x00\\x00\\x00\\x00\\x00\\x00\\x00\\x00\\xac\\x92\\xcfj\\xc30\\x0c\\xc6\\xef\\x83\\xbd\\x83\\xd1}q\\xd2\\x8d1F\\x9d^\\xc6\\xa0\\xd7-{\\x00c+qhb\\x1bK\\xfb\\x93\\xb7\\x9f\\xc9\\xa0M\\xa1t\\x97\\\\\\x0c\\x9f\\x84\\xbf\\xef\\'\\xa1\\xed\\xeeg\\x1c\\xc4\\x17&\\xea\\x83WP\\x15%\\x08\\xf4&\\xd8\\xdew\\n>\\x9a\\xd7\\xbb\\'\\x10\\xc4\\xda[=\\x04\\x8f\\n&$\\xd8\\xd5\\xb77\\xdb7\\x1c4\\xe7O\\xe4\\xfaH\"\\xbbxR\\xe0\\x98\\xe3\\xb3\\x94d\\x1c\\x8e\\x9a\\x8a\\x10\\xd1\\xe7N\\x1b\\xd2\\xa89\\xcb\\xd4\\xc9\\xa8\\xcdAw(7e\\xf9(\\xd3\\xd2\\x03\\xea3O\\xb1\\xb7\\n\\xd2\\xde\\xde\\x83h\\xa6\\x98\\x93\\xff\\xf7\\x0em\\xdb\\x1b|\\t\\xe6sD\\xcf\\x17\"$\\xf14\\xe4\\x01D\\xa3S\\x87\\xac\\xe0O\\x17\\x99\\x11\\xe4\\xe5\\xf8\\x87U\\xe3\\x9dNh\\xdf9\\xe5\\xed.)\\x96\\xe5k0\\xd5\\x9a0\\xdf!\\x1d\\xc8!\\xf2i\\x1d\\xc7\\x12\\xc9\\xb9S]\\x83\\xd9\\xac\\t\\xc3\\xf9`\\xf0\\x042K9\\xbfG\\x06yvq\\xf5/\\x00\\x00\\x00\\xff\\xff\\x03\\x00PK\\x03\\x04\\x14\\x00\\x06\\x00\\x08\\x00\\x00\\x00!\\x00\\xf5\\x88\\xc1\\xe6\\x11\\x03\\x00\\x00q\\x06\\x00\\x00\\x0f\\x00\\x00\\x00xl/workbook.xml\\xa4T\\xcbn\\xdb8\\x14\\xdd\\x0f0\\xff h\\xafP\\x0f\\xd2z\\xc0vaY\\xd2\\xd4@\\xa7\\x08\\xd2\\xd7\\xec\\x02\\x9a\\xa2,\\xc2\\x92\\xa8!\\xa9\\xda\\xc1 \\xff\\xde+)N\\xd2\\xa6\\x8b\\xb4\\xb3\\x11\\xc9K\\xf1\\xf0\\xdcs\\xee\\xe5\\xf2\\xcd\\xb9m\\xac\\xaf\\\\i!\\xbb\\x95\\xed]\\xb9\\xb6\\xc5;&K\\xd1\\x1dV\\xf6\\xa7\\x8f\\x85\\x13\\xd9\\x966\\xb4+i#;\\xbe\\xb2\\xef\\xb8\\xb6\\xdf\\xac\\xff\\xfccy\\x92\\xea\\xb8\\x97\\xf2h\\x01@\\xa7WvmL\\x9f \\xa4Y\\xcd[\\xaa\\xafd\\xcf;\\xd8\\xa9\\xa4j\\xa9\\x81\\xa5: \\xdd+NK]sn\\xda\\x06\\xf9\\xae\\xbb@-\\x15\\x9d=#$\\xea5\\x18\\xb2\\xaa\\x04\\xe3\\x99dC\\xcb;3\\x83(\\xdeP\\x03\\xf4u-z}Ak\\xd9k\\xe0Z\\xaa\\x8eC\\xef0\\xd9\\xf6\\x00\\xb1\\x17\\x8d0w\\x13\\xa8m\\xb5,\\xd9\\x1d:\\xa9\\xe8\\xbe\\x81\\xb4\\xcf\\x1e\\xb9 \\xc3\\xf4\\x05t+\\x98\\x92ZV\\xe6\\n\\xa0\\xd0L\\xf2E\\xbe\\x9e\\x8b<oNy\\xbd\\xacD\\xc3?\\xcf\\xb2[\\xb4\\xef\\xdf\\xd3v\\xbc\\xa5\\xb1\\xad\\x86j\\x93\\x97\\xc2\\xf0re/`)O\\xfc)\\x10\\xda\\x96\\x1a\\xfat\\x10\\r\\xec\\xfaa\\xe0\\xc66Z?Zq\\xad`\\x01\\xbc7\\x8d\\xe1\\xaa\\xa3\\x86oeg@\\xa6\\x07\\x81\\xff\\xaf$\\x13\\xf6\\xb6\\x96`\\x80u\\xc3\\xff\\x1d\\x84\\xe2\\xe0\\xfb\\xa8\\xccz\\t_\\xca\\x12\\xba\\xd7\\xd7\\xd4\\xd4\\xd6\\xa0\\x9a\\x95\\x8d>i\\xc8\\x0f\\xd1\\xee(\\x0c\\xca\\xb8>\\x1a\\xd9\\xa3m3\\xeco\\xff\\xa6\\xb5\\xe8JEo\\xdfRvD\\x06\\xf2CFA%\\xdc\\xfe\\xf5\\xcfu\\x15\\x05\\x1ez&5}\\xe9\\xe3/\\x88M\\xd9\\xa8\\x0f\\x02Mf\\xde\\xf3\\xfcG}\\xd6\\xcb\\xb1\\x90?\\x0b~\\xd2Ob\\x8eK\\xeb\\xfc\\x05\\x88\\xca\\xd3\\xca\\x86\\xb6\\xb8{6?M\\xe1/\\xa245\\xf8\\x10E.\\xec\\xcf\\xb1\\xb7\\\\\\x1cj\\x03\\x9d\\x041w\\xba\\xfc\\x19\\xf6T\\xfbp\\xc74Z\\xdd\\xe4\\xf9\\x87\\xb1\\x1f<h\\xb2q\\xdc\\x81\\xad0W\\x89\\x80\\x89\\xda\\x95\\xde\\x84p9\\xc6h\\xc3\\xae\\x955\\x0e\\xd3\\x8f\\x04\\xae\\x80\\xbf\\x99\\xec\\xd8\\xa0\\x14\\x18\\xbd\\x85\\x9d\\x91+\\xe4\\xcc\\xcf\\xe6\\x9d6\\xd3\\x08v\\x88\\x95\\xfd_\\x18\\x17\\x04\\xc7\\xe1\\xc2\\xf1\\xb2\\rq\\xf0\\xc2\\x8b\\x9c\\xd4\\xc3\\xa1\\x83\\xb7Y\\x8e\\xd3\\x98\\x04\\x9b \\xba\\x7fR\\x1e\\xff^\\x91\\xbb1\\x8a/5~\\xf6pry&\\x80w\\xc9+:4f\\xd7\\xd2\\x03\\xcfz\\xa0\\x14\\xf8\\xe1\"\\x9c2\\x04\\xb6\\xdfQ%~\\x90\\x93,p|R\\x04\\xce\\x86\\xe4\\xae\\xe3-\\x02\\xdfY\\xe0\\xc2\\'x\\xeb\\xfb\\x98\\xf8\\x8fT\\xdb\\xf3\\xeb\\x98\\xb6\\x94!~f|zz\\xa2\\x0b\\xc7\\xf6\\x9cl\\x14\\xabw\\x99U4\\xf4\\x00\\xf5\\xec\\xff\\x8c\\x90\\x87\\xddM\\xe8\\xc6\\xd8q\\xf3\\x00\\xb4\\x8bb\\xdf\\x890\\x10\\xda\\xe2\\xcc\\xcfI\\x98gyJ\\xee\\xe76x\\x9e1\\xab\\xa92\\x1f\\x15T9<\\xa77\\xbcJ\\xa9\\x86.\\x9fM\\xfd!\\xe5\\x94D\\xa9\\x1b\\x00..\\xbc\\xc2\\xc1^\\xec:i\\xba\\xc0\\x0e\\xc9\\x8a\\x80\\x84^\\xb6\\xcdI\\xf1\\xe4\\xceX\\x02\\xd5o\\xbeB\\x11\\x9aNsj\\x06h\\xe0\\x91\\xf4\\xb4N\\xc6o\\xf1\\x10}\\x0cVs\\xe0\\xa1V\\xbf\\xeb\\xbc\\xe4&\\x9b\\xa4\\xfa\\xe9qP\\x1a\\x1c\\x1d\\xbfS\\x15\\xa2K\\x19\\xac\\xbf\\x01\\x00\\x00\\xff\\xff\\x03\\x00PK\\x03\\x04\\x14\\x00\\x06\\x00\\x08\\x00\\x00\\x00!\\x00sO\\x81\\x0f\\x95\\x02\\x00\\x00\\x97\\x07\\x00\\x00\\x14\\x00\\x00\\x00xl/sharedStrings.xml\\x9cUM\\x8f\\xd30\\x10\\xbd#\\xf1\\x1fF9\\xc1\\x81MA\\x02!\\xd4v\\x05\\xad\\x10\\x1cX\\xa1\\xdd.W\\xcb\\xb5\\xa7\\x89\\xb5\\x8e\\x1d\\xec\\xc9\\xb2\\xfb\\xef\\x19\\xe7c\\xbb$i\\x0f\\x1c\\x9b7\\x9fo\\xdes\\x97\\x97\\x0f\\x95\\x85{\\x0c\\xd1x\\xb7\\xca\\xde^,2@\\xa7\\xbc6\\xaeXe\\xb7\\xbb\\xafo>f\\x10I:-\\xadw\\xb8\\xca\\x1e1f\\x97\\xeb\\x97/\\x961\\x12p\\xae\\x8b\\xab\\xac$\\xaa?\\xe5yT%V2^\\xf8\\x1a\\x1d#\\x07\\x1f*I\\xfc3\\x14y\\xac\\x03J\\x1dKD\\xaal\\xfen\\xb1\\xf8\\x90W\\xd2\\xb8\\x0c\\x94o\\x1c\\xad\\xb2\\xf7\\xdc\\xb6q\\xe6w\\x83\\x9b\\xa7\\x0f\\xebe4\\xeb%\\xad\\xb9\\xaa\\xba3NhI\\xb8\\xcci\\xbd\\xcc\\xd3\\xf7g\\x98o\\xe8\\x04(\\x9dC+x\\x9bI\\xe2\\xde{\\xaeY\\xcc\\xe6\\xa5\\xc9D\\x1d\\xbcn\\x14\\xcd&\\xbb\\xa6\\xdac\\xf0\\x07\\xa9\\x1bKq<\\xd3\\x80\\xaa\\xd2X\\x1d\\xd0\\x8d\\xf1\\x9a\\xc9\\xf6\\x8e\\x82\\xbcGky\\x06\\xa3\\xc7\\x11\\x01\\xa3\\x0f$\\x02\\x16|\\x94\\xd9\\t\\xfa\\x08z\\xacq\\x1e\\xf7\\xbe\\x12-\\x9a\\x16E}2\\xc8\\x99\\xa2\\x9c\\xae\\x10Q\\xf2\\x88\\xa2\\xf4\\xd6h\\xf9x\"\\x9dUA]w\\x9e4\\x1a\\xcd\\xb2\\x99\\xd0\\xfco\\x0c/5^\\x95<I+j\\xf90\\x06*L\\x1c\\x0bY\\xa0\\xd87\\xea\\x0e\\xa7C\\x0e\\'<IBWbJ\\xaf\\xb2M$\\xae=\\xa7\\x0b\\xde\\x04\\xc3\\xbd$&>\\xcd\\xde\\xf0^\\xe7\\x0e0{\\xbb\\xa1\\x80\\x98\\xa2\\xb2J\\xf2\\x16\\x91\\x1dB\\x82\\x85 B:T{\\x04\\x11\\x95\\xb48\\xd1\\xc2&\\xa9\\x9f\\x15\\x0eI\\xfe\\x10P\\xf9\\xa0Q\\x83$\\xa0\\x12\\x81L\\x85\\xe0\\x0f\\xd0s1&\\xb1M6\\xee\\xbfr\\xb7\\xe6p@\\x96/\\x81*[\\x1f\\xc53\\x8dv,\\xc4\\x04\\xf7\\xae\\x01\\t\\x1d\\xf9P\\xca\\x08u\\x13\\xb8D\\x9c\\xeev\\xd5\\xfa(\\xe5uN\\x82\\xa3)\\xc6\\x9b\\x1cC\\x07[\\x9d\\t~\\x9a\\xa6u\\xda\\x99\\xc0\\xeb\\xd6hp\\xdd\\x1am\\xdc\\xb2\\x07S\\xb1\\t\\xc4W\\x839\\xe08f:lg\\xae\\xf68\\xd3\\xe5oZ\\x8f\\xc1\\xb7\\xc1c3\\xed;O\\xc1M2Zb\\xe9G\\xeb\\x89q`\\x07\\xf3\\x95\\xff\\x94F\\x95,\\x91\\xf4x\\x80\\x89`\\xbd\\xe2\\xc4\\x89\\xa2v\\xc9r\\xd0\\xbdB\\xf1\\x0c9\\x9f\\x0b\\x84\\xcez\\xa9wR[w\\xd3q\\xff\\x81\\xed/\\xdd\\x93:\\x86o\\xdbg\\x1d\\xbeo\\xcfW\\xd9t\\xa6\\x84\\r?\\xd6)\\xb2c\\x7f\\x86\\x94\\xc1]\\\\\\xf1D\\xab\\xfepS\\x9c\\x81\\xa7\\xec\\xc4Z\\x13g\\x8al1\\xaa`\\xea\\xf4\\x02\\x8c\\xebo\\xfb;\\x9cp\\xdb\\xab\\x9d\\x0c\\x05\\xd2\\xeb~v\\xb8a\\x97k\\xf8\\x89\\x01\\xae\\x93^\\xae\\xd2S;.\\xf9K\\x06#\\xf7\\xf6\\x99\\xc2r\\xfec]\\xff\\x05\\x00\\x00\\xff\\xff\\x03\\x00PK\\x03\\x04\\x14\\x00\\x06\\x00\\x08\\x00\\x00\\x00!\\x00\\xc1\\x17\\x10\\xbeN\\x07\\x00\\x00\\xc6 \\x00\\x00\\x13\\x00\\x00\\x00xl/theme/theme1.xml\\xecY\\xcd\\x8b\\x1b7\\x14\\xbf\\x17\\xfa?\\x0csw\\xfc5\\xe3\\x8f%\\xde\\xe0\\xcfl\\x93\\xdd$d\\x9d\\x94\\x1c\\xb5\\xb6\\xecQV32\\x92\\xbc\\x1b\\x13\\x02%9\\xf5R(\\xa4\\xa5\\x97Bo=\\x94\\xd2@\\x03\\r\\xbd\\xf4\\x8f\\t$\\xb4\\xe9\\x1f\\xd1\\'\\xcd\\xd8#\\xad\\xe5$\\x9blJZv\\r\\x8bG\\xfe\\xbd\\xa7\\xa7\\xf7\\x9e~z\\xf3t\\xf1\\xd2\\xbd\\x98zG\\x98\\x0b\\xc2\\x92\\x96_\\xbeP\\xf2=\\x9c\\x8c\\xd8\\x98$\\xd3\\x96\\x7fk8(4|OH\\x94\\x8c\\x11e\\tn\\xf9\\x0b,\\xfcK\\xdb\\x9f~r\\x11m\\xc9\\x08\\xc7\\xd8\\x03\\xf9Dl\\xa1\\x96\\x1fI9\\xdb*\\x16\\xc5\\x08\\x86\\x91\\xb8\\xc0f8\\x81\\xdf&\\x8c\\xc7H\\xc2#\\x9f\\x16\\xc7\\x1c\\x1d\\x83\\xde\\x98\\x16+\\xa5R\\xad\\x18#\\x92\\xf8^\\x82bP{}2!#\\xec\\r\\x95J\\x7f{\\xa9\\xbcO\\xe11\\x91B\\r\\x8c(\\xdfW\\xaa\\xb1%\\xa1\\xb1\\xe3\\xc3\\xb2B\\x88\\x85\\xe8R\\xee\\x1d!\\xda\\xf2a\\x9e1;\\x1e\\xe2{\\xd2\\xf7(\\x12\\x12~h\\xf9%\\xfd\\xe7\\x17\\xb7/\\x16\\xd1V&D\\xe5\\x06YCn\\xa0\\xff2\\xb9L`|X\\xd1s\\xf2\\xe9\\xc1j\\xd2 \\x08\\x83Z{\\xa5_\\x03\\xa8\\\\\\xc7\\xf5\\xeb\\xfdZ\\xbf\\xb6\\xd2\\xa7\\x01h4\\x82\\x95\\xa6\\xb6\\xd8:\\xeb\\x95n\\x90a\\rP\\xfa\\xd5\\xa1\\xbbW\\xefU\\xcb\\x16\\xde\\xd0_]\\xb3\\xb9\\x1d\\xaa\\x8f\\x85\\xd7\\xa0T\\x7f\\xb0\\x86\\x1f\\x0c\\xba\\xe0E\\x0b\\xafA)>\\\\\\xc3\\x87\\x9df\\xa7g\\xeb\\xd7\\xa0\\x14_[\\xc3\\xd7K\\xed^P\\xb7\\xf4kPDIr\\xb8\\x86.\\x85\\xb5jw\\xb9\\xda\\x15d\\xc2\\xe8\\x8e\\x13\\xde\\x0c\\x83A\\xbd\\x92)\\xcfQ\\x90\\r\\xab\\xecRSLX\"7\\xe5Z\\x8c\\xee2>\\x00\\x80\\x02R$I\\xe2\\xc9\\xc5\\x0cO\\xd0\\x08\\xb2\\xb8\\x8b(9\\xe0\\xc4\\xdb%\\xd3\\x08\\x12o\\x86\\x12&`\\xb8T)\\rJU\\xf8\\xaf>\\x81\\xfe\\xa6#\\x8a\\xb602\\xa4\\x95]`\\x89X\\x1bR\\xf6xb\\xc4\\xc9L\\xb6\\xfc+\\xa0\\xd57 /\\x9e={\\xfe\\xf0\\xe9\\xf3\\x87\\xbf=\\x7f\\xf4\\xe8\\xf9\\xc3_\\xb2\\xb9\\xb5*Kn\\x07%SS\\xee\\xd5\\x8f_\\xff\\xfd\\xfd\\x17\\xde_\\xbf\\xfe\\xf0\\xea\\xf17\\xe9\\xd4\\'\\xf1\\xc2\\xc4\\xbf\\xfc\\xf9\\xcb\\x97\\xbf\\xff\\xf1:\\xf5\\xb0\\xe2\\xdc\\x15/\\xbe}\\xf2\\xf2\\xe9\\x93\\x17\\xdf}\\xf5\\xe7O\\x8f\\x1d\\xda\\xdb\\x1c\\x1d\\x98\\xf0!\\x89\\xb1\\xf0\\xae\\xe1c\\xef&\\x8ba\\x81\\x0e\\xfb\\xf1\\x01?\\x9d\\xc40B\\xc4\\x92@\\x11\\xe8v\\xa8\\xee\\xcb\\xc8\\x02^[ \\xea\\xc2u\\xb0\\xed\\xc2\\xdb\\x1cX\\xc6\\x05\\xbc<\\xbfk\\xd9\\xba\\x1f\\xf1\\xb9$\\x8e\\x99\\xafF\\xb1\\x05\\xdcc\\x8cv\\x18w:\\xe0\\xaa\\x9a\\xcb\\xf0\\xf0p\\x9eL\\xdd\\x93\\xf3\\xb9\\x89\\xbb\\x89\\xd0\\x91k\\xee.J\\xac\\x00\\xf7\\xe73\\xa0W\\xe2R\\xd9\\x8d\\xb0e\\xe6\\r\\x8a\\x12\\x89\\xa68\\xc1\\xd2S\\xbf\\xb1C\\x8c\\x1d\\xab\\xbbC\\x88\\xe5\\xd7=2\\xe2L\\xb0\\x89\\xf4\\xee\\x10\\xaf\\x83\\x88\\xd3%Cr`%R.\\xb4Cb\\x88\\xcb\\xc2e \\x84\\xda\\xf2\\xcd\\xdem\\xaf\\xc3\\xa8k\\xd5=|d#a[ \\xea0~\\x88\\xa9\\xe5\\xc6\\xcbh.Q\\xecR9D15\\x1d\\xbe\\x8bd\\xe42r\\x7f\\xc1G&\\xae/$Dz\\x8a)\\xf3\\xfac,\\x84K\\xe6:\\x87\\xf5\\x1aA\\xbf\\n\\x0c\\xe3\\x0e\\xfb\\x1e]\\xc46\\x92Kr\\xe8\\xd2\\xb9\\x8b\\x183\\x91=v\\xd8\\x8dP<s\\xdaL\\x92\\xc8\\xc4~&\\x0e!E\\x91w\\x83I\\x17|\\x8f\\xd9;D=C\\x1cP\\xb21\\xdc\\xb7\\t\\xb6\\xc2\\xfdf\"\\xb8\\x05\\xe4j\\x9a\\x94\\'\\x88\\xfae\\xce\\x1d\\xb1\\xbc\\x8c\\x99\\xbd\\x1f\\x17t\\x82\\xb0\\x8be\\xda<\\xb6\\xd8\\xb5\\xcd\\x893;:\\xf3\\xa9\\x95\\xda\\xbb\\x18St\\x8c\\xc6\\x18{\\xb7>sX\\xd0a3\\xcb\\xe7\\xb9\\xd1W\"`\\x95\\x1d\\xecJ\\xac+\\xc8\\xceU\\xf5\\x9c`\\x01e\\x92\\xaak\\xd6)r\\x97\\x08+e\\xf7\\xf1\\x94m\\xb0goq\\x82x\\x16(\\x89\\x11\\xdf\\xa4\\xf9\\x1aD\\xddJ]8\\xe5\\x9cTz\\x9d\\x8e\\x0eM\\xe05\\x02\\xe5\\x1f\\xe4\\x8b\\xd3)\\xd7\\x05\\xe80\\x92\\xbb\\xbfI\\xeb\\x8d\\x08Yg\\x97z\\x16\\xee|]p+~o\\xb3\\xc7`_\\xde=\\xed\\xbe\\x04\\x19|j\\x19 \\xf6\\xb7\\xf6\\xcd\\x10Qk\\x82<a\\x86\\x08\\n\\x0c\\x17\\xdd\\x82\\x88\\x15\\xfe\\\\D\\x9d\\xabZl\\xee\\x94\\x9b\\xd8\\x9b6\\x0f\\x03\\x14FV\\xbd\\x13\\x93\\xe4\\x8d\\xc5\\xcf\\x89\\xb2\\'\\xfcw\\xca\\x1ew\\x01s\\x06\\x05\\x8f[\\xf1\\xfb\\x94:\\x9b(e\\xe7D\\x81\\xb3\\t\\xf7\\x1f,kzh\\x9e\\xdc\\xc0p\\x92\\xacs\\xd6yUs^\\xd5\\xf8\\xff\\xfb\\xaaf\\xd3^>\\xafe\\xcek\\x99\\xf3Z\\xc6\\xf5\\xf6\\xf5Aj\\x99\\xbc|\\x81\\xca&\\xef\\xf2\\xe8\\x9eO\\xbc\\xb1\\xe53!\\x94\\xee\\xcb\\x05\\xc5\\xbbBw}\\x04\\xbc\\xd1\\x8c\\x070\\xa8\\xdbQ\\xba\\'\\xb9j\\x01\\xce\"\\xf8\\x9a5\\x98,\\xdc\\x94#-\\xe3q&?\\'2\\xda\\x8f\\xd0\\x0cZCe\\xdd\\xc0\\x9c\\x8aL\\xf5Tx3&\\xa0c\\xa4\\x87u+\\x15\\x9f\\xd0\\xad\\xfbN\\xf3x\\x8f\\x8d\\xd3Ng\\xb9\\xac\\xba\\x9a\\xa9\\x0b\\x05\\x92\\xf9x)\\\\\\x8dC\\x97J\\xa6\\xe8Z=\\xef\\xde\\xad\\xd4\\xeb~\\xe8TwY\\x97\\x06(\\xd9\\xd3\\x18aLf\\x1bQu\\x18Q_\\x0eB\\x14^g\\x84^\\xd9\\x99X\\xd1tX\\xd1P\\xea\\x97\\xa1ZFq\\xe5\\n0m\\x15\\x15x\\xe5\\xf6\\xe0E\\xbd\\xe5\\x87A\\xdaA\\x86f\\x1c\\x94\\xe7c\\x15\\xa7\\xb4\\x99\\xbc\\x8c\\xae\\n\\xce\\x99Fz\\x933\\xa9\\x99\\x01Pb/3 \\x8ftS\\xd9\\xbaqyjui\\xaa\\xbdE\\xa4-#\\x8ct\\xb3\\x8d0\\xd20\\x82\\x17\\xe1,;\\xcd\\x96\\xfbY\\xc6\\xba\\x99\\x87\\xd42O\\xb9b\\xb9\\x1br3\\xea\\x8d\\x0f\\x11kE\"\\'\\xb8\\x81&&S\\xd0\\xc4;n\\xf9\\xb5j\\x08\\xb7*#4k\\xf9\\x13\\xe8\\x18\\xc3\\xd7x\\x06\\xb9#\\xd4[\\x17\\xa2S\\xb8v\\x19I\\x9en\\xf8wa\\x96\\x19\\x17\\xb2\\x87D\\x94:\\\\\\x93N\\xca\\x061\\x91\\x98{\\x94\\xc4-_-\\x7f\\x95\\r4\\xd1\\x1c\\xa2m+W\\x80\\x10>Z\\xe3\\x9a@+\\x1f\\x9bq\\x10t;\\xc8x2\\xc1#i\\x86\\xdd\\x18Q\\x9eN\\x1f\\x81\\xe1S\\xaep\\xfe\\xaa\\xc5\\xdf\\x1d\\xac$\\xd9\\x1c\\xc2\\xbd\\x1f\\x8d\\x8f\\xbd\\x03:\\xe77\\x11\\xa4XX/+\\x07\\x8e\\x89\\x80\\x8b\\x83r\\xea\\xcd1\\x81\\x9b\\xb0\\x15\\x91\\xe5\\xf9w\\xe2`\\xcah\\xd7\\xbc\\x8a\\xd29\\x94\\x8e#:\\x8bPv\\xa2\\x98d\\x9e\\xc25\\x89\\xae\\xcc\\xd1O+\\x1f\\x18O\\xd9\\x9a\\xc1\\xa1\\xeb.<\\x98\\xaa\\x03\\xf6\\xbdO\\xdd7\\x1f\\xd5\\xcas\\x06i\\xe6g\\xa6\\xc5*\\xea\\xd4t\\x93\\xe9\\x87;\\xe4\\r\\xab\\xf2C\\xd4\\xb2*\\xa5n\\xfdN-r\\xaek.\\xb9\\x0e\\x12\\xd5yJ\\xbc\\xe1\\xd4}\\x8b\\x03\\xc10-\\x9f\\xcc2MY\\xbcN\\xc3\\x8a\\xb3\\xb3Q\\xdb\\xb43,\\x08\\x0cO\\xd46\\xf8muF8=\\xf1\\xae\\'?\\xc8\\x9d\\xccZu@,\\xebJ\\x9d\\xf8\\xfa\\xca\\xdc\\xbc\\xd5f\\x07w\\x81<zp\\x7f8\\xa7R\\xe8PBo\\x97#(\\xfa\\xd2\\x1b\\xc8\\x946`\\x8b\\xdc\\x93Y\\x8d\\x08\\xdf\\xbc9\\'-\\xff~)l\\x07\\xddJ\\xd8-\\x94\\x1aa\\xbf\\x10T\\x83R\\xa1\\x11\\xb6\\xab\\x85v\\x18V\\xcb\\xfd\\xb0\\\\\\xeau*\\x0f\\xe0`\\x91Q\\\\\\x0e\\xd3\\xeb\\xfa\\x01\\\\a\\xd0Evi\\xaf\\xc7\\xd7.\\xee\\xe3\\xe5-\\xcd\\x85\\x11\\x8b\\x8bL_\\xcc\\x17\\xb5\\xe1\\xfa\\xe2\\xbe\\\\\\xd9|q\\xef\\x11 \\x9d\\xfb\\xb5\\xca\\xa0Ymvj\\x85f\\xb5=(\\x04\\xbdN\\xa3\\xd0\\xec\\xd6:\\x85^\\xad[\\xef\\rz\\xdd\\xb0\\xd1\\x1c<\\xf0\\xbd#\\r\\x0e\\xda\\xd5nP\\xeb7\\n\\xb5r\\xb7[\\x08j%e~\\xa3Y\\xa8\\x07\\x95J;\\xa8\\xb7\\x1b\\xfd\\xa0\\xfd +c`\\xe5)}d\\xbe\\x00\\xf7j\\xbb\\xb6\\xff\\x01\\x00\\x00\\xff\\xff\\x03\\x00PK\\x03\\x04\\x14\\x00\\x06\\x00\\x08\\x00\\x00\\x00!\\x00C6gw\\x06\\x03\\x00\\x00%\\x08\\x00\\x00\\r\\x00\\x00\\x00xl/styles.xml\\xb4U\\xdbn\\xdb0\\x0c}\\x1f\\xb0\\x7f0\\xf4\\xee\\xfa\\xd28K\\x02\\xdbE\\xd3\\xd4@\\x81m\\x18\\xd0\\x0e\\xd8\\xabb\\xcb\\x89P]\\x0cI\\xee\\x92\\x0e\\xfb\\xf7Q\\x96\\x9d\\xb8h\\xb7l\\x1d\\xfa\\x92\\x88\\x14ut\\xc8C\\xd1\\xe9\\xc5\\x8e3\\xef\\x81(M\\xa5\\xc8Pt\\x16\"\\x8f\\x88RVTl2\\xf4\\xf5\\xae\\xf0g\\xc8\\xd3\\x06\\x8b\\n3)H\\x86\\xf6D\\xa3\\x8b\\xfc\\xfd\\xbbT\\x9b=#\\xb7[B\\x8c\\x07\\x10BghkL\\xb3\\x08\\x02]n\\t\\xc7\\xfaL6D\\xc0N-\\x15\\xc7\\x06L\\xb5\\tt\\xa3\\x08\\xae\\xb4=\\xc4Y\\x10\\x87\\xe14\\xe0\\x98\\n\\xe4\\x10\\x16\\xbc\\xfc\\x1b\\x10\\x8e\\xd5}\\xdb\\xf8\\xa5\\xe4\\r6tM\\x195\\xfb\\x0e\\x0by\\xbc\\\\\\xdcl\\x84Tx\\xcd\\x80\\xea.\\x9a\\xe0r\\xc0\\xee\\x8cg\\xf0\\x9c\\x96JjY\\x9b3\\x80\\x0bd]\\xd3\\x92<g9\\x0f\\xe6\\x01 \\xe5i-\\x85\\xd1^)[a2\\x14\\x03\\xb4\\xbdaq/\\xe4wQ\\xd8-(`\\x1f\\x95\\xa7\\xfa\\xd1{\\xc0\\x0c<\\x11\\n\\xf2\\xb4\\x94L*\\xcf@e\\x80X\\xe7\\x11\\x98\\x13\\x17q\\x85\\x19]+j\\xc3j\\xcc)\\xdb;wl\\x1d]1\\xfb8N!5\\xeb\\x0c,\\x0f\\xc7&O\\xd76\\xea\\xcd\\xef\\xea\\xae\\xd4p\\'elT\\x01\\xe7\\xc8SP\\xc2\\x10%\\n\\xd8\\xf5\\xfa\\xf5\\xdd\\xbe\\x81T\\x054\\x8d\\xa3\\x0c[\\'\\xa37\\n\\xef\\xa38\\x19\\x1d\\x08\\xba\\x0b!K\\xa9*h\\xd2c\\xed\\x07W\\x9e2R\\x1b\\xa8\\x81\\xa2\\x9b\\xad\\xfd7\\xb2\\x81\\xdf\\xb54\\x06\\x14\\xcd\\xd3\\x8a\\xe2\\x8d\\x14\\x98\\xd9\\xb29\\x90\\xa7\\'\\xa1\\xb9\\xa1\\x8f3d\\xb6\\xd0\\x87\\x83N\\xb85\\xb2\\x97)\\xb0\\xf0=\\xfa\\xc9\\xd8\\x8eCG\\xe1d(\\xd0\\x1cX\\x9e\\x8cu\\xc9\\xbc\\x9cK\\x9f\\x14HS\\x12\\xc6nm2\\xdf\\xeaC\\x9dl;\\xeejO\\xb4\\xbc\\xe0\\xe6\\xa6\\xca\\x10<o\\xdb<\\xc3\\x12D\\xe9\\x97\\xae6\\xce\\xb0\\xb5\\x1a\\xa39\\xec\\x11\\xec\\xf9\\xab`\\xbd]}\\xc0\\xff\\x1d\\xa9\\x08\\xf8\\xbdD\\n\\xfc\\xc3i\\x0f7\\r\\xdb\\xdb\\xf7f%r\\xd6\\xb2k\\x8f\\xa3}\\xc9\\xe8Fp\\xe2B\\xf2\\x14\\x1e\\x983\\xbd\\xadT\\xf4\\x11\\x8e\\xda\\x97Y\\xc2>Q\\xc8N?C\\xcb\\x91\\xc7\\xe6\\xbf\\xab\\xff\\xbdr\\xcfH\\xbe\\r\\xadN\\x1bPc$\\xf9\\x13\\xc1\\x0f\\xd2yv\\xc6d\\xe8\\xb3\\x9d\\xc0lT\\xc0uK\\x99\\xa1\\xe2\\x05\\xb1\\x01\\xb3\\xda\\x1d\\xdb\\'\\xb4/\\xd1\\xd8i\\xda5\\xd6\\xe1\\x16\\xe8\\xa2\\x8a\\xd4\\xb8e\\xe6\\xee\\xb0\\x99\\xa1\\xe3\\xfa\\x13\\xa9h\\xcba@\\xf6Q_\\xe8\\x834\\x1dD\\x86\\x8e\\xeb\\x8f\\xf6\\xc5FS{\\x07\\xd9\\x99\\x8f\\x1a\\x9e\\x19\\xfc{\\xad\\xa2\\x19\\xfaq\\xbd\\xfc0_]\\x17\\xb1?\\x0b\\x973\\x7frN\\x12\\x7f\\x9e,W~2\\xb9Z\\xaeV\\xc5<\\x8c\\xc3\\xab\\x9f\\xa3\\xe1\\xfe\\x1f\\xa3\\xbd\\xfb\\x04\\x81\\xda\\xd1d\\xa1\\x19|\\x00T\\x9flO\\xfe\\xf6\\xe8\\xcb\\xd0\\xc8p\\xf4\\xbbY\\x05\\xb4\\xc7\\xdc\\xe7\\xf14\\xbcL\\xa2\\xd0/\\xce\\xc3\\xc8\\x9fL\\xf1\\xcc\\x9fM\\xcf\\x13\\xbfH\\xa2x5\\x9d,\\xaf\\x93\"\\x19qO^\\xc7=\\n\\x83(r\\xdfOK>Y\\x18\\xca\\t\\xa3b\\xd0jPh\\xec\\x05\\x91\\xc0\\xfcC\\x12\\xc1\\xa0Dp\\xfc\\xbe\\xe7\\xbf\\x00\\x00\\x00\\xff\\xff\\x03\\x00PK\\x03\\x04\\x14\\x00\\x06\\x00\\x08\\x00\\x00\\x00!\\x00\\xc4\\xb9\\x00\\xd2\\x86\\x03\\x00\\x00J\\x0f\\x00\\x00\\x18\\x00\\x00\\x00xl/worksheets/sheet1.xml\\x94\\x97Mo\\xa30\\x10\\x86\\xef+\\xed\\x7f@\\xdc\\xcb\\x87\\xa1m\\x12%\\xa9\\xda\\xad\\xaa\\xeda\\xa5\\xd5~\\x9e\\x1d0\\t*`\\x84\\x9d\\xa6\\xfd\\xf7;\\xb6\\x93P\\x06\\xb3\\x8a/I \\xaf\\xe7\\xb5\\xc7\\xf6c\\xcf\\xf2\\xee\\xad\\xae\\xbcW\\xd6\\x89\\x927+?\\x0e\"\\xdfcM\\xc6\\xf3\\xb2\\xd9\\xae\\xfc\\xdf\\xbf\\x9e\\xaef\\xbe\\'$mrZ\\xf1\\x86\\xad\\xfcw&\\xfc\\xbb\\xf5\\xe7O\\xcb\\x03\\xef^\\xc4\\x8e1\\xe9A\\x84F\\xac\\xfc\\x9d\\x94\\xed\"\\x0cE\\xb6c5\\x15\\x01oY\\x03\\xff\\x14\\xbc\\xab\\xa9\\x84\\xc7n\\x1b\\x8a\\xb6c4\\xd7\\x8d\\xea*$Qt\\x13\\xd6\\xb4l|\\x13a\\xd1]\\x12\\x83\\x17E\\x99\\xb1G\\x9e\\xedk\\xd6H\\x13\\xa4c\\x15\\x95\\xd0\\x7f\\xb1+[q\\x8aVg\\x97\\x84\\xabi\\xf7\\xb2o\\xaf2^\\xb7\\x10bSV\\xa5|\\xd7A}\\xaf\\xce\\x16\\xcf\\xdb\\x86wtS\\xc1\\xb8\\xdf\\xe2\\x94f\\xa7\\xd8\\xfaa\\x14\\xbe.\\xb3\\x8e\\x0b^\\xc8\\x00\\xc2\\x85\\xa6\\xa3\\xe31\\xcf\\xc3y\\x08\\x91\\xd6\\xcb\\xbc\\x84\\x11\\xa8\\xb4{\\x1d+V\\xfe}\\xbcx \\xd7~\\xb8^\\xea\\x04\\xfd)\\xd9A|\\xf8\\xedI\\xba\\xf9\\xc9*\\x96I\\x96\\xc3<\\xf9\\x9e\\xca\\xff\\x86\\xf3\\x17%|\\x86W\\x91j\\x1a\\x8e\\xda>\\xe9\\xfc\\x7f\\xef\\xbc\\r\\x15\\xec\\x0b\\xaf\\xfe\\x96\\xb9\\xdcA\\x00\\x98\\xe7\\x9c\\x15t_\\xc9\\xfe\\xe5,\\x98%$Jb\\xe8\\xc6\\xe9\\xcf\\x1f\\xfc\\xf0\\x95\\x95\\xdb\\x9d\\x84&\\xf0V\\x0f|\\x91\\xbf?2\\x91A\\xfa\\xc15 \\xca7\\xe3\\x15t\\x16>\\xbd\\xbaT\\xcb\\x08\\xb2G\\xdfL7\\x8d_r\\x13@\\xf3\\r\\x13\\xf2\\xa9T\\xb1|/\\xdb\\x0b\\xc9\\xebSw\\x8eALsrl\\x0e\\xdf\\x07\\xd3<M\\x82\\xe4\\xdc\\xb5\\xffG\\tM_t\"\\x1e\\xa9\\xa4\\xebe\\xc7\\x0f\\x1e\\xac-\\xf0\\x14-U+5^@d\\xebP`\\x0cJz\\xaf\\xb4\\xba\\x05\\xf4U\\xc0\\\\\\xbd\\xae\\xd3\\xf92|\\x85\\x04gG\\xc9\\x83Ers\\x96\\x84\\xe0y6\\x06\\xb3\\x8b\\x8d\\x95v\\xe5\\xc3\\xe7\\xd9\\x98\\x10d<\\x96\\xa4\\x89\\xdd8q0V\\xda\\xa1q\\x1fT\\xe7\\xe4a\\xacHo\\xed\\xbe\\xa9\\x83\\xaf\\xd2\\x0e}#4\\xde\\xb1\\x82\\\\\\xdb}a\\x85]\\x9ch\\xa5\\x1d\\xfa\\xc6\\xc8w\\xac \\xa9\\xdd\\xf7\\xc6\\xc1Wi\\xd1\\x04#_\\x8bbba\\xdd:\\xf8*\\xed\\xd0\\xb7\\x1f\\x8c\\x99\\xdf\\xb1\\x82L\\xcc\\xaf:\\x12.\\xddIJ;\\xf4\\xed\\'\\xcf\\xf8\\x8e\\x15df\\xcf\\xf3\\xdc\\xc1Wi\\x87\\xbe}\\x12\\x8d\\xefXA\\xfa=>\\xd8\\xc0\\n\\x96\\x97\\xa3C\\x89\\x87\\xce}\\x1a\\x8d\\xb3\\x8e\\x876[\\xbf\\xea\\x87\\xd6N\\xd42L\\xfaH\\x8f>\\x93G\\xeb\\xb1$\\xe9\\x17\\xfe\\xd0\\xda\\x85[\\xf1\\x98J#`\\x8e%I\\xcf\\xb6\\xa1\\xb5\\x0b\\xb9\\xe21\\x98b\\xcc\\x10\\x8b&\\x99\\x80f\\xecB/-F\\x18\\xc1\\x1c\\xb1h\\x92\\t\\x90\\xa8#\\xf6\\xf2\\x85fA\\x18>+t@\\xb4\\xd2&\\xe0\\x19\\xbbPL\\x8b\\xd1\\xb8\\xf1ya\\xd1$\\x13 \\x8b]H\\xa6\\xc5\\xc8\\x1b\\xb3\\xcc\\xa2I&`\\x16\\xbb\\xd0L\\x8b\\x917\\xe6\\x99E\\x93L\\x00-v!\\x9a\\x16#o\\xcc4\\x8b&\\x99\\x80\\x1aq\\x81\\x9a\\x16#oL5\\x8b&\\x9d\\xa0\\x1aq\\xa1\\x9a\\x16#o\\x8c5\\x8b&\\x9d\\xc0\\x1aq\\xba\\x8e\\x8d\\x99\\x15c\\xae\\xe9\\x80\\xe8h\\x9d\\xe0\\x1aq\\xe1\\x9a\\x16\\xa3\\xab\\x02\\xe6\\x9aE\\x93N\\xeco\\xe2\\xc25-F\\xde\\x98k\\x16M:\\xc15UP\\\\~\\x056\\\\\\x83%\\xd2\\xdf\\x811[t@tA\\xc7{\\xcc\\xd4B\\xa6\\x04h\\xe9\\x96}\\xa3\\xdd\\xb6l\\x84W\\xb1B\\x17.\\xc0\\x9c\\xceT6Q\\x00\\xbf%oU9s\\xab\\xca\\x14.\\xa149=\\xed\\xa0feP\\x14D\\x01\\xcc^\\xc1\\xb9<=\\xa8z\\xeb\\\\\\x05\\xaf\\xff\\x01\\x00\\x00\\xff\\xff\\x03\\x00PK\\x03\\x04\\x14\\x00\\x06\\x00\\x08\\x00\\x00\\x00!\\x00\\xf8\\x18\\xc5\\xc6V\\x01\\x00\\x00n\\x02\\x00\\x00\\x11\\x00\\x08\\x01docProps/core.xml \\xa2\\x04\\x01(\\xa0\\x00\\x01\\x00\\x00\\x00\\x00\\x00\\x00\\x00\\x00\\x00\\x00\\x00\\x00\\x00\\x00\\x00\\x00\\x00\\x00\\x00\\x00\\x00\\x00\\x00\\x00\\x00\\x00\\x00\\x00\\x00\\x00\\x00\\x00\\x00\\x00\\x00\\x00\\x00\\x00\\x00\\x00\\x00\\x00\\x00\\x00\\x00\\x00\\x00\\x00\\x00\\x00\\x00\\x00\\x00\\x00\\x00\\x00\\x00\\x00\\x00\\x00\\x00\\x00\\x00\\x00\\x00\\x00\\x00\\x00\\x00\\x00\\x00\\x00\\x00\\x00\\x00\\x00\\x00\\x00\\x00\\x00\\x00\\x00\\x00\\x00\\x00\\x00\\x00\\x00\\x00\\x00\\x00\\x00\\x00\\x00\\x00\\x00\\x00\\x00\\x00\\x00\\x00\\x00\\x00\\x00\\x00\\x00\\x00\\x00\\x00\\x00\\x00\\x00\\x00\\x00\\x00\\x00\\x00\\x00\\x00\\x00\\x00\\x00\\x00\\x00\\x00\\x00\\x00\\x00\\x00\\x00\\x00\\x00\\x00\\x00\\x00\\x00\\x00\\x00\\x00\\x00\\x00\\x00\\x00\\x00\\x00\\x00\\x00\\x00\\x00\\x00\\x00\\x00\\x00\\x00\\x00\\x00\\x00\\x00\\x00\\x00\\x00\\x00\\x00\\x00\\x00\\x00\\x00\\x00\\x00\\x00\\x00\\x00\\x00\\x00\\x00\\x00\\x00\\x00\\x00\\x00\\x00\\x00\\x00\\x00\\x00\\x00\\x00\\x00\\x00\\x00\\x00\\x00\\x00\\x00\\x00\\x00\\x00\\x00\\x00\\x00\\x00\\x00\\x00\\x00\\x00\\x00\\x00\\x00\\x00\\x00\\x00\\x00\\x00\\x00\\x00\\x00\\x00\\x00\\x00\\x00\\x00\\x00\\x00\\x00\\x00\\x00\\x00\\x00\\x00\\x00\\x00\\x00\\x00\\x00\\x00\\x00\\x00\\x00\\x00\\x00\\x00\\x00\\x00\\x00\\x00\\x00\\x00\\x00\\x00\\x00\\x00\\x00\\x00\\x00\\x00\\x00\\x84\\x92QK\\xc30\\x14\\x85\\xdf\\x05\\xffC\\xc9{\\x9b\\xa6\\xdb\\xd4\\x86\\xb6\\x03\\x95=9\\x14\\xac(\\xbe\\x85\\xe4v\\x0b\\xb6II\\xa2\\xdd\\xfe\\xbdi\\xb7\\xd5\\x0e\\x05\\x1fs\\xcf\\xc9\\x97s.\\xc9\\x96\\xbb\\xa6\\x0e\\xbe\\xc0X\\xa9U\\x8eH\\x14\\xa3\\x00\\x14\\xd7B\\xaaM\\x8e^\\xcaUx\\x83\\x02\\xeb\\x98\\x12\\xac\\xd6\\nr\\xb4\\x07\\x8b\\x96\\xc5\\xe5E\\xc6[\\xca\\xb5\\x81\\'\\xa3[0N\\x82\\r<IY\\xca\\xdb\\x1cm\\x9dk)\\xc6\\x96o\\xa1a6\\xf2\\x0e\\xe5\\xc5J\\x9b\\x869\\x7f4\\x1b\\xdc2\\xfe\\xc16\\x80\\x938\\xbe\\xc2\\r8&\\x98c\\xb8\\x07\\x86\\xedHDG\\xa4\\xe0#\\xb2\\xfd4\\xf5\\x00\\x10\\x1cC\\r\\r(g1\\x89\\x08\\xfe\\xf1:0\\x8d\\xfd\\xf3\\xc2\\xa0L\\x9c\\x8dt\\xfb\\xd6w:\\xc6\\x9d\\xb2\\x05?\\x88\\xa3{g\\xe5h\\xec\\xba.\\xeafC\\x0c\\x9f\\x9f\\xe0\\xb7\\xf5\\xc3\\xf3P5\\x94\\xaa\\xdf\\x15\\x07Td\\x82Sn\\x809m\\x8ad\\xe1]$\\x8d3<\\x19\\xf6\\x0b\\xac\\x99uk\\xbf\\xebJ\\x82\\xb8\\xdd\\x17k\\xc9\\x8d\\xb6\\xbar\\xc1cUI\\x0e\\xc1\\x8b\\x05\\x93\\xe1\\xdfF\\x0f\\x1f\\xba\\x1c^\\x00\\x11\\xf8t\\xf4\\xd0\\xe5\\xa4\\xbc\\xce\\xee\\xee\\xcb\\x15*\\x92\\x98\\xa4a<\\x0fIZ\\x92\\x84&\\xd7t\\x91\\xbe\\xf79\\xce\\xee\\xf7i\\x0f\\x83\\xe6\\x98\\xe6_\\xe2\"\\x8c\\x93\\x92\\xc4t\\xee\\x89\\xf3\\t\\xf1\\x04(\\x86\\xdc\\xe7?\\xa4\\xf8\\x06\\x00\\x00\\xff\\xff\\x03\\x00PK\\x03\\x04\\x14\\x00\\x06\\x00\\x08\\x00\\x00\\x00!\\x00}VF\\xc1\\x90\\x01\\x00\\x00\\x1b\\x03\\x00\\x00\\x10\\x00\\x08\\x01docProps/app.xml \\xa2\\x04\\x01(\\xa0\\x00\\x01\\x00\\x00\\x00\\x00\\x00\\x00\\x00\\x00\\x00\\x00\\x00\\x00\\x00\\x00\\x00\\x00\\x00\\x00\\x00\\x00\\x00\\x00\\x00\\x00\\x00\\x00\\x00\\x00\\x00\\x00\\x00\\x00\\x00\\x00\\x00\\x00\\x00\\x00\\x00\\x00\\x00\\x00\\x00\\x00\\x00\\x00\\x00\\x00\\x00\\x00\\x00\\x00\\x00\\x00\\x00\\x00\\x00\\x00\\x00\\x00\\x00\\x00\\x00\\x00\\x00\\x00\\x00\\x00\\x00\\x00\\x00\\x00\\x00\\x00\\x00\\x00\\x00\\x00\\x00\\x00\\x00\\x00\\x00\\x00\\x00\\x00\\x00\\x00\\x00\\x00\\x00\\x00\\x00\\x00\\x00\\x00\\x00\\x00\\x00\\x00\\x00\\x00\\x00\\x00\\x00\\x00\\x00\\x00\\x00\\x00\\x00\\x00\\x00\\x00\\x00\\x00\\x00\\x00\\x00\\x00\\x00\\x00\\x00\\x00\\x00\\x00\\x00\\x00\\x00\\x00\\x00\\x00\\x00\\x00\\x00\\x00\\x00\\x00\\x00\\x00\\x00\\x00\\x00\\x00\\x00\\x00\\x00\\x00\\x00\\x00\\x00\\x00\\x00\\x00\\x00\\x00\\x00\\x00\\x00\\x00\\x00\\x00\\x00\\x00\\x00\\x00\\x00\\x00\\x00\\x00\\x00\\x00\\x00\\x00\\x00\\x00\\x00\\x00\\x00\\x00\\x00\\x00\\x00\\x00\\x00\\x00\\x00\\x00\\x00\\x00\\x00\\x00\\x00\\x00\\x00\\x00\\x00\\x00\\x00\\x00\\x00\\x00\\x00\\x00\\x00\\x00\\x00\\x00\\x00\\x00\\x00\\x00\\x00\\x00\\x00\\x00\\x00\\x00\\x00\\x00\\x00\\x00\\x00\\x00\\x00\\x00\\x00\\x00\\x00\\x00\\x00\\x00\\x00\\x00\\x00\\x00\\x00\\x00\\x00\\x00\\x00\\x00\\x00\\x00\\x00\\x00\\x00\\x00\\x00\\x00\\x00\\x00\\x00\\x00\\x00\\x00\\x9c\\x92Mo\\xdb0\\x0c\\x86\\xef\\x03\\xf6\\x1f\\x0c\\xdd\\x1b9\\xdd:\\x0c\\x81\\xacbH7\\xf4\\xd0b\\x01\\x92vgN\\xa6c\\xa1\\xb2$\\x88\\xac\\x91\\xf4\\xd7W\\xb6\\xd1\\xd4\\xd9v\\xda\\x8d\\x1f/^>\\xa2\\xa8\\xae\\x0f\\x9d+zLd\\x83\\xaf\\xc4rQ\\x8a\\x02\\xbd\\t\\xb5\\xf5\\xfbJ<\\xec~\\\\|\\x15\\x051\\xf8\\x1a\\\\\\xf0X\\x89#\\x92\\xb8\\xd6\\x1f?\\xa8M\\n\\x11\\x13[\\xa4\"[x\\xaaD\\xcb\\x1cWR\\x92i\\xb1\\x03Z\\xe4\\xb6\\xcf\\x9d&\\xa4\\x0e8\\xa7i/C\\xd3X\\x837\\xc1<w\\xe8Y^\\x96\\xe5\\x17\\x89\\x07F_c}\\x11O\\x86br\\\\\\xf5\\xfc\\xbf\\xa6u0\\x03\\x1f=\\xee\\x8e1\\x03k\\xf5-Fg\\rp~\\xa5\\xbe\\xb7&\\x05\\n\\r\\x17\\xf7`\\xac\\xe7@m\\xf1\\xfd`\\xd0)9\\x97\\xa9\\xcc\\xb9E\\xf3\\x9c,\\x1fu\\xa9\\xe4<U[\\x03\\x0e\\xd7y\\x84n\\xc0\\x11*\\xf9^P\\xb7\\x08\\xc3\\xfa6`\\x13i\\xd5\\xf3\\xaaG\\xc3!\\x15d_\\xf2\\x02/E\\xf1\\x1b\\x08\\x07\\xb0J\\xf4\\x90,x\\xce\\x80\\x83lJ\\xc6\\xd8E\\xe2\\xa4\\x7f\\x85\\xf4D-\"\\x93\\x92Y0\\x15\\xc7p\\xae\\x9d\\xc7\\xf6\\xb3^\\x8e\\x82\\x1c\\x9c\\x0b\\x07\\x83\\t$7\\xce\\x11w\\x96\\x1d\\xd2\\xcff\\x03\\x89\\xffA\\xbc\\x9c\\x13\\x8f\\x0c\\x13\\xef\\x84\\xb3\\x1d\\xf8\\xa6\\x99s\\xbe\\xf1\\xc9y\\xd2\\x1f\\xde\\xeb\\xd0E\\xf0\\xc7\\xdc8Ew\\xd6?\\xd1C\\xdc\\x85\\x1b`|[\\xe7yQm[HX\\xe7\\x1f8\\xad\\xfbTP\\xb7y\\x93\\xc9\\r&\\xeb\\x16\\xfc\\x1e\\xeb7\\xcd\\xdf\\x8d\\xe1\\x0c\\x1e\\xa7[\\xd7\\xcb\\xabE\\xf9\\xa9\\xcc\\xff:\\xab)\\xf9~\\xd5\\xfa\\x15\\x00\\x00\\xff\\xff\\x03\\x00PK\\x01\\x02-\\x00\\x14\\x00\\x06\\x00\\x08\\x00\\x00\\x00!\\x00B;>\\xc9Y\\x01\\x00\\x00\\x90\\x04\\x00\\x00\\x13\\x00\\x00\\x00\\x00\\x00\\x00\\x00\\x00\\x00\\x00\\x00\\x00\\x00\\x00\\x00\\x00\\x00[Content_Types].xmlPK\\x01\\x02-\\x00\\x14\\x00\\x06\\x00\\x08\\x00\\x00\\x00!\\x00P|N\\xc1\\xf3\\x00\\x00\\x00L\\x02\\x00\\x00\\x0b\\x00\\x00\\x00\\x00\\x00\\x00\\x00\\x00\\x00\\x00\\x00\\x00\\x00\\x92\\x03\\x00\\x00_rels/.relsPK\\x01\\x02-\\x00\\x14\\x00\\x06\\x00\\x08\\x00\\x00\\x00!\\x00\\x8c\\x96\\xc5n\\xf3\\x00\\x00\\x00\\xba\\x02\\x00\\x00\\x1a\\x00\\x00\\x00\\x00\\x00\\x00\\x00\\x00\\x00\\x00\\x00\\x00\\x00\\xb6\\x06\\x00\\x00xl/_rels/workbook.xml.relsPK\\x01\\x02-\\x00\\x14\\x00\\x06\\x00\\x08\\x00\\x00\\x00!\\x00\\xf5\\x88\\xc1\\xe6\\x11\\x03\\x00\\x00q\\x06\\x00\\x00\\x0f\\x00\\x00\\x00\\x00\\x00\\x00\\x00\\x00\\x00\\x00\\x00\\x00\\x00\\xe9\\x08\\x00\\x00xl/workbook.xmlPK\\x01\\x02-\\x00\\x14\\x00\\x06\\x00\\x08\\x00\\x00\\x00!\\x00sO\\x81\\x0f\\x95\\x02\\x00\\x00\\x97\\x07\\x00\\x00\\x14\\x00\\x00\\x00\\x00\\x00\\x00\\x00\\x00\\x00\\x00\\x00\\x00\\x00\\'\\x0c\\x00\\x00xl/sharedStrings.xmlPK\\x01\\x02-\\x00\\x14\\x00\\x06\\x00\\x08\\x00\\x00\\x00!\\x00\\xc1\\x17\\x10\\xbeN\\x07\\x00\\x00\\xc6 \\x00\\x00\\x13\\x00\\x00\\x00\\x00\\x00\\x00\\x00\\x00\\x00\\x00\\x00\\x00\\x00\\xee\\x0e\\x00\\x00xl/theme/theme1.xmlPK\\x01\\x02-\\x00\\x14\\x00\\x06\\x00\\x08\\x00\\x00\\x00!\\x00C6gw\\x06\\x03\\x00\\x00%\\x08\\x00\\x00\\r\\x00\\x00\\x00\\x00\\x00\\x00\\x00\\x00\\x00\\x00\\x00\\x00\\x00m\\x16\\x00\\x00xl/styles.xmlPK\\x01\\x02-\\x00\\x14\\x00\\x06\\x00\\x08\\x00\\x00\\x00!\\x00\\xc4\\xb9\\x00\\xd2\\x86\\x03\\x00\\x00J\\x0f\\x00\\x00\\x18\\x00\\x00\\x00\\x00\\x00\\x00\\x00\\x00\\x00\\x00\\x00\\x00\\x00\\x9e\\x19\\x00\\x00xl/worksheets/sheet1.xmlPK\\x01\\x02-\\x00\\x14\\x00\\x06\\x00\\x08\\x00\\x00\\x00!\\x00\\xf8\\x18\\xc5\\xc6V\\x01\\x00\\x00n\\x02\\x00\\x00\\x11\\x00\\x00\\x00\\x00\\x00\\x00\\x00\\x00\\x00\\x00\\x00\\x00\\x00Z\\x1d\\x00\\x00docProps/core.xmlPK\\x01\\x02-\\x00\\x14\\x00\\x06\\x00\\x08\\x00\\x00\\x00!\\x00}VF\\xc1\\x90\\x01\\x00\\x00\\x1b\\x03\\x00\\x00\\x10\\x00\\x00\\x00\\x00\\x00\\x00\\x00\\x00\\x00\\x00\\x00\\x00\\x00\\xe7\\x1f\\x00\\x00docProps/app.xmlPK\\x05\\x06\\x00\\x00\\x00\\x00\\n\\x00\\n\\x00\\x80\\x02\\x00\\x00\\xad\"\\x00\\x00\\x00\\x00'}"
            ]
          },
          "metadata": {
            "tags": []
          },
          "execution_count": 3
        }
      ]
    },
    {
      "cell_type": "code",
      "metadata": {
        "id": "hkargWaPupyx",
        "colab_type": "code",
        "colab": {}
      },
      "source": [
        "var=pd.read_excel('Data_Dictionary.xlsx')"
      ],
      "execution_count": 0,
      "outputs": []
    },
    {
      "cell_type": "code",
      "metadata": {
        "id": "x3MZRVJbu8I4",
        "colab_type": "code",
        "outputId": "1f09bb55-2d66-4039-aed9-20c6eae17262",
        "colab": {
          "base_uri": "https://localhost:8080/",
          "height": 793
        }
      },
      "source": [
        "var"
      ],
      "execution_count": 5,
      "outputs": [
        {
          "output_type": "execute_result",
          "data": {
            "text/html": [
              "<div>\n",
              "<style scoped>\n",
              "    .dataframe tbody tr th:only-of-type {\n",
              "        vertical-align: middle;\n",
              "    }\n",
              "\n",
              "    .dataframe tbody tr th {\n",
              "        vertical-align: top;\n",
              "    }\n",
              "\n",
              "    .dataframe thead th {\n",
              "        text-align: right;\n",
              "    }\n",
              "</style>\n",
              "<table border=\"1\" class=\"dataframe\">\n",
              "  <thead>\n",
              "    <tr style=\"text-align: right;\">\n",
              "      <th></th>\n",
              "      <th>Variable</th>\n",
              "      <th>Description</th>\n",
              "    </tr>\n",
              "  </thead>\n",
              "  <tbody>\n",
              "    <tr>\n",
              "      <th>0</th>\n",
              "      <td>reservation_id</td>\n",
              "      <td>Reservation ID</td>\n",
              "    </tr>\n",
              "    <tr>\n",
              "      <th>1</th>\n",
              "      <td>booking_date</td>\n",
              "      <td>Date of booking</td>\n",
              "    </tr>\n",
              "    <tr>\n",
              "      <th>2</th>\n",
              "      <td>checkin_date</td>\n",
              "      <td>Checkin date recorded at the time of booking</td>\n",
              "    </tr>\n",
              "    <tr>\n",
              "      <th>3</th>\n",
              "      <td>checkout_date</td>\n",
              "      <td>Checkout date recorded at the time of booking</td>\n",
              "    </tr>\n",
              "    <tr>\n",
              "      <th>4</th>\n",
              "      <td>channel_code</td>\n",
              "      <td>Different channels of booking</td>\n",
              "    </tr>\n",
              "    <tr>\n",
              "      <th>5</th>\n",
              "      <td>main_product_code</td>\n",
              "      <td>Type of product a member has purchased</td>\n",
              "    </tr>\n",
              "    <tr>\n",
              "      <th>6</th>\n",
              "      <td>numberofadults</td>\n",
              "      <td>Number of adults travelling</td>\n",
              "    </tr>\n",
              "    <tr>\n",
              "      <th>7</th>\n",
              "      <td>numberofchildren</td>\n",
              "      <td>Number of children travelling</td>\n",
              "    </tr>\n",
              "    <tr>\n",
              "      <th>8</th>\n",
              "      <td>persontravellingid</td>\n",
              "      <td>Type of person travelling</td>\n",
              "    </tr>\n",
              "    <tr>\n",
              "      <th>9</th>\n",
              "      <td>resort_region_code</td>\n",
              "      <td>Resort Region</td>\n",
              "    </tr>\n",
              "    <tr>\n",
              "      <th>10</th>\n",
              "      <td>resort_type_code</td>\n",
              "      <td>Resort Type</td>\n",
              "    </tr>\n",
              "    <tr>\n",
              "      <th>11</th>\n",
              "      <td>room_type_booked_code</td>\n",
              "      <td>Room Type</td>\n",
              "    </tr>\n",
              "    <tr>\n",
              "      <th>12</th>\n",
              "      <td>roomnights</td>\n",
              "      <td>Number of roomnights booked</td>\n",
              "    </tr>\n",
              "    <tr>\n",
              "      <th>13</th>\n",
              "      <td>season_holidayed_code</td>\n",
              "      <td>Season Holidayed</td>\n",
              "    </tr>\n",
              "    <tr>\n",
              "      <th>14</th>\n",
              "      <td>state_code_residence</td>\n",
              "      <td>Residence State of Member</td>\n",
              "    </tr>\n",
              "    <tr>\n",
              "      <th>15</th>\n",
              "      <td>state_code_resort</td>\n",
              "      <td>State in which resort is located</td>\n",
              "    </tr>\n",
              "    <tr>\n",
              "      <th>16</th>\n",
              "      <td>total_pax</td>\n",
              "      <td>Total persons travelling</td>\n",
              "    </tr>\n",
              "    <tr>\n",
              "      <th>17</th>\n",
              "      <td>member_age_buckets</td>\n",
              "      <td>Age bucket of the member</td>\n",
              "    </tr>\n",
              "    <tr>\n",
              "      <th>18</th>\n",
              "      <td>booking_type_code</td>\n",
              "      <td>Type of Booking</td>\n",
              "    </tr>\n",
              "    <tr>\n",
              "      <th>19</th>\n",
              "      <td>memberid</td>\n",
              "      <td>Unique ID of the member</td>\n",
              "    </tr>\n",
              "    <tr>\n",
              "      <th>20</th>\n",
              "      <td>cluster_code</td>\n",
              "      <td>Cluster Code of Resort</td>\n",
              "    </tr>\n",
              "    <tr>\n",
              "      <th>21</th>\n",
              "      <td>reservationstatusid_code</td>\n",
              "      <td>Reservation Status ID</td>\n",
              "    </tr>\n",
              "    <tr>\n",
              "      <th>22</th>\n",
              "      <td>resort_id</td>\n",
              "      <td>Unique Resort ID</td>\n",
              "    </tr>\n",
              "    <tr>\n",
              "      <th>23</th>\n",
              "      <td>amount_spent_per_room_night_scaled</td>\n",
              "      <td>(Target) Resort Spend Per Room Night</td>\n",
              "    </tr>\n",
              "  </tbody>\n",
              "</table>\n",
              "</div>"
            ],
            "text/plain": [
              "                              Variable  \\\n",
              "0                       reservation_id   \n",
              "1                         booking_date   \n",
              "2                         checkin_date   \n",
              "3                        checkout_date   \n",
              "4                         channel_code   \n",
              "5                    main_product_code   \n",
              "6                       numberofadults   \n",
              "7                     numberofchildren   \n",
              "8                   persontravellingid   \n",
              "9                   resort_region_code   \n",
              "10                    resort_type_code   \n",
              "11               room_type_booked_code   \n",
              "12                          roomnights   \n",
              "13               season_holidayed_code   \n",
              "14                state_code_residence   \n",
              "15                   state_code_resort   \n",
              "16                           total_pax   \n",
              "17                  member_age_buckets   \n",
              "18                   booking_type_code   \n",
              "19                            memberid   \n",
              "20                        cluster_code   \n",
              "21            reservationstatusid_code   \n",
              "22                           resort_id   \n",
              "23  amount_spent_per_room_night_scaled   \n",
              "\n",
              "                                      Description  \n",
              "0                                  Reservation ID  \n",
              "1                                 Date of booking  \n",
              "2    Checkin date recorded at the time of booking  \n",
              "3   Checkout date recorded at the time of booking  \n",
              "4                   Different channels of booking  \n",
              "5          Type of product a member has purchased  \n",
              "6                     Number of adults travelling  \n",
              "7                   Number of children travelling  \n",
              "8                       Type of person travelling  \n",
              "9                                   Resort Region  \n",
              "10                                    Resort Type  \n",
              "11                                      Room Type  \n",
              "12                    Number of roomnights booked  \n",
              "13                               Season Holidayed  \n",
              "14                      Residence State of Member  \n",
              "15               State in which resort is located  \n",
              "16                       Total persons travelling  \n",
              "17                       Age bucket of the member  \n",
              "18                                Type of Booking  \n",
              "19                        Unique ID of the member  \n",
              "20                         Cluster Code of Resort  \n",
              "21                          Reservation Status ID  \n",
              "22                               Unique Resort ID  \n",
              "23           (Target) Resort Spend Per Room Night  "
            ]
          },
          "metadata": {
            "tags": []
          },
          "execution_count": 5
        }
      ]
    },
    {
      "cell_type": "markdown",
      "metadata": {
        "id": "cEoFk1hEuK5g",
        "colab_type": "text"
      },
      "source": [
        "# Train"
      ]
    },
    {
      "cell_type": "code",
      "metadata": {
        "id": "XW-c5yX_rp49",
        "colab_type": "code",
        "colab": {}
      },
      "source": [
        "with open('/content/drive/My Drive/train.csv', 'r') as file:\n",
        "  data_train=pd.read_csv(file)"
      ],
      "execution_count": 0,
      "outputs": []
    },
    {
      "cell_type": "code",
      "metadata": {
        "id": "rbW5-FXrsjti",
        "colab_type": "code",
        "colab": {}
      },
      "source": [
        "data_train.to_csv('train.csv')"
      ],
      "execution_count": 0,
      "outputs": []
    },
    {
      "cell_type": "markdown",
      "metadata": {
        "id": "PhBZboQCuM-8",
        "colab_type": "text"
      },
      "source": [
        "# Test"
      ]
    },
    {
      "cell_type": "code",
      "metadata": {
        "id": "oqbvk64UuC35",
        "colab_type": "code",
        "colab": {}
      },
      "source": [
        "with open('/content/drive/My Drive/test.csv', 'r') as file:\n",
        "  data_test=pd.read_csv(file)"
      ],
      "execution_count": 0,
      "outputs": []
    },
    {
      "cell_type": "code",
      "metadata": {
        "id": "NwfYB9tpuR1a",
        "colab_type": "code",
        "colab": {}
      },
      "source": [
        "data_test.to_csv('test.csv')"
      ],
      "execution_count": 0,
      "outputs": []
    },
    {
      "cell_type": "markdown",
      "metadata": {
        "id": "blrolLucuYid",
        "colab_type": "text"
      },
      "source": [
        "## Lets read out the both saved file train and test csv"
      ]
    },
    {
      "cell_type": "code",
      "metadata": {
        "id": "RBFSCjWBuXEJ",
        "colab_type": "code",
        "colab": {}
      },
      "source": [
        "train=pd.read_csv('train.csv')"
      ],
      "execution_count": 0,
      "outputs": []
    },
    {
      "cell_type": "code",
      "metadata": {
        "id": "VhgnEEfil7Fx",
        "colab_type": "code",
        "colab": {}
      },
      "source": [
        "test=pd.read_csv('test.csv')"
      ],
      "execution_count": 0,
      "outputs": []
    },
    {
      "cell_type": "code",
      "metadata": {
        "id": "ZbvGHi42l-GY",
        "colab_type": "code",
        "outputId": "8d6b23bf-8fa5-4e7d-ccee-c9a1abaaa7aa",
        "colab": {
          "base_uri": "https://localhost:8080/",
          "height": 270
        }
      },
      "source": [
        "train.head()"
      ],
      "execution_count": 12,
      "outputs": [
        {
          "output_type": "execute_result",
          "data": {
            "text/html": [
              "<div>\n",
              "<style scoped>\n",
              "    .dataframe tbody tr th:only-of-type {\n",
              "        vertical-align: middle;\n",
              "    }\n",
              "\n",
              "    .dataframe tbody tr th {\n",
              "        vertical-align: top;\n",
              "    }\n",
              "\n",
              "    .dataframe thead th {\n",
              "        text-align: right;\n",
              "    }\n",
              "</style>\n",
              "<table border=\"1\" class=\"dataframe\">\n",
              "  <thead>\n",
              "    <tr style=\"text-align: right;\">\n",
              "      <th></th>\n",
              "      <th>Unnamed: 0</th>\n",
              "      <th>reservation_id</th>\n",
              "      <th>booking_date</th>\n",
              "      <th>checkin_date</th>\n",
              "      <th>checkout_date</th>\n",
              "      <th>channel_code</th>\n",
              "      <th>main_product_code</th>\n",
              "      <th>numberofadults</th>\n",
              "      <th>numberofchildren</th>\n",
              "      <th>persontravellingid</th>\n",
              "      <th>...</th>\n",
              "      <th>state_code_residence</th>\n",
              "      <th>state_code_resort</th>\n",
              "      <th>total_pax</th>\n",
              "      <th>member_age_buckets</th>\n",
              "      <th>booking_type_code</th>\n",
              "      <th>memberid</th>\n",
              "      <th>cluster_code</th>\n",
              "      <th>reservationstatusid_code</th>\n",
              "      <th>resort_id</th>\n",
              "      <th>amount_spent_per_room_night_scaled</th>\n",
              "    </tr>\n",
              "  </thead>\n",
              "  <tbody>\n",
              "    <tr>\n",
              "      <th>0</th>\n",
              "      <td>0</td>\n",
              "      <td>07659f3758d8aee27f5a7e2887adeacb67021cb95ada1b...</td>\n",
              "      <td>05/04/18</td>\n",
              "      <td>05/04/18</td>\n",
              "      <td>06/04/18</td>\n",
              "      <td>3</td>\n",
              "      <td>1</td>\n",
              "      <td>2</td>\n",
              "      <td>0</td>\n",
              "      <td>46</td>\n",
              "      <td>...</td>\n",
              "      <td>7.0</td>\n",
              "      <td>3</td>\n",
              "      <td>3</td>\n",
              "      <td>F</td>\n",
              "      <td>1</td>\n",
              "      <td>3d1539e56495b6991f0a3ef5a61ca3d03ce4fff7380e9a...</td>\n",
              "      <td>F</td>\n",
              "      <td>C</td>\n",
              "      <td>4e07408562bedb8b60ce05c1decfe3ad16b72230967de0...</td>\n",
              "      <td>7.706428</td>\n",
              "    </tr>\n",
              "    <tr>\n",
              "      <th>1</th>\n",
              "      <td>1</td>\n",
              "      <td>03930f033646d073462b35d411616323597715ac4fc398...</td>\n",
              "      <td>23/01/15</td>\n",
              "      <td>11/04/15</td>\n",
              "      <td>16/04/15</td>\n",
              "      <td>1</td>\n",
              "      <td>1</td>\n",
              "      <td>2</td>\n",
              "      <td>0</td>\n",
              "      <td>46</td>\n",
              "      <td>...</td>\n",
              "      <td>7.0</td>\n",
              "      <td>5</td>\n",
              "      <td>2</td>\n",
              "      <td>F</td>\n",
              "      <td>1</td>\n",
              "      <td>3d1539e56495b6991f0a3ef5a61ca3d03ce4fff7380e9a...</td>\n",
              "      <td>F</td>\n",
              "      <td>A</td>\n",
              "      <td>39fa9ec190eee7b6f4dff1100d6343e10918d044c75eac...</td>\n",
              "      <td>6.662563</td>\n",
              "    </tr>\n",
              "    <tr>\n",
              "      <th>2</th>\n",
              "      <td>2</td>\n",
              "      <td>d145a32920e6587ad95bfe299d80c0affa268220535aaf...</td>\n",
              "      <td>28/01/15</td>\n",
              "      <td>01/02/15</td>\n",
              "      <td>05/02/15</td>\n",
              "      <td>1</td>\n",
              "      <td>1</td>\n",
              "      <td>2</td>\n",
              "      <td>0</td>\n",
              "      <td>47</td>\n",
              "      <td>...</td>\n",
              "      <td>7.0</td>\n",
              "      <td>1</td>\n",
              "      <td>2</td>\n",
              "      <td>F</td>\n",
              "      <td>1</td>\n",
              "      <td>3d1539e56495b6991f0a3ef5a61ca3d03ce4fff7380e9a...</td>\n",
              "      <td>E</td>\n",
              "      <td>A</td>\n",
              "      <td>535fa30d7e25dd8a49f1536779734ec8286108d115da50...</td>\n",
              "      <td>7.871602</td>\n",
              "    </tr>\n",
              "    <tr>\n",
              "      <th>3</th>\n",
              "      <td>3</td>\n",
              "      <td>cfd77f44811ed62f25a220b53324cdbafc662a4c9e5f04...</td>\n",
              "      <td>02/05/15</td>\n",
              "      <td>11/06/15</td>\n",
              "      <td>16/06/15</td>\n",
              "      <td>1</td>\n",
              "      <td>1</td>\n",
              "      <td>2</td>\n",
              "      <td>2</td>\n",
              "      <td>46</td>\n",
              "      <td>...</td>\n",
              "      <td>7.0</td>\n",
              "      <td>2</td>\n",
              "      <td>2</td>\n",
              "      <td>F</td>\n",
              "      <td>1</td>\n",
              "      <td>3d1539e56495b6991f0a3ef5a61ca3d03ce4fff7380e9a...</td>\n",
              "      <td>D</td>\n",
              "      <td>A</td>\n",
              "      <td>d4735e3a265e16eee03f59718b9b5d03019c07d8b6c51f...</td>\n",
              "      <td>5.344943</td>\n",
              "    </tr>\n",
              "    <tr>\n",
              "      <th>4</th>\n",
              "      <td>4</td>\n",
              "      <td>937cff9e4dcfc2459620153dfc8b9962ac22bea67dfb29...</td>\n",
              "      <td>02/09/15</td>\n",
              "      <td>14/12/15</td>\n",
              "      <td>19/12/15</td>\n",
              "      <td>1</td>\n",
              "      <td>1</td>\n",
              "      <td>2</td>\n",
              "      <td>0</td>\n",
              "      <td>46</td>\n",
              "      <td>...</td>\n",
              "      <td>7.0</td>\n",
              "      <td>2</td>\n",
              "      <td>2</td>\n",
              "      <td>F</td>\n",
              "      <td>1</td>\n",
              "      <td>3d1539e56495b6991f0a3ef5a61ca3d03ce4fff7380e9a...</td>\n",
              "      <td>D</td>\n",
              "      <td>A</td>\n",
              "      <td>d4735e3a265e16eee03f59718b9b5d03019c07d8b6c51f...</td>\n",
              "      <td>7.059346</td>\n",
              "    </tr>\n",
              "  </tbody>\n",
              "</table>\n",
              "<p>5 rows × 25 columns</p>\n",
              "</div>"
            ],
            "text/plain": [
              "   Unnamed: 0                                     reservation_id booking_date  \\\n",
              "0           0  07659f3758d8aee27f5a7e2887adeacb67021cb95ada1b...     05/04/18   \n",
              "1           1  03930f033646d073462b35d411616323597715ac4fc398...     23/01/15   \n",
              "2           2  d145a32920e6587ad95bfe299d80c0affa268220535aaf...     28/01/15   \n",
              "3           3  cfd77f44811ed62f25a220b53324cdbafc662a4c9e5f04...     02/05/15   \n",
              "4           4  937cff9e4dcfc2459620153dfc8b9962ac22bea67dfb29...     02/09/15   \n",
              "\n",
              "  checkin_date checkout_date  channel_code  main_product_code  numberofadults  \\\n",
              "0     05/04/18      06/04/18             3                  1               2   \n",
              "1     11/04/15      16/04/15             1                  1               2   \n",
              "2     01/02/15      05/02/15             1                  1               2   \n",
              "3     11/06/15      16/06/15             1                  1               2   \n",
              "4     14/12/15      19/12/15             1                  1               2   \n",
              "\n",
              "   numberofchildren  persontravellingid  ...  state_code_residence  \\\n",
              "0                 0                  46  ...                   7.0   \n",
              "1                 0                  46  ...                   7.0   \n",
              "2                 0                  47  ...                   7.0   \n",
              "3                 2                  46  ...                   7.0   \n",
              "4                 0                  46  ...                   7.0   \n",
              "\n",
              "   state_code_resort  total_pax  member_age_buckets  booking_type_code  \\\n",
              "0                  3          3                   F                  1   \n",
              "1                  5          2                   F                  1   \n",
              "2                  1          2                   F                  1   \n",
              "3                  2          2                   F                  1   \n",
              "4                  2          2                   F                  1   \n",
              "\n",
              "                                            memberid  cluster_code  \\\n",
              "0  3d1539e56495b6991f0a3ef5a61ca3d03ce4fff7380e9a...             F   \n",
              "1  3d1539e56495b6991f0a3ef5a61ca3d03ce4fff7380e9a...             F   \n",
              "2  3d1539e56495b6991f0a3ef5a61ca3d03ce4fff7380e9a...             E   \n",
              "3  3d1539e56495b6991f0a3ef5a61ca3d03ce4fff7380e9a...             D   \n",
              "4  3d1539e56495b6991f0a3ef5a61ca3d03ce4fff7380e9a...             D   \n",
              "\n",
              "   reservationstatusid_code  \\\n",
              "0                         C   \n",
              "1                         A   \n",
              "2                         A   \n",
              "3                         A   \n",
              "4                         A   \n",
              "\n",
              "                                           resort_id  \\\n",
              "0  4e07408562bedb8b60ce05c1decfe3ad16b72230967de0...   \n",
              "1  39fa9ec190eee7b6f4dff1100d6343e10918d044c75eac...   \n",
              "2  535fa30d7e25dd8a49f1536779734ec8286108d115da50...   \n",
              "3  d4735e3a265e16eee03f59718b9b5d03019c07d8b6c51f...   \n",
              "4  d4735e3a265e16eee03f59718b9b5d03019c07d8b6c51f...   \n",
              "\n",
              "   amount_spent_per_room_night_scaled  \n",
              "0                            7.706428  \n",
              "1                            6.662563  \n",
              "2                            7.871602  \n",
              "3                            5.344943  \n",
              "4                            7.059346  \n",
              "\n",
              "[5 rows x 25 columns]"
            ]
          },
          "metadata": {
            "tags": []
          },
          "execution_count": 12
        }
      ]
    },
    {
      "cell_type": "code",
      "metadata": {
        "id": "EWSWhWQ1mO0I",
        "colab_type": "code",
        "outputId": "5a59ded3-9ffd-4517-d051-5f74da5262b5",
        "colab": {
          "base_uri": "https://localhost:8080/",
          "height": 270
        }
      },
      "source": [
        "test.head()"
      ],
      "execution_count": 13,
      "outputs": [
        {
          "output_type": "execute_result",
          "data": {
            "text/html": [
              "<div>\n",
              "<style scoped>\n",
              "    .dataframe tbody tr th:only-of-type {\n",
              "        vertical-align: middle;\n",
              "    }\n",
              "\n",
              "    .dataframe tbody tr th {\n",
              "        vertical-align: top;\n",
              "    }\n",
              "\n",
              "    .dataframe thead th {\n",
              "        text-align: right;\n",
              "    }\n",
              "</style>\n",
              "<table border=\"1\" class=\"dataframe\">\n",
              "  <thead>\n",
              "    <tr style=\"text-align: right;\">\n",
              "      <th></th>\n",
              "      <th>Unnamed: 0</th>\n",
              "      <th>reservation_id</th>\n",
              "      <th>booking_date</th>\n",
              "      <th>checkin_date</th>\n",
              "      <th>checkout_date</th>\n",
              "      <th>channel_code</th>\n",
              "      <th>main_product_code</th>\n",
              "      <th>numberofadults</th>\n",
              "      <th>numberofchildren</th>\n",
              "      <th>persontravellingid</th>\n",
              "      <th>...</th>\n",
              "      <th>season_holidayed_code</th>\n",
              "      <th>state_code_residence</th>\n",
              "      <th>state_code_resort</th>\n",
              "      <th>total_pax</th>\n",
              "      <th>member_age_buckets</th>\n",
              "      <th>booking_type_code</th>\n",
              "      <th>memberid</th>\n",
              "      <th>cluster_code</th>\n",
              "      <th>reservationstatusid_code</th>\n",
              "      <th>resort_id</th>\n",
              "    </tr>\n",
              "  </thead>\n",
              "  <tbody>\n",
              "    <tr>\n",
              "      <th>0</th>\n",
              "      <td>0</td>\n",
              "      <td>7dae1ce6bc8f69481328f2be5c4943077dad5598b5f66d...</td>\n",
              "      <td>05/04/18</td>\n",
              "      <td>05/04/18</td>\n",
              "      <td>06/04/18</td>\n",
              "      <td>3</td>\n",
              "      <td>2</td>\n",
              "      <td>2</td>\n",
              "      <td>0</td>\n",
              "      <td>45</td>\n",
              "      <td>...</td>\n",
              "      <td>2.0</td>\n",
              "      <td>2.0</td>\n",
              "      <td>3</td>\n",
              "      <td>3</td>\n",
              "      <td>H</td>\n",
              "      <td>1</td>\n",
              "      <td>2114944930dcc42ce5b9b50ae965cf8a9c04e46be63d84...</td>\n",
              "      <td>A</td>\n",
              "      <td>C</td>\n",
              "      <td>9f14025af0065b30e47e23ebb3b491d39ae8ed17d33739...</td>\n",
              "    </tr>\n",
              "    <tr>\n",
              "      <th>1</th>\n",
              "      <td>1</td>\n",
              "      <td>fe0d4e444e1818436c88f72f1cf800536c2f785e59baeb...</td>\n",
              "      <td>24/05/15</td>\n",
              "      <td>23/06/15</td>\n",
              "      <td>27/06/15</td>\n",
              "      <td>1</td>\n",
              "      <td>2</td>\n",
              "      <td>4</td>\n",
              "      <td>0</td>\n",
              "      <td>45</td>\n",
              "      <td>...</td>\n",
              "      <td>2.0</td>\n",
              "      <td>2.0</td>\n",
              "      <td>4</td>\n",
              "      <td>2</td>\n",
              "      <td>H</td>\n",
              "      <td>1</td>\n",
              "      <td>2114944930dcc42ce5b9b50ae965cf8a9c04e46be63d84...</td>\n",
              "      <td>F</td>\n",
              "      <td>A</td>\n",
              "      <td>e7f6c011776e8db7cd330b54174fd76f7d0216b612387a...</td>\n",
              "    </tr>\n",
              "    <tr>\n",
              "      <th>2</th>\n",
              "      <td>2</td>\n",
              "      <td>540bd4285ad8168e8388f84ee74a82cd4f97dc0a404d3e...</td>\n",
              "      <td>21/07/15</td>\n",
              "      <td>07/08/15</td>\n",
              "      <td>10/08/15</td>\n",
              "      <td>3</td>\n",
              "      <td>2</td>\n",
              "      <td>3</td>\n",
              "      <td>0</td>\n",
              "      <td>45</td>\n",
              "      <td>...</td>\n",
              "      <td>4.0</td>\n",
              "      <td>2.0</td>\n",
              "      <td>2</td>\n",
              "      <td>3</td>\n",
              "      <td>H</td>\n",
              "      <td>1</td>\n",
              "      <td>2114944930dcc42ce5b9b50ae965cf8a9c04e46be63d84...</td>\n",
              "      <td>D</td>\n",
              "      <td>A</td>\n",
              "      <td>d4735e3a265e16eee03f59718b9b5d03019c07d8b6c51f...</td>\n",
              "    </tr>\n",
              "    <tr>\n",
              "      <th>3</th>\n",
              "      <td>3</td>\n",
              "      <td>09593c907ae262e46f655b4db9e14f54a19eadcfdd2679...</td>\n",
              "      <td>31/07/15</td>\n",
              "      <td>22/10/15</td>\n",
              "      <td>25/10/15</td>\n",
              "      <td>1</td>\n",
              "      <td>2</td>\n",
              "      <td>3</td>\n",
              "      <td>0</td>\n",
              "      <td>45</td>\n",
              "      <td>...</td>\n",
              "      <td>2.0</td>\n",
              "      <td>2.0</td>\n",
              "      <td>6</td>\n",
              "      <td>3</td>\n",
              "      <td>H</td>\n",
              "      <td>1</td>\n",
              "      <td>2114944930dcc42ce5b9b50ae965cf8a9c04e46be63d84...</td>\n",
              "      <td>F</td>\n",
              "      <td>A</td>\n",
              "      <td>49d180ecf56132819571bf39d9b7b342522a2ac6d23c14...</td>\n",
              "    </tr>\n",
              "    <tr>\n",
              "      <th>4</th>\n",
              "      <td>4</td>\n",
              "      <td>f4c50caac68051faf37551d70bb17eebef2a20e2244cb1...</td>\n",
              "      <td>01/07/16</td>\n",
              "      <td>01/10/16</td>\n",
              "      <td>05/10/16</td>\n",
              "      <td>1</td>\n",
              "      <td>2</td>\n",
              "      <td>4</td>\n",
              "      <td>0</td>\n",
              "      <td>45</td>\n",
              "      <td>...</td>\n",
              "      <td>2.0</td>\n",
              "      <td>2.0</td>\n",
              "      <td>11</td>\n",
              "      <td>2</td>\n",
              "      <td>H</td>\n",
              "      <td>1</td>\n",
              "      <td>2114944930dcc42ce5b9b50ae965cf8a9c04e46be63d84...</td>\n",
              "      <td>F</td>\n",
              "      <td>A</td>\n",
              "      <td>e29c9c180c6279b0b02abd6a1801c7c04082cf486ec027...</td>\n",
              "    </tr>\n",
              "  </tbody>\n",
              "</table>\n",
              "<p>5 rows × 24 columns</p>\n",
              "</div>"
            ],
            "text/plain": [
              "   Unnamed: 0                                     reservation_id booking_date  \\\n",
              "0           0  7dae1ce6bc8f69481328f2be5c4943077dad5598b5f66d...     05/04/18   \n",
              "1           1  fe0d4e444e1818436c88f72f1cf800536c2f785e59baeb...     24/05/15   \n",
              "2           2  540bd4285ad8168e8388f84ee74a82cd4f97dc0a404d3e...     21/07/15   \n",
              "3           3  09593c907ae262e46f655b4db9e14f54a19eadcfdd2679...     31/07/15   \n",
              "4           4  f4c50caac68051faf37551d70bb17eebef2a20e2244cb1...     01/07/16   \n",
              "\n",
              "  checkin_date checkout_date  channel_code  main_product_code  numberofadults  \\\n",
              "0     05/04/18      06/04/18             3                  2               2   \n",
              "1     23/06/15      27/06/15             1                  2               4   \n",
              "2     07/08/15      10/08/15             3                  2               3   \n",
              "3     22/10/15      25/10/15             1                  2               3   \n",
              "4     01/10/16      05/10/16             1                  2               4   \n",
              "\n",
              "   numberofchildren  persontravellingid  ...  season_holidayed_code  \\\n",
              "0                 0                  45  ...                    2.0   \n",
              "1                 0                  45  ...                    2.0   \n",
              "2                 0                  45  ...                    4.0   \n",
              "3                 0                  45  ...                    2.0   \n",
              "4                 0                  45  ...                    2.0   \n",
              "\n",
              "   state_code_residence  state_code_resort  total_pax  member_age_buckets  \\\n",
              "0                   2.0                  3          3                   H   \n",
              "1                   2.0                  4          2                   H   \n",
              "2                   2.0                  2          3                   H   \n",
              "3                   2.0                  6          3                   H   \n",
              "4                   2.0                 11          2                   H   \n",
              "\n",
              "   booking_type_code                                           memberid  \\\n",
              "0                  1  2114944930dcc42ce5b9b50ae965cf8a9c04e46be63d84...   \n",
              "1                  1  2114944930dcc42ce5b9b50ae965cf8a9c04e46be63d84...   \n",
              "2                  1  2114944930dcc42ce5b9b50ae965cf8a9c04e46be63d84...   \n",
              "3                  1  2114944930dcc42ce5b9b50ae965cf8a9c04e46be63d84...   \n",
              "4                  1  2114944930dcc42ce5b9b50ae965cf8a9c04e46be63d84...   \n",
              "\n",
              "   cluster_code reservationstatusid_code  \\\n",
              "0             A                        C   \n",
              "1             F                        A   \n",
              "2             D                        A   \n",
              "3             F                        A   \n",
              "4             F                        A   \n",
              "\n",
              "                                           resort_id  \n",
              "0  9f14025af0065b30e47e23ebb3b491d39ae8ed17d33739...  \n",
              "1  e7f6c011776e8db7cd330b54174fd76f7d0216b612387a...  \n",
              "2  d4735e3a265e16eee03f59718b9b5d03019c07d8b6c51f...  \n",
              "3  49d180ecf56132819571bf39d9b7b342522a2ac6d23c14...  \n",
              "4  e29c9c180c6279b0b02abd6a1801c7c04082cf486ec027...  \n",
              "\n",
              "[5 rows x 24 columns]"
            ]
          },
          "metadata": {
            "tags": []
          },
          "execution_count": 13
        }
      ]
    },
    {
      "cell_type": "code",
      "metadata": {
        "id": "CSOUvGlrmSow",
        "colab_type": "code",
        "outputId": "57fea726-f2b4-4554-f65a-c28f6bbd0045",
        "colab": {
          "base_uri": "https://localhost:8080/",
          "height": 34
        }
      },
      "source": [
        "train['reservation_id'].nunique()"
      ],
      "execution_count": 14,
      "outputs": [
        {
          "output_type": "execute_result",
          "data": {
            "text/plain": [
              "341424"
            ]
          },
          "metadata": {
            "tags": []
          },
          "execution_count": 14
        }
      ]
    },
    {
      "cell_type": "code",
      "metadata": {
        "id": "8r9IGtYPmknQ",
        "colab_type": "code",
        "outputId": "8afe9033-623b-4629-dbc1-def911b94f8a",
        "colab": {
          "base_uri": "https://localhost:8080/",
          "height": 34
        }
      },
      "source": [
        "test['reservation_id'].nunique()"
      ],
      "execution_count": 15,
      "outputs": [
        {
          "output_type": "execute_result",
          "data": {
            "text/plain": [
              "146765"
            ]
          },
          "metadata": {
            "tags": []
          },
          "execution_count": 15
        }
      ]
    },
    {
      "cell_type": "code",
      "metadata": {
        "id": "vlfnaVakmq84",
        "colab_type": "code",
        "outputId": "36b64edc-f14b-43a5-c86b-3647ccfcef27",
        "colab": {
          "base_uri": "https://localhost:8080/",
          "height": 527
        }
      },
      "source": [
        "train.info()"
      ],
      "execution_count": 16,
      "outputs": [
        {
          "output_type": "stream",
          "text": [
            "<class 'pandas.core.frame.DataFrame'>\n",
            "RangeIndex: 341424 entries, 0 to 341423\n",
            "Data columns (total 25 columns):\n",
            "Unnamed: 0                            341424 non-null int64\n",
            "reservation_id                        341424 non-null object\n",
            "booking_date                          341424 non-null object\n",
            "checkin_date                          341424 non-null object\n",
            "checkout_date                         341424 non-null object\n",
            "channel_code                          341424 non-null int64\n",
            "main_product_code                     341424 non-null int64\n",
            "numberofadults                        341424 non-null int64\n",
            "numberofchildren                      341424 non-null int64\n",
            "persontravellingid                    341424 non-null int64\n",
            "resort_region_code                    341424 non-null int64\n",
            "resort_type_code                      341424 non-null int64\n",
            "room_type_booked_code                 341424 non-null int64\n",
            "roomnights                            341424 non-null int64\n",
            "season_holidayed_code                 341310 non-null float64\n",
            "state_code_residence                  336660 non-null float64\n",
            "state_code_resort                     341424 non-null int64\n",
            "total_pax                             341424 non-null int64\n",
            "member_age_buckets                    341424 non-null object\n",
            "booking_type_code                     341424 non-null int64\n",
            "memberid                              341424 non-null object\n",
            "cluster_code                          341424 non-null object\n",
            "reservationstatusid_code              341424 non-null object\n",
            "resort_id                             341424 non-null object\n",
            "amount_spent_per_room_night_scaled    341424 non-null float64\n",
            "dtypes: float64(3), int64(13), object(9)\n",
            "memory usage: 65.1+ MB\n"
          ],
          "name": "stdout"
        }
      ]
    },
    {
      "cell_type": "markdown",
      "metadata": {
        "id": "tpGirTuimysT",
        "colab_type": "text"
      },
      "source": [
        "Here we see the column of all dates **('booking_date','checkin_date','checkout_date')** are \"Object\".\n",
        "- So lets first convert these columns in to proper date time formate because we gonna extract new features out of them."
      ]
    },
    {
      "cell_type": "code",
      "metadata": {
        "id": "Wc0AMvdkn0wH",
        "colab_type": "code",
        "outputId": "ecc6a289-5839-42b4-e317-721c847bd707",
        "colab": {
          "base_uri": "https://localhost:8080/",
          "height": 34
        }
      },
      "source": [
        "train.shape"
      ],
      "execution_count": 17,
      "outputs": [
        {
          "output_type": "execute_result",
          "data": {
            "text/plain": [
              "(341424, 25)"
            ]
          },
          "metadata": {
            "tags": []
          },
          "execution_count": 17
        }
      ]
    },
    {
      "cell_type": "code",
      "metadata": {
        "id": "SRf-5rf-n2Mf",
        "colab_type": "code",
        "colab": {
          "base_uri": "https://localhost:8080/",
          "height": 34
        },
        "outputId": "5d88054d-553e-4b05-eb28-54ddc2321cb4"
      },
      "source": [
        "test.shape"
      ],
      "execution_count": 18,
      "outputs": [
        {
          "output_type": "execute_result",
          "data": {
            "text/plain": [
              "(146765, 24)"
            ]
          },
          "metadata": {
            "tags": []
          },
          "execution_count": 18
        }
      ]
    },
    {
      "cell_type": "code",
      "metadata": {
        "id": "BC66L1ncmwNY",
        "colab_type": "code",
        "colab": {}
      },
      "source": [
        "# Create a function.\n",
        "def extractDateTimeFeature(date_column,data):\n",
        "    data[date_column+\"_year\"]=data[date_column].dt.year\n",
        "    data[date_column+\"_day\"]=data[date_column].dt.day\n",
        "    data[date_column+\"_month\"]=data[date_column].dt.month\n",
        "    data[date_column+\"_dayofweek\"]=data[date_column].dt.dayofweek\n",
        "    data[date_column+\"_isweekend\"]=data[date_column+\"_dayofweek\"].apply(lambda x:1 if x==5 or x==6 else 0)\n",
        "    # the weekend feature which hold a lot importance because more people like to go out during weekend time.\n",
        "    return data"
      ],
      "execution_count": 0,
      "outputs": []
    },
    {
      "cell_type": "code",
      "metadata": {
        "id": "HowhwKL-ng53",
        "colab_type": "code",
        "colab": {}
      },
      "source": [
        "date_columns=['booking_date','checkin_date','checkout_date']\n",
        "for col in date_columns:\n",
        "    train[col]=pd.to_datetime(train[col],dayfirst=True)\n",
        "    test[col]=pd.to_datetime(test[col],dayfirst=True)\n",
        "    train=extractDateTimeFeature(col,train)\n",
        "    test=extractDateTimeFeature(col,test)"
      ],
      "execution_count": 0,
      "outputs": []
    },
    {
      "cell_type": "markdown",
      "metadata": {
        "id": "oziSe3VqnqF4",
        "colab_type": "text"
      },
      "source": [
        "### Let's checkout for the new features that we created ."
      ]
    },
    {
      "cell_type": "code",
      "metadata": {
        "id": "HB2ysxFxnntQ",
        "colab_type": "code",
        "outputId": "2f1cddf1-fa5e-414b-92d9-4b55e36e1475",
        "colab": {
          "base_uri": "https://localhost:8080/",
          "height": 34
        }
      },
      "source": [
        "train.shape"
      ],
      "execution_count": 21,
      "outputs": [
        {
          "output_type": "execute_result",
          "data": {
            "text/plain": [
              "(341424, 40)"
            ]
          },
          "metadata": {
            "tags": []
          },
          "execution_count": 21
        }
      ]
    },
    {
      "cell_type": "code",
      "metadata": {
        "id": "7eCqmFX9obFg",
        "colab_type": "code",
        "outputId": "dda81c1a-ce9c-49f5-e5d4-226a275d7ec2",
        "colab": {
          "base_uri": "https://localhost:8080/",
          "height": 270
        }
      },
      "source": [
        "train.head()\n",
        "# so here we create 15 new feature for both train and test."
      ],
      "execution_count": 22,
      "outputs": [
        {
          "output_type": "execute_result",
          "data": {
            "text/html": [
              "<div>\n",
              "<style scoped>\n",
              "    .dataframe tbody tr th:only-of-type {\n",
              "        vertical-align: middle;\n",
              "    }\n",
              "\n",
              "    .dataframe tbody tr th {\n",
              "        vertical-align: top;\n",
              "    }\n",
              "\n",
              "    .dataframe thead th {\n",
              "        text-align: right;\n",
              "    }\n",
              "</style>\n",
              "<table border=\"1\" class=\"dataframe\">\n",
              "  <thead>\n",
              "    <tr style=\"text-align: right;\">\n",
              "      <th></th>\n",
              "      <th>Unnamed: 0</th>\n",
              "      <th>reservation_id</th>\n",
              "      <th>booking_date</th>\n",
              "      <th>checkin_date</th>\n",
              "      <th>checkout_date</th>\n",
              "      <th>channel_code</th>\n",
              "      <th>main_product_code</th>\n",
              "      <th>numberofadults</th>\n",
              "      <th>numberofchildren</th>\n",
              "      <th>persontravellingid</th>\n",
              "      <th>...</th>\n",
              "      <th>checkin_date_year</th>\n",
              "      <th>checkin_date_day</th>\n",
              "      <th>checkin_date_month</th>\n",
              "      <th>checkin_date_dayofweek</th>\n",
              "      <th>checkin_date_isweekend</th>\n",
              "      <th>checkout_date_year</th>\n",
              "      <th>checkout_date_day</th>\n",
              "      <th>checkout_date_month</th>\n",
              "      <th>checkout_date_dayofweek</th>\n",
              "      <th>checkout_date_isweekend</th>\n",
              "    </tr>\n",
              "  </thead>\n",
              "  <tbody>\n",
              "    <tr>\n",
              "      <th>0</th>\n",
              "      <td>0</td>\n",
              "      <td>07659f3758d8aee27f5a7e2887adeacb67021cb95ada1b...</td>\n",
              "      <td>2018-04-05</td>\n",
              "      <td>2018-04-05</td>\n",
              "      <td>2018-04-06</td>\n",
              "      <td>3</td>\n",
              "      <td>1</td>\n",
              "      <td>2</td>\n",
              "      <td>0</td>\n",
              "      <td>46</td>\n",
              "      <td>...</td>\n",
              "      <td>2018</td>\n",
              "      <td>5</td>\n",
              "      <td>4</td>\n",
              "      <td>3</td>\n",
              "      <td>0</td>\n",
              "      <td>2018</td>\n",
              "      <td>6</td>\n",
              "      <td>4</td>\n",
              "      <td>4</td>\n",
              "      <td>0</td>\n",
              "    </tr>\n",
              "    <tr>\n",
              "      <th>1</th>\n",
              "      <td>1</td>\n",
              "      <td>03930f033646d073462b35d411616323597715ac4fc398...</td>\n",
              "      <td>2015-01-23</td>\n",
              "      <td>2015-04-11</td>\n",
              "      <td>2015-04-16</td>\n",
              "      <td>1</td>\n",
              "      <td>1</td>\n",
              "      <td>2</td>\n",
              "      <td>0</td>\n",
              "      <td>46</td>\n",
              "      <td>...</td>\n",
              "      <td>2015</td>\n",
              "      <td>11</td>\n",
              "      <td>4</td>\n",
              "      <td>5</td>\n",
              "      <td>1</td>\n",
              "      <td>2015</td>\n",
              "      <td>16</td>\n",
              "      <td>4</td>\n",
              "      <td>3</td>\n",
              "      <td>0</td>\n",
              "    </tr>\n",
              "    <tr>\n",
              "      <th>2</th>\n",
              "      <td>2</td>\n",
              "      <td>d145a32920e6587ad95bfe299d80c0affa268220535aaf...</td>\n",
              "      <td>2015-01-28</td>\n",
              "      <td>2015-02-01</td>\n",
              "      <td>2015-02-05</td>\n",
              "      <td>1</td>\n",
              "      <td>1</td>\n",
              "      <td>2</td>\n",
              "      <td>0</td>\n",
              "      <td>47</td>\n",
              "      <td>...</td>\n",
              "      <td>2015</td>\n",
              "      <td>1</td>\n",
              "      <td>2</td>\n",
              "      <td>6</td>\n",
              "      <td>1</td>\n",
              "      <td>2015</td>\n",
              "      <td>5</td>\n",
              "      <td>2</td>\n",
              "      <td>3</td>\n",
              "      <td>0</td>\n",
              "    </tr>\n",
              "    <tr>\n",
              "      <th>3</th>\n",
              "      <td>3</td>\n",
              "      <td>cfd77f44811ed62f25a220b53324cdbafc662a4c9e5f04...</td>\n",
              "      <td>2015-05-02</td>\n",
              "      <td>2015-06-11</td>\n",
              "      <td>2015-06-16</td>\n",
              "      <td>1</td>\n",
              "      <td>1</td>\n",
              "      <td>2</td>\n",
              "      <td>2</td>\n",
              "      <td>46</td>\n",
              "      <td>...</td>\n",
              "      <td>2015</td>\n",
              "      <td>11</td>\n",
              "      <td>6</td>\n",
              "      <td>3</td>\n",
              "      <td>0</td>\n",
              "      <td>2015</td>\n",
              "      <td>16</td>\n",
              "      <td>6</td>\n",
              "      <td>1</td>\n",
              "      <td>0</td>\n",
              "    </tr>\n",
              "    <tr>\n",
              "      <th>4</th>\n",
              "      <td>4</td>\n",
              "      <td>937cff9e4dcfc2459620153dfc8b9962ac22bea67dfb29...</td>\n",
              "      <td>2015-09-02</td>\n",
              "      <td>2015-12-14</td>\n",
              "      <td>2015-12-19</td>\n",
              "      <td>1</td>\n",
              "      <td>1</td>\n",
              "      <td>2</td>\n",
              "      <td>0</td>\n",
              "      <td>46</td>\n",
              "      <td>...</td>\n",
              "      <td>2015</td>\n",
              "      <td>14</td>\n",
              "      <td>12</td>\n",
              "      <td>0</td>\n",
              "      <td>0</td>\n",
              "      <td>2015</td>\n",
              "      <td>19</td>\n",
              "      <td>12</td>\n",
              "      <td>5</td>\n",
              "      <td>1</td>\n",
              "    </tr>\n",
              "  </tbody>\n",
              "</table>\n",
              "<p>5 rows × 40 columns</p>\n",
              "</div>"
            ],
            "text/plain": [
              "   Unnamed: 0                                     reservation_id booking_date  \\\n",
              "0           0  07659f3758d8aee27f5a7e2887adeacb67021cb95ada1b...   2018-04-05   \n",
              "1           1  03930f033646d073462b35d411616323597715ac4fc398...   2015-01-23   \n",
              "2           2  d145a32920e6587ad95bfe299d80c0affa268220535aaf...   2015-01-28   \n",
              "3           3  cfd77f44811ed62f25a220b53324cdbafc662a4c9e5f04...   2015-05-02   \n",
              "4           4  937cff9e4dcfc2459620153dfc8b9962ac22bea67dfb29...   2015-09-02   \n",
              "\n",
              "  checkin_date checkout_date  channel_code  main_product_code  numberofadults  \\\n",
              "0   2018-04-05    2018-04-06             3                  1               2   \n",
              "1   2015-04-11    2015-04-16             1                  1               2   \n",
              "2   2015-02-01    2015-02-05             1                  1               2   \n",
              "3   2015-06-11    2015-06-16             1                  1               2   \n",
              "4   2015-12-14    2015-12-19             1                  1               2   \n",
              "\n",
              "   numberofchildren  persontravellingid  ...  checkin_date_year  \\\n",
              "0                 0                  46  ...               2018   \n",
              "1                 0                  46  ...               2015   \n",
              "2                 0                  47  ...               2015   \n",
              "3                 2                  46  ...               2015   \n",
              "4                 0                  46  ...               2015   \n",
              "\n",
              "   checkin_date_day  checkin_date_month  checkin_date_dayofweek  \\\n",
              "0                 5                   4                       3   \n",
              "1                11                   4                       5   \n",
              "2                 1                   2                       6   \n",
              "3                11                   6                       3   \n",
              "4                14                  12                       0   \n",
              "\n",
              "   checkin_date_isweekend  checkout_date_year  checkout_date_day  \\\n",
              "0                       0                2018                  6   \n",
              "1                       1                2015                 16   \n",
              "2                       1                2015                  5   \n",
              "3                       0                2015                 16   \n",
              "4                       0                2015                 19   \n",
              "\n",
              "   checkout_date_month checkout_date_dayofweek  checkout_date_isweekend  \n",
              "0                    4                       4                        0  \n",
              "1                    4                       3                        0  \n",
              "2                    2                       3                        0  \n",
              "3                    6                       1                        0  \n",
              "4                   12                       5                        1  \n",
              "\n",
              "[5 rows x 40 columns]"
            ]
          },
          "metadata": {
            "tags": []
          },
          "execution_count": 22
        }
      ]
    },
    {
      "cell_type": "code",
      "metadata": {
        "id": "7WK6yoInocaQ",
        "colab_type": "code",
        "outputId": "1d979793-9e1c-423d-b9b4-9b75b44d37d3",
        "colab": {
          "base_uri": "https://localhost:8080/",
          "height": 270
        }
      },
      "source": [
        "test.head()"
      ],
      "execution_count": 23,
      "outputs": [
        {
          "output_type": "execute_result",
          "data": {
            "text/html": [
              "<div>\n",
              "<style scoped>\n",
              "    .dataframe tbody tr th:only-of-type {\n",
              "        vertical-align: middle;\n",
              "    }\n",
              "\n",
              "    .dataframe tbody tr th {\n",
              "        vertical-align: top;\n",
              "    }\n",
              "\n",
              "    .dataframe thead th {\n",
              "        text-align: right;\n",
              "    }\n",
              "</style>\n",
              "<table border=\"1\" class=\"dataframe\">\n",
              "  <thead>\n",
              "    <tr style=\"text-align: right;\">\n",
              "      <th></th>\n",
              "      <th>Unnamed: 0</th>\n",
              "      <th>reservation_id</th>\n",
              "      <th>booking_date</th>\n",
              "      <th>checkin_date</th>\n",
              "      <th>checkout_date</th>\n",
              "      <th>channel_code</th>\n",
              "      <th>main_product_code</th>\n",
              "      <th>numberofadults</th>\n",
              "      <th>numberofchildren</th>\n",
              "      <th>persontravellingid</th>\n",
              "      <th>...</th>\n",
              "      <th>checkin_date_year</th>\n",
              "      <th>checkin_date_day</th>\n",
              "      <th>checkin_date_month</th>\n",
              "      <th>checkin_date_dayofweek</th>\n",
              "      <th>checkin_date_isweekend</th>\n",
              "      <th>checkout_date_year</th>\n",
              "      <th>checkout_date_day</th>\n",
              "      <th>checkout_date_month</th>\n",
              "      <th>checkout_date_dayofweek</th>\n",
              "      <th>checkout_date_isweekend</th>\n",
              "    </tr>\n",
              "  </thead>\n",
              "  <tbody>\n",
              "    <tr>\n",
              "      <th>0</th>\n",
              "      <td>0</td>\n",
              "      <td>7dae1ce6bc8f69481328f2be5c4943077dad5598b5f66d...</td>\n",
              "      <td>2018-04-05</td>\n",
              "      <td>2018-04-05</td>\n",
              "      <td>2018-04-06</td>\n",
              "      <td>3</td>\n",
              "      <td>2</td>\n",
              "      <td>2</td>\n",
              "      <td>0</td>\n",
              "      <td>45</td>\n",
              "      <td>...</td>\n",
              "      <td>2018</td>\n",
              "      <td>5</td>\n",
              "      <td>4</td>\n",
              "      <td>3</td>\n",
              "      <td>0</td>\n",
              "      <td>2018</td>\n",
              "      <td>6</td>\n",
              "      <td>4</td>\n",
              "      <td>4</td>\n",
              "      <td>0</td>\n",
              "    </tr>\n",
              "    <tr>\n",
              "      <th>1</th>\n",
              "      <td>1</td>\n",
              "      <td>fe0d4e444e1818436c88f72f1cf800536c2f785e59baeb...</td>\n",
              "      <td>2015-05-24</td>\n",
              "      <td>2015-06-23</td>\n",
              "      <td>2015-06-27</td>\n",
              "      <td>1</td>\n",
              "      <td>2</td>\n",
              "      <td>4</td>\n",
              "      <td>0</td>\n",
              "      <td>45</td>\n",
              "      <td>...</td>\n",
              "      <td>2015</td>\n",
              "      <td>23</td>\n",
              "      <td>6</td>\n",
              "      <td>1</td>\n",
              "      <td>0</td>\n",
              "      <td>2015</td>\n",
              "      <td>27</td>\n",
              "      <td>6</td>\n",
              "      <td>5</td>\n",
              "      <td>1</td>\n",
              "    </tr>\n",
              "    <tr>\n",
              "      <th>2</th>\n",
              "      <td>2</td>\n",
              "      <td>540bd4285ad8168e8388f84ee74a82cd4f97dc0a404d3e...</td>\n",
              "      <td>2015-07-21</td>\n",
              "      <td>2015-08-07</td>\n",
              "      <td>2015-08-10</td>\n",
              "      <td>3</td>\n",
              "      <td>2</td>\n",
              "      <td>3</td>\n",
              "      <td>0</td>\n",
              "      <td>45</td>\n",
              "      <td>...</td>\n",
              "      <td>2015</td>\n",
              "      <td>7</td>\n",
              "      <td>8</td>\n",
              "      <td>4</td>\n",
              "      <td>0</td>\n",
              "      <td>2015</td>\n",
              "      <td>10</td>\n",
              "      <td>8</td>\n",
              "      <td>0</td>\n",
              "      <td>0</td>\n",
              "    </tr>\n",
              "    <tr>\n",
              "      <th>3</th>\n",
              "      <td>3</td>\n",
              "      <td>09593c907ae262e46f655b4db9e14f54a19eadcfdd2679...</td>\n",
              "      <td>2015-07-31</td>\n",
              "      <td>2015-10-22</td>\n",
              "      <td>2015-10-25</td>\n",
              "      <td>1</td>\n",
              "      <td>2</td>\n",
              "      <td>3</td>\n",
              "      <td>0</td>\n",
              "      <td>45</td>\n",
              "      <td>...</td>\n",
              "      <td>2015</td>\n",
              "      <td>22</td>\n",
              "      <td>10</td>\n",
              "      <td>3</td>\n",
              "      <td>0</td>\n",
              "      <td>2015</td>\n",
              "      <td>25</td>\n",
              "      <td>10</td>\n",
              "      <td>6</td>\n",
              "      <td>1</td>\n",
              "    </tr>\n",
              "    <tr>\n",
              "      <th>4</th>\n",
              "      <td>4</td>\n",
              "      <td>f4c50caac68051faf37551d70bb17eebef2a20e2244cb1...</td>\n",
              "      <td>2016-07-01</td>\n",
              "      <td>2016-10-01</td>\n",
              "      <td>2016-10-05</td>\n",
              "      <td>1</td>\n",
              "      <td>2</td>\n",
              "      <td>4</td>\n",
              "      <td>0</td>\n",
              "      <td>45</td>\n",
              "      <td>...</td>\n",
              "      <td>2016</td>\n",
              "      <td>1</td>\n",
              "      <td>10</td>\n",
              "      <td>5</td>\n",
              "      <td>1</td>\n",
              "      <td>2016</td>\n",
              "      <td>5</td>\n",
              "      <td>10</td>\n",
              "      <td>2</td>\n",
              "      <td>0</td>\n",
              "    </tr>\n",
              "  </tbody>\n",
              "</table>\n",
              "<p>5 rows × 39 columns</p>\n",
              "</div>"
            ],
            "text/plain": [
              "   Unnamed: 0                                     reservation_id booking_date  \\\n",
              "0           0  7dae1ce6bc8f69481328f2be5c4943077dad5598b5f66d...   2018-04-05   \n",
              "1           1  fe0d4e444e1818436c88f72f1cf800536c2f785e59baeb...   2015-05-24   \n",
              "2           2  540bd4285ad8168e8388f84ee74a82cd4f97dc0a404d3e...   2015-07-21   \n",
              "3           3  09593c907ae262e46f655b4db9e14f54a19eadcfdd2679...   2015-07-31   \n",
              "4           4  f4c50caac68051faf37551d70bb17eebef2a20e2244cb1...   2016-07-01   \n",
              "\n",
              "  checkin_date checkout_date  channel_code  main_product_code  numberofadults  \\\n",
              "0   2018-04-05    2018-04-06             3                  2               2   \n",
              "1   2015-06-23    2015-06-27             1                  2               4   \n",
              "2   2015-08-07    2015-08-10             3                  2               3   \n",
              "3   2015-10-22    2015-10-25             1                  2               3   \n",
              "4   2016-10-01    2016-10-05             1                  2               4   \n",
              "\n",
              "   numberofchildren  persontravellingid  ...  checkin_date_year  \\\n",
              "0                 0                  45  ...               2018   \n",
              "1                 0                  45  ...               2015   \n",
              "2                 0                  45  ...               2015   \n",
              "3                 0                  45  ...               2015   \n",
              "4                 0                  45  ...               2016   \n",
              "\n",
              "   checkin_date_day  checkin_date_month  checkin_date_dayofweek  \\\n",
              "0                 5                   4                       3   \n",
              "1                23                   6                       1   \n",
              "2                 7                   8                       4   \n",
              "3                22                  10                       3   \n",
              "4                 1                  10                       5   \n",
              "\n",
              "   checkin_date_isweekend  checkout_date_year  checkout_date_day  \\\n",
              "0                       0                2018                  6   \n",
              "1                       0                2015                 27   \n",
              "2                       0                2015                 10   \n",
              "3                       0                2015                 25   \n",
              "4                       1                2016                  5   \n",
              "\n",
              "   checkout_date_month checkout_date_dayofweek  checkout_date_isweekend  \n",
              "0                    4                       4                        0  \n",
              "1                    6                       5                        1  \n",
              "2                    8                       0                        0  \n",
              "3                   10                       6                        1  \n",
              "4                   10                       2                        0  \n",
              "\n",
              "[5 rows x 39 columns]"
            ]
          },
          "metadata": {
            "tags": []
          },
          "execution_count": 23
        }
      ]
    },
    {
      "cell_type": "markdown",
      "metadata": {
        "id": "W1Kgebd1pEUm",
        "colab_type": "text"
      },
      "source": [
        "### Checkout for the missing values in both train and test."
      ]
    },
    {
      "cell_type": "code",
      "metadata": {
        "id": "p6AcC3wQoqX4",
        "colab_type": "code",
        "outputId": "ab807a0f-cc97-4338-d8e8-d3a4e41842ed",
        "colab": {
          "base_uri": "https://localhost:8080/",
          "height": 714
        }
      },
      "source": [
        "train.isnull().sum()"
      ],
      "execution_count": 24,
      "outputs": [
        {
          "output_type": "execute_result",
          "data": {
            "text/plain": [
              "Unnamed: 0                               0\n",
              "reservation_id                           0\n",
              "booking_date                             0\n",
              "checkin_date                             0\n",
              "checkout_date                            0\n",
              "channel_code                             0\n",
              "main_product_code                        0\n",
              "numberofadults                           0\n",
              "numberofchildren                         0\n",
              "persontravellingid                       0\n",
              "resort_region_code                       0\n",
              "resort_type_code                         0\n",
              "room_type_booked_code                    0\n",
              "roomnights                               0\n",
              "season_holidayed_code                  114\n",
              "state_code_residence                  4764\n",
              "state_code_resort                        0\n",
              "total_pax                                0\n",
              "member_age_buckets                       0\n",
              "booking_type_code                        0\n",
              "memberid                                 0\n",
              "cluster_code                             0\n",
              "reservationstatusid_code                 0\n",
              "resort_id                                0\n",
              "amount_spent_per_room_night_scaled       0\n",
              "booking_date_year                        0\n",
              "booking_date_day                         0\n",
              "booking_date_month                       0\n",
              "booking_date_dayofweek                   0\n",
              "booking_date_isweekend                   0\n",
              "checkin_date_year                        0\n",
              "checkin_date_day                         0\n",
              "checkin_date_month                       0\n",
              "checkin_date_dayofweek                   0\n",
              "checkin_date_isweekend                   0\n",
              "checkout_date_year                       0\n",
              "checkout_date_day                        0\n",
              "checkout_date_month                      0\n",
              "checkout_date_dayofweek                  0\n",
              "checkout_date_isweekend                  0\n",
              "dtype: int64"
            ]
          },
          "metadata": {
            "tags": []
          },
          "execution_count": 24
        }
      ]
    },
    {
      "cell_type": "code",
      "metadata": {
        "id": "m0hT5p3tpJ6o",
        "colab_type": "code",
        "outputId": "f32d96c3-3a3b-4ef4-9e9d-b4a169351bb5",
        "colab": {
          "base_uri": "https://localhost:8080/",
          "height": 697
        }
      },
      "source": [
        "test.isnull().sum()"
      ],
      "execution_count": 25,
      "outputs": [
        {
          "output_type": "execute_result",
          "data": {
            "text/plain": [
              "Unnamed: 0                     0\n",
              "reservation_id                 0\n",
              "booking_date                   0\n",
              "checkin_date                   0\n",
              "checkout_date                  0\n",
              "channel_code                   0\n",
              "main_product_code              0\n",
              "numberofadults                 0\n",
              "numberofchildren               0\n",
              "persontravellingid             0\n",
              "resort_region_code             0\n",
              "resort_type_code               0\n",
              "room_type_booked_code          0\n",
              "roomnights                     0\n",
              "season_holidayed_code         35\n",
              "state_code_residence        2260\n",
              "state_code_resort              0\n",
              "total_pax                      0\n",
              "member_age_buckets             0\n",
              "booking_type_code              0\n",
              "memberid                       0\n",
              "cluster_code                   0\n",
              "reservationstatusid_code       0\n",
              "resort_id                      0\n",
              "booking_date_year              0\n",
              "booking_date_day               0\n",
              "booking_date_month             0\n",
              "booking_date_dayofweek         0\n",
              "booking_date_isweekend         0\n",
              "checkin_date_year              0\n",
              "checkin_date_day               0\n",
              "checkin_date_month             0\n",
              "checkin_date_dayofweek         0\n",
              "checkin_date_isweekend         0\n",
              "checkout_date_year             0\n",
              "checkout_date_day              0\n",
              "checkout_date_month            0\n",
              "checkout_date_dayofweek        0\n",
              "checkout_date_isweekend        0\n",
              "dtype: int64"
            ]
          },
          "metadata": {
            "tags": []
          },
          "execution_count": 25
        }
      ]
    },
    {
      "cell_type": "markdown",
      "metadata": {
        "id": "HslPbZQupW19",
        "colab_type": "text"
      },
      "source": [
        "There are missing value in season_holidayed_code and state_code_residence in the train. Is this seeen in the test data as well,\n",
        "- Yes, that very same columns have the missing values."
      ]
    },
    {
      "cell_type": "markdown",
      "metadata": {
        "id": "8QxhAHdJprWj",
        "colab_type": "text"
      },
      "source": [
        "## season_holidayed_code"
      ]
    },
    {
      "cell_type": "code",
      "metadata": {
        "id": "clMeHe9tpMMg",
        "colab_type": "code",
        "outputId": "b8042084-1a47-4afa-867b-25b92747ceee",
        "colab": {
          "base_uri": "https://localhost:8080/",
          "height": 102
        }
      },
      "source": [
        "train['season_holidayed_code'].value_counts()"
      ],
      "execution_count": 26,
      "outputs": [
        {
          "output_type": "execute_result",
          "data": {
            "text/plain": [
              "2.0    126771\n",
              "3.0    118187\n",
              "4.0     69387\n",
              "1.0     26965\n",
              "Name: season_holidayed_code, dtype: int64"
            ]
          },
          "metadata": {
            "tags": []
          },
          "execution_count": 26
        }
      ]
    },
    {
      "cell_type": "code",
      "metadata": {
        "id": "S1VgnhBipiyZ",
        "colab_type": "code",
        "outputId": "d33288a9-4db7-4ff6-d68d-5de2ff7ab7a2",
        "colab": {
          "base_uri": "https://localhost:8080/",
          "height": 102
        }
      },
      "source": [
        "test['season_holidayed_code'].value_counts()"
      ],
      "execution_count": 27,
      "outputs": [
        {
          "output_type": "execute_result",
          "data": {
            "text/plain": [
              "2.0    54093\n",
              "3.0    51453\n",
              "4.0    29889\n",
              "1.0    11295\n",
              "Name: season_holidayed_code, dtype: int64"
            ]
          },
          "metadata": {
            "tags": []
          },
          "execution_count": 27
        }
      ]
    },
    {
      "cell_type": "markdown",
      "metadata": {
        "id": "pnkhwVHSp9np",
        "colab_type": "text"
      },
      "source": [
        "### Seaon_holidayed_code is the Season in which the member holiday. This we can fill probbaly by looking at the checkin date and the season code for the checkin date for that resort? Before that let us combine train and test dataset"
      ]
    },
    {
      "cell_type": "code",
      "metadata": {
        "id": "YxONHJ6vpnao",
        "colab_type": "code",
        "colab": {}
      },
      "source": [
        "test['amount_spent_per_room_night_scaled']=0"
      ],
      "execution_count": 0,
      "outputs": []
    },
    {
      "cell_type": "code",
      "metadata": {
        "id": "OCdvUMEBqJ0w",
        "colab_type": "code",
        "colab": {}
      },
      "source": [
        "train['dataset']=\"train\"\n",
        "test['dataset']=\"test\""
      ],
      "execution_count": 0,
      "outputs": []
    },
    {
      "cell_type": "code",
      "metadata": {
        "id": "zwTDvSvtqNYP",
        "colab_type": "code",
        "outputId": "bf80a544-7469-48a4-f325-0f3d0328d336",
        "colab": {
          "base_uri": "https://localhost:8080/",
          "height": 270
        }
      },
      "source": [
        "train.head()"
      ],
      "execution_count": 30,
      "outputs": [
        {
          "output_type": "execute_result",
          "data": {
            "text/html": [
              "<div>\n",
              "<style scoped>\n",
              "    .dataframe tbody tr th:only-of-type {\n",
              "        vertical-align: middle;\n",
              "    }\n",
              "\n",
              "    .dataframe tbody tr th {\n",
              "        vertical-align: top;\n",
              "    }\n",
              "\n",
              "    .dataframe thead th {\n",
              "        text-align: right;\n",
              "    }\n",
              "</style>\n",
              "<table border=\"1\" class=\"dataframe\">\n",
              "  <thead>\n",
              "    <tr style=\"text-align: right;\">\n",
              "      <th></th>\n",
              "      <th>Unnamed: 0</th>\n",
              "      <th>reservation_id</th>\n",
              "      <th>booking_date</th>\n",
              "      <th>checkin_date</th>\n",
              "      <th>checkout_date</th>\n",
              "      <th>channel_code</th>\n",
              "      <th>main_product_code</th>\n",
              "      <th>numberofadults</th>\n",
              "      <th>numberofchildren</th>\n",
              "      <th>persontravellingid</th>\n",
              "      <th>...</th>\n",
              "      <th>checkin_date_day</th>\n",
              "      <th>checkin_date_month</th>\n",
              "      <th>checkin_date_dayofweek</th>\n",
              "      <th>checkin_date_isweekend</th>\n",
              "      <th>checkout_date_year</th>\n",
              "      <th>checkout_date_day</th>\n",
              "      <th>checkout_date_month</th>\n",
              "      <th>checkout_date_dayofweek</th>\n",
              "      <th>checkout_date_isweekend</th>\n",
              "      <th>dataset</th>\n",
              "    </tr>\n",
              "  </thead>\n",
              "  <tbody>\n",
              "    <tr>\n",
              "      <th>0</th>\n",
              "      <td>0</td>\n",
              "      <td>07659f3758d8aee27f5a7e2887adeacb67021cb95ada1b...</td>\n",
              "      <td>2018-04-05</td>\n",
              "      <td>2018-04-05</td>\n",
              "      <td>2018-04-06</td>\n",
              "      <td>3</td>\n",
              "      <td>1</td>\n",
              "      <td>2</td>\n",
              "      <td>0</td>\n",
              "      <td>46</td>\n",
              "      <td>...</td>\n",
              "      <td>5</td>\n",
              "      <td>4</td>\n",
              "      <td>3</td>\n",
              "      <td>0</td>\n",
              "      <td>2018</td>\n",
              "      <td>6</td>\n",
              "      <td>4</td>\n",
              "      <td>4</td>\n",
              "      <td>0</td>\n",
              "      <td>train</td>\n",
              "    </tr>\n",
              "    <tr>\n",
              "      <th>1</th>\n",
              "      <td>1</td>\n",
              "      <td>03930f033646d073462b35d411616323597715ac4fc398...</td>\n",
              "      <td>2015-01-23</td>\n",
              "      <td>2015-04-11</td>\n",
              "      <td>2015-04-16</td>\n",
              "      <td>1</td>\n",
              "      <td>1</td>\n",
              "      <td>2</td>\n",
              "      <td>0</td>\n",
              "      <td>46</td>\n",
              "      <td>...</td>\n",
              "      <td>11</td>\n",
              "      <td>4</td>\n",
              "      <td>5</td>\n",
              "      <td>1</td>\n",
              "      <td>2015</td>\n",
              "      <td>16</td>\n",
              "      <td>4</td>\n",
              "      <td>3</td>\n",
              "      <td>0</td>\n",
              "      <td>train</td>\n",
              "    </tr>\n",
              "    <tr>\n",
              "      <th>2</th>\n",
              "      <td>2</td>\n",
              "      <td>d145a32920e6587ad95bfe299d80c0affa268220535aaf...</td>\n",
              "      <td>2015-01-28</td>\n",
              "      <td>2015-02-01</td>\n",
              "      <td>2015-02-05</td>\n",
              "      <td>1</td>\n",
              "      <td>1</td>\n",
              "      <td>2</td>\n",
              "      <td>0</td>\n",
              "      <td>47</td>\n",
              "      <td>...</td>\n",
              "      <td>1</td>\n",
              "      <td>2</td>\n",
              "      <td>6</td>\n",
              "      <td>1</td>\n",
              "      <td>2015</td>\n",
              "      <td>5</td>\n",
              "      <td>2</td>\n",
              "      <td>3</td>\n",
              "      <td>0</td>\n",
              "      <td>train</td>\n",
              "    </tr>\n",
              "    <tr>\n",
              "      <th>3</th>\n",
              "      <td>3</td>\n",
              "      <td>cfd77f44811ed62f25a220b53324cdbafc662a4c9e5f04...</td>\n",
              "      <td>2015-05-02</td>\n",
              "      <td>2015-06-11</td>\n",
              "      <td>2015-06-16</td>\n",
              "      <td>1</td>\n",
              "      <td>1</td>\n",
              "      <td>2</td>\n",
              "      <td>2</td>\n",
              "      <td>46</td>\n",
              "      <td>...</td>\n",
              "      <td>11</td>\n",
              "      <td>6</td>\n",
              "      <td>3</td>\n",
              "      <td>0</td>\n",
              "      <td>2015</td>\n",
              "      <td>16</td>\n",
              "      <td>6</td>\n",
              "      <td>1</td>\n",
              "      <td>0</td>\n",
              "      <td>train</td>\n",
              "    </tr>\n",
              "    <tr>\n",
              "      <th>4</th>\n",
              "      <td>4</td>\n",
              "      <td>937cff9e4dcfc2459620153dfc8b9962ac22bea67dfb29...</td>\n",
              "      <td>2015-09-02</td>\n",
              "      <td>2015-12-14</td>\n",
              "      <td>2015-12-19</td>\n",
              "      <td>1</td>\n",
              "      <td>1</td>\n",
              "      <td>2</td>\n",
              "      <td>0</td>\n",
              "      <td>46</td>\n",
              "      <td>...</td>\n",
              "      <td>14</td>\n",
              "      <td>12</td>\n",
              "      <td>0</td>\n",
              "      <td>0</td>\n",
              "      <td>2015</td>\n",
              "      <td>19</td>\n",
              "      <td>12</td>\n",
              "      <td>5</td>\n",
              "      <td>1</td>\n",
              "      <td>train</td>\n",
              "    </tr>\n",
              "  </tbody>\n",
              "</table>\n",
              "<p>5 rows × 41 columns</p>\n",
              "</div>"
            ],
            "text/plain": [
              "   Unnamed: 0                                     reservation_id booking_date  \\\n",
              "0           0  07659f3758d8aee27f5a7e2887adeacb67021cb95ada1b...   2018-04-05   \n",
              "1           1  03930f033646d073462b35d411616323597715ac4fc398...   2015-01-23   \n",
              "2           2  d145a32920e6587ad95bfe299d80c0affa268220535aaf...   2015-01-28   \n",
              "3           3  cfd77f44811ed62f25a220b53324cdbafc662a4c9e5f04...   2015-05-02   \n",
              "4           4  937cff9e4dcfc2459620153dfc8b9962ac22bea67dfb29...   2015-09-02   \n",
              "\n",
              "  checkin_date checkout_date  channel_code  main_product_code  numberofadults  \\\n",
              "0   2018-04-05    2018-04-06             3                  1               2   \n",
              "1   2015-04-11    2015-04-16             1                  1               2   \n",
              "2   2015-02-01    2015-02-05             1                  1               2   \n",
              "3   2015-06-11    2015-06-16             1                  1               2   \n",
              "4   2015-12-14    2015-12-19             1                  1               2   \n",
              "\n",
              "   numberofchildren  persontravellingid  ...  checkin_date_day  \\\n",
              "0                 0                  46  ...                 5   \n",
              "1                 0                  46  ...                11   \n",
              "2                 0                  47  ...                 1   \n",
              "3                 2                  46  ...                11   \n",
              "4                 0                  46  ...                14   \n",
              "\n",
              "   checkin_date_month  checkin_date_dayofweek  checkin_date_isweekend  \\\n",
              "0                   4                       3                       0   \n",
              "1                   4                       5                       1   \n",
              "2                   2                       6                       1   \n",
              "3                   6                       3                       0   \n",
              "4                  12                       0                       0   \n",
              "\n",
              "   checkout_date_year  checkout_date_day  checkout_date_month  \\\n",
              "0                2018                  6                    4   \n",
              "1                2015                 16                    4   \n",
              "2                2015                  5                    2   \n",
              "3                2015                 16                    6   \n",
              "4                2015                 19                   12   \n",
              "\n",
              "   checkout_date_dayofweek checkout_date_isweekend  dataset  \n",
              "0                        4                       0    train  \n",
              "1                        3                       0    train  \n",
              "2                        3                       0    train  \n",
              "3                        1                       0    train  \n",
              "4                        5                       1    train  \n",
              "\n",
              "[5 rows x 41 columns]"
            ]
          },
          "metadata": {
            "tags": []
          },
          "execution_count": 30
        }
      ]
    },
    {
      "cell_type": "code",
      "metadata": {
        "id": "MLthfVLJqbIX",
        "colab_type": "code",
        "outputId": "14ee8f63-5bc6-46f0-9e3c-183ba7f61aa0",
        "colab": {
          "base_uri": "https://localhost:8080/",
          "height": 85
        }
      },
      "source": [
        "train[train['season_holidayed_code'].isnull()]['resort_id'].unique()"
      ],
      "execution_count": 31,
      "outputs": [
        {
          "output_type": "execute_result",
          "data": {
            "text/plain": [
              "array(['49d180ecf56132819571bf39d9b7b342522a2ac6d23c1418d3338251bfe469c8',\n",
              "       '9400f1b21cb527d7fa3d3eabba93557a18ebe7a2ca4e471cfe5e4c5b4ca7f767',\n",
              "       '4b227777d4dd1fc61c6f884f48641d02b4d121d3fd328cb08b5531fcacdabf8a'],\n",
              "      dtype=object)"
            ]
          },
          "metadata": {
            "tags": []
          },
          "execution_count": 31
        }
      ]
    },
    {
      "cell_type": "code",
      "metadata": {
        "id": "d_uKJmf8sPHf",
        "colab_type": "code",
        "outputId": "50babd08-7953-4613-f0e7-69ba4daeb4e1",
        "colab": {
          "base_uri": "https://localhost:8080/",
          "height": 85
        }
      },
      "source": [
        "# value counts \n",
        "train[train['season_holidayed_code'].isnull()]['resort_id'].value_counts()"
      ],
      "execution_count": 32,
      "outputs": [
        {
          "output_type": "execute_result",
          "data": {
            "text/plain": [
              "49d180ecf56132819571bf39d9b7b342522a2ac6d23c1418d3338251bfe469c8    110\n",
              "4b227777d4dd1fc61c6f884f48641d02b4d121d3fd328cb08b5531fcacdabf8a      3\n",
              "9400f1b21cb527d7fa3d3eabba93557a18ebe7a2ca4e471cfe5e4c5b4ca7f767      1\n",
              "Name: resort_id, dtype: int64"
            ]
          },
          "metadata": {
            "tags": []
          },
          "execution_count": 32
        }
      ]
    },
    {
      "cell_type": "markdown",
      "metadata": {
        "id": "BZApXftzrmLi",
        "colab_type": "text"
      },
      "source": [
        "So all the missing value in train['season_holidayed_code'] have these three 'resort_id'."
      ]
    },
    {
      "cell_type": "code",
      "metadata": {
        "id": "4FH_c2EcqpLg",
        "colab_type": "code",
        "outputId": "5a5be72a-8eff-4c05-9390-e152cf13a232",
        "colab": {
          "base_uri": "https://localhost:8080/",
          "height": 68
        }
      },
      "source": [
        "test[test['season_holidayed_code'].isnull()]['resort_id'].unique()"
      ],
      "execution_count": 33,
      "outputs": [
        {
          "output_type": "execute_result",
          "data": {
            "text/plain": [
              "array(['49d180ecf56132819571bf39d9b7b342522a2ac6d23c1418d3338251bfe469c8',\n",
              "       '4b227777d4dd1fc61c6f884f48641d02b4d121d3fd328cb08b5531fcacdabf8a'],\n",
              "      dtype=object)"
            ]
          },
          "metadata": {
            "tags": []
          },
          "execution_count": 33
        }
      ]
    },
    {
      "cell_type": "code",
      "metadata": {
        "id": "1Zm8j31TsT54",
        "colab_type": "code",
        "outputId": "c34cfeb3-f666-4f78-afca-1a2a5f54efec",
        "colab": {
          "base_uri": "https://localhost:8080/",
          "height": 68
        }
      },
      "source": [
        "# value counts\n",
        "test[test['season_holidayed_code'].isnull()]['resort_id'].value_counts()\n"
      ],
      "execution_count": 34,
      "outputs": [
        {
          "output_type": "execute_result",
          "data": {
            "text/plain": [
              "49d180ecf56132819571bf39d9b7b342522a2ac6d23c1418d3338251bfe469c8    34\n",
              "4b227777d4dd1fc61c6f884f48641d02b4d121d3fd328cb08b5531fcacdabf8a     1\n",
              "Name: resort_id, dtype: int64"
            ]
          },
          "metadata": {
            "tags": []
          },
          "execution_count": 34
        }
      ]
    },
    {
      "cell_type": "markdown",
      "metadata": {
        "id": "AUWR5PLNsFiB",
        "colab_type": "text"
      },
      "source": [
        "So the resort_id were same in both train and test."
      ]
    },
    {
      "cell_type": "code",
      "metadata": {
        "id": "Oi_PvS3JhKd4",
        "colab_type": "code",
        "colab": {
          "base_uri": "https://localhost:8080/",
          "height": 34
        },
        "outputId": "bfedbe02-f11c-4917-847d-1efb76ac5c8d"
      },
      "source": [
        "print(train.shape,test.shape)"
      ],
      "execution_count": 35,
      "outputs": [
        {
          "output_type": "stream",
          "text": [
            "(341424, 41) (146765, 41)\n"
          ],
          "name": "stdout"
        }
      ]
    },
    {
      "cell_type": "markdown",
      "metadata": {
        "id": "u_ashUofsieq",
        "colab_type": "text"
      },
      "source": [
        "## state_code_residence "
      ]
    },
    {
      "cell_type": "code",
      "metadata": {
        "id": "etttfOk4sCWo",
        "colab_type": "code",
        "outputId": "e392a203-552d-4978-96ee-8c7b7241c21e",
        "colab": {
          "base_uri": "https://localhost:8080/",
          "height": 578
        }
      },
      "source": [
        "train[train['state_code_residence'].isnull()]['resort_id'].unique()"
      ],
      "execution_count": 36,
      "outputs": [
        {
          "output_type": "execute_result",
          "data": {
            "text/plain": [
              "array(['6b86b273ff34fce19d6b804eff5a3f5747ada4eaa22f1d49c01e52ddb7875b4b',\n",
              "       'ef2d127de37b942baad06145e54b0c619a1f22327b2ebbcfbec78f5564afe39d',\n",
              "       'da4ea2a5506f2693eae190d9360a1f31793c98a1adade51d93533a6f520ace1c',\n",
              "       'c75cb66ae28d8ebc6eded002c28a8ba0d06d3a78c6b5cbf9b2ade051f0775ac4',\n",
              "       '0b918943df0962bc7a1824c0555a389347b4febdc7cf9d1254406d80ce44e3f9',\n",
              "       '3e1e967e9b793e908f8eae83c74dba9bcccce6a5535b4b462bd9994537bfe15c',\n",
              "       'ff5a1ae012afa5d4c889c50ad427aaf545d31a4fac04ffc1c4d03d403ba4250a',\n",
              "       'd4735e3a265e16eee03f59718b9b5d03019c07d8b6c51f90da3a666eec13ab35',\n",
              "       'e29c9c180c6279b0b02abd6a1801c7c04082cf486ec027aa13515e4f3884bb6b',\n",
              "       '49d180ecf56132819571bf39d9b7b342522a2ac6d23c1418d3338251bfe469c8',\n",
              "       'b17ef6d19c7a5b1ee83b907c595526dcb1eb06db8227d650d5dda0a9f4ce8cd9',\n",
              "       '4ec9599fc203d176a301536c2e091a19bc852759b255bd6818810a42c5fed14a',\n",
              "       '670671cd97404156226e507973f2ab8330d3022ca96e0c93bdbdb320c41adcaf',\n",
              "       '8722616204217eddb39e7df969e0698aed8e599ba62ed2de1ce49b03ade0fede',\n",
              "       '535fa30d7e25dd8a49f1536779734ec8286108d115da5045d77f3b4185d8f790',\n",
              "       '6208ef0f7750c111548cf90b6ea1d0d0a66f6bff40dbef07cb45ec436263c7d6',\n",
              "       '7f2253d7e228b22a08bda1f09c516f6fead81df6536eb02fa991a34bb38d9be8',\n",
              "       'c6f3ac57944a531490cd39902d0f777715fd005efac9a30622d5f5205e7f6894',\n",
              "       '3fdba35f04dc8c462986c992bcf875546257113072a909c162f7e470e581e278',\n",
              "       '7902699be42c8a8e46fbbb4501726517e86b22c56a189f7625a6da49081b2451',\n",
              "       '39fa9ec190eee7b6f4dff1100d6343e10918d044c75eac8f9e9a2596173f80c9',\n",
              "       '48449a14a4ff7d79bb7a1b6f3d488eba397c36ef25634c111b49baf362511afc',\n",
              "       '9f14025af0065b30e47e23ebb3b491d39ae8ed17d33739e5ff3827ffb3634953',\n",
              "       '4e07408562bedb8b60ce05c1decfe3ad16b72230967de01f640b7e4729b49fce',\n",
              "       'e7f6c011776e8db7cd330b54174fd76f7d0216b612387a5ffcfb81e6f0919683',\n",
              "       '9400f1b21cb527d7fa3d3eabba93557a18ebe7a2ca4e471cfe5e4c5b4ca7f767',\n",
              "       'a68b412c4282555f15546cf6e1fc42893b7e07f271557ceb021821098dd66c1b',\n",
              "       '81b8a03f97e8787c53fe1a86bda042b6f0de9b0ec9c09357e107c99ba4d6948a',\n",
              "       '624b60c58c9d8bfb6ff1886c2fd605d2adeb6ea4da576068201b6c6958ce93f4',\n",
              "       '98a3ab7c340e8a033e7b37b6ef9428751581760af67bbab2b9e05d4964a8874a',\n",
              "       'f5ca38f748a1d6eaf726b8a42fb575c3c71f1864a8143301782de13da2d9202b',\n",
              "       '4b227777d4dd1fc61c6f884f48641d02b4d121d3fd328cb08b5531fcacdabf8a'],\n",
              "      dtype=object)"
            ]
          },
          "metadata": {
            "tags": []
          },
          "execution_count": 36
        }
      ]
    },
    {
      "cell_type": "code",
      "metadata": {
        "id": "31t7RgRXs7ip",
        "colab_type": "code",
        "outputId": "5b285670-3940-4b5b-c011-9cefd6dca026",
        "colab": {
          "base_uri": "https://localhost:8080/",
          "height": 578
        }
      },
      "source": [
        "# value count\n",
        "train[train['state_code_residence'].isnull()]['resort_id'].value_counts()"
      ],
      "execution_count": 37,
      "outputs": [
        {
          "output_type": "execute_result",
          "data": {
            "text/plain": [
              "b17ef6d19c7a5b1ee83b907c595526dcb1eb06db8227d650d5dda0a9f4ce8cd9    475\n",
              "6b86b273ff34fce19d6b804eff5a3f5747ada4eaa22f1d49c01e52ddb7875b4b    432\n",
              "d4735e3a265e16eee03f59718b9b5d03019c07d8b6c51f90da3a666eec13ab35    419\n",
              "49d180ecf56132819571bf39d9b7b342522a2ac6d23c1418d3338251bfe469c8    331\n",
              "6208ef0f7750c111548cf90b6ea1d0d0a66f6bff40dbef07cb45ec436263c7d6    232\n",
              "e7f6c011776e8db7cd330b54174fd76f7d0216b612387a5ffcfb81e6f0919683    230\n",
              "c75cb66ae28d8ebc6eded002c28a8ba0d06d3a78c6b5cbf9b2ade051f0775ac4    206\n",
              "e29c9c180c6279b0b02abd6a1801c7c04082cf486ec027aa13515e4f3884bb6b    200\n",
              "9400f1b21cb527d7fa3d3eabba93557a18ebe7a2ca4e471cfe5e4c5b4ca7f767    190\n",
              "535fa30d7e25dd8a49f1536779734ec8286108d115da5045d77f3b4185d8f790    174\n",
              "c6f3ac57944a531490cd39902d0f777715fd005efac9a30622d5f5205e7f6894    164\n",
              "624b60c58c9d8bfb6ff1886c2fd605d2adeb6ea4da576068201b6c6958ce93f4    159\n",
              "ff5a1ae012afa5d4c889c50ad427aaf545d31a4fac04ffc1c4d03d403ba4250a    147\n",
              "da4ea2a5506f2693eae190d9360a1f31793c98a1adade51d93533a6f520ace1c    140\n",
              "4ec9599fc203d176a301536c2e091a19bc852759b255bd6818810a42c5fed14a    135\n",
              "81b8a03f97e8787c53fe1a86bda042b6f0de9b0ec9c09357e107c99ba4d6948a    130\n",
              "7902699be42c8a8e46fbbb4501726517e86b22c56a189f7625a6da49081b2451    128\n",
              "48449a14a4ff7d79bb7a1b6f3d488eba397c36ef25634c111b49baf362511afc    124\n",
              "9f14025af0065b30e47e23ebb3b491d39ae8ed17d33739e5ff3827ffb3634953    106\n",
              "ef2d127de37b942baad06145e54b0c619a1f22327b2ebbcfbec78f5564afe39d     87\n",
              "3e1e967e9b793e908f8eae83c74dba9bcccce6a5535b4b462bd9994537bfe15c     87\n",
              "0b918943df0962bc7a1824c0555a389347b4febdc7cf9d1254406d80ce44e3f9     64\n",
              "670671cd97404156226e507973f2ab8330d3022ca96e0c93bdbdb320c41adcaf     62\n",
              "4e07408562bedb8b60ce05c1decfe3ad16b72230967de01f640b7e4729b49fce     54\n",
              "39fa9ec190eee7b6f4dff1100d6343e10918d044c75eac8f9e9a2596173f80c9     53\n",
              "a68b412c4282555f15546cf6e1fc42893b7e07f271557ceb021821098dd66c1b     41\n",
              "7f2253d7e228b22a08bda1f09c516f6fead81df6536eb02fa991a34bb38d9be8     41\n",
              "8722616204217eddb39e7df969e0698aed8e599ba62ed2de1ce49b03ade0fede     41\n",
              "f5ca38f748a1d6eaf726b8a42fb575c3c71f1864a8143301782de13da2d9202b     36\n",
              "4b227777d4dd1fc61c6f884f48641d02b4d121d3fd328cb08b5531fcacdabf8a     35\n",
              "3fdba35f04dc8c462986c992bcf875546257113072a909c162f7e470e581e278     26\n",
              "98a3ab7c340e8a033e7b37b6ef9428751581760af67bbab2b9e05d4964a8874a     15\n",
              "Name: resort_id, dtype: int64"
            ]
          },
          "metadata": {
            "tags": []
          },
          "execution_count": 37
        }
      ]
    },
    {
      "cell_type": "code",
      "metadata": {
        "id": "xLO2s40_sowx",
        "colab_type": "code",
        "outputId": "a614e4af-d902-4c45-bb7a-3d3a446488c4",
        "colab": {
          "base_uri": "https://localhost:8080/",
          "height": 578
        }
      },
      "source": [
        "# test\n",
        "test[test['state_code_residence'].isnull()]['resort_id'].unique()"
      ],
      "execution_count": 38,
      "outputs": [
        {
          "output_type": "execute_result",
          "data": {
            "text/plain": [
              "array(['c75cb66ae28d8ebc6eded002c28a8ba0d06d3a78c6b5cbf9b2ade051f0775ac4',\n",
              "       'b17ef6d19c7a5b1ee83b907c595526dcb1eb06db8227d650d5dda0a9f4ce8cd9',\n",
              "       '535fa30d7e25dd8a49f1536779734ec8286108d115da5045d77f3b4185d8f790',\n",
              "       '3fdba35f04dc8c462986c992bcf875546257113072a909c162f7e470e581e278',\n",
              "       '7f2253d7e228b22a08bda1f09c516f6fead81df6536eb02fa991a34bb38d9be8',\n",
              "       'e29c9c180c6279b0b02abd6a1801c7c04082cf486ec027aa13515e4f3884bb6b',\n",
              "       '9f14025af0065b30e47e23ebb3b491d39ae8ed17d33739e5ff3827ffb3634953',\n",
              "       '6208ef0f7750c111548cf90b6ea1d0d0a66f6bff40dbef07cb45ec436263c7d6',\n",
              "       'a68b412c4282555f15546cf6e1fc42893b7e07f271557ceb021821098dd66c1b',\n",
              "       '6b86b273ff34fce19d6b804eff5a3f5747ada4eaa22f1d49c01e52ddb7875b4b',\n",
              "       '81b8a03f97e8787c53fe1a86bda042b6f0de9b0ec9c09357e107c99ba4d6948a',\n",
              "       'ff5a1ae012afa5d4c889c50ad427aaf545d31a4fac04ffc1c4d03d403ba4250a',\n",
              "       'd4735e3a265e16eee03f59718b9b5d03019c07d8b6c51f90da3a666eec13ab35',\n",
              "       '49d180ecf56132819571bf39d9b7b342522a2ac6d23c1418d3338251bfe469c8',\n",
              "       'ef2d127de37b942baad06145e54b0c619a1f22327b2ebbcfbec78f5564afe39d',\n",
              "       '48449a14a4ff7d79bb7a1b6f3d488eba397c36ef25634c111b49baf362511afc',\n",
              "       '0b918943df0962bc7a1824c0555a389347b4febdc7cf9d1254406d80ce44e3f9',\n",
              "       '7902699be42c8a8e46fbbb4501726517e86b22c56a189f7625a6da49081b2451',\n",
              "       '4ec9599fc203d176a301536c2e091a19bc852759b255bd6818810a42c5fed14a',\n",
              "       'c6f3ac57944a531490cd39902d0f777715fd005efac9a30622d5f5205e7f6894',\n",
              "       '624b60c58c9d8bfb6ff1886c2fd605d2adeb6ea4da576068201b6c6958ce93f4',\n",
              "       '9400f1b21cb527d7fa3d3eabba93557a18ebe7a2ca4e471cfe5e4c5b4ca7f767',\n",
              "       'da4ea2a5506f2693eae190d9360a1f31793c98a1adade51d93533a6f520ace1c',\n",
              "       '39fa9ec190eee7b6f4dff1100d6343e10918d044c75eac8f9e9a2596173f80c9',\n",
              "       'e7f6c011776e8db7cd330b54174fd76f7d0216b612387a5ffcfb81e6f0919683',\n",
              "       '670671cd97404156226e507973f2ab8330d3022ca96e0c93bdbdb320c41adcaf',\n",
              "       '4b227777d4dd1fc61c6f884f48641d02b4d121d3fd328cb08b5531fcacdabf8a',\n",
              "       'f5ca38f748a1d6eaf726b8a42fb575c3c71f1864a8143301782de13da2d9202b',\n",
              "       '8722616204217eddb39e7df969e0698aed8e599ba62ed2de1ce49b03ade0fede',\n",
              "       '4e07408562bedb8b60ce05c1decfe3ad16b72230967de01f640b7e4729b49fce',\n",
              "       '3e1e967e9b793e908f8eae83c74dba9bcccce6a5535b4b462bd9994537bfe15c',\n",
              "       '98a3ab7c340e8a033e7b37b6ef9428751581760af67bbab2b9e05d4964a8874a'],\n",
              "      dtype=object)"
            ]
          },
          "metadata": {
            "tags": []
          },
          "execution_count": 38
        }
      ]
    },
    {
      "cell_type": "code",
      "metadata": {
        "id": "ZEdhp1udtDG4",
        "colab_type": "code",
        "outputId": "b34ac6fc-da88-42fc-c0d8-0de258d20244",
        "colab": {
          "base_uri": "https://localhost:8080/",
          "height": 578
        }
      },
      "source": [
        "# value counts\n",
        "test[test['state_code_residence'].isnull()]['resort_id'].value_counts()"
      ],
      "execution_count": 39,
      "outputs": [
        {
          "output_type": "execute_result",
          "data": {
            "text/plain": [
              "b17ef6d19c7a5b1ee83b907c595526dcb1eb06db8227d650d5dda0a9f4ce8cd9    238\n",
              "d4735e3a265e16eee03f59718b9b5d03019c07d8b6c51f90da3a666eec13ab35    216\n",
              "6b86b273ff34fce19d6b804eff5a3f5747ada4eaa22f1d49c01e52ddb7875b4b    166\n",
              "49d180ecf56132819571bf39d9b7b342522a2ac6d23c1418d3338251bfe469c8    162\n",
              "6208ef0f7750c111548cf90b6ea1d0d0a66f6bff40dbef07cb45ec436263c7d6    126\n",
              "e29c9c180c6279b0b02abd6a1801c7c04082cf486ec027aa13515e4f3884bb6b    123\n",
              "e7f6c011776e8db7cd330b54174fd76f7d0216b612387a5ffcfb81e6f0919683    104\n",
              "c75cb66ae28d8ebc6eded002c28a8ba0d06d3a78c6b5cbf9b2ade051f0775ac4     94\n",
              "9400f1b21cb527d7fa3d3eabba93557a18ebe7a2ca4e471cfe5e4c5b4ca7f767     88\n",
              "c6f3ac57944a531490cd39902d0f777715fd005efac9a30622d5f5205e7f6894     86\n",
              "535fa30d7e25dd8a49f1536779734ec8286108d115da5045d77f3b4185d8f790     83\n",
              "ff5a1ae012afa5d4c889c50ad427aaf545d31a4fac04ffc1c4d03d403ba4250a     80\n",
              "48449a14a4ff7d79bb7a1b6f3d488eba397c36ef25634c111b49baf362511afc     66\n",
              "da4ea2a5506f2693eae190d9360a1f31793c98a1adade51d93533a6f520ace1c     62\n",
              "7902699be42c8a8e46fbbb4501726517e86b22c56a189f7625a6da49081b2451     62\n",
              "9f14025af0065b30e47e23ebb3b491d39ae8ed17d33739e5ff3827ffb3634953     61\n",
              "624b60c58c9d8bfb6ff1886c2fd605d2adeb6ea4da576068201b6c6958ce93f4     61\n",
              "81b8a03f97e8787c53fe1a86bda042b6f0de9b0ec9c09357e107c99ba4d6948a     60\n",
              "4ec9599fc203d176a301536c2e091a19bc852759b255bd6818810a42c5fed14a     49\n",
              "3e1e967e9b793e908f8eae83c74dba9bcccce6a5535b4b462bd9994537bfe15c     33\n",
              "ef2d127de37b942baad06145e54b0c619a1f22327b2ebbcfbec78f5564afe39d     31\n",
              "f5ca38f748a1d6eaf726b8a42fb575c3c71f1864a8143301782de13da2d9202b     27\n",
              "7f2253d7e228b22a08bda1f09c516f6fead81df6536eb02fa991a34bb38d9be8     26\n",
              "670671cd97404156226e507973f2ab8330d3022ca96e0c93bdbdb320c41adcaf     26\n",
              "39fa9ec190eee7b6f4dff1100d6343e10918d044c75eac8f9e9a2596173f80c9     23\n",
              "4e07408562bedb8b60ce05c1decfe3ad16b72230967de01f640b7e4729b49fce     22\n",
              "0b918943df0962bc7a1824c0555a389347b4febdc7cf9d1254406d80ce44e3f9     22\n",
              "a68b412c4282555f15546cf6e1fc42893b7e07f271557ceb021821098dd66c1b     21\n",
              "8722616204217eddb39e7df969e0698aed8e599ba62ed2de1ce49b03ade0fede     18\n",
              "4b227777d4dd1fc61c6f884f48641d02b4d121d3fd328cb08b5531fcacdabf8a     10\n",
              "98a3ab7c340e8a033e7b37b6ef9428751581760af67bbab2b9e05d4964a8874a      8\n",
              "3fdba35f04dc8c462986c992bcf875546257113072a909c162f7e470e581e278      6\n",
              "Name: resort_id, dtype: int64"
            ]
          },
          "metadata": {
            "tags": []
          },
          "execution_count": 39
        }
      ]
    },
    {
      "cell_type": "markdown",
      "metadata": {
        "id": "7jDq-a2jEyC3",
        "colab_type": "text"
      },
      "source": [
        "## Lets fill out all these missing values"
      ]
    },
    {
      "cell_type": "code",
      "metadata": {
        "id": "hEZPcKDmEQ9W",
        "colab_type": "code",
        "colab": {
          "base_uri": "https://localhost:8080/",
          "height": 85
        },
        "outputId": "9c637f83-706c-413f-e9ca-7fd288236c5a"
      },
      "source": [
        "missing_resort=train.loc[pd.isnull(train['season_holidayed_code']),'resort_id'].unique()\n",
        "missing_resort"
      ],
      "execution_count": 40,
      "outputs": [
        {
          "output_type": "execute_result",
          "data": {
            "text/plain": [
              "array(['49d180ecf56132819571bf39d9b7b342522a2ac6d23c1418d3338251bfe469c8',\n",
              "       '9400f1b21cb527d7fa3d3eabba93557a18ebe7a2ca4e471cfe5e4c5b4ca7f767',\n",
              "       '4b227777d4dd1fc61c6f884f48641d02b4d121d3fd328cb08b5531fcacdabf8a'],\n",
              "      dtype=object)"
            ]
          },
          "metadata": {
            "tags": []
          },
          "execution_count": 40
        }
      ]
    },
    {
      "cell_type": "code",
      "metadata": {
        "id": "pjZcdZs3Lff0",
        "colab_type": "code",
        "colab": {}
      },
      "source": [
        "missing_resort_data=train[(pd.notnull(train['season_holidayed_code'])) & (train['resort_id'].isin(missing_resort))]"
      ],
      "execution_count": 0,
      "outputs": []
    },
    {
      "cell_type": "code",
      "metadata": {
        "id": "wFfd6GmNLrWm",
        "colab_type": "code",
        "colab": {
          "base_uri": "https://localhost:8080/",
          "height": 85
        },
        "outputId": "96cfbd06-5104-4e59-f5b0-91cae033f63d"
      },
      "source": [
        "missing_resort_data['resort_id'].unique()"
      ],
      "execution_count": 42,
      "outputs": [
        {
          "output_type": "execute_result",
          "data": {
            "text/plain": [
              "array(['49d180ecf56132819571bf39d9b7b342522a2ac6d23c1418d3338251bfe469c8',\n",
              "       '9400f1b21cb527d7fa3d3eabba93557a18ebe7a2ca4e471cfe5e4c5b4ca7f767',\n",
              "       '4b227777d4dd1fc61c6f884f48641d02b4d121d3fd328cb08b5531fcacdabf8a'],\n",
              "      dtype=object)"
            ]
          },
          "metadata": {
            "tags": []
          },
          "execution_count": 42
        }
      ]
    },
    {
      "cell_type": "markdown",
      "metadata": {
        "id": "evZLyfzNL4da",
        "colab_type": "text"
      },
      "source": [
        "\n",
        "### Let us now, use the month,year and resort id to get the missing season_holidayed_code"
      ]
    },
    {
      "cell_type": "code",
      "metadata": {
        "id": "7ajw_qjaLsZ2",
        "colab_type": "code",
        "colab": {}
      },
      "source": [
        "resort_season=missing_resort_data.groupby(['resort_id','checkin_date','season_holidayed_code'])['reservation_id'].count().reset_index()"
      ],
      "execution_count": 0,
      "outputs": []
    },
    {
      "cell_type": "code",
      "metadata": {
        "id": "mgB1gSpCL-gc",
        "colab_type": "code",
        "colab": {
          "base_uri": "https://localhost:8080/",
          "height": 204
        },
        "outputId": "5db6e34d-240a-4a6e-cbe9-73b89ef29d64"
      },
      "source": [
        "resort_season.head()"
      ],
      "execution_count": 44,
      "outputs": [
        {
          "output_type": "execute_result",
          "data": {
            "text/html": [
              "<div>\n",
              "<style scoped>\n",
              "    .dataframe tbody tr th:only-of-type {\n",
              "        vertical-align: middle;\n",
              "    }\n",
              "\n",
              "    .dataframe tbody tr th {\n",
              "        vertical-align: top;\n",
              "    }\n",
              "\n",
              "    .dataframe thead th {\n",
              "        text-align: right;\n",
              "    }\n",
              "</style>\n",
              "<table border=\"1\" class=\"dataframe\">\n",
              "  <thead>\n",
              "    <tr style=\"text-align: right;\">\n",
              "      <th></th>\n",
              "      <th>resort_id</th>\n",
              "      <th>checkin_date</th>\n",
              "      <th>season_holidayed_code</th>\n",
              "      <th>reservation_id</th>\n",
              "    </tr>\n",
              "  </thead>\n",
              "  <tbody>\n",
              "    <tr>\n",
              "      <th>0</th>\n",
              "      <td>49d180ecf56132819571bf39d9b7b342522a2ac6d23c14...</td>\n",
              "      <td>2012-03-08</td>\n",
              "      <td>3.0</td>\n",
              "      <td>1</td>\n",
              "    </tr>\n",
              "    <tr>\n",
              "      <th>1</th>\n",
              "      <td>49d180ecf56132819571bf39d9b7b342522a2ac6d23c14...</td>\n",
              "      <td>2015-01-01</td>\n",
              "      <td>1.0</td>\n",
              "      <td>10</td>\n",
              "    </tr>\n",
              "    <tr>\n",
              "      <th>2</th>\n",
              "      <td>49d180ecf56132819571bf39d9b7b342522a2ac6d23c14...</td>\n",
              "      <td>2015-01-02</td>\n",
              "      <td>1.0</td>\n",
              "      <td>13</td>\n",
              "    </tr>\n",
              "    <tr>\n",
              "      <th>3</th>\n",
              "      <td>49d180ecf56132819571bf39d9b7b342522a2ac6d23c14...</td>\n",
              "      <td>2015-01-03</td>\n",
              "      <td>1.0</td>\n",
              "      <td>6</td>\n",
              "    </tr>\n",
              "    <tr>\n",
              "      <th>4</th>\n",
              "      <td>49d180ecf56132819571bf39d9b7b342522a2ac6d23c14...</td>\n",
              "      <td>2015-01-04</td>\n",
              "      <td>1.0</td>\n",
              "      <td>2</td>\n",
              "    </tr>\n",
              "  </tbody>\n",
              "</table>\n",
              "</div>"
            ],
            "text/plain": [
              "                                           resort_id checkin_date  \\\n",
              "0  49d180ecf56132819571bf39d9b7b342522a2ac6d23c14...   2012-03-08   \n",
              "1  49d180ecf56132819571bf39d9b7b342522a2ac6d23c14...   2015-01-01   \n",
              "2  49d180ecf56132819571bf39d9b7b342522a2ac6d23c14...   2015-01-02   \n",
              "3  49d180ecf56132819571bf39d9b7b342522a2ac6d23c14...   2015-01-03   \n",
              "4  49d180ecf56132819571bf39d9b7b342522a2ac6d23c14...   2015-01-04   \n",
              "\n",
              "   season_holidayed_code  reservation_id  \n",
              "0                    3.0               1  \n",
              "1                    1.0              10  \n",
              "2                    1.0              13  \n",
              "3                    1.0               6  \n",
              "4                    1.0               2  "
            ]
          },
          "metadata": {
            "tags": []
          },
          "execution_count": 44
        }
      ]
    },
    {
      "cell_type": "code",
      "metadata": {
        "id": "5peVtnEIMAsM",
        "colab_type": "code",
        "colab": {
          "base_uri": "https://localhost:8080/",
          "height": 204
        },
        "outputId": "b422daf5-887e-44f8-f060-cb51056d04fa"
      },
      "source": [
        "resort_season.sort_values(by='checkin_date',ascending=False).head()"
      ],
      "execution_count": 45,
      "outputs": [
        {
          "output_type": "execute_result",
          "data": {
            "text/html": [
              "<div>\n",
              "<style scoped>\n",
              "    .dataframe tbody tr th:only-of-type {\n",
              "        vertical-align: middle;\n",
              "    }\n",
              "\n",
              "    .dataframe tbody tr th {\n",
              "        vertical-align: top;\n",
              "    }\n",
              "\n",
              "    .dataframe thead th {\n",
              "        text-align: right;\n",
              "    }\n",
              "</style>\n",
              "<table border=\"1\" class=\"dataframe\">\n",
              "  <thead>\n",
              "    <tr style=\"text-align: right;\">\n",
              "      <th></th>\n",
              "      <th>resort_id</th>\n",
              "      <th>checkin_date</th>\n",
              "      <th>season_holidayed_code</th>\n",
              "      <th>reservation_id</th>\n",
              "    </tr>\n",
              "  </thead>\n",
              "  <tbody>\n",
              "    <tr>\n",
              "      <th>4215</th>\n",
              "      <td>9400f1b21cb527d7fa3d3eabba93557a18ebe7a2ca4e47...</td>\n",
              "      <td>2019-03-01</td>\n",
              "      <td>3.0</td>\n",
              "      <td>2</td>\n",
              "    </tr>\n",
              "    <tr>\n",
              "      <th>4214</th>\n",
              "      <td>9400f1b21cb527d7fa3d3eabba93557a18ebe7a2ca4e47...</td>\n",
              "      <td>2019-03-01</td>\n",
              "      <td>2.0</td>\n",
              "      <td>2</td>\n",
              "    </tr>\n",
              "    <tr>\n",
              "      <th>1586</th>\n",
              "      <td>49d180ecf56132819571bf39d9b7b342522a2ac6d23c14...</td>\n",
              "      <td>2019-03-01</td>\n",
              "      <td>4.0</td>\n",
              "      <td>3</td>\n",
              "    </tr>\n",
              "    <tr>\n",
              "      <th>4213</th>\n",
              "      <td>9400f1b21cb527d7fa3d3eabba93557a18ebe7a2ca4e47...</td>\n",
              "      <td>2019-02-28</td>\n",
              "      <td>3.0</td>\n",
              "      <td>10</td>\n",
              "    </tr>\n",
              "    <tr>\n",
              "      <th>1585</th>\n",
              "      <td>49d180ecf56132819571bf39d9b7b342522a2ac6d23c14...</td>\n",
              "      <td>2019-02-28</td>\n",
              "      <td>4.0</td>\n",
              "      <td>8</td>\n",
              "    </tr>\n",
              "  </tbody>\n",
              "</table>\n",
              "</div>"
            ],
            "text/plain": [
              "                                              resort_id checkin_date  \\\n",
              "4215  9400f1b21cb527d7fa3d3eabba93557a18ebe7a2ca4e47...   2019-03-01   \n",
              "4214  9400f1b21cb527d7fa3d3eabba93557a18ebe7a2ca4e47...   2019-03-01   \n",
              "1586  49d180ecf56132819571bf39d9b7b342522a2ac6d23c14...   2019-03-01   \n",
              "4213  9400f1b21cb527d7fa3d3eabba93557a18ebe7a2ca4e47...   2019-02-28   \n",
              "1585  49d180ecf56132819571bf39d9b7b342522a2ac6d23c14...   2019-02-28   \n",
              "\n",
              "      season_holidayed_code  reservation_id  \n",
              "4215                    3.0               2  \n",
              "4214                    2.0               2  \n",
              "1586                    4.0               3  \n",
              "4213                    3.0              10  \n",
              "1585                    4.0               8  "
            ]
          },
          "metadata": {
            "tags": []
          },
          "execution_count": 45
        }
      ]
    },
    {
      "cell_type": "code",
      "metadata": {
        "id": "IXbuytxxMQJX",
        "colab_type": "code",
        "colab": {
          "base_uri": "https://localhost:8080/",
          "height": 34
        },
        "outputId": "fab00821-21eb-4fe2-97c7-f4cf83e114d1"
      },
      "source": [
        "resort_season.shape"
      ],
      "execution_count": 46,
      "outputs": [
        {
          "output_type": "execute_result",
          "data": {
            "text/plain": [
              "(4216, 4)"
            ]
          },
          "metadata": {
            "tags": []
          },
          "execution_count": 46
        }
      ]
    },
    {
      "cell_type": "code",
      "metadata": {
        "id": "jeoQCfMvMXMM",
        "colab_type": "code",
        "colab": {
          "base_uri": "https://localhost:8080/",
          "height": 85
        },
        "outputId": "995189c6-e8f7-4d31-f071-124e8994fbfc"
      },
      "source": [
        "resort_season['resort_id'].value_counts()"
      ],
      "execution_count": 47,
      "outputs": [
        {
          "output_type": "execute_result",
          "data": {
            "text/plain": [
              "9400f1b21cb527d7fa3d3eabba93557a18ebe7a2ca4e471cfe5e4c5b4ca7f767    1812\n",
              "49d180ecf56132819571bf39d9b7b342522a2ac6d23c1418d3338251bfe469c8    1587\n",
              "4b227777d4dd1fc61c6f884f48641d02b4d121d3fd328cb08b5531fcacdabf8a     817\n",
              "Name: resort_id, dtype: int64"
            ]
          },
          "metadata": {
            "tags": []
          },
          "execution_count": 47
        }
      ]
    },
    {
      "cell_type": "code",
      "metadata": {
        "id": "QSBQHtuSMdoV",
        "colab_type": "code",
        "colab": {}
      },
      "source": [
        "def getSeasonHoliday(resort_id,date):\n",
        "    rows=resort_season.loc[(resort_season['checkin_date']==date) & (resort_season['resort_id']==resort_id)]\n",
        "    if rows.shape[0]>1:\n",
        "        max_reservations=np.max(rows['reservation_id'])\n",
        "        rows=rows[rows['reservation_id']==max_reservations]\n",
        "        return rows['season_holidayed_code'].tolist()[0]\n",
        "    if rows.shape[0]==1:\n",
        "        return rows['season_holidayed_code'].tolist()[0]\n",
        "    else:\n",
        "        return 1 # Only 3 such cases found"
      ],
      "execution_count": 0,
      "outputs": []
    },
    {
      "cell_type": "code",
      "metadata": {
        "id": "0wMFAdn9M5fP",
        "colab_type": "code",
        "colab": {}
      },
      "source": [
        "train['season_holidayed_code_new']=train.apply(lambda row:getSeasonHoliday(row['resort_id'],row['checkin_date']) if pd.isnull(row['season_holidayed_code']) else row['season_holidayed_code'],axis=1)"
      ],
      "execution_count": 0,
      "outputs": []
    },
    {
      "cell_type": "code",
      "metadata": {
        "id": "6DzpWQ76NDoN",
        "colab_type": "code",
        "colab": {
          "base_uri": "https://localhost:8080/",
          "height": 270
        },
        "outputId": "4c9bbcbf-7b5e-409e-b0f3-036b8cba2713"
      },
      "source": [
        "train.head()"
      ],
      "execution_count": 50,
      "outputs": [
        {
          "output_type": "execute_result",
          "data": {
            "text/html": [
              "<div>\n",
              "<style scoped>\n",
              "    .dataframe tbody tr th:only-of-type {\n",
              "        vertical-align: middle;\n",
              "    }\n",
              "\n",
              "    .dataframe tbody tr th {\n",
              "        vertical-align: top;\n",
              "    }\n",
              "\n",
              "    .dataframe thead th {\n",
              "        text-align: right;\n",
              "    }\n",
              "</style>\n",
              "<table border=\"1\" class=\"dataframe\">\n",
              "  <thead>\n",
              "    <tr style=\"text-align: right;\">\n",
              "      <th></th>\n",
              "      <th>Unnamed: 0</th>\n",
              "      <th>reservation_id</th>\n",
              "      <th>booking_date</th>\n",
              "      <th>checkin_date</th>\n",
              "      <th>checkout_date</th>\n",
              "      <th>channel_code</th>\n",
              "      <th>main_product_code</th>\n",
              "      <th>numberofadults</th>\n",
              "      <th>numberofchildren</th>\n",
              "      <th>persontravellingid</th>\n",
              "      <th>...</th>\n",
              "      <th>checkin_date_month</th>\n",
              "      <th>checkin_date_dayofweek</th>\n",
              "      <th>checkin_date_isweekend</th>\n",
              "      <th>checkout_date_year</th>\n",
              "      <th>checkout_date_day</th>\n",
              "      <th>checkout_date_month</th>\n",
              "      <th>checkout_date_dayofweek</th>\n",
              "      <th>checkout_date_isweekend</th>\n",
              "      <th>dataset</th>\n",
              "      <th>season_holidayed_code_new</th>\n",
              "    </tr>\n",
              "  </thead>\n",
              "  <tbody>\n",
              "    <tr>\n",
              "      <th>0</th>\n",
              "      <td>0</td>\n",
              "      <td>07659f3758d8aee27f5a7e2887adeacb67021cb95ada1b...</td>\n",
              "      <td>2018-04-05</td>\n",
              "      <td>2018-04-05</td>\n",
              "      <td>2018-04-06</td>\n",
              "      <td>3</td>\n",
              "      <td>1</td>\n",
              "      <td>2</td>\n",
              "      <td>0</td>\n",
              "      <td>46</td>\n",
              "      <td>...</td>\n",
              "      <td>4</td>\n",
              "      <td>3</td>\n",
              "      <td>0</td>\n",
              "      <td>2018</td>\n",
              "      <td>6</td>\n",
              "      <td>4</td>\n",
              "      <td>4</td>\n",
              "      <td>0</td>\n",
              "      <td>train</td>\n",
              "      <td>2.0</td>\n",
              "    </tr>\n",
              "    <tr>\n",
              "      <th>1</th>\n",
              "      <td>1</td>\n",
              "      <td>03930f033646d073462b35d411616323597715ac4fc398...</td>\n",
              "      <td>2015-01-23</td>\n",
              "      <td>2015-04-11</td>\n",
              "      <td>2015-04-16</td>\n",
              "      <td>1</td>\n",
              "      <td>1</td>\n",
              "      <td>2</td>\n",
              "      <td>0</td>\n",
              "      <td>46</td>\n",
              "      <td>...</td>\n",
              "      <td>4</td>\n",
              "      <td>5</td>\n",
              "      <td>1</td>\n",
              "      <td>2015</td>\n",
              "      <td>16</td>\n",
              "      <td>4</td>\n",
              "      <td>3</td>\n",
              "      <td>0</td>\n",
              "      <td>train</td>\n",
              "      <td>2.0</td>\n",
              "    </tr>\n",
              "    <tr>\n",
              "      <th>2</th>\n",
              "      <td>2</td>\n",
              "      <td>d145a32920e6587ad95bfe299d80c0affa268220535aaf...</td>\n",
              "      <td>2015-01-28</td>\n",
              "      <td>2015-02-01</td>\n",
              "      <td>2015-02-05</td>\n",
              "      <td>1</td>\n",
              "      <td>1</td>\n",
              "      <td>2</td>\n",
              "      <td>0</td>\n",
              "      <td>47</td>\n",
              "      <td>...</td>\n",
              "      <td>2</td>\n",
              "      <td>6</td>\n",
              "      <td>1</td>\n",
              "      <td>2015</td>\n",
              "      <td>5</td>\n",
              "      <td>2</td>\n",
              "      <td>3</td>\n",
              "      <td>0</td>\n",
              "      <td>train</td>\n",
              "      <td>2.0</td>\n",
              "    </tr>\n",
              "    <tr>\n",
              "      <th>3</th>\n",
              "      <td>3</td>\n",
              "      <td>cfd77f44811ed62f25a220b53324cdbafc662a4c9e5f04...</td>\n",
              "      <td>2015-05-02</td>\n",
              "      <td>2015-06-11</td>\n",
              "      <td>2015-06-16</td>\n",
              "      <td>1</td>\n",
              "      <td>1</td>\n",
              "      <td>2</td>\n",
              "      <td>2</td>\n",
              "      <td>46</td>\n",
              "      <td>...</td>\n",
              "      <td>6</td>\n",
              "      <td>3</td>\n",
              "      <td>0</td>\n",
              "      <td>2015</td>\n",
              "      <td>16</td>\n",
              "      <td>6</td>\n",
              "      <td>1</td>\n",
              "      <td>0</td>\n",
              "      <td>train</td>\n",
              "      <td>2.0</td>\n",
              "    </tr>\n",
              "    <tr>\n",
              "      <th>4</th>\n",
              "      <td>4</td>\n",
              "      <td>937cff9e4dcfc2459620153dfc8b9962ac22bea67dfb29...</td>\n",
              "      <td>2015-09-02</td>\n",
              "      <td>2015-12-14</td>\n",
              "      <td>2015-12-19</td>\n",
              "      <td>1</td>\n",
              "      <td>1</td>\n",
              "      <td>2</td>\n",
              "      <td>0</td>\n",
              "      <td>46</td>\n",
              "      <td>...</td>\n",
              "      <td>12</td>\n",
              "      <td>0</td>\n",
              "      <td>0</td>\n",
              "      <td>2015</td>\n",
              "      <td>19</td>\n",
              "      <td>12</td>\n",
              "      <td>5</td>\n",
              "      <td>1</td>\n",
              "      <td>train</td>\n",
              "      <td>2.0</td>\n",
              "    </tr>\n",
              "  </tbody>\n",
              "</table>\n",
              "<p>5 rows × 42 columns</p>\n",
              "</div>"
            ],
            "text/plain": [
              "   Unnamed: 0                                     reservation_id booking_date  \\\n",
              "0           0  07659f3758d8aee27f5a7e2887adeacb67021cb95ada1b...   2018-04-05   \n",
              "1           1  03930f033646d073462b35d411616323597715ac4fc398...   2015-01-23   \n",
              "2           2  d145a32920e6587ad95bfe299d80c0affa268220535aaf...   2015-01-28   \n",
              "3           3  cfd77f44811ed62f25a220b53324cdbafc662a4c9e5f04...   2015-05-02   \n",
              "4           4  937cff9e4dcfc2459620153dfc8b9962ac22bea67dfb29...   2015-09-02   \n",
              "\n",
              "  checkin_date checkout_date  channel_code  main_product_code  numberofadults  \\\n",
              "0   2018-04-05    2018-04-06             3                  1               2   \n",
              "1   2015-04-11    2015-04-16             1                  1               2   \n",
              "2   2015-02-01    2015-02-05             1                  1               2   \n",
              "3   2015-06-11    2015-06-16             1                  1               2   \n",
              "4   2015-12-14    2015-12-19             1                  1               2   \n",
              "\n",
              "   numberofchildren  persontravellingid  ...  checkin_date_month  \\\n",
              "0                 0                  46  ...                   4   \n",
              "1                 0                  46  ...                   4   \n",
              "2                 0                  47  ...                   2   \n",
              "3                 2                  46  ...                   6   \n",
              "4                 0                  46  ...                  12   \n",
              "\n",
              "   checkin_date_dayofweek  checkin_date_isweekend  checkout_date_year  \\\n",
              "0                       3                       0                2018   \n",
              "1                       5                       1                2015   \n",
              "2                       6                       1                2015   \n",
              "3                       3                       0                2015   \n",
              "4                       0                       0                2015   \n",
              "\n",
              "   checkout_date_day  checkout_date_month  checkout_date_dayofweek  \\\n",
              "0                  6                    4                        4   \n",
              "1                 16                    4                        3   \n",
              "2                  5                    2                        3   \n",
              "3                 16                    6                        1   \n",
              "4                 19                   12                        5   \n",
              "\n",
              "   checkout_date_isweekend dataset  season_holidayed_code_new  \n",
              "0                        0   train                        2.0  \n",
              "1                        0   train                        2.0  \n",
              "2                        0   train                        2.0  \n",
              "3                        0   train                        2.0  \n",
              "4                        1   train                        2.0  \n",
              "\n",
              "[5 rows x 42 columns]"
            ]
          },
          "metadata": {
            "tags": []
          },
          "execution_count": 50
        }
      ]
    },
    {
      "cell_type": "code",
      "metadata": {
        "id": "NooznY6cN-IU",
        "colab_type": "code",
        "colab": {
          "base_uri": "https://localhost:8080/",
          "height": 68
        },
        "outputId": "5dd33563-b21a-4b0d-a609-48c052ea8541"
      },
      "source": [
        "train[['season_holidayed_code','season_holidayed_code_new']].isnull().sum()"
      ],
      "execution_count": 51,
      "outputs": [
        {
          "output_type": "execute_result",
          "data": {
            "text/plain": [
              "season_holidayed_code        114\n",
              "season_holidayed_code_new      0\n",
              "dtype: int64"
            ]
          },
          "metadata": {
            "tags": []
          },
          "execution_count": 51
        }
      ]
    },
    {
      "cell_type": "code",
      "metadata": {
        "id": "KrI0MeR8OK70",
        "colab_type": "code",
        "colab": {}
      },
      "source": [
        "test['season_holidayed_code_new']=test.apply(lambda row:getSeasonHoliday(row['resort_id'],row['checkin_date']) if pd.isnull(row['season_holidayed_code']) else row['season_holidayed_code'],axis=1)"
      ],
      "execution_count": 0,
      "outputs": []
    },
    {
      "cell_type": "code",
      "metadata": {
        "id": "doFP77jsOimc",
        "colab_type": "code",
        "colab": {
          "base_uri": "https://localhost:8080/",
          "height": 68
        },
        "outputId": "c0b7dc6c-9628-465f-9e4e-bba770796478"
      },
      "source": [
        "test[['season_holidayed_code','season_holidayed_code_new']].isnull().sum()"
      ],
      "execution_count": 53,
      "outputs": [
        {
          "output_type": "execute_result",
          "data": {
            "text/plain": [
              "season_holidayed_code        35\n",
              "season_holidayed_code_new     0\n",
              "dtype: int64"
            ]
          },
          "metadata": {
            "tags": []
          },
          "execution_count": 53
        }
      ]
    },
    {
      "cell_type": "markdown",
      "metadata": {
        "id": "8XIZyl80Ov-7",
        "colab_type": "text"
      },
      "source": [
        "## Are there particular members for which thew state ciode is missing?"
      ]
    },
    {
      "cell_type": "code",
      "metadata": {
        "id": "ELkeIYfKOoLs",
        "colab_type": "code",
        "colab": {}
      },
      "source": [
        "missing_state_members_train=train.loc[pd.isnull(train['state_code_residence']),'memberid'].unique().tolist()"
      ],
      "execution_count": 0,
      "outputs": []
    },
    {
      "cell_type": "code",
      "metadata": {
        "id": "gGqD5HU0Oo9O",
        "colab_type": "code",
        "colab": {
          "base_uri": "https://localhost:8080/",
          "height": 34
        },
        "outputId": "fa318422-19b9-4b1b-a857-2a272063450c"
      },
      "source": [
        "len(missing_state_members_train)"
      ],
      "execution_count": 55,
      "outputs": [
        {
          "output_type": "execute_result",
          "data": {
            "text/plain": [
              "1772"
            ]
          },
          "metadata": {
            "tags": []
          },
          "execution_count": 55
        }
      ]
    },
    {
      "cell_type": "code",
      "metadata": {
        "id": "AkeewhmNOo6h",
        "colab_type": "code",
        "colab": {}
      },
      "source": [
        "missing_state_members_test=test.loc[pd.isnull(test['state_code_residence']),'memberid'].unique().tolist()"
      ],
      "execution_count": 0,
      "outputs": []
    },
    {
      "cell_type": "code",
      "metadata": {
        "id": "CZPeHN3IOo3v",
        "colab_type": "code",
        "colab": {
          "base_uri": "https://localhost:8080/",
          "height": 173
        },
        "outputId": "669352cb-acc7-4483-a57a-eb62e0266d41"
      },
      "source": [
        "data=pd.concat([train,test])"
      ],
      "execution_count": 57,
      "outputs": [
        {
          "output_type": "stream",
          "text": [
            "/usr/local/lib/python3.6/dist-packages/ipykernel_launcher.py:1: FutureWarning: Sorting because non-concatenation axis is not aligned. A future version\n",
            "of pandas will change to not sort by default.\n",
            "\n",
            "To accept the future behavior, pass 'sort=False'.\n",
            "\n",
            "To retain the current behavior and silence the warning, pass 'sort=True'.\n",
            "\n",
            "  \"\"\"Entry point for launching an IPython kernel.\n"
          ],
          "name": "stderr"
        }
      ]
    },
    {
      "cell_type": "markdown",
      "metadata": {
        "id": "X8L5YhSHPQOw",
        "colab_type": "text"
      },
      "source": [
        "### Add both training data and test data."
      ]
    },
    {
      "cell_type": "code",
      "metadata": {
        "id": "blHb5b5lPK8c",
        "colab_type": "code",
        "colab": {
          "base_uri": "https://localhost:8080/",
          "height": 270
        },
        "outputId": "33dbc57b-a370-4c44-85f5-f7bad0f83983"
      },
      "source": [
        "data.head()"
      ],
      "execution_count": 58,
      "outputs": [
        {
          "output_type": "execute_result",
          "data": {
            "text/html": [
              "<div>\n",
              "<style scoped>\n",
              "    .dataframe tbody tr th:only-of-type {\n",
              "        vertical-align: middle;\n",
              "    }\n",
              "\n",
              "    .dataframe tbody tr th {\n",
              "        vertical-align: top;\n",
              "    }\n",
              "\n",
              "    .dataframe thead th {\n",
              "        text-align: right;\n",
              "    }\n",
              "</style>\n",
              "<table border=\"1\" class=\"dataframe\">\n",
              "  <thead>\n",
              "    <tr style=\"text-align: right;\">\n",
              "      <th></th>\n",
              "      <th>Unnamed: 0</th>\n",
              "      <th>amount_spent_per_room_night_scaled</th>\n",
              "      <th>booking_date</th>\n",
              "      <th>booking_date_day</th>\n",
              "      <th>booking_date_dayofweek</th>\n",
              "      <th>booking_date_isweekend</th>\n",
              "      <th>booking_date_month</th>\n",
              "      <th>booking_date_year</th>\n",
              "      <th>booking_type_code</th>\n",
              "      <th>channel_code</th>\n",
              "      <th>...</th>\n",
              "      <th>resort_id</th>\n",
              "      <th>resort_region_code</th>\n",
              "      <th>resort_type_code</th>\n",
              "      <th>room_type_booked_code</th>\n",
              "      <th>roomnights</th>\n",
              "      <th>season_holidayed_code</th>\n",
              "      <th>season_holidayed_code_new</th>\n",
              "      <th>state_code_residence</th>\n",
              "      <th>state_code_resort</th>\n",
              "      <th>total_pax</th>\n",
              "    </tr>\n",
              "  </thead>\n",
              "  <tbody>\n",
              "    <tr>\n",
              "      <th>0</th>\n",
              "      <td>0</td>\n",
              "      <td>7.706428</td>\n",
              "      <td>2018-04-05</td>\n",
              "      <td>5</td>\n",
              "      <td>3</td>\n",
              "      <td>0</td>\n",
              "      <td>4</td>\n",
              "      <td>2018</td>\n",
              "      <td>1</td>\n",
              "      <td>3</td>\n",
              "      <td>...</td>\n",
              "      <td>4e07408562bedb8b60ce05c1decfe3ad16b72230967de0...</td>\n",
              "      <td>3</td>\n",
              "      <td>3</td>\n",
              "      <td>3</td>\n",
              "      <td>1</td>\n",
              "      <td>2.0</td>\n",
              "      <td>2.0</td>\n",
              "      <td>7.0</td>\n",
              "      <td>3</td>\n",
              "      <td>3</td>\n",
              "    </tr>\n",
              "    <tr>\n",
              "      <th>1</th>\n",
              "      <td>1</td>\n",
              "      <td>6.662563</td>\n",
              "      <td>2015-01-23</td>\n",
              "      <td>23</td>\n",
              "      <td>4</td>\n",
              "      <td>0</td>\n",
              "      <td>1</td>\n",
              "      <td>2015</td>\n",
              "      <td>1</td>\n",
              "      <td>1</td>\n",
              "      <td>...</td>\n",
              "      <td>39fa9ec190eee7b6f4dff1100d6343e10918d044c75eac...</td>\n",
              "      <td>3</td>\n",
              "      <td>3</td>\n",
              "      <td>4</td>\n",
              "      <td>5</td>\n",
              "      <td>2.0</td>\n",
              "      <td>2.0</td>\n",
              "      <td>7.0</td>\n",
              "      <td>5</td>\n",
              "      <td>2</td>\n",
              "    </tr>\n",
              "    <tr>\n",
              "      <th>2</th>\n",
              "      <td>2</td>\n",
              "      <td>7.871602</td>\n",
              "      <td>2015-01-28</td>\n",
              "      <td>28</td>\n",
              "      <td>2</td>\n",
              "      <td>0</td>\n",
              "      <td>1</td>\n",
              "      <td>2015</td>\n",
              "      <td>1</td>\n",
              "      <td>1</td>\n",
              "      <td>...</td>\n",
              "      <td>535fa30d7e25dd8a49f1536779734ec8286108d115da50...</td>\n",
              "      <td>1</td>\n",
              "      <td>5</td>\n",
              "      <td>4</td>\n",
              "      <td>4</td>\n",
              "      <td>2.0</td>\n",
              "      <td>2.0</td>\n",
              "      <td>7.0</td>\n",
              "      <td>1</td>\n",
              "      <td>2</td>\n",
              "    </tr>\n",
              "    <tr>\n",
              "      <th>3</th>\n",
              "      <td>3</td>\n",
              "      <td>5.344943</td>\n",
              "      <td>2015-05-02</td>\n",
              "      <td>2</td>\n",
              "      <td>5</td>\n",
              "      <td>1</td>\n",
              "      <td>5</td>\n",
              "      <td>2015</td>\n",
              "      <td>1</td>\n",
              "      <td>1</td>\n",
              "      <td>...</td>\n",
              "      <td>d4735e3a265e16eee03f59718b9b5d03019c07d8b6c51f...</td>\n",
              "      <td>2</td>\n",
              "      <td>2</td>\n",
              "      <td>3</td>\n",
              "      <td>5</td>\n",
              "      <td>2.0</td>\n",
              "      <td>2.0</td>\n",
              "      <td>7.0</td>\n",
              "      <td>2</td>\n",
              "      <td>2</td>\n",
              "    </tr>\n",
              "    <tr>\n",
              "      <th>4</th>\n",
              "      <td>4</td>\n",
              "      <td>7.059346</td>\n",
              "      <td>2015-09-02</td>\n",
              "      <td>2</td>\n",
              "      <td>2</td>\n",
              "      <td>0</td>\n",
              "      <td>9</td>\n",
              "      <td>2015</td>\n",
              "      <td>1</td>\n",
              "      <td>1</td>\n",
              "      <td>...</td>\n",
              "      <td>d4735e3a265e16eee03f59718b9b5d03019c07d8b6c51f...</td>\n",
              "      <td>2</td>\n",
              "      <td>2</td>\n",
              "      <td>4</td>\n",
              "      <td>5</td>\n",
              "      <td>2.0</td>\n",
              "      <td>2.0</td>\n",
              "      <td>7.0</td>\n",
              "      <td>2</td>\n",
              "      <td>2</td>\n",
              "    </tr>\n",
              "  </tbody>\n",
              "</table>\n",
              "<p>5 rows × 42 columns</p>\n",
              "</div>"
            ],
            "text/plain": [
              "   Unnamed: 0  amount_spent_per_room_night_scaled booking_date  \\\n",
              "0           0                            7.706428   2018-04-05   \n",
              "1           1                            6.662563   2015-01-23   \n",
              "2           2                            7.871602   2015-01-28   \n",
              "3           3                            5.344943   2015-05-02   \n",
              "4           4                            7.059346   2015-09-02   \n",
              "\n",
              "   booking_date_day  booking_date_dayofweek  booking_date_isweekend  \\\n",
              "0                 5                       3                       0   \n",
              "1                23                       4                       0   \n",
              "2                28                       2                       0   \n",
              "3                 2                       5                       1   \n",
              "4                 2                       2                       0   \n",
              "\n",
              "   booking_date_month  booking_date_year  booking_type_code  channel_code  \\\n",
              "0                   4               2018                  1             3   \n",
              "1                   1               2015                  1             1   \n",
              "2                   1               2015                  1             1   \n",
              "3                   5               2015                  1             1   \n",
              "4                   9               2015                  1             1   \n",
              "\n",
              "   ...                                          resort_id  resort_region_code  \\\n",
              "0  ...  4e07408562bedb8b60ce05c1decfe3ad16b72230967de0...                   3   \n",
              "1  ...  39fa9ec190eee7b6f4dff1100d6343e10918d044c75eac...                   3   \n",
              "2  ...  535fa30d7e25dd8a49f1536779734ec8286108d115da50...                   1   \n",
              "3  ...  d4735e3a265e16eee03f59718b9b5d03019c07d8b6c51f...                   2   \n",
              "4  ...  d4735e3a265e16eee03f59718b9b5d03019c07d8b6c51f...                   2   \n",
              "\n",
              "   resort_type_code  room_type_booked_code  roomnights  season_holidayed_code  \\\n",
              "0                 3                      3           1                    2.0   \n",
              "1                 3                      4           5                    2.0   \n",
              "2                 5                      4           4                    2.0   \n",
              "3                 2                      3           5                    2.0   \n",
              "4                 2                      4           5                    2.0   \n",
              "\n",
              "  season_holidayed_code_new  state_code_residence  state_code_resort  \\\n",
              "0                       2.0                   7.0                  3   \n",
              "1                       2.0                   7.0                  5   \n",
              "2                       2.0                   7.0                  1   \n",
              "3                       2.0                   7.0                  2   \n",
              "4                       2.0                   7.0                  2   \n",
              "\n",
              "   total_pax  \n",
              "0          3  \n",
              "1          2  \n",
              "2          2  \n",
              "3          2  \n",
              "4          2  \n",
              "\n",
              "[5 rows x 42 columns]"
            ]
          },
          "metadata": {
            "tags": []
          },
          "execution_count": 58
        }
      ]
    },
    {
      "cell_type": "code",
      "metadata": {
        "id": "dZdCOtaJPMPk",
        "colab_type": "code",
        "colab": {
          "base_uri": "https://localhost:8080/",
          "height": 34
        },
        "outputId": "bc79d713-90b1-4d27-9e48-af26911e4bac"
      },
      "source": [
        "data.shape"
      ],
      "execution_count": 59,
      "outputs": [
        {
          "output_type": "execute_result",
          "data": {
            "text/plain": [
              "(488189, 42)"
            ]
          },
          "metadata": {
            "tags": []
          },
          "execution_count": 59
        }
      ]
    },
    {
      "cell_type": "code",
      "metadata": {
        "id": "F2l7Ln4NPNKr",
        "colab_type": "code",
        "colab": {
          "base_uri": "https://localhost:8080/",
          "height": 272
        },
        "outputId": "9f68ff59-0e6d-45fe-ec29-f58d666e0e3a"
      },
      "source": [
        "data.columns"
      ],
      "execution_count": 60,
      "outputs": [
        {
          "output_type": "execute_result",
          "data": {
            "text/plain": [
              "Index(['Unnamed: 0', 'amount_spent_per_room_night_scaled', 'booking_date',\n",
              "       'booking_date_day', 'booking_date_dayofweek', 'booking_date_isweekend',\n",
              "       'booking_date_month', 'booking_date_year', 'booking_type_code',\n",
              "       'channel_code', 'checkin_date', 'checkin_date_day',\n",
              "       'checkin_date_dayofweek', 'checkin_date_isweekend',\n",
              "       'checkin_date_month', 'checkin_date_year', 'checkout_date',\n",
              "       'checkout_date_day', 'checkout_date_dayofweek',\n",
              "       'checkout_date_isweekend', 'checkout_date_month', 'checkout_date_year',\n",
              "       'cluster_code', 'dataset', 'main_product_code', 'member_age_buckets',\n",
              "       'memberid', 'numberofadults', 'numberofchildren', 'persontravellingid',\n",
              "       'reservation_id', 'reservationstatusid_code', 'resort_id',\n",
              "       'resort_region_code', 'resort_type_code', 'room_type_booked_code',\n",
              "       'roomnights', 'season_holidayed_code', 'season_holidayed_code_new',\n",
              "       'state_code_residence', 'state_code_resort', 'total_pax'],\n",
              "      dtype='object')"
            ]
          },
          "metadata": {
            "tags": []
          },
          "execution_count": 60
        }
      ]
    },
    {
      "cell_type": "code",
      "metadata": {
        "id": "RL7iKoHPPOZU",
        "colab_type": "code",
        "colab": {}
      },
      "source": [
        "state_code_members=data.groupby(['memberid','state_code_residence'])['reservation_id'].count().reset_index()"
      ],
      "execution_count": 0,
      "outputs": []
    },
    {
      "cell_type": "code",
      "metadata": {
        "id": "uy3EuFRvPWYs",
        "colab_type": "code",
        "colab": {
          "base_uri": "https://localhost:8080/",
          "height": 34
        },
        "outputId": "0675bdbf-1e8d-4a06-dff2-4c75059d3ef9"
      },
      "source": [
        "state_code_members.shape"
      ],
      "execution_count": 62,
      "outputs": [
        {
          "output_type": "execute_result",
          "data": {
            "text/plain": [
              "(142231, 3)"
            ]
          },
          "metadata": {
            "tags": []
          },
          "execution_count": 62
        }
      ]
    },
    {
      "cell_type": "code",
      "metadata": {
        "id": "_P5d_ajSPW5g",
        "colab_type": "code",
        "colab": {
          "base_uri": "https://localhost:8080/",
          "height": 34
        },
        "outputId": "b5fc411a-0f16-46ef-d707-889736973fab"
      },
      "source": [
        "train['memberid'].nunique()"
      ],
      "execution_count": 63,
      "outputs": [
        {
          "output_type": "execute_result",
          "data": {
            "text/plain": [
              "101327"
            ]
          },
          "metadata": {
            "tags": []
          },
          "execution_count": 63
        }
      ]
    },
    {
      "cell_type": "code",
      "metadata": {
        "id": "A_fBH8QiPW3A",
        "colab_type": "code",
        "colab": {
          "base_uri": "https://localhost:8080/",
          "height": 663
        },
        "outputId": "d7df3881-22be-41a1-9eba-6ee1510c792a"
      },
      "source": [
        "sorted(train['state_code_residence'].unique().tolist())"
      ],
      "execution_count": 64,
      "outputs": [
        {
          "output_type": "execute_result",
          "data": {
            "text/plain": [
              "[1.0,\n",
              " 2.0,\n",
              " 3.0,\n",
              " 4.0,\n",
              " 5.0,\n",
              " 6.0,\n",
              " 7.0,\n",
              " 8.0,\n",
              " 9.0,\n",
              " 10.0,\n",
              " 13.0,\n",
              " 14.0,\n",
              " nan,\n",
              " 11.0,\n",
              " 12.0,\n",
              " 15.0,\n",
              " 16.0,\n",
              " 18.0,\n",
              " 19.0,\n",
              " 20.0,\n",
              " 21.0,\n",
              " 22.0,\n",
              " 23.0,\n",
              " 24.0,\n",
              " 25.0,\n",
              " 26.0,\n",
              " 27.0,\n",
              " 28.0,\n",
              " 29.0,\n",
              " 30.0,\n",
              " 31.0,\n",
              " 32.0,\n",
              " 33.0,\n",
              " 34.0,\n",
              " 35.0,\n",
              " 36.0,\n",
              " 37.0,\n",
              " 38.0]"
            ]
          },
          "metadata": {
            "tags": []
          },
          "execution_count": 64
        }
      ]
    },
    {
      "cell_type": "markdown",
      "metadata": {
        "id": "JTNSwtZCPsbx",
        "colab_type": "text"
      },
      "source": [
        "We can see that state_residence code 17 is missing. we can replace the missing state_residence code with this number"
      ]
    },
    {
      "cell_type": "code",
      "metadata": {
        "id": "kBpQdyY_PW0E",
        "colab_type": "code",
        "colab": {}
      },
      "source": [
        "train['state_code_residence']=train['state_code_residence'].apply(lambda x:17 if pd.isnull(x) else x)\n"
      ],
      "execution_count": 0,
      "outputs": []
    },
    {
      "cell_type": "code",
      "metadata": {
        "id": "oNkjdO9cPwkL",
        "colab_type": "code",
        "colab": {}
      },
      "source": [
        "test['state_code_residence']=test['state_code_residence'].apply(lambda x:17 if pd.isnull(x) else x)\n"
      ],
      "execution_count": 0,
      "outputs": []
    },
    {
      "cell_type": "markdown",
      "metadata": {
        "id": "2vDlK3AbP4FK",
        "colab_type": "text"
      },
      "source": [
        "##Feature Enginerring\n",
        "- *Number* of days, before checking in bookin was made?"
      ]
    },
    {
      "cell_type": "code",
      "metadata": {
        "id": "Rb7SQnrAPxGg",
        "colab_type": "code",
        "colab": {}
      },
      "source": [
        "def diffbetweenDate(date_column1,date_column2):\n",
        "    delta =  date_column1- date_column2\n",
        "    return delta.days"
      ],
      "execution_count": 0,
      "outputs": []
    },
    {
      "cell_type": "code",
      "metadata": {
        "id": "cK1qfxqePxCW",
        "colab_type": "code",
        "colab": {}
      },
      "source": [
        "train['diff_booking_checkin_days']=train.apply(lambda row:diffbetweenDate(row['checkin_date'],row['booking_date']),axis=1)"
      ],
      "execution_count": 0,
      "outputs": []
    },
    {
      "cell_type": "code",
      "metadata": {
        "id": "_mI09RNqQTLE",
        "colab_type": "code",
        "colab": {}
      },
      "source": [
        "test['diff_booking_checkin_days']=test.apply(lambda row:diffbetweenDate(row['checkin_date'],row['booking_date']),axis=1)"
      ],
      "execution_count": 0,
      "outputs": []
    },
    {
      "cell_type": "code",
      "metadata": {
        "id": "uwJ8NT3gQjGY",
        "colab_type": "code",
        "colab": {
          "base_uri": "https://localhost:8080/",
          "height": 289
        },
        "outputId": "51172892-08eb-4161-c3a4-b51132d37178"
      },
      "source": [
        "train['diff_booking_checkin_days'].unique()"
      ],
      "execution_count": 70,
      "outputs": [
        {
          "output_type": "execute_result",
          "data": {
            "text/plain": [
              "array([    0,    78,     4,    40,   103,    42,    59,     8,   110,\n",
              "          25,    68, -2219,     1,    71,    67,    55,    62,    20,\n",
              "          16,    11,     5,    34,    12,   116,    13, -2210,     9,\n",
              "          24,    49,    51,    85,    43,    23,     3,    56,    29,\n",
              "          26,    18,    88, -2203,    39,   108,   111,   113,   117,\n",
              "         115,    98,   114,    21, -2206, -2204,    94,     6,    70,\n",
              "          73,    17,    19,    15,    99,   102,    44,    22,    48,\n",
              "          76, -2188,    14,     2, -2183,    79,    37,    30, -2178,\n",
              "          53,    63,     7, -2175, -2174,    65, -2172,    47,   119,\n",
              "          97,    93,    91,   104,    81,    31,   112,   120,   107,\n",
              "         122,    72,    95,    50,    96,    10,   106,    27,    87,\n",
              "          84,    89,    33,    64,    60,   118,   121,    80,    66,\n",
              "          41,   101,    35,    57,   105,    75,    77,    92,    90,\n",
              "         100,    28,    46,    86,    36,    54,    83,    45,    82,\n",
              "          74,    32,   109,    52,    38,    58,    69,    61,   123,\n",
              "         124,   125,   126])"
            ]
          },
          "metadata": {
            "tags": []
          },
          "execution_count": 70
        }
      ]
    },
    {
      "cell_type": "code",
      "metadata": {
        "id": "YzNUiK7XQ8J1",
        "colab_type": "code",
        "colab": {
          "base_uri": "https://localhost:8080/",
          "height": 1071
        },
        "outputId": "3eb3f915-92ec-4f96-f089-86cd09248d2b"
      },
      "source": [
        "train['diff_booking_checkin_days'].value_counts()"
      ],
      "execution_count": 71,
      "outputs": [
        {
          "output_type": "execute_result",
          "data": {
            "text/plain": [
              " 15      10109\n",
              " 16       9624\n",
              " 0        8804\n",
              " 17       8668\n",
              " 18       7904\n",
              " 14       7170\n",
              " 19       6834\n",
              " 20       6172\n",
              " 1        6138\n",
              " 13       5845\n",
              " 12       5249\n",
              " 21       5204\n",
              " 11       5016\n",
              " 9        4941\n",
              " 10       4826\n",
              " 22       4760\n",
              " 8        4727\n",
              " 2        4651\n",
              " 3        4210\n",
              " 7        4180\n",
              " 6        4084\n",
              " 23       4081\n",
              " 5        3999\n",
              " 4        3757\n",
              " 24       3730\n",
              " 25       3464\n",
              " 96       3348\n",
              " 93       3263\n",
              " 31       3176\n",
              " 94       3168\n",
              "         ...  \n",
              " 68       1419\n",
              " 63       1419\n",
              " 69       1419\n",
              " 67       1416\n",
              " 79       1406\n",
              " 74       1399\n",
              " 70       1390\n",
              " 65       1384\n",
              " 66       1382\n",
              " 117      1340\n",
              " 118      1261\n",
              " 119      1045\n",
              " 120       675\n",
              " 121       357\n",
              " 122       112\n",
              " 123        38\n",
              " 124        13\n",
              " 125         5\n",
              "-2178        2\n",
              " 126         2\n",
              "-2219        1\n",
              "-2175        1\n",
              "-2183        1\n",
              "-2210        1\n",
              "-2188        1\n",
              "-2174        1\n",
              "-2204        1\n",
              "-2203        1\n",
              "-2206        1\n",
              "-2172        1\n",
              "Name: diff_booking_checkin_days, Length: 138, dtype: int64"
            ]
          },
          "metadata": {
            "tags": []
          },
          "execution_count": 71
        }
      ]
    },
    {
      "cell_type": "code",
      "metadata": {
        "id": "hg56tzmEPw4S",
        "colab_type": "code",
        "colab": {
          "base_uri": "https://localhost:8080/",
          "height": 612
        },
        "outputId": "50889ef5-559c-4657-d530-16b241432e0e"
      },
      "source": [
        "plt.subplots(figsize=(10,10))\n",
        "sns.kdeplot(train['diff_booking_checkin_days'])"
      ],
      "execution_count": 72,
      "outputs": [
        {
          "output_type": "execute_result",
          "data": {
            "text/plain": [
              "<matplotlib.axes._subplots.AxesSubplot at 0x7f0809414588>"
            ]
          },
          "metadata": {
            "tags": []
          },
          "execution_count": 72
        },
        {
          "output_type": "display_data",
          "data": {
            "image/png": "[encoded data removed]",
            "text/plain": [
              "<Figure size 720x720 with 1 Axes>"
            ]
          },
          "metadata": {
            "tags": []
          }
        }
      ]
    },
    {
      "cell_type": "code",
      "metadata": {
        "id": "BDvXvMI_R2aZ",
        "colab_type": "code",
        "colab": {}
      },
      "source": [
        "x=train['diff_booking_checkin_days'].value_counts() >5"
      ],
      "execution_count": 0,
      "outputs": []
    },
    {
      "cell_type": "code",
      "metadata": {
        "id": "wjuJHx6lToV4",
        "colab_type": "code",
        "colab": {}
      },
      "source": [
        "# xm = train['diff_booking_checkin_days'].sort_values().unique()"
      ],
      "execution_count": 0,
      "outputs": []
    },
    {
      "cell_type": "code",
      "metadata": {
        "id": "2pu8Flt8QDQY",
        "colab_type": "code",
        "colab": {
          "base_uri": "https://localhost:8080/",
          "height": 704
        },
        "outputId": "fa7cb760-77b2-4b18-8c61-7d8633f20907"
      },
      "source": [
        "\n",
        "fig,ax=plt.subplots(figsize=(12,12))\n",
        "\n",
        "fig=sns.barplot(train['diff_booking_checkin_days'].unique(),train['diff_booking_checkin_days'].value_counts(),ax=ax)\n",
        "\n",
        "# xm = train['diff_booking_checkin_days'].sort_values().unique()\n",
        "# ax.set_xticklabels(labels=xm, rotation=45, ha='right')"
      ],
      "execution_count": 75,
      "outputs": [
        {
          "output_type": "display_data",
          "data": {
            "image/png": "[encoded data removed]",
            "text/plain": [
              "<Figure size 864x864 with 1 Axes>"
            ]
          },
          "metadata": {
            "tags": []
          }
        }
      ]
    },
    {
      "cell_type": "code",
      "metadata": {
        "id": "uHh63pZnQDNo",
        "colab_type": "code",
        "colab": {
          "base_uri": "https://localhost:8080/",
          "height": 487
        },
        "outputId": "46022d67-1150-4aa7-bc72-1155f07f089f"
      },
      "source": [
        "train[train['diff_booking_checkin_days']<0]"
      ],
      "execution_count": 76,
      "outputs": [
        {
          "output_type": "execute_result",
          "data": {
            "text/html": [
              "<div>\n",
              "<style scoped>\n",
              "    .dataframe tbody tr th:only-of-type {\n",
              "        vertical-align: middle;\n",
              "    }\n",
              "\n",
              "    .dataframe tbody tr th {\n",
              "        vertical-align: top;\n",
              "    }\n",
              "\n",
              "    .dataframe thead th {\n",
              "        text-align: right;\n",
              "    }\n",
              "</style>\n",
              "<table border=\"1\" class=\"dataframe\">\n",
              "  <thead>\n",
              "    <tr style=\"text-align: right;\">\n",
              "      <th></th>\n",
              "      <th>Unnamed: 0</th>\n",
              "      <th>reservation_id</th>\n",
              "      <th>booking_date</th>\n",
              "      <th>checkin_date</th>\n",
              "      <th>checkout_date</th>\n",
              "      <th>channel_code</th>\n",
              "      <th>main_product_code</th>\n",
              "      <th>numberofadults</th>\n",
              "      <th>numberofchildren</th>\n",
              "      <th>persontravellingid</th>\n",
              "      <th>...</th>\n",
              "      <th>checkin_date_dayofweek</th>\n",
              "      <th>checkin_date_isweekend</th>\n",
              "      <th>checkout_date_year</th>\n",
              "      <th>checkout_date_day</th>\n",
              "      <th>checkout_date_month</th>\n",
              "      <th>checkout_date_dayofweek</th>\n",
              "      <th>checkout_date_isweekend</th>\n",
              "      <th>dataset</th>\n",
              "      <th>season_holidayed_code_new</th>\n",
              "      <th>diff_booking_checkin_days</th>\n",
              "    </tr>\n",
              "  </thead>\n",
              "  <tbody>\n",
              "    <tr>\n",
              "      <th>15</th>\n",
              "      <td>15</td>\n",
              "      <td>821a5e5313029b1bbec6ec738a1b34d6d14c82fca97c47...</td>\n",
              "      <td>2018-04-05</td>\n",
              "      <td>2012-03-08</td>\n",
              "      <td>2012-03-11</td>\n",
              "      <td>3</td>\n",
              "      <td>1</td>\n",
              "      <td>2</td>\n",
              "      <td>0</td>\n",
              "      <td>45</td>\n",
              "      <td>...</td>\n",
              "      <td>3</td>\n",
              "      <td>0</td>\n",
              "      <td>2012</td>\n",
              "      <td>11</td>\n",
              "      <td>3</td>\n",
              "      <td>6</td>\n",
              "      <td>1</td>\n",
              "      <td>train</td>\n",
              "      <td>3.0</td>\n",
              "      <td>-2219</td>\n",
              "    </tr>\n",
              "    <tr>\n",
              "      <th>34</th>\n",
              "      <td>34</td>\n",
              "      <td>a80d2fbea1195021307a13a44642855c60f46145dcf29c...</td>\n",
              "      <td>2018-03-31</td>\n",
              "      <td>2012-03-12</td>\n",
              "      <td>2012-03-18</td>\n",
              "      <td>3</td>\n",
              "      <td>2</td>\n",
              "      <td>3</td>\n",
              "      <td>0</td>\n",
              "      <td>45</td>\n",
              "      <td>...</td>\n",
              "      <td>0</td>\n",
              "      <td>0</td>\n",
              "      <td>2012</td>\n",
              "      <td>18</td>\n",
              "      <td>3</td>\n",
              "      <td>6</td>\n",
              "      <td>1</td>\n",
              "      <td>train</td>\n",
              "      <td>2.0</td>\n",
              "      <td>-2210</td>\n",
              "    </tr>\n",
              "    <tr>\n",
              "      <th>60</th>\n",
              "      <td>60</td>\n",
              "      <td>51fe7242f55c79aacb499f957c746445ccb51de3c8d206...</td>\n",
              "      <td>2018-04-05</td>\n",
              "      <td>2012-03-24</td>\n",
              "      <td>2012-03-25</td>\n",
              "      <td>3</td>\n",
              "      <td>2</td>\n",
              "      <td>2</td>\n",
              "      <td>0</td>\n",
              "      <td>45</td>\n",
              "      <td>...</td>\n",
              "      <td>5</td>\n",
              "      <td>1</td>\n",
              "      <td>2012</td>\n",
              "      <td>25</td>\n",
              "      <td>3</td>\n",
              "      <td>6</td>\n",
              "      <td>1</td>\n",
              "      <td>train</td>\n",
              "      <td>2.0</td>\n",
              "      <td>-2203</td>\n",
              "    </tr>\n",
              "    <tr>\n",
              "      <th>79</th>\n",
              "      <td>79</td>\n",
              "      <td>548605b68da37dd5c8555a37650910ce9f110e793b4619...</td>\n",
              "      <td>2018-04-05</td>\n",
              "      <td>2012-03-21</td>\n",
              "      <td>2012-03-25</td>\n",
              "      <td>1</td>\n",
              "      <td>3</td>\n",
              "      <td>3</td>\n",
              "      <td>1</td>\n",
              "      <td>45</td>\n",
              "      <td>...</td>\n",
              "      <td>2</td>\n",
              "      <td>0</td>\n",
              "      <td>2012</td>\n",
              "      <td>25</td>\n",
              "      <td>3</td>\n",
              "      <td>6</td>\n",
              "      <td>1</td>\n",
              "      <td>train</td>\n",
              "      <td>2.0</td>\n",
              "      <td>-2206</td>\n",
              "    </tr>\n",
              "    <tr>\n",
              "      <th>81</th>\n",
              "      <td>81</td>\n",
              "      <td>3ac8796577c899cd0177b6f9638515e4feab55d8a72b8b...</td>\n",
              "      <td>2018-04-05</td>\n",
              "      <td>2012-03-23</td>\n",
              "      <td>2012-03-26</td>\n",
              "      <td>1</td>\n",
              "      <td>3</td>\n",
              "      <td>4</td>\n",
              "      <td>0</td>\n",
              "      <td>45</td>\n",
              "      <td>...</td>\n",
              "      <td>4</td>\n",
              "      <td>0</td>\n",
              "      <td>2012</td>\n",
              "      <td>26</td>\n",
              "      <td>3</td>\n",
              "      <td>0</td>\n",
              "      <td>0</td>\n",
              "      <td>train</td>\n",
              "      <td>2.0</td>\n",
              "      <td>-2204</td>\n",
              "    </tr>\n",
              "    <tr>\n",
              "      <th>113</th>\n",
              "      <td>113</td>\n",
              "      <td>4d73a3304416c4bff78b47c6b307a07568d7286d946e3e...</td>\n",
              "      <td>2018-04-06</td>\n",
              "      <td>2012-04-09</td>\n",
              "      <td>2012-04-11</td>\n",
              "      <td>1</td>\n",
              "      <td>2</td>\n",
              "      <td>3</td>\n",
              "      <td>1</td>\n",
              "      <td>45</td>\n",
              "      <td>...</td>\n",
              "      <td>0</td>\n",
              "      <td>0</td>\n",
              "      <td>2012</td>\n",
              "      <td>11</td>\n",
              "      <td>4</td>\n",
              "      <td>2</td>\n",
              "      <td>0</td>\n",
              "      <td>train</td>\n",
              "      <td>3.0</td>\n",
              "      <td>-2188</td>\n",
              "    </tr>\n",
              "    <tr>\n",
              "      <th>116</th>\n",
              "      <td>116</td>\n",
              "      <td>8e7c40db97f7088ea2249bb9da85b1cfce31c8b537dcfa...</td>\n",
              "      <td>2018-04-06</td>\n",
              "      <td>2012-04-14</td>\n",
              "      <td>2012-04-15</td>\n",
              "      <td>1</td>\n",
              "      <td>3</td>\n",
              "      <td>4</td>\n",
              "      <td>0</td>\n",
              "      <td>45</td>\n",
              "      <td>...</td>\n",
              "      <td>5</td>\n",
              "      <td>1</td>\n",
              "      <td>2012</td>\n",
              "      <td>15</td>\n",
              "      <td>4</td>\n",
              "      <td>6</td>\n",
              "      <td>1</td>\n",
              "      <td>train</td>\n",
              "      <td>3.0</td>\n",
              "      <td>-2183</td>\n",
              "    </tr>\n",
              "    <tr>\n",
              "      <th>129</th>\n",
              "      <td>129</td>\n",
              "      <td>085264337c2af42038a81b4ec4d9e278d9699e5662d404...</td>\n",
              "      <td>2018-04-06</td>\n",
              "      <td>2012-04-19</td>\n",
              "      <td>2012-04-21</td>\n",
              "      <td>3</td>\n",
              "      <td>1</td>\n",
              "      <td>2</td>\n",
              "      <td>0</td>\n",
              "      <td>45</td>\n",
              "      <td>...</td>\n",
              "      <td>3</td>\n",
              "      <td>0</td>\n",
              "      <td>2012</td>\n",
              "      <td>21</td>\n",
              "      <td>4</td>\n",
              "      <td>5</td>\n",
              "      <td>1</td>\n",
              "      <td>train</td>\n",
              "      <td>2.0</td>\n",
              "      <td>-2178</td>\n",
              "    </tr>\n",
              "    <tr>\n",
              "      <th>130</th>\n",
              "      <td>130</td>\n",
              "      <td>7294817a3becfb22650a6e4cf0dd7d2a3a1a3969e1e01d...</td>\n",
              "      <td>2018-04-06</td>\n",
              "      <td>2012-04-19</td>\n",
              "      <td>2012-04-21</td>\n",
              "      <td>3</td>\n",
              "      <td>1</td>\n",
              "      <td>2</td>\n",
              "      <td>0</td>\n",
              "      <td>45</td>\n",
              "      <td>...</td>\n",
              "      <td>3</td>\n",
              "      <td>0</td>\n",
              "      <td>2012</td>\n",
              "      <td>21</td>\n",
              "      <td>4</td>\n",
              "      <td>5</td>\n",
              "      <td>1</td>\n",
              "      <td>train</td>\n",
              "      <td>2.0</td>\n",
              "      <td>-2178</td>\n",
              "    </tr>\n",
              "    <tr>\n",
              "      <th>147</th>\n",
              "      <td>147</td>\n",
              "      <td>e36df886dd8222cad63291754719419d5ff50b44e525e0...</td>\n",
              "      <td>2018-04-06</td>\n",
              "      <td>2012-04-22</td>\n",
              "      <td>2012-04-26</td>\n",
              "      <td>3</td>\n",
              "      <td>3</td>\n",
              "      <td>4</td>\n",
              "      <td>0</td>\n",
              "      <td>45</td>\n",
              "      <td>...</td>\n",
              "      <td>6</td>\n",
              "      <td>1</td>\n",
              "      <td>2012</td>\n",
              "      <td>26</td>\n",
              "      <td>4</td>\n",
              "      <td>3</td>\n",
              "      <td>0</td>\n",
              "      <td>train</td>\n",
              "      <td>3.0</td>\n",
              "      <td>-2175</td>\n",
              "    </tr>\n",
              "    <tr>\n",
              "      <th>149</th>\n",
              "      <td>149</td>\n",
              "      <td>80b094b704c1a918db3def02d1a3cf6f4cc77075b92574...</td>\n",
              "      <td>2018-04-06</td>\n",
              "      <td>2012-04-23</td>\n",
              "      <td>2012-04-27</td>\n",
              "      <td>3</td>\n",
              "      <td>2</td>\n",
              "      <td>2</td>\n",
              "      <td>0</td>\n",
              "      <td>45</td>\n",
              "      <td>...</td>\n",
              "      <td>0</td>\n",
              "      <td>0</td>\n",
              "      <td>2012</td>\n",
              "      <td>27</td>\n",
              "      <td>4</td>\n",
              "      <td>4</td>\n",
              "      <td>0</td>\n",
              "      <td>train</td>\n",
              "      <td>3.0</td>\n",
              "      <td>-2174</td>\n",
              "    </tr>\n",
              "    <tr>\n",
              "      <th>155</th>\n",
              "      <td>155</td>\n",
              "      <td>c9af19086d5994dd913968947f0be7b5b967be03a2e37a...</td>\n",
              "      <td>2018-04-06</td>\n",
              "      <td>2012-04-25</td>\n",
              "      <td>2012-04-27</td>\n",
              "      <td>3</td>\n",
              "      <td>2</td>\n",
              "      <td>2</td>\n",
              "      <td>0</td>\n",
              "      <td>46</td>\n",
              "      <td>...</td>\n",
              "      <td>2</td>\n",
              "      <td>0</td>\n",
              "      <td>2012</td>\n",
              "      <td>27</td>\n",
              "      <td>4</td>\n",
              "      <td>4</td>\n",
              "      <td>0</td>\n",
              "      <td>train</td>\n",
              "      <td>2.0</td>\n",
              "      <td>-2172</td>\n",
              "    </tr>\n",
              "  </tbody>\n",
              "</table>\n",
              "<p>12 rows × 43 columns</p>\n",
              "</div>"
            ],
            "text/plain": [
              "     Unnamed: 0                                     reservation_id  \\\n",
              "15           15  821a5e5313029b1bbec6ec738a1b34d6d14c82fca97c47...   \n",
              "34           34  a80d2fbea1195021307a13a44642855c60f46145dcf29c...   \n",
              "60           60  51fe7242f55c79aacb499f957c746445ccb51de3c8d206...   \n",
              "79           79  548605b68da37dd5c8555a37650910ce9f110e793b4619...   \n",
              "81           81  3ac8796577c899cd0177b6f9638515e4feab55d8a72b8b...   \n",
              "113         113  4d73a3304416c4bff78b47c6b307a07568d7286d946e3e...   \n",
              "116         116  8e7c40db97f7088ea2249bb9da85b1cfce31c8b537dcfa...   \n",
              "129         129  085264337c2af42038a81b4ec4d9e278d9699e5662d404...   \n",
              "130         130  7294817a3becfb22650a6e4cf0dd7d2a3a1a3969e1e01d...   \n",
              "147         147  e36df886dd8222cad63291754719419d5ff50b44e525e0...   \n",
              "149         149  80b094b704c1a918db3def02d1a3cf6f4cc77075b92574...   \n",
              "155         155  c9af19086d5994dd913968947f0be7b5b967be03a2e37a...   \n",
              "\n",
              "    booking_date checkin_date checkout_date  channel_code  main_product_code  \\\n",
              "15    2018-04-05   2012-03-08    2012-03-11             3                  1   \n",
              "34    2018-03-31   2012-03-12    2012-03-18             3                  2   \n",
              "60    2018-04-05   2012-03-24    2012-03-25             3                  2   \n",
              "79    2018-04-05   2012-03-21    2012-03-25             1                  3   \n",
              "81    2018-04-05   2012-03-23    2012-03-26             1                  3   \n",
              "113   2018-04-06   2012-04-09    2012-04-11             1                  2   \n",
              "116   2018-04-06   2012-04-14    2012-04-15             1                  3   \n",
              "129   2018-04-06   2012-04-19    2012-04-21             3                  1   \n",
              "130   2018-04-06   2012-04-19    2012-04-21             3                  1   \n",
              "147   2018-04-06   2012-04-22    2012-04-26             3                  3   \n",
              "149   2018-04-06   2012-04-23    2012-04-27             3                  2   \n",
              "155   2018-04-06   2012-04-25    2012-04-27             3                  2   \n",
              "\n",
              "     numberofadults  numberofchildren  persontravellingid  ...  \\\n",
              "15                2                 0                  45  ...   \n",
              "34                3                 0                  45  ...   \n",
              "60                2                 0                  45  ...   \n",
              "79                3                 1                  45  ...   \n",
              "81                4                 0                  45  ...   \n",
              "113               3                 1                  45  ...   \n",
              "116               4                 0                  45  ...   \n",
              "129               2                 0                  45  ...   \n",
              "130               2                 0                  45  ...   \n",
              "147               4                 0                  45  ...   \n",
              "149               2                 0                  45  ...   \n",
              "155               2                 0                  46  ...   \n",
              "\n",
              "     checkin_date_dayofweek  checkin_date_isweekend  checkout_date_year  \\\n",
              "15                        3                       0                2012   \n",
              "34                        0                       0                2012   \n",
              "60                        5                       1                2012   \n",
              "79                        2                       0                2012   \n",
              "81                        4                       0                2012   \n",
              "113                       0                       0                2012   \n",
              "116                       5                       1                2012   \n",
              "129                       3                       0                2012   \n",
              "130                       3                       0                2012   \n",
              "147                       6                       1                2012   \n",
              "149                       0                       0                2012   \n",
              "155                       2                       0                2012   \n",
              "\n",
              "     checkout_date_day  checkout_date_month  checkout_date_dayofweek  \\\n",
              "15                  11                    3                        6   \n",
              "34                  18                    3                        6   \n",
              "60                  25                    3                        6   \n",
              "79                  25                    3                        6   \n",
              "81                  26                    3                        0   \n",
              "113                 11                    4                        2   \n",
              "116                 15                    4                        6   \n",
              "129                 21                    4                        5   \n",
              "130                 21                    4                        5   \n",
              "147                 26                    4                        3   \n",
              "149                 27                    4                        4   \n",
              "155                 27                    4                        4   \n",
              "\n",
              "     checkout_date_isweekend  dataset season_holidayed_code_new  \\\n",
              "15                         1    train                       3.0   \n",
              "34                         1    train                       2.0   \n",
              "60                         1    train                       2.0   \n",
              "79                         1    train                       2.0   \n",
              "81                         0    train                       2.0   \n",
              "113                        0    train                       3.0   \n",
              "116                        1    train                       3.0   \n",
              "129                        1    train                       2.0   \n",
              "130                        1    train                       2.0   \n",
              "147                        0    train                       3.0   \n",
              "149                        0    train                       3.0   \n",
              "155                        0    train                       2.0   \n",
              "\n",
              "     diff_booking_checkin_days  \n",
              "15                       -2219  \n",
              "34                       -2210  \n",
              "60                       -2203  \n",
              "79                       -2206  \n",
              "81                       -2204  \n",
              "113                      -2188  \n",
              "116                      -2183  \n",
              "129                      -2178  \n",
              "130                      -2178  \n",
              "147                      -2175  \n",
              "149                      -2174  \n",
              "155                      -2172  \n",
              "\n",
              "[12 rows x 43 columns]"
            ]
          },
          "metadata": {
            "tags": []
          },
          "execution_count": 76
        }
      ]
    },
    {
      "cell_type": "code",
      "metadata": {
        "id": "Cu-QdBB1QDCW",
        "colab_type": "code",
        "colab": {
          "base_uri": "https://localhost:8080/",
          "height": 177
        },
        "outputId": "1a7f142d-628c-4114-9a41-4971693988cc"
      },
      "source": [
        "test[test['diff_booking_checkin_days']<0]"
      ],
      "execution_count": 77,
      "outputs": [
        {
          "output_type": "execute_result",
          "data": {
            "text/html": [
              "<div>\n",
              "<style scoped>\n",
              "    .dataframe tbody tr th:only-of-type {\n",
              "        vertical-align: middle;\n",
              "    }\n",
              "\n",
              "    .dataframe tbody tr th {\n",
              "        vertical-align: top;\n",
              "    }\n",
              "\n",
              "    .dataframe thead th {\n",
              "        text-align: right;\n",
              "    }\n",
              "</style>\n",
              "<table border=\"1\" class=\"dataframe\">\n",
              "  <thead>\n",
              "    <tr style=\"text-align: right;\">\n",
              "      <th></th>\n",
              "      <th>Unnamed: 0</th>\n",
              "      <th>reservation_id</th>\n",
              "      <th>booking_date</th>\n",
              "      <th>checkin_date</th>\n",
              "      <th>checkout_date</th>\n",
              "      <th>channel_code</th>\n",
              "      <th>main_product_code</th>\n",
              "      <th>numberofadults</th>\n",
              "      <th>numberofchildren</th>\n",
              "      <th>persontravellingid</th>\n",
              "      <th>...</th>\n",
              "      <th>checkin_date_isweekend</th>\n",
              "      <th>checkout_date_year</th>\n",
              "      <th>checkout_date_day</th>\n",
              "      <th>checkout_date_month</th>\n",
              "      <th>checkout_date_dayofweek</th>\n",
              "      <th>checkout_date_isweekend</th>\n",
              "      <th>amount_spent_per_room_night_scaled</th>\n",
              "      <th>dataset</th>\n",
              "      <th>season_holidayed_code_new</th>\n",
              "      <th>diff_booking_checkin_days</th>\n",
              "    </tr>\n",
              "  </thead>\n",
              "  <tbody>\n",
              "    <tr>\n",
              "      <th>41</th>\n",
              "      <td>41</td>\n",
              "      <td>6ec2dd92d278aa97f8ab095ac0c0d18a7e9f18753c51c7...</td>\n",
              "      <td>2018-04-06</td>\n",
              "      <td>2012-04-20</td>\n",
              "      <td>2012-04-24</td>\n",
              "      <td>3</td>\n",
              "      <td>3</td>\n",
              "      <td>2</td>\n",
              "      <td>0</td>\n",
              "      <td>4752</td>\n",
              "      <td>...</td>\n",
              "      <td>0</td>\n",
              "      <td>2012</td>\n",
              "      <td>24</td>\n",
              "      <td>4</td>\n",
              "      <td>1</td>\n",
              "      <td>0</td>\n",
              "      <td>0</td>\n",
              "      <td>test</td>\n",
              "      <td>3.0</td>\n",
              "      <td>-2177</td>\n",
              "    </tr>\n",
              "    <tr>\n",
              "      <th>57</th>\n",
              "      <td>57</td>\n",
              "      <td>54bf09a310761d2f874666557e3706012d85a47b14d0b8...</td>\n",
              "      <td>2018-04-06</td>\n",
              "      <td>2012-04-28</td>\n",
              "      <td>2012-05-01</td>\n",
              "      <td>3</td>\n",
              "      <td>1</td>\n",
              "      <td>3</td>\n",
              "      <td>0</td>\n",
              "      <td>45</td>\n",
              "      <td>...</td>\n",
              "      <td>1</td>\n",
              "      <td>2012</td>\n",
              "      <td>1</td>\n",
              "      <td>5</td>\n",
              "      <td>1</td>\n",
              "      <td>0</td>\n",
              "      <td>0</td>\n",
              "      <td>test</td>\n",
              "      <td>2.0</td>\n",
              "      <td>-2169</td>\n",
              "    </tr>\n",
              "  </tbody>\n",
              "</table>\n",
              "<p>2 rows × 43 columns</p>\n",
              "</div>"
            ],
            "text/plain": [
              "    Unnamed: 0                                     reservation_id  \\\n",
              "41          41  6ec2dd92d278aa97f8ab095ac0c0d18a7e9f18753c51c7...   \n",
              "57          57  54bf09a310761d2f874666557e3706012d85a47b14d0b8...   \n",
              "\n",
              "   booking_date checkin_date checkout_date  channel_code  main_product_code  \\\n",
              "41   2018-04-06   2012-04-20    2012-04-24             3                  3   \n",
              "57   2018-04-06   2012-04-28    2012-05-01             3                  1   \n",
              "\n",
              "    numberofadults  numberofchildren  persontravellingid  ...  \\\n",
              "41               2                 0                4752  ...   \n",
              "57               3                 0                  45  ...   \n",
              "\n",
              "    checkin_date_isweekend  checkout_date_year  checkout_date_day  \\\n",
              "41                       0                2012                 24   \n",
              "57                       1                2012                  1   \n",
              "\n",
              "    checkout_date_month  checkout_date_dayofweek  checkout_date_isweekend  \\\n",
              "41                    4                        1                        0   \n",
              "57                    5                        1                        0   \n",
              "\n",
              "    amount_spent_per_room_night_scaled  dataset season_holidayed_code_new  \\\n",
              "41                                   0     test                       3.0   \n",
              "57                                   0     test                       2.0   \n",
              "\n",
              "    diff_booking_checkin_days  \n",
              "41                      -2177  \n",
              "57                      -2169  \n",
              "\n",
              "[2 rows x 43 columns]"
            ]
          },
          "metadata": {
            "tags": []
          },
          "execution_count": 77
        }
      ]
    },
    {
      "cell_type": "markdown",
      "metadata": {
        "id": "dTTiYxHMUsot",
        "colab_type": "text"
      },
      "source": [
        "There are totally 14 rows, where the booking dat is much later than the check in data. In such cases, we can create a new column to indicate this anamoly and make the booking fate same as the booking date - in the 2nd iteration"
      ]
    },
    {
      "cell_type": "code",
      "metadata": {
        "id": "elNEuHKvULnD",
        "colab_type": "code",
        "colab": {}
      },
      "source": [
        "train['days_of_stay']=train.apply(lambda row:diffbetweenDate(row['checkout_date'],row['checkin_date']),axis=1)"
      ],
      "execution_count": 0,
      "outputs": []
    },
    {
      "cell_type": "code",
      "metadata": {
        "id": "R3uZYwpwUwJm",
        "colab_type": "code",
        "colab": {}
      },
      "source": [
        "test['days_of_stay']=test.apply(lambda row:diffbetweenDate(row['checkout_date'],row['checkin_date']),axis=1)\n"
      ],
      "execution_count": 0,
      "outputs": []
    },
    {
      "cell_type": "code",
      "metadata": {
        "id": "LWlbNr-dU2C0",
        "colab_type": "code",
        "colab": {
          "base_uri": "https://localhost:8080/",
          "height": 34
        },
        "outputId": "2c668111-93a5-4923-af16-a7c9fbaa55d3"
      },
      "source": [
        "train.shape\n"
      ],
      "execution_count": 80,
      "outputs": [
        {
          "output_type": "execute_result",
          "data": {
            "text/plain": [
              "(341424, 44)"
            ]
          },
          "metadata": {
            "tags": []
          },
          "execution_count": 80
        }
      ]
    },
    {
      "cell_type": "code",
      "metadata": {
        "id": "4Z2zCJiKU2AU",
        "colab_type": "code",
        "colab": {
          "base_uri": "https://localhost:8080/",
          "height": 173
        },
        "outputId": "41c2a280-7f77-4d93-f934-098b5ec4da55"
      },
      "source": [
        "data=pd.concat([train,test])"
      ],
      "execution_count": 81,
      "outputs": [
        {
          "output_type": "stream",
          "text": [
            "/usr/local/lib/python3.6/dist-packages/ipykernel_launcher.py:1: FutureWarning: Sorting because non-concatenation axis is not aligned. A future version\n",
            "of pandas will change to not sort by default.\n",
            "\n",
            "To accept the future behavior, pass 'sort=False'.\n",
            "\n",
            "To retain the current behavior and silence the warning, pass 'sort=True'.\n",
            "\n",
            "  \"\"\"Entry point for launching an IPython kernel.\n"
          ],
          "name": "stderr"
        }
      ]
    },
    {
      "cell_type": "code",
      "metadata": {
        "id": "eHo87EbYU14k",
        "colab_type": "code",
        "colab": {
          "base_uri": "https://localhost:8080/",
          "height": 270
        },
        "outputId": "6f3004a8-c6eb-4993-e995-95a30de5824d"
      },
      "source": [
        "data.head()"
      ],
      "execution_count": 82,
      "outputs": [
        {
          "output_type": "execute_result",
          "data": {
            "text/html": [
              "<div>\n",
              "<style scoped>\n",
              "    .dataframe tbody tr th:only-of-type {\n",
              "        vertical-align: middle;\n",
              "    }\n",
              "\n",
              "    .dataframe tbody tr th {\n",
              "        vertical-align: top;\n",
              "    }\n",
              "\n",
              "    .dataframe thead th {\n",
              "        text-align: right;\n",
              "    }\n",
              "</style>\n",
              "<table border=\"1\" class=\"dataframe\">\n",
              "  <thead>\n",
              "    <tr style=\"text-align: right;\">\n",
              "      <th></th>\n",
              "      <th>Unnamed: 0</th>\n",
              "      <th>amount_spent_per_room_night_scaled</th>\n",
              "      <th>booking_date</th>\n",
              "      <th>booking_date_day</th>\n",
              "      <th>booking_date_dayofweek</th>\n",
              "      <th>booking_date_isweekend</th>\n",
              "      <th>booking_date_month</th>\n",
              "      <th>booking_date_year</th>\n",
              "      <th>booking_type_code</th>\n",
              "      <th>channel_code</th>\n",
              "      <th>...</th>\n",
              "      <th>resort_id</th>\n",
              "      <th>resort_region_code</th>\n",
              "      <th>resort_type_code</th>\n",
              "      <th>room_type_booked_code</th>\n",
              "      <th>roomnights</th>\n",
              "      <th>season_holidayed_code</th>\n",
              "      <th>season_holidayed_code_new</th>\n",
              "      <th>state_code_residence</th>\n",
              "      <th>state_code_resort</th>\n",
              "      <th>total_pax</th>\n",
              "    </tr>\n",
              "  </thead>\n",
              "  <tbody>\n",
              "    <tr>\n",
              "      <th>0</th>\n",
              "      <td>0</td>\n",
              "      <td>7.706428</td>\n",
              "      <td>2018-04-05</td>\n",
              "      <td>5</td>\n",
              "      <td>3</td>\n",
              "      <td>0</td>\n",
              "      <td>4</td>\n",
              "      <td>2018</td>\n",
              "      <td>1</td>\n",
              "      <td>3</td>\n",
              "      <td>...</td>\n",
              "      <td>4e07408562bedb8b60ce05c1decfe3ad16b72230967de0...</td>\n",
              "      <td>3</td>\n",
              "      <td>3</td>\n",
              "      <td>3</td>\n",
              "      <td>1</td>\n",
              "      <td>2.0</td>\n",
              "      <td>2.0</td>\n",
              "      <td>7.0</td>\n",
              "      <td>3</td>\n",
              "      <td>3</td>\n",
              "    </tr>\n",
              "    <tr>\n",
              "      <th>1</th>\n",
              "      <td>1</td>\n",
              "      <td>6.662563</td>\n",
              "      <td>2015-01-23</td>\n",
              "      <td>23</td>\n",
              "      <td>4</td>\n",
              "      <td>0</td>\n",
              "      <td>1</td>\n",
              "      <td>2015</td>\n",
              "      <td>1</td>\n",
              "      <td>1</td>\n",
              "      <td>...</td>\n",
              "      <td>39fa9ec190eee7b6f4dff1100d6343e10918d044c75eac...</td>\n",
              "      <td>3</td>\n",
              "      <td>3</td>\n",
              "      <td>4</td>\n",
              "      <td>5</td>\n",
              "      <td>2.0</td>\n",
              "      <td>2.0</td>\n",
              "      <td>7.0</td>\n",
              "      <td>5</td>\n",
              "      <td>2</td>\n",
              "    </tr>\n",
              "    <tr>\n",
              "      <th>2</th>\n",
              "      <td>2</td>\n",
              "      <td>7.871602</td>\n",
              "      <td>2015-01-28</td>\n",
              "      <td>28</td>\n",
              "      <td>2</td>\n",
              "      <td>0</td>\n",
              "      <td>1</td>\n",
              "      <td>2015</td>\n",
              "      <td>1</td>\n",
              "      <td>1</td>\n",
              "      <td>...</td>\n",
              "      <td>535fa30d7e25dd8a49f1536779734ec8286108d115da50...</td>\n",
              "      <td>1</td>\n",
              "      <td>5</td>\n",
              "      <td>4</td>\n",
              "      <td>4</td>\n",
              "      <td>2.0</td>\n",
              "      <td>2.0</td>\n",
              "      <td>7.0</td>\n",
              "      <td>1</td>\n",
              "      <td>2</td>\n",
              "    </tr>\n",
              "    <tr>\n",
              "      <th>3</th>\n",
              "      <td>3</td>\n",
              "      <td>5.344943</td>\n",
              "      <td>2015-05-02</td>\n",
              "      <td>2</td>\n",
              "      <td>5</td>\n",
              "      <td>1</td>\n",
              "      <td>5</td>\n",
              "      <td>2015</td>\n",
              "      <td>1</td>\n",
              "      <td>1</td>\n",
              "      <td>...</td>\n",
              "      <td>d4735e3a265e16eee03f59718b9b5d03019c07d8b6c51f...</td>\n",
              "      <td>2</td>\n",
              "      <td>2</td>\n",
              "      <td>3</td>\n",
              "      <td>5</td>\n",
              "      <td>2.0</td>\n",
              "      <td>2.0</td>\n",
              "      <td>7.0</td>\n",
              "      <td>2</td>\n",
              "      <td>2</td>\n",
              "    </tr>\n",
              "    <tr>\n",
              "      <th>4</th>\n",
              "      <td>4</td>\n",
              "      <td>7.059346</td>\n",
              "      <td>2015-09-02</td>\n",
              "      <td>2</td>\n",
              "      <td>2</td>\n",
              "      <td>0</td>\n",
              "      <td>9</td>\n",
              "      <td>2015</td>\n",
              "      <td>1</td>\n",
              "      <td>1</td>\n",
              "      <td>...</td>\n",
              "      <td>d4735e3a265e16eee03f59718b9b5d03019c07d8b6c51f...</td>\n",
              "      <td>2</td>\n",
              "      <td>2</td>\n",
              "      <td>4</td>\n",
              "      <td>5</td>\n",
              "      <td>2.0</td>\n",
              "      <td>2.0</td>\n",
              "      <td>7.0</td>\n",
              "      <td>2</td>\n",
              "      <td>2</td>\n",
              "    </tr>\n",
              "  </tbody>\n",
              "</table>\n",
              "<p>5 rows × 44 columns</p>\n",
              "</div>"
            ],
            "text/plain": [
              "   Unnamed: 0  amount_spent_per_room_night_scaled booking_date  \\\n",
              "0           0                            7.706428   2018-04-05   \n",
              "1           1                            6.662563   2015-01-23   \n",
              "2           2                            7.871602   2015-01-28   \n",
              "3           3                            5.344943   2015-05-02   \n",
              "4           4                            7.059346   2015-09-02   \n",
              "\n",
              "   booking_date_day  booking_date_dayofweek  booking_date_isweekend  \\\n",
              "0                 5                       3                       0   \n",
              "1                23                       4                       0   \n",
              "2                28                       2                       0   \n",
              "3                 2                       5                       1   \n",
              "4                 2                       2                       0   \n",
              "\n",
              "   booking_date_month  booking_date_year  booking_type_code  channel_code  \\\n",
              "0                   4               2018                  1             3   \n",
              "1                   1               2015                  1             1   \n",
              "2                   1               2015                  1             1   \n",
              "3                   5               2015                  1             1   \n",
              "4                   9               2015                  1             1   \n",
              "\n",
              "   ...                                          resort_id  resort_region_code  \\\n",
              "0  ...  4e07408562bedb8b60ce05c1decfe3ad16b72230967de0...                   3   \n",
              "1  ...  39fa9ec190eee7b6f4dff1100d6343e10918d044c75eac...                   3   \n",
              "2  ...  535fa30d7e25dd8a49f1536779734ec8286108d115da50...                   1   \n",
              "3  ...  d4735e3a265e16eee03f59718b9b5d03019c07d8b6c51f...                   2   \n",
              "4  ...  d4735e3a265e16eee03f59718b9b5d03019c07d8b6c51f...                   2   \n",
              "\n",
              "   resort_type_code  room_type_booked_code  roomnights  season_holidayed_code  \\\n",
              "0                 3                      3           1                    2.0   \n",
              "1                 3                      4           5                    2.0   \n",
              "2                 5                      4           4                    2.0   \n",
              "3                 2                      3           5                    2.0   \n",
              "4                 2                      4           5                    2.0   \n",
              "\n",
              "  season_holidayed_code_new  state_code_residence  state_code_resort  \\\n",
              "0                       2.0                   7.0                  3   \n",
              "1                       2.0                   7.0                  5   \n",
              "2                       2.0                   7.0                  1   \n",
              "3                       2.0                   7.0                  2   \n",
              "4                       2.0                   7.0                  2   \n",
              "\n",
              "   total_pax  \n",
              "0          3  \n",
              "1          2  \n",
              "2          2  \n",
              "3          2  \n",
              "4          2  \n",
              "\n",
              "[5 rows x 44 columns]"
            ]
          },
          "metadata": {
            "tags": []
          },
          "execution_count": 82
        }
      ]
    },
    {
      "cell_type": "code",
      "metadata": {
        "id": "C-JfNU2HU12z",
        "colab_type": "code",
        "colab": {
          "base_uri": "https://localhost:8080/",
          "height": 34
        },
        "outputId": "26b176e0-2927-4540-94dc-e4538ca8a8ca"
      },
      "source": [
        "data.shape"
      ],
      "execution_count": 83,
      "outputs": [
        {
          "output_type": "execute_result",
          "data": {
            "text/plain": [
              "(488189, 44)"
            ]
          },
          "metadata": {
            "tags": []
          },
          "execution_count": 83
        }
      ]
    },
    {
      "cell_type": "code",
      "metadata": {
        "id": "A7Kwdsq3U1zq",
        "colab_type": "code",
        "colab": {}
      },
      "source": [
        "member_first_booking=data.groupby(['memberid'])['booking_date'].min().reset_index().rename(columns={'booking_date':'first_booking_date'})\n"
      ],
      "execution_count": 0,
      "outputs": []
    },
    {
      "cell_type": "code",
      "metadata": {
        "id": "Lopued8SVcw7",
        "colab_type": "code",
        "colab": {
          "base_uri": "https://localhost:8080/",
          "height": 1969
        },
        "outputId": "d94bb43a-e949-403c-f464-771afa2a155e"
      },
      "source": [
        "member_first_booking"
      ],
      "execution_count": 85,
      "outputs": [
        {
          "output_type": "execute_result",
          "data": {
            "text/html": [
              "<div>\n",
              "<style scoped>\n",
              "    .dataframe tbody tr th:only-of-type {\n",
              "        vertical-align: middle;\n",
              "    }\n",
              "\n",
              "    .dataframe tbody tr th {\n",
              "        vertical-align: top;\n",
              "    }\n",
              "\n",
              "    .dataframe thead th {\n",
              "        text-align: right;\n",
              "    }\n",
              "</style>\n",
              "<table border=\"1\" class=\"dataframe\">\n",
              "  <thead>\n",
              "    <tr style=\"text-align: right;\">\n",
              "      <th></th>\n",
              "      <th>memberid</th>\n",
              "      <th>first_booking_date</th>\n",
              "    </tr>\n",
              "  </thead>\n",
              "  <tbody>\n",
              "    <tr>\n",
              "      <th>0</th>\n",
              "      <td>00005d44634de09d36aaa5ccb20b67223ec9406c532335...</td>\n",
              "      <td>2016-09-01</td>\n",
              "    </tr>\n",
              "    <tr>\n",
              "      <th>1</th>\n",
              "      <td>0000a957d528a2df1dc9ed2314bc009e8666e75a2d6c23...</td>\n",
              "      <td>2015-02-26</td>\n",
              "    </tr>\n",
              "    <tr>\n",
              "      <th>2</th>\n",
              "      <td>00016645b88d51f9c30ce4c1338178125aef1e37111667...</td>\n",
              "      <td>2017-05-24</td>\n",
              "    </tr>\n",
              "    <tr>\n",
              "      <th>3</th>\n",
              "      <td>00016b96386f53adf2ea4beee032a8793e66e6ddd0ed28...</td>\n",
              "      <td>2017-05-13</td>\n",
              "    </tr>\n",
              "    <tr>\n",
              "      <th>4</th>\n",
              "      <td>000196f8748cdf3aa04023b2490dd29bb8b127e50a86f5...</td>\n",
              "      <td>2016-09-01</td>\n",
              "    </tr>\n",
              "    <tr>\n",
              "      <th>5</th>\n",
              "      <td>00021328914515303c6992143d1f0bedaf1564dc607b72...</td>\n",
              "      <td>2015-12-18</td>\n",
              "    </tr>\n",
              "    <tr>\n",
              "      <th>6</th>\n",
              "      <td>000218e18abc5d2e73212e064983cd4433f7969fd908a6...</td>\n",
              "      <td>2015-07-02</td>\n",
              "    </tr>\n",
              "    <tr>\n",
              "      <th>7</th>\n",
              "      <td>0002f0156e1f9944885df03fbdf079c662a1755ef4c6df...</td>\n",
              "      <td>2016-08-27</td>\n",
              "    </tr>\n",
              "    <tr>\n",
              "      <th>8</th>\n",
              "      <td>00039767c3d802b128ce0c2c4b221bd4bc05ed226e0924...</td>\n",
              "      <td>2017-09-01</td>\n",
              "    </tr>\n",
              "    <tr>\n",
              "      <th>9</th>\n",
              "      <td>00039cd39165d76e08cbba78b9dd595cbd2f22e3b98377...</td>\n",
              "      <td>2015-12-23</td>\n",
              "    </tr>\n",
              "    <tr>\n",
              "      <th>10</th>\n",
              "      <td>0003a66b9fa54240ab2328fe7c02ce63f12d1e6119f7ee...</td>\n",
              "      <td>2015-07-15</td>\n",
              "    </tr>\n",
              "    <tr>\n",
              "      <th>11</th>\n",
              "      <td>0003dbd80ea9a5fb7a2efabdb984c5fa75450cda717e39...</td>\n",
              "      <td>2017-05-27</td>\n",
              "    </tr>\n",
              "    <tr>\n",
              "      <th>12</th>\n",
              "      <td>00041e4ce46ac3e499071b24572e21d3493d6c23ee0360...</td>\n",
              "      <td>2018-02-10</td>\n",
              "    </tr>\n",
              "    <tr>\n",
              "      <th>13</th>\n",
              "      <td>00047791e3626d66f5d8b93064b25c164b679b6d49d8a2...</td>\n",
              "      <td>2016-08-16</td>\n",
              "    </tr>\n",
              "    <tr>\n",
              "      <th>14</th>\n",
              "      <td>0004fea31bc81c670e35c04ad263745131443a4afdafe0...</td>\n",
              "      <td>2017-09-05</td>\n",
              "    </tr>\n",
              "    <tr>\n",
              "      <th>15</th>\n",
              "      <td>0005345df5fb44ca8879d845f4946a88779577479c6c0d...</td>\n",
              "      <td>2015-04-18</td>\n",
              "    </tr>\n",
              "    <tr>\n",
              "      <th>16</th>\n",
              "      <td>000580eb995f2a45fffce7c2651e542668ea65c1b4b89f...</td>\n",
              "      <td>2017-05-14</td>\n",
              "    </tr>\n",
              "    <tr>\n",
              "      <th>17</th>\n",
              "      <td>0005e541c594d2bab22f64ff44a47d474af02276d90560...</td>\n",
              "      <td>2018-02-18</td>\n",
              "    </tr>\n",
              "    <tr>\n",
              "      <th>18</th>\n",
              "      <td>00075a234b97f6c85d64991f6d841bea864a709ed0caa1...</td>\n",
              "      <td>2015-06-05</td>\n",
              "    </tr>\n",
              "    <tr>\n",
              "      <th>19</th>\n",
              "      <td>00078b5c6e6bb0b822f20f6ba8103134ae2e9fa711f024...</td>\n",
              "      <td>2017-05-18</td>\n",
              "    </tr>\n",
              "    <tr>\n",
              "      <th>20</th>\n",
              "      <td>0007a00af497f4ecd4b3d435a6a7ab2bfb3bed80170141...</td>\n",
              "      <td>2016-08-02</td>\n",
              "    </tr>\n",
              "    <tr>\n",
              "      <th>21</th>\n",
              "      <td>0007dda83dc3d35a9098e8b14e4e95920cdcbd2fc74190...</td>\n",
              "      <td>2016-05-28</td>\n",
              "    </tr>\n",
              "    <tr>\n",
              "      <th>22</th>\n",
              "      <td>00082be26e1b4d8cf1023c12d36652d0925a172d3ad790...</td>\n",
              "      <td>2015-12-22</td>\n",
              "    </tr>\n",
              "    <tr>\n",
              "      <th>23</th>\n",
              "      <td>0008fdcffaf4ad8e36fc82a2d23a9f16a74b43adf1a2e9...</td>\n",
              "      <td>2017-06-02</td>\n",
              "    </tr>\n",
              "    <tr>\n",
              "      <th>24</th>\n",
              "      <td>000a9feca40b2503bff9e639b6383c86665955381ffaed...</td>\n",
              "      <td>2015-02-03</td>\n",
              "    </tr>\n",
              "    <tr>\n",
              "      <th>25</th>\n",
              "      <td>000b9154a0fb9f1d968ad963f2f76adaeff1532ccde5dd...</td>\n",
              "      <td>2015-12-24</td>\n",
              "    </tr>\n",
              "    <tr>\n",
              "      <th>26</th>\n",
              "      <td>000cc068a217e13e5aead1b2ae80e6dad075f227f6f354...</td>\n",
              "      <td>2015-08-26</td>\n",
              "    </tr>\n",
              "    <tr>\n",
              "      <th>27</th>\n",
              "      <td>000cc4c3057f95b387ea17475a949367048c5862c133d0...</td>\n",
              "      <td>2017-01-02</td>\n",
              "    </tr>\n",
              "    <tr>\n",
              "      <th>28</th>\n",
              "      <td>000cc546c4286f54a286252e3ee65231416bd7359ecb79...</td>\n",
              "      <td>2016-04-01</td>\n",
              "    </tr>\n",
              "    <tr>\n",
              "      <th>29</th>\n",
              "      <td>000d076fbd455d3bfaf6b3bf15a04678f69c6ad66492b5...</td>\n",
              "      <td>2018-05-12</td>\n",
              "    </tr>\n",
              "    <tr>\n",
              "      <th>...</th>\n",
              "      <td>...</td>\n",
              "      <td>...</td>\n",
              "    </tr>\n",
              "    <tr>\n",
              "      <th>144793</th>\n",
              "      <td>fff47139c2adede612e10623b4243e67e7d7d4b3cea57c...</td>\n",
              "      <td>2016-01-16</td>\n",
              "    </tr>\n",
              "    <tr>\n",
              "      <th>144794</th>\n",
              "      <td>fff474b35095d3b70e67bd29dc229e3883d71c55321ca2...</td>\n",
              "      <td>2016-07-22</td>\n",
              "    </tr>\n",
              "    <tr>\n",
              "      <th>144795</th>\n",
              "      <td>fff4b55f96037eb4f910c2e386b020fda7a00f1c4f4c70...</td>\n",
              "      <td>2018-07-21</td>\n",
              "    </tr>\n",
              "    <tr>\n",
              "      <th>144796</th>\n",
              "      <td>fff4d998c11e58cb8e8e7c9a51335fab0a39edde06e941...</td>\n",
              "      <td>2015-05-02</td>\n",
              "    </tr>\n",
              "    <tr>\n",
              "      <th>144797</th>\n",
              "      <td>fff528c6675430627dd947e7435542b79a3997bc8760ab...</td>\n",
              "      <td>2015-07-23</td>\n",
              "    </tr>\n",
              "    <tr>\n",
              "      <th>144798</th>\n",
              "      <td>fff582cdb422d9d94a16276e145958edab06504c4ffb24...</td>\n",
              "      <td>2017-02-25</td>\n",
              "    </tr>\n",
              "    <tr>\n",
              "      <th>144799</th>\n",
              "      <td>fff6003bcdcd475264c9b2c85a49558b55cd59ef86b7ad...</td>\n",
              "      <td>2016-10-04</td>\n",
              "    </tr>\n",
              "    <tr>\n",
              "      <th>144800</th>\n",
              "      <td>fff612732172fa6a7d68078b92b8645ed0a335ccd38e0a...</td>\n",
              "      <td>2016-08-16</td>\n",
              "    </tr>\n",
              "    <tr>\n",
              "      <th>144801</th>\n",
              "      <td>fff6595198ecfbf6b75884ef44049e84ae485329440ae9...</td>\n",
              "      <td>2018-08-12</td>\n",
              "    </tr>\n",
              "    <tr>\n",
              "      <th>144802</th>\n",
              "      <td>fff6bfb3131c7128e80a5e1ef6574670421d579f9d96de...</td>\n",
              "      <td>2015-02-23</td>\n",
              "    </tr>\n",
              "    <tr>\n",
              "      <th>144803</th>\n",
              "      <td>fff7491a6eb63d0fe421a8f690b7a8e4777af99f4a0aa3...</td>\n",
              "      <td>2015-06-20</td>\n",
              "    </tr>\n",
              "    <tr>\n",
              "      <th>144804</th>\n",
              "      <td>fff75f97fc4f10c80486f52408a6dcbea2704eeccf7268...</td>\n",
              "      <td>2015-01-08</td>\n",
              "    </tr>\n",
              "    <tr>\n",
              "      <th>144805</th>\n",
              "      <td>fff784aaf6eb8ffb43dd0f5a351257911bb87e6db67754...</td>\n",
              "      <td>2016-09-03</td>\n",
              "    </tr>\n",
              "    <tr>\n",
              "      <th>144806</th>\n",
              "      <td>fff787683de123eee4e867750fb8b732e4e77bfbd0ad07...</td>\n",
              "      <td>2016-03-30</td>\n",
              "    </tr>\n",
              "    <tr>\n",
              "      <th>144807</th>\n",
              "      <td>fff7db043cce4cdb2df6e32561b9880e0baa12a9fbc98c...</td>\n",
              "      <td>2015-11-01</td>\n",
              "    </tr>\n",
              "    <tr>\n",
              "      <th>144808</th>\n",
              "      <td>fff7dbc5df9096883affbdd548cae23bcffa3e63caed68...</td>\n",
              "      <td>2015-09-10</td>\n",
              "    </tr>\n",
              "    <tr>\n",
              "      <th>144809</th>\n",
              "      <td>fff9797c54ad634d4bce96b9240d882c9f1b2068ad2903...</td>\n",
              "      <td>2016-09-20</td>\n",
              "    </tr>\n",
              "    <tr>\n",
              "      <th>144810</th>\n",
              "      <td>fffa7df03128580be2147b4506412919dac174dc53288e...</td>\n",
              "      <td>2015-08-29</td>\n",
              "    </tr>\n",
              "    <tr>\n",
              "      <th>144811</th>\n",
              "      <td>fffa8abf71bd53ad35282f493700b947be338f6339093e...</td>\n",
              "      <td>2017-01-12</td>\n",
              "    </tr>\n",
              "    <tr>\n",
              "      <th>144812</th>\n",
              "      <td>fffb1180032257ba7edb516f6bf1b004df7515eb727f01...</td>\n",
              "      <td>2018-01-03</td>\n",
              "    </tr>\n",
              "    <tr>\n",
              "      <th>144813</th>\n",
              "      <td>fffcb935dcad02db686078b52b9b8be7cb34d4cac43dcf...</td>\n",
              "      <td>2015-06-22</td>\n",
              "    </tr>\n",
              "    <tr>\n",
              "      <th>144814</th>\n",
              "      <td>fffd3230c2fe561083b0d8e4027b580ad322f8ba381e90...</td>\n",
              "      <td>2015-04-28</td>\n",
              "    </tr>\n",
              "    <tr>\n",
              "      <th>144815</th>\n",
              "      <td>fffd946580bcb406a4cdadc88099348140d317166f1d27...</td>\n",
              "      <td>2017-07-25</td>\n",
              "    </tr>\n",
              "    <tr>\n",
              "      <th>144816</th>\n",
              "      <td>fffe86072df49756749104693831d5955dc97d5b99b974...</td>\n",
              "      <td>2016-09-07</td>\n",
              "    </tr>\n",
              "    <tr>\n",
              "      <th>144817</th>\n",
              "      <td>fffeb5d21b5a1160a3fe9a4de54851b3f2f96e3d6c7e7c...</td>\n",
              "      <td>2015-06-30</td>\n",
              "    </tr>\n",
              "    <tr>\n",
              "      <th>144818</th>\n",
              "      <td>fffed0ae4c1751226adbe2ac4cae454619f3926967e4c3...</td>\n",
              "      <td>2015-09-19</td>\n",
              "    </tr>\n",
              "    <tr>\n",
              "      <th>144819</th>\n",
              "      <td>ffff0cf5d24a6852baa9b3018a58a1dab5c8e1beb625e3...</td>\n",
              "      <td>2015-06-23</td>\n",
              "    </tr>\n",
              "    <tr>\n",
              "      <th>144820</th>\n",
              "      <td>ffff8ed56f65caf0019f90d65b7f158b862efcab5c4517...</td>\n",
              "      <td>2017-02-21</td>\n",
              "    </tr>\n",
              "    <tr>\n",
              "      <th>144821</th>\n",
              "      <td>ffffb20629a2dbd7a2c1ce73e8ec3d847d5523aac25344...</td>\n",
              "      <td>2016-12-19</td>\n",
              "    </tr>\n",
              "    <tr>\n",
              "      <th>144822</th>\n",
              "      <td>ffffd5e24869fbf50bf1112a7cea966a94c327c168cda4...</td>\n",
              "      <td>2015-12-16</td>\n",
              "    </tr>\n",
              "  </tbody>\n",
              "</table>\n",
              "<p>144823 rows × 2 columns</p>\n",
              "</div>"
            ],
            "text/plain": [
              "                                                 memberid first_booking_date\n",
              "0       00005d44634de09d36aaa5ccb20b67223ec9406c532335...         2016-09-01\n",
              "1       0000a957d528a2df1dc9ed2314bc009e8666e75a2d6c23...         2015-02-26\n",
              "2       00016645b88d51f9c30ce4c1338178125aef1e37111667...         2017-05-24\n",
              "3       00016b96386f53adf2ea4beee032a8793e66e6ddd0ed28...         2017-05-13\n",
              "4       000196f8748cdf3aa04023b2490dd29bb8b127e50a86f5...         2016-09-01\n",
              "5       00021328914515303c6992143d1f0bedaf1564dc607b72...         2015-12-18\n",
              "6       000218e18abc5d2e73212e064983cd4433f7969fd908a6...         2015-07-02\n",
              "7       0002f0156e1f9944885df03fbdf079c662a1755ef4c6df...         2016-08-27\n",
              "8       00039767c3d802b128ce0c2c4b221bd4bc05ed226e0924...         2017-09-01\n",
              "9       00039cd39165d76e08cbba78b9dd595cbd2f22e3b98377...         2015-12-23\n",
              "10      0003a66b9fa54240ab2328fe7c02ce63f12d1e6119f7ee...         2015-07-15\n",
              "11      0003dbd80ea9a5fb7a2efabdb984c5fa75450cda717e39...         2017-05-27\n",
              "12      00041e4ce46ac3e499071b24572e21d3493d6c23ee0360...         2018-02-10\n",
              "13      00047791e3626d66f5d8b93064b25c164b679b6d49d8a2...         2016-08-16\n",
              "14      0004fea31bc81c670e35c04ad263745131443a4afdafe0...         2017-09-05\n",
              "15      0005345df5fb44ca8879d845f4946a88779577479c6c0d...         2015-04-18\n",
              "16      000580eb995f2a45fffce7c2651e542668ea65c1b4b89f...         2017-05-14\n",
              "17      0005e541c594d2bab22f64ff44a47d474af02276d90560...         2018-02-18\n",
              "18      00075a234b97f6c85d64991f6d841bea864a709ed0caa1...         2015-06-05\n",
              "19      00078b5c6e6bb0b822f20f6ba8103134ae2e9fa711f024...         2017-05-18\n",
              "20      0007a00af497f4ecd4b3d435a6a7ab2bfb3bed80170141...         2016-08-02\n",
              "21      0007dda83dc3d35a9098e8b14e4e95920cdcbd2fc74190...         2016-05-28\n",
              "22      00082be26e1b4d8cf1023c12d36652d0925a172d3ad790...         2015-12-22\n",
              "23      0008fdcffaf4ad8e36fc82a2d23a9f16a74b43adf1a2e9...         2017-06-02\n",
              "24      000a9feca40b2503bff9e639b6383c86665955381ffaed...         2015-02-03\n",
              "25      000b9154a0fb9f1d968ad963f2f76adaeff1532ccde5dd...         2015-12-24\n",
              "26      000cc068a217e13e5aead1b2ae80e6dad075f227f6f354...         2015-08-26\n",
              "27      000cc4c3057f95b387ea17475a949367048c5862c133d0...         2017-01-02\n",
              "28      000cc546c4286f54a286252e3ee65231416bd7359ecb79...         2016-04-01\n",
              "29      000d076fbd455d3bfaf6b3bf15a04678f69c6ad66492b5...         2018-05-12\n",
              "...                                                   ...                ...\n",
              "144793  fff47139c2adede612e10623b4243e67e7d7d4b3cea57c...         2016-01-16\n",
              "144794  fff474b35095d3b70e67bd29dc229e3883d71c55321ca2...         2016-07-22\n",
              "144795  fff4b55f96037eb4f910c2e386b020fda7a00f1c4f4c70...         2018-07-21\n",
              "144796  fff4d998c11e58cb8e8e7c9a51335fab0a39edde06e941...         2015-05-02\n",
              "144797  fff528c6675430627dd947e7435542b79a3997bc8760ab...         2015-07-23\n",
              "144798  fff582cdb422d9d94a16276e145958edab06504c4ffb24...         2017-02-25\n",
              "144799  fff6003bcdcd475264c9b2c85a49558b55cd59ef86b7ad...         2016-10-04\n",
              "144800  fff612732172fa6a7d68078b92b8645ed0a335ccd38e0a...         2016-08-16\n",
              "144801  fff6595198ecfbf6b75884ef44049e84ae485329440ae9...         2018-08-12\n",
              "144802  fff6bfb3131c7128e80a5e1ef6574670421d579f9d96de...         2015-02-23\n",
              "144803  fff7491a6eb63d0fe421a8f690b7a8e4777af99f4a0aa3...         2015-06-20\n",
              "144804  fff75f97fc4f10c80486f52408a6dcbea2704eeccf7268...         2015-01-08\n",
              "144805  fff784aaf6eb8ffb43dd0f5a351257911bb87e6db67754...         2016-09-03\n",
              "144806  fff787683de123eee4e867750fb8b732e4e77bfbd0ad07...         2016-03-30\n",
              "144807  fff7db043cce4cdb2df6e32561b9880e0baa12a9fbc98c...         2015-11-01\n",
              "144808  fff7dbc5df9096883affbdd548cae23bcffa3e63caed68...         2015-09-10\n",
              "144809  fff9797c54ad634d4bce96b9240d882c9f1b2068ad2903...         2016-09-20\n",
              "144810  fffa7df03128580be2147b4506412919dac174dc53288e...         2015-08-29\n",
              "144811  fffa8abf71bd53ad35282f493700b947be338f6339093e...         2017-01-12\n",
              "144812  fffb1180032257ba7edb516f6bf1b004df7515eb727f01...         2018-01-03\n",
              "144813  fffcb935dcad02db686078b52b9b8be7cb34d4cac43dcf...         2015-06-22\n",
              "144814  fffd3230c2fe561083b0d8e4027b580ad322f8ba381e90...         2015-04-28\n",
              "144815  fffd946580bcb406a4cdadc88099348140d317166f1d27...         2017-07-25\n",
              "144816  fffe86072df49756749104693831d5955dc97d5b99b974...         2016-09-07\n",
              "144817  fffeb5d21b5a1160a3fe9a4de54851b3f2f96e3d6c7e7c...         2015-06-30\n",
              "144818  fffed0ae4c1751226adbe2ac4cae454619f3926967e4c3...         2015-09-19\n",
              "144819  ffff0cf5d24a6852baa9b3018a58a1dab5c8e1beb625e3...         2015-06-23\n",
              "144820  ffff8ed56f65caf0019f90d65b7f158b862efcab5c4517...         2017-02-21\n",
              "144821  ffffb20629a2dbd7a2c1ce73e8ec3d847d5523aac25344...         2016-12-19\n",
              "144822  ffffd5e24869fbf50bf1112a7cea966a94c327c168cda4...         2015-12-16\n",
              "\n",
              "[144823 rows x 2 columns]"
            ]
          },
          "metadata": {
            "tags": []
          },
          "execution_count": 85
        }
      ]
    },
    {
      "cell_type": "code",
      "metadata": {
        "id": "99yd0UYnVkEU",
        "colab_type": "code",
        "colab": {}
      },
      "source": [
        "train=pd.merge(train,member_first_booking,on=\"memberid\",how='left')\n"
      ],
      "execution_count": 0,
      "outputs": []
    },
    {
      "cell_type": "code",
      "metadata": {
        "id": "EsD0xU30VlE3",
        "colab_type": "code",
        "colab": {}
      },
      "source": [
        "test=pd.merge(test,member_first_booking,on=\"memberid\",how='left')\n"
      ],
      "execution_count": 0,
      "outputs": []
    },
    {
      "cell_type": "code",
      "metadata": {
        "id": "2s9d1L-_VlCs",
        "colab_type": "code",
        "colab": {
          "base_uri": "https://localhost:8080/",
          "height": 270
        },
        "outputId": "6da95de8-4ed9-4c22-d0dc-0f85de31fd54"
      },
      "source": [
        "train.head()"
      ],
      "execution_count": 88,
      "outputs": [
        {
          "output_type": "execute_result",
          "data": {
            "text/html": [
              "<div>\n",
              "<style scoped>\n",
              "    .dataframe tbody tr th:only-of-type {\n",
              "        vertical-align: middle;\n",
              "    }\n",
              "\n",
              "    .dataframe tbody tr th {\n",
              "        vertical-align: top;\n",
              "    }\n",
              "\n",
              "    .dataframe thead th {\n",
              "        text-align: right;\n",
              "    }\n",
              "</style>\n",
              "<table border=\"1\" class=\"dataframe\">\n",
              "  <thead>\n",
              "    <tr style=\"text-align: right;\">\n",
              "      <th></th>\n",
              "      <th>Unnamed: 0</th>\n",
              "      <th>reservation_id</th>\n",
              "      <th>booking_date</th>\n",
              "      <th>checkin_date</th>\n",
              "      <th>checkout_date</th>\n",
              "      <th>channel_code</th>\n",
              "      <th>main_product_code</th>\n",
              "      <th>numberofadults</th>\n",
              "      <th>numberofchildren</th>\n",
              "      <th>persontravellingid</th>\n",
              "      <th>...</th>\n",
              "      <th>checkout_date_year</th>\n",
              "      <th>checkout_date_day</th>\n",
              "      <th>checkout_date_month</th>\n",
              "      <th>checkout_date_dayofweek</th>\n",
              "      <th>checkout_date_isweekend</th>\n",
              "      <th>dataset</th>\n",
              "      <th>season_holidayed_code_new</th>\n",
              "      <th>diff_booking_checkin_days</th>\n",
              "      <th>days_of_stay</th>\n",
              "      <th>first_booking_date</th>\n",
              "    </tr>\n",
              "  </thead>\n",
              "  <tbody>\n",
              "    <tr>\n",
              "      <th>0</th>\n",
              "      <td>0</td>\n",
              "      <td>07659f3758d8aee27f5a7e2887adeacb67021cb95ada1b...</td>\n",
              "      <td>2018-04-05</td>\n",
              "      <td>2018-04-05</td>\n",
              "      <td>2018-04-06</td>\n",
              "      <td>3</td>\n",
              "      <td>1</td>\n",
              "      <td>2</td>\n",
              "      <td>0</td>\n",
              "      <td>46</td>\n",
              "      <td>...</td>\n",
              "      <td>2018</td>\n",
              "      <td>6</td>\n",
              "      <td>4</td>\n",
              "      <td>4</td>\n",
              "      <td>0</td>\n",
              "      <td>train</td>\n",
              "      <td>2.0</td>\n",
              "      <td>0</td>\n",
              "      <td>1</td>\n",
              "      <td>2015-01-23</td>\n",
              "    </tr>\n",
              "    <tr>\n",
              "      <th>1</th>\n",
              "      <td>1</td>\n",
              "      <td>03930f033646d073462b35d411616323597715ac4fc398...</td>\n",
              "      <td>2015-01-23</td>\n",
              "      <td>2015-04-11</td>\n",
              "      <td>2015-04-16</td>\n",
              "      <td>1</td>\n",
              "      <td>1</td>\n",
              "      <td>2</td>\n",
              "      <td>0</td>\n",
              "      <td>46</td>\n",
              "      <td>...</td>\n",
              "      <td>2015</td>\n",
              "      <td>16</td>\n",
              "      <td>4</td>\n",
              "      <td>3</td>\n",
              "      <td>0</td>\n",
              "      <td>train</td>\n",
              "      <td>2.0</td>\n",
              "      <td>78</td>\n",
              "      <td>5</td>\n",
              "      <td>2015-01-23</td>\n",
              "    </tr>\n",
              "    <tr>\n",
              "      <th>2</th>\n",
              "      <td>2</td>\n",
              "      <td>d145a32920e6587ad95bfe299d80c0affa268220535aaf...</td>\n",
              "      <td>2015-01-28</td>\n",
              "      <td>2015-02-01</td>\n",
              "      <td>2015-02-05</td>\n",
              "      <td>1</td>\n",
              "      <td>1</td>\n",
              "      <td>2</td>\n",
              "      <td>0</td>\n",
              "      <td>47</td>\n",
              "      <td>...</td>\n",
              "      <td>2015</td>\n",
              "      <td>5</td>\n",
              "      <td>2</td>\n",
              "      <td>3</td>\n",
              "      <td>0</td>\n",
              "      <td>train</td>\n",
              "      <td>2.0</td>\n",
              "      <td>4</td>\n",
              "      <td>4</td>\n",
              "      <td>2015-01-23</td>\n",
              "    </tr>\n",
              "    <tr>\n",
              "      <th>3</th>\n",
              "      <td>3</td>\n",
              "      <td>cfd77f44811ed62f25a220b53324cdbafc662a4c9e5f04...</td>\n",
              "      <td>2015-05-02</td>\n",
              "      <td>2015-06-11</td>\n",
              "      <td>2015-06-16</td>\n",
              "      <td>1</td>\n",
              "      <td>1</td>\n",
              "      <td>2</td>\n",
              "      <td>2</td>\n",
              "      <td>46</td>\n",
              "      <td>...</td>\n",
              "      <td>2015</td>\n",
              "      <td>16</td>\n",
              "      <td>6</td>\n",
              "      <td>1</td>\n",
              "      <td>0</td>\n",
              "      <td>train</td>\n",
              "      <td>2.0</td>\n",
              "      <td>40</td>\n",
              "      <td>5</td>\n",
              "      <td>2015-01-23</td>\n",
              "    </tr>\n",
              "    <tr>\n",
              "      <th>4</th>\n",
              "      <td>4</td>\n",
              "      <td>937cff9e4dcfc2459620153dfc8b9962ac22bea67dfb29...</td>\n",
              "      <td>2015-09-02</td>\n",
              "      <td>2015-12-14</td>\n",
              "      <td>2015-12-19</td>\n",
              "      <td>1</td>\n",
              "      <td>1</td>\n",
              "      <td>2</td>\n",
              "      <td>0</td>\n",
              "      <td>46</td>\n",
              "      <td>...</td>\n",
              "      <td>2015</td>\n",
              "      <td>19</td>\n",
              "      <td>12</td>\n",
              "      <td>5</td>\n",
              "      <td>1</td>\n",
              "      <td>train</td>\n",
              "      <td>2.0</td>\n",
              "      <td>103</td>\n",
              "      <td>5</td>\n",
              "      <td>2015-01-23</td>\n",
              "    </tr>\n",
              "  </tbody>\n",
              "</table>\n",
              "<p>5 rows × 45 columns</p>\n",
              "</div>"
            ],
            "text/plain": [
              "   Unnamed: 0                                     reservation_id booking_date  \\\n",
              "0           0  07659f3758d8aee27f5a7e2887adeacb67021cb95ada1b...   2018-04-05   \n",
              "1           1  03930f033646d073462b35d411616323597715ac4fc398...   2015-01-23   \n",
              "2           2  d145a32920e6587ad95bfe299d80c0affa268220535aaf...   2015-01-28   \n",
              "3           3  cfd77f44811ed62f25a220b53324cdbafc662a4c9e5f04...   2015-05-02   \n",
              "4           4  937cff9e4dcfc2459620153dfc8b9962ac22bea67dfb29...   2015-09-02   \n",
              "\n",
              "  checkin_date checkout_date  channel_code  main_product_code  numberofadults  \\\n",
              "0   2018-04-05    2018-04-06             3                  1               2   \n",
              "1   2015-04-11    2015-04-16             1                  1               2   \n",
              "2   2015-02-01    2015-02-05             1                  1               2   \n",
              "3   2015-06-11    2015-06-16             1                  1               2   \n",
              "4   2015-12-14    2015-12-19             1                  1               2   \n",
              "\n",
              "   numberofchildren  persontravellingid  ...  checkout_date_year  \\\n",
              "0                 0                  46  ...                2018   \n",
              "1                 0                  46  ...                2015   \n",
              "2                 0                  47  ...                2015   \n",
              "3                 2                  46  ...                2015   \n",
              "4                 0                  46  ...                2015   \n",
              "\n",
              "   checkout_date_day  checkout_date_month  checkout_date_dayofweek  \\\n",
              "0                  6                    4                        4   \n",
              "1                 16                    4                        3   \n",
              "2                  5                    2                        3   \n",
              "3                 16                    6                        1   \n",
              "4                 19                   12                        5   \n",
              "\n",
              "   checkout_date_isweekend  dataset  season_holidayed_code_new  \\\n",
              "0                        0    train                        2.0   \n",
              "1                        0    train                        2.0   \n",
              "2                        0    train                        2.0   \n",
              "3                        0    train                        2.0   \n",
              "4                        1    train                        2.0   \n",
              "\n",
              "   diff_booking_checkin_days days_of_stay  first_booking_date  \n",
              "0                          0            1          2015-01-23  \n",
              "1                         78            5          2015-01-23  \n",
              "2                          4            4          2015-01-23  \n",
              "3                         40            5          2015-01-23  \n",
              "4                        103            5          2015-01-23  \n",
              "\n",
              "[5 rows x 45 columns]"
            ]
          },
          "metadata": {
            "tags": []
          },
          "execution_count": 88
        }
      ]
    },
    {
      "cell_type": "code",
      "metadata": {
        "id": "isSjDcXzVlAY",
        "colab_type": "code",
        "colab": {}
      },
      "source": [
        "train['is_first_booking']=train.apply(lambda row:1 if row['booking_date']==row['first_booking_date'] else 0,axis=1)\n",
        "test['is_first_booking']=test.apply(lambda row:1 if row['booking_date']==row['first_booking_date'] else 0,axis=1)"
      ],
      "execution_count": 0,
      "outputs": []
    },
    {
      "cell_type": "code",
      "metadata": {
        "id": "ZT_8R_7bVk9e",
        "colab_type": "code",
        "colab": {
          "base_uri": "https://localhost:8080/",
          "height": 34
        },
        "outputId": "93c2d27f-a0e8-4917-b116-99792416444a"
      },
      "source": [
        "train.shape"
      ],
      "execution_count": 90,
      "outputs": [
        {
          "output_type": "execute_result",
          "data": {
            "text/plain": [
              "(341424, 46)"
            ]
          },
          "metadata": {
            "tags": []
          },
          "execution_count": 90
        }
      ]
    },
    {
      "cell_type": "markdown",
      "metadata": {
        "id": "MiyLN7H3WzjN",
        "colab_type": "text"
      },
      "source": [
        "## What is the total number of visitors?"
      ]
    },
    {
      "cell_type": "code",
      "metadata": {
        "id": "Lf9aLJw6WGIE",
        "colab_type": "code",
        "colab": {}
      },
      "source": [
        "train['total_visitors']=train['numberofadults'] + train['numberofchildren']\n"
      ],
      "execution_count": 0,
      "outputs": []
    },
    {
      "cell_type": "code",
      "metadata": {
        "id": "gSf8vV8ZW22i",
        "colab_type": "code",
        "colab": {}
      },
      "source": [
        "test['total_visitors']=test['numberofadults'] + test['numberofchildren']\n"
      ],
      "execution_count": 0,
      "outputs": []
    },
    {
      "cell_type": "markdown",
      "metadata": {
        "id": "eCGId0x7W7o5",
        "colab_type": "text"
      },
      "source": [
        "## What is the ratio of total_pax to total_visitors?"
      ]
    },
    {
      "cell_type": "code",
      "metadata": {
        "id": "no6O29eSW4sL",
        "colab_type": "code",
        "colab": {}
      },
      "source": [
        "train['visitors_pax_ratio']=train['total_visitors']/train['total_pax']\n",
        "test['visitors_pax_ratio']=test['total_visitors']/test['total_pax']"
      ],
      "execution_count": 0,
      "outputs": []
    },
    {
      "cell_type": "code",
      "metadata": {
        "id": "ueIVwkTpXAgB",
        "colab_type": "code",
        "colab": {
          "base_uri": "https://localhost:8080/",
          "height": 286
        },
        "outputId": "13e5aa90-a8e4-42c1-cff1-44eee7d91f05"
      },
      "source": [
        "sns.kdeplot(train['visitors_pax_ratio'])"
      ],
      "execution_count": 94,
      "outputs": [
        {
          "output_type": "execute_result",
          "data": {
            "text/plain": [
              "<matplotlib.axes._subplots.AxesSubplot at 0x7f0812ac7470>"
            ]
          },
          "metadata": {
            "tags": []
          },
          "execution_count": 94
        },
        {
          "output_type": "display_data",
          "data": {
            "image/png": "[encoded data removed]",
            "text/plain": [
              "<Figure size 432x288 with 1 Axes>"
            ]
          },
          "metadata": {
            "tags": []
          }
        }
      ]
    },
    {
      "cell_type": "code",
      "metadata": {
        "id": "00V0qiYzXBPz",
        "colab_type": "code",
        "colab": {
          "base_uri": "https://localhost:8080/",
          "height": 475
        },
        "outputId": "cc0df198-2df1-4c55-88d3-3342a03229f5"
      },
      "source": [
        "fig,ax=plt.subplots(figsize=(12,7))\n",
        "fig=sns.barplot(train['total_visitors'].unique(),train['total_visitors'].value_counts()).set_title('Visitor Count')\n",
        "plt.xlabel('unique visitor value')"
      ],
      "execution_count": 95,
      "outputs": [
        {
          "output_type": "execute_result",
          "data": {
            "text/plain": [
              "Text(0.5, 0, 'unique visitor value')"
            ]
          },
          "metadata": {
            "tags": []
          },
          "execution_count": 95
        },
        {
          "output_type": "display_data",
          "data": {
            "image/png": "[encoded data removed]",
            "text/plain": [
              "<Figure size 864x504 with 1 Axes>"
            ]
          },
          "metadata": {
            "tags": []
          }
        }
      ]
    },
    {
      "cell_type": "code",
      "metadata": {
        "id": "0RICzBy3XBNw",
        "colab_type": "code",
        "colab": {}
      },
      "source": [
        ""
      ],
      "execution_count": 0,
      "outputs": []
    },
    {
      "cell_type": "markdown",
      "metadata": {
        "id": "6I6Za11mYGUd",
        "colab_type": "text"
      },
      "source": [
        "\n",
        "## Is the resort state same as the member state"
      ]
    },
    {
      "cell_type": "code",
      "metadata": {
        "id": "wy7Q4ERBXBLt",
        "colab_type": "code",
        "colab": {}
      },
      "source": [
        "train['is_resort_state_same_member_state']=train.apply(lambda row:1 if row['state_code_resort']==row['state_code_residence'] else 0,axis=1)\n"
      ],
      "execution_count": 0,
      "outputs": []
    },
    {
      "cell_type": "code",
      "metadata": {
        "id": "p3EnKpdDXBJe",
        "colab_type": "code",
        "colab": {}
      },
      "source": [
        "test['is_resort_state_same_member_state']=test.apply(lambda row:1 if row['state_code_resort']==row['state_code_residence'] else 0,axis=1)\n"
      ],
      "execution_count": 0,
      "outputs": []
    },
    {
      "cell_type": "markdown",
      "metadata": {
        "id": "vRXdsBiGYVXb",
        "colab_type": "text"
      },
      "source": [
        "## On a particular checkin date, how many reservations a resort has"
      ]
    },
    {
      "cell_type": "code",
      "metadata": {
        "id": "lQIA-9jdXBG8",
        "colab_type": "code",
        "colab": {}
      },
      "source": [
        "num_reservations=data.groupby(['checkin_date'])['reservation_id'].count().reset_index().rename(columns={'reservation_id':'num_reservations_resort_on_that_day'})\n"
      ],
      "execution_count": 0,
      "outputs": []
    },
    {
      "cell_type": "code",
      "metadata": {
        "id": "kiby7odGYZEj",
        "colab_type": "code",
        "colab": {
          "base_uri": "https://localhost:8080/",
          "height": 1969
        },
        "outputId": "7e43ae78-e050-4a92-de0d-cf367ed660e5"
      },
      "source": [
        "num_reservations\n"
      ],
      "execution_count": 99,
      "outputs": [
        {
          "output_type": "execute_result",
          "data": {
            "text/html": [
              "<div>\n",
              "<style scoped>\n",
              "    .dataframe tbody tr th:only-of-type {\n",
              "        vertical-align: middle;\n",
              "    }\n",
              "\n",
              "    .dataframe tbody tr th {\n",
              "        vertical-align: top;\n",
              "    }\n",
              "\n",
              "    .dataframe thead th {\n",
              "        text-align: right;\n",
              "    }\n",
              "</style>\n",
              "<table border=\"1\" class=\"dataframe\">\n",
              "  <thead>\n",
              "    <tr style=\"text-align: right;\">\n",
              "      <th></th>\n",
              "      <th>checkin_date</th>\n",
              "      <th>num_reservations_resort_on_that_day</th>\n",
              "    </tr>\n",
              "  </thead>\n",
              "  <tbody>\n",
              "    <tr>\n",
              "      <th>0</th>\n",
              "      <td>2012-03-08</td>\n",
              "      <td>1</td>\n",
              "    </tr>\n",
              "    <tr>\n",
              "      <th>1</th>\n",
              "      <td>2012-03-12</td>\n",
              "      <td>1</td>\n",
              "    </tr>\n",
              "    <tr>\n",
              "      <th>2</th>\n",
              "      <td>2012-03-21</td>\n",
              "      <td>1</td>\n",
              "    </tr>\n",
              "    <tr>\n",
              "      <th>3</th>\n",
              "      <td>2012-03-23</td>\n",
              "      <td>1</td>\n",
              "    </tr>\n",
              "    <tr>\n",
              "      <th>4</th>\n",
              "      <td>2012-03-24</td>\n",
              "      <td>1</td>\n",
              "    </tr>\n",
              "    <tr>\n",
              "      <th>5</th>\n",
              "      <td>2012-04-09</td>\n",
              "      <td>1</td>\n",
              "    </tr>\n",
              "    <tr>\n",
              "      <th>6</th>\n",
              "      <td>2012-04-14</td>\n",
              "      <td>1</td>\n",
              "    </tr>\n",
              "    <tr>\n",
              "      <th>7</th>\n",
              "      <td>2012-04-19</td>\n",
              "      <td>2</td>\n",
              "    </tr>\n",
              "    <tr>\n",
              "      <th>8</th>\n",
              "      <td>2012-04-20</td>\n",
              "      <td>1</td>\n",
              "    </tr>\n",
              "    <tr>\n",
              "      <th>9</th>\n",
              "      <td>2012-04-22</td>\n",
              "      <td>1</td>\n",
              "    </tr>\n",
              "    <tr>\n",
              "      <th>10</th>\n",
              "      <td>2012-04-23</td>\n",
              "      <td>1</td>\n",
              "    </tr>\n",
              "    <tr>\n",
              "      <th>11</th>\n",
              "      <td>2012-04-25</td>\n",
              "      <td>1</td>\n",
              "    </tr>\n",
              "    <tr>\n",
              "      <th>12</th>\n",
              "      <td>2012-04-28</td>\n",
              "      <td>1</td>\n",
              "    </tr>\n",
              "    <tr>\n",
              "      <th>13</th>\n",
              "      <td>2015-01-01</td>\n",
              "      <td>313</td>\n",
              "    </tr>\n",
              "    <tr>\n",
              "      <th>14</th>\n",
              "      <td>2015-01-02</td>\n",
              "      <td>372</td>\n",
              "    </tr>\n",
              "    <tr>\n",
              "      <th>15</th>\n",
              "      <td>2015-01-03</td>\n",
              "      <td>294</td>\n",
              "    </tr>\n",
              "    <tr>\n",
              "      <th>16</th>\n",
              "      <td>2015-01-04</td>\n",
              "      <td>182</td>\n",
              "    </tr>\n",
              "    <tr>\n",
              "      <th>17</th>\n",
              "      <td>2015-01-05</td>\n",
              "      <td>531</td>\n",
              "    </tr>\n",
              "    <tr>\n",
              "      <th>18</th>\n",
              "      <td>2015-01-06</td>\n",
              "      <td>234</td>\n",
              "    </tr>\n",
              "    <tr>\n",
              "      <th>19</th>\n",
              "      <td>2015-01-07</td>\n",
              "      <td>225</td>\n",
              "    </tr>\n",
              "    <tr>\n",
              "      <th>20</th>\n",
              "      <td>2015-01-08</td>\n",
              "      <td>313</td>\n",
              "    </tr>\n",
              "    <tr>\n",
              "      <th>21</th>\n",
              "      <td>2015-01-09</td>\n",
              "      <td>333</td>\n",
              "    </tr>\n",
              "    <tr>\n",
              "      <th>22</th>\n",
              "      <td>2015-01-10</td>\n",
              "      <td>275</td>\n",
              "    </tr>\n",
              "    <tr>\n",
              "      <th>23</th>\n",
              "      <td>2015-01-11</td>\n",
              "      <td>333</td>\n",
              "    </tr>\n",
              "    <tr>\n",
              "      <th>24</th>\n",
              "      <td>2015-01-12</td>\n",
              "      <td>239</td>\n",
              "    </tr>\n",
              "    <tr>\n",
              "      <th>25</th>\n",
              "      <td>2015-01-13</td>\n",
              "      <td>232</td>\n",
              "    </tr>\n",
              "    <tr>\n",
              "      <th>26</th>\n",
              "      <td>2015-01-14</td>\n",
              "      <td>300</td>\n",
              "    </tr>\n",
              "    <tr>\n",
              "      <th>27</th>\n",
              "      <td>2015-01-15</td>\n",
              "      <td>323</td>\n",
              "    </tr>\n",
              "    <tr>\n",
              "      <th>28</th>\n",
              "      <td>2015-01-16</td>\n",
              "      <td>278</td>\n",
              "    </tr>\n",
              "    <tr>\n",
              "      <th>29</th>\n",
              "      <td>2015-01-17</td>\n",
              "      <td>288</td>\n",
              "    </tr>\n",
              "    <tr>\n",
              "      <th>...</th>\n",
              "      <td>...</td>\n",
              "      <td>...</td>\n",
              "    </tr>\n",
              "    <tr>\n",
              "      <th>1504</th>\n",
              "      <td>2019-01-31</td>\n",
              "      <td>251</td>\n",
              "    </tr>\n",
              "    <tr>\n",
              "      <th>1505</th>\n",
              "      <td>2019-02-01</td>\n",
              "      <td>319</td>\n",
              "    </tr>\n",
              "    <tr>\n",
              "      <th>1506</th>\n",
              "      <td>2019-02-02</td>\n",
              "      <td>429</td>\n",
              "    </tr>\n",
              "    <tr>\n",
              "      <th>1507</th>\n",
              "      <td>2019-02-03</td>\n",
              "      <td>299</td>\n",
              "    </tr>\n",
              "    <tr>\n",
              "      <th>1508</th>\n",
              "      <td>2019-02-04</td>\n",
              "      <td>280</td>\n",
              "    </tr>\n",
              "    <tr>\n",
              "      <th>1509</th>\n",
              "      <td>2019-02-05</td>\n",
              "      <td>262</td>\n",
              "    </tr>\n",
              "    <tr>\n",
              "      <th>1510</th>\n",
              "      <td>2019-02-06</td>\n",
              "      <td>229</td>\n",
              "    </tr>\n",
              "    <tr>\n",
              "      <th>1511</th>\n",
              "      <td>2019-02-07</td>\n",
              "      <td>258</td>\n",
              "    </tr>\n",
              "    <tr>\n",
              "      <th>1512</th>\n",
              "      <td>2019-02-08</td>\n",
              "      <td>353</td>\n",
              "    </tr>\n",
              "    <tr>\n",
              "      <th>1513</th>\n",
              "      <td>2019-02-09</td>\n",
              "      <td>327</td>\n",
              "    </tr>\n",
              "    <tr>\n",
              "      <th>1514</th>\n",
              "      <td>2019-02-10</td>\n",
              "      <td>332</td>\n",
              "    </tr>\n",
              "    <tr>\n",
              "      <th>1515</th>\n",
              "      <td>2019-02-11</td>\n",
              "      <td>306</td>\n",
              "    </tr>\n",
              "    <tr>\n",
              "      <th>1516</th>\n",
              "      <td>2019-02-12</td>\n",
              "      <td>263</td>\n",
              "    </tr>\n",
              "    <tr>\n",
              "      <th>1517</th>\n",
              "      <td>2019-02-13</td>\n",
              "      <td>317</td>\n",
              "    </tr>\n",
              "    <tr>\n",
              "      <th>1518</th>\n",
              "      <td>2019-02-14</td>\n",
              "      <td>302</td>\n",
              "    </tr>\n",
              "    <tr>\n",
              "      <th>1519</th>\n",
              "      <td>2019-02-15</td>\n",
              "      <td>376</td>\n",
              "    </tr>\n",
              "    <tr>\n",
              "      <th>1520</th>\n",
              "      <td>2019-02-16</td>\n",
              "      <td>362</td>\n",
              "    </tr>\n",
              "    <tr>\n",
              "      <th>1521</th>\n",
              "      <td>2019-02-17</td>\n",
              "      <td>400</td>\n",
              "    </tr>\n",
              "    <tr>\n",
              "      <th>1522</th>\n",
              "      <td>2019-02-18</td>\n",
              "      <td>318</td>\n",
              "    </tr>\n",
              "    <tr>\n",
              "      <th>1523</th>\n",
              "      <td>2019-02-19</td>\n",
              "      <td>269</td>\n",
              "    </tr>\n",
              "    <tr>\n",
              "      <th>1524</th>\n",
              "      <td>2019-02-20</td>\n",
              "      <td>249</td>\n",
              "    </tr>\n",
              "    <tr>\n",
              "      <th>1525</th>\n",
              "      <td>2019-02-21</td>\n",
              "      <td>259</td>\n",
              "    </tr>\n",
              "    <tr>\n",
              "      <th>1526</th>\n",
              "      <td>2019-02-22</td>\n",
              "      <td>347</td>\n",
              "    </tr>\n",
              "    <tr>\n",
              "      <th>1527</th>\n",
              "      <td>2019-02-23</td>\n",
              "      <td>327</td>\n",
              "    </tr>\n",
              "    <tr>\n",
              "      <th>1528</th>\n",
              "      <td>2019-02-24</td>\n",
              "      <td>369</td>\n",
              "    </tr>\n",
              "    <tr>\n",
              "      <th>1529</th>\n",
              "      <td>2019-02-25</td>\n",
              "      <td>308</td>\n",
              "    </tr>\n",
              "    <tr>\n",
              "      <th>1530</th>\n",
              "      <td>2019-02-26</td>\n",
              "      <td>270</td>\n",
              "    </tr>\n",
              "    <tr>\n",
              "      <th>1531</th>\n",
              "      <td>2019-02-27</td>\n",
              "      <td>222</td>\n",
              "    </tr>\n",
              "    <tr>\n",
              "      <th>1532</th>\n",
              "      <td>2019-02-28</td>\n",
              "      <td>175</td>\n",
              "    </tr>\n",
              "    <tr>\n",
              "      <th>1533</th>\n",
              "      <td>2019-03-01</td>\n",
              "      <td>81</td>\n",
              "    </tr>\n",
              "  </tbody>\n",
              "</table>\n",
              "<p>1534 rows × 2 columns</p>\n",
              "</div>"
            ],
            "text/plain": [
              "     checkin_date  num_reservations_resort_on_that_day\n",
              "0      2012-03-08                                    1\n",
              "1      2012-03-12                                    1\n",
              "2      2012-03-21                                    1\n",
              "3      2012-03-23                                    1\n",
              "4      2012-03-24                                    1\n",
              "5      2012-04-09                                    1\n",
              "6      2012-04-14                                    1\n",
              "7      2012-04-19                                    2\n",
              "8      2012-04-20                                    1\n",
              "9      2012-04-22                                    1\n",
              "10     2012-04-23                                    1\n",
              "11     2012-04-25                                    1\n",
              "12     2012-04-28                                    1\n",
              "13     2015-01-01                                  313\n",
              "14     2015-01-02                                  372\n",
              "15     2015-01-03                                  294\n",
              "16     2015-01-04                                  182\n",
              "17     2015-01-05                                  531\n",
              "18     2015-01-06                                  234\n",
              "19     2015-01-07                                  225\n",
              "20     2015-01-08                                  313\n",
              "21     2015-01-09                                  333\n",
              "22     2015-01-10                                  275\n",
              "23     2015-01-11                                  333\n",
              "24     2015-01-12                                  239\n",
              "25     2015-01-13                                  232\n",
              "26     2015-01-14                                  300\n",
              "27     2015-01-15                                  323\n",
              "28     2015-01-16                                  278\n",
              "29     2015-01-17                                  288\n",
              "...           ...                                  ...\n",
              "1504   2019-01-31                                  251\n",
              "1505   2019-02-01                                  319\n",
              "1506   2019-02-02                                  429\n",
              "1507   2019-02-03                                  299\n",
              "1508   2019-02-04                                  280\n",
              "1509   2019-02-05                                  262\n",
              "1510   2019-02-06                                  229\n",
              "1511   2019-02-07                                  258\n",
              "1512   2019-02-08                                  353\n",
              "1513   2019-02-09                                  327\n",
              "1514   2019-02-10                                  332\n",
              "1515   2019-02-11                                  306\n",
              "1516   2019-02-12                                  263\n",
              "1517   2019-02-13                                  317\n",
              "1518   2019-02-14                                  302\n",
              "1519   2019-02-15                                  376\n",
              "1520   2019-02-16                                  362\n",
              "1521   2019-02-17                                  400\n",
              "1522   2019-02-18                                  318\n",
              "1523   2019-02-19                                  269\n",
              "1524   2019-02-20                                  249\n",
              "1525   2019-02-21                                  259\n",
              "1526   2019-02-22                                  347\n",
              "1527   2019-02-23                                  327\n",
              "1528   2019-02-24                                  369\n",
              "1529   2019-02-25                                  308\n",
              "1530   2019-02-26                                  270\n",
              "1531   2019-02-27                                  222\n",
              "1532   2019-02-28                                  175\n",
              "1533   2019-03-01                                   81\n",
              "\n",
              "[1534 rows x 2 columns]"
            ]
          },
          "metadata": {
            "tags": []
          },
          "execution_count": 99
        }
      ]
    },
    {
      "cell_type": "code",
      "metadata": {
        "id": "Dw98SunYYdFj",
        "colab_type": "code",
        "colab": {}
      },
      "source": [
        "train=pd.merge(train,num_reservations,on='checkin_date',how='left')\n"
      ],
      "execution_count": 0,
      "outputs": []
    },
    {
      "cell_type": "code",
      "metadata": {
        "id": "_YJCFGwbYmCT",
        "colab_type": "code",
        "colab": {}
      },
      "source": [
        "test=pd.merge(test,num_reservations,on='checkin_date',how='left')\n"
      ],
      "execution_count": 0,
      "outputs": []
    },
    {
      "cell_type": "code",
      "metadata": {
        "id": "XTn5uALcYrEp",
        "colab_type": "code",
        "colab": {
          "base_uri": "https://localhost:8080/",
          "height": 270
        },
        "outputId": "77dbed86-c97d-410d-dbc2-6f588e3fd634"
      },
      "source": [
        "train.head()"
      ],
      "execution_count": 102,
      "outputs": [
        {
          "output_type": "execute_result",
          "data": {
            "text/html": [
              "<div>\n",
              "<style scoped>\n",
              "    .dataframe tbody tr th:only-of-type {\n",
              "        vertical-align: middle;\n",
              "    }\n",
              "\n",
              "    .dataframe tbody tr th {\n",
              "        vertical-align: top;\n",
              "    }\n",
              "\n",
              "    .dataframe thead th {\n",
              "        text-align: right;\n",
              "    }\n",
              "</style>\n",
              "<table border=\"1\" class=\"dataframe\">\n",
              "  <thead>\n",
              "    <tr style=\"text-align: right;\">\n",
              "      <th></th>\n",
              "      <th>Unnamed: 0</th>\n",
              "      <th>reservation_id</th>\n",
              "      <th>booking_date</th>\n",
              "      <th>checkin_date</th>\n",
              "      <th>checkout_date</th>\n",
              "      <th>channel_code</th>\n",
              "      <th>main_product_code</th>\n",
              "      <th>numberofadults</th>\n",
              "      <th>numberofchildren</th>\n",
              "      <th>persontravellingid</th>\n",
              "      <th>...</th>\n",
              "      <th>dataset</th>\n",
              "      <th>season_holidayed_code_new</th>\n",
              "      <th>diff_booking_checkin_days</th>\n",
              "      <th>days_of_stay</th>\n",
              "      <th>first_booking_date</th>\n",
              "      <th>is_first_booking</th>\n",
              "      <th>total_visitors</th>\n",
              "      <th>visitors_pax_ratio</th>\n",
              "      <th>is_resort_state_same_member_state</th>\n",
              "      <th>num_reservations_resort_on_that_day</th>\n",
              "    </tr>\n",
              "  </thead>\n",
              "  <tbody>\n",
              "    <tr>\n",
              "      <th>0</th>\n",
              "      <td>0</td>\n",
              "      <td>07659f3758d8aee27f5a7e2887adeacb67021cb95ada1b...</td>\n",
              "      <td>2018-04-05</td>\n",
              "      <td>2018-04-05</td>\n",
              "      <td>2018-04-06</td>\n",
              "      <td>3</td>\n",
              "      <td>1</td>\n",
              "      <td>2</td>\n",
              "      <td>0</td>\n",
              "      <td>46</td>\n",
              "      <td>...</td>\n",
              "      <td>train</td>\n",
              "      <td>2.0</td>\n",
              "      <td>0</td>\n",
              "      <td>1</td>\n",
              "      <td>2015-01-23</td>\n",
              "      <td>0</td>\n",
              "      <td>2</td>\n",
              "      <td>0.666667</td>\n",
              "      <td>0</td>\n",
              "      <td>330</td>\n",
              "    </tr>\n",
              "    <tr>\n",
              "      <th>1</th>\n",
              "      <td>1</td>\n",
              "      <td>03930f033646d073462b35d411616323597715ac4fc398...</td>\n",
              "      <td>2015-01-23</td>\n",
              "      <td>2015-04-11</td>\n",
              "      <td>2015-04-16</td>\n",
              "      <td>1</td>\n",
              "      <td>1</td>\n",
              "      <td>2</td>\n",
              "      <td>0</td>\n",
              "      <td>46</td>\n",
              "      <td>...</td>\n",
              "      <td>train</td>\n",
              "      <td>2.0</td>\n",
              "      <td>78</td>\n",
              "      <td>5</td>\n",
              "      <td>2015-01-23</td>\n",
              "      <td>1</td>\n",
              "      <td>2</td>\n",
              "      <td>1.000000</td>\n",
              "      <td>0</td>\n",
              "      <td>394</td>\n",
              "    </tr>\n",
              "    <tr>\n",
              "      <th>2</th>\n",
              "      <td>2</td>\n",
              "      <td>d145a32920e6587ad95bfe299d80c0affa268220535aaf...</td>\n",
              "      <td>2015-01-28</td>\n",
              "      <td>2015-02-01</td>\n",
              "      <td>2015-02-05</td>\n",
              "      <td>1</td>\n",
              "      <td>1</td>\n",
              "      <td>2</td>\n",
              "      <td>0</td>\n",
              "      <td>47</td>\n",
              "      <td>...</td>\n",
              "      <td>train</td>\n",
              "      <td>2.0</td>\n",
              "      <td>4</td>\n",
              "      <td>4</td>\n",
              "      <td>2015-01-23</td>\n",
              "      <td>0</td>\n",
              "      <td>2</td>\n",
              "      <td>1.000000</td>\n",
              "      <td>0</td>\n",
              "      <td>272</td>\n",
              "    </tr>\n",
              "    <tr>\n",
              "      <th>3</th>\n",
              "      <td>3</td>\n",
              "      <td>cfd77f44811ed62f25a220b53324cdbafc662a4c9e5f04...</td>\n",
              "      <td>2015-05-02</td>\n",
              "      <td>2015-06-11</td>\n",
              "      <td>2015-06-16</td>\n",
              "      <td>1</td>\n",
              "      <td>1</td>\n",
              "      <td>2</td>\n",
              "      <td>2</td>\n",
              "      <td>46</td>\n",
              "      <td>...</td>\n",
              "      <td>train</td>\n",
              "      <td>2.0</td>\n",
              "      <td>40</td>\n",
              "      <td>5</td>\n",
              "      <td>2015-01-23</td>\n",
              "      <td>0</td>\n",
              "      <td>4</td>\n",
              "      <td>2.000000</td>\n",
              "      <td>0</td>\n",
              "      <td>274</td>\n",
              "    </tr>\n",
              "    <tr>\n",
              "      <th>4</th>\n",
              "      <td>4</td>\n",
              "      <td>937cff9e4dcfc2459620153dfc8b9962ac22bea67dfb29...</td>\n",
              "      <td>2015-09-02</td>\n",
              "      <td>2015-12-14</td>\n",
              "      <td>2015-12-19</td>\n",
              "      <td>1</td>\n",
              "      <td>1</td>\n",
              "      <td>2</td>\n",
              "      <td>0</td>\n",
              "      <td>46</td>\n",
              "      <td>...</td>\n",
              "      <td>train</td>\n",
              "      <td>2.0</td>\n",
              "      <td>103</td>\n",
              "      <td>5</td>\n",
              "      <td>2015-01-23</td>\n",
              "      <td>0</td>\n",
              "      <td>2</td>\n",
              "      <td>1.000000</td>\n",
              "      <td>0</td>\n",
              "      <td>270</td>\n",
              "    </tr>\n",
              "  </tbody>\n",
              "</table>\n",
              "<p>5 rows × 50 columns</p>\n",
              "</div>"
            ],
            "text/plain": [
              "   Unnamed: 0                                     reservation_id booking_date  \\\n",
              "0           0  07659f3758d8aee27f5a7e2887adeacb67021cb95ada1b...   2018-04-05   \n",
              "1           1  03930f033646d073462b35d411616323597715ac4fc398...   2015-01-23   \n",
              "2           2  d145a32920e6587ad95bfe299d80c0affa268220535aaf...   2015-01-28   \n",
              "3           3  cfd77f44811ed62f25a220b53324cdbafc662a4c9e5f04...   2015-05-02   \n",
              "4           4  937cff9e4dcfc2459620153dfc8b9962ac22bea67dfb29...   2015-09-02   \n",
              "\n",
              "  checkin_date checkout_date  channel_code  main_product_code  numberofadults  \\\n",
              "0   2018-04-05    2018-04-06             3                  1               2   \n",
              "1   2015-04-11    2015-04-16             1                  1               2   \n",
              "2   2015-02-01    2015-02-05             1                  1               2   \n",
              "3   2015-06-11    2015-06-16             1                  1               2   \n",
              "4   2015-12-14    2015-12-19             1                  1               2   \n",
              "\n",
              "   numberofchildren  persontravellingid  ...  dataset  \\\n",
              "0                 0                  46  ...    train   \n",
              "1                 0                  46  ...    train   \n",
              "2                 0                  47  ...    train   \n",
              "3                 2                  46  ...    train   \n",
              "4                 0                  46  ...    train   \n",
              "\n",
              "   season_holidayed_code_new  diff_booking_checkin_days  days_of_stay  \\\n",
              "0                        2.0                          0             1   \n",
              "1                        2.0                         78             5   \n",
              "2                        2.0                          4             4   \n",
              "3                        2.0                         40             5   \n",
              "4                        2.0                        103             5   \n",
              "\n",
              "   first_booking_date  is_first_booking  total_visitors  visitors_pax_ratio  \\\n",
              "0          2015-01-23                 0               2            0.666667   \n",
              "1          2015-01-23                 1               2            1.000000   \n",
              "2          2015-01-23                 0               2            1.000000   \n",
              "3          2015-01-23                 0               4            2.000000   \n",
              "4          2015-01-23                 0               2            1.000000   \n",
              "\n",
              "  is_resort_state_same_member_state  num_reservations_resort_on_that_day  \n",
              "0                                 0                                  330  \n",
              "1                                 0                                  394  \n",
              "2                                 0                                  272  \n",
              "3                                 0                                  274  \n",
              "4                                 0                                  270  \n",
              "\n",
              "[5 rows x 50 columns]"
            ]
          },
          "metadata": {
            "tags": []
          },
          "execution_count": 102
        }
      ]
    },
    {
      "cell_type": "code",
      "metadata": {
        "id": "4t8_38KXYoPF",
        "colab_type": "code",
        "colab": {
          "base_uri": "https://localhost:8080/",
          "height": 34
        },
        "outputId": "08f661f0-22fd-41db-d43d-8b66c50c7713"
      },
      "source": [
        "train.shape"
      ],
      "execution_count": 103,
      "outputs": [
        {
          "output_type": "execute_result",
          "data": {
            "text/plain": [
              "(341424, 50)"
            ]
          },
          "metadata": {
            "tags": []
          },
          "execution_count": 103
        }
      ]
    },
    {
      "cell_type": "markdown",
      "metadata": {
        "id": "cTX-Iow8YyCq",
        "colab_type": "text"
      },
      "source": [
        "## How many different resorts a member has booked??"
      ]
    },
    {
      "cell_type": "code",
      "metadata": {
        "id": "pCEqRbVkYqeD",
        "colab_type": "code",
        "colab": {}
      },
      "source": [
        "num_resorts_booked=data.groupby(['memberid'])['resort_id'].nunique().reset_index().rename(columns={'resort_id':'num_unique_resorts_booked_by_member'})\n"
      ],
      "execution_count": 0,
      "outputs": []
    },
    {
      "cell_type": "code",
      "metadata": {
        "id": "aLs72gQrY01W",
        "colab_type": "code",
        "colab": {}
      },
      "source": [
        "\n",
        "train=pd.merge(train,num_resorts_booked,on='memberid',how='left')\n",
        "test=pd.merge(test,num_resorts_booked,on='memberid',how='left')"
      ],
      "execution_count": 0,
      "outputs": []
    },
    {
      "cell_type": "code",
      "metadata": {
        "id": "LTyBgKFnY4Os",
        "colab_type": "code",
        "colab": {
          "base_uri": "https://localhost:8080/",
          "height": 357
        },
        "outputId": "82fba6ab-912d-4b8a-e701-9a264461cb60"
      },
      "source": [
        "train.columns"
      ],
      "execution_count": 106,
      "outputs": [
        {
          "output_type": "execute_result",
          "data": {
            "text/plain": [
              "Index(['Unnamed: 0', 'reservation_id', 'booking_date', 'checkin_date',\n",
              "       'checkout_date', 'channel_code', 'main_product_code', 'numberofadults',\n",
              "       'numberofchildren', 'persontravellingid', 'resort_region_code',\n",
              "       'resort_type_code', 'room_type_booked_code', 'roomnights',\n",
              "       'season_holidayed_code', 'state_code_residence', 'state_code_resort',\n",
              "       'total_pax', 'member_age_buckets', 'booking_type_code', 'memberid',\n",
              "       'cluster_code', 'reservationstatusid_code', 'resort_id',\n",
              "       'amount_spent_per_room_night_scaled', 'booking_date_year',\n",
              "       'booking_date_day', 'booking_date_month', 'booking_date_dayofweek',\n",
              "       'booking_date_isweekend', 'checkin_date_year', 'checkin_date_day',\n",
              "       'checkin_date_month', 'checkin_date_dayofweek',\n",
              "       'checkin_date_isweekend', 'checkout_date_year', 'checkout_date_day',\n",
              "       'checkout_date_month', 'checkout_date_dayofweek',\n",
              "       'checkout_date_isweekend', 'dataset', 'season_holidayed_code_new',\n",
              "       'diff_booking_checkin_days', 'days_of_stay', 'first_booking_date',\n",
              "       'is_first_booking', 'total_visitors', 'visitors_pax_ratio',\n",
              "       'is_resort_state_same_member_state',\n",
              "       'num_reservations_resort_on_that_day',\n",
              "       'num_unique_resorts_booked_by_member'],\n",
              "      dtype='object')"
            ]
          },
          "metadata": {
            "tags": []
          },
          "execution_count": 106
        }
      ]
    },
    {
      "cell_type": "code",
      "metadata": {
        "id": "XWGrVGVWY9Pr",
        "colab_type": "code",
        "colab": {
          "base_uri": "https://localhost:8080/",
          "height": 102
        },
        "outputId": "6be48aa6-1999-4d2d-ec72-903d1b5b76c1"
      },
      "source": [
        "train['reservationstatusid_code'].value_counts()\n"
      ],
      "execution_count": 107,
      "outputs": [
        {
          "output_type": "execute_result",
          "data": {
            "text/plain": [
              "A    312481\n",
              "B     14811\n",
              "C     14131\n",
              "D         1\n",
              "Name: reservationstatusid_code, dtype: int64"
            ]
          },
          "metadata": {
            "tags": []
          },
          "execution_count": 107
        }
      ]
    },
    {
      "cell_type": "code",
      "metadata": {
        "id": "JN4u2dUlY9zM",
        "colab_type": "code",
        "colab": {
          "base_uri": "https://localhost:8080/",
          "height": 85
        },
        "outputId": "5996227d-fc4d-45f0-a91d-f9181783011a"
      },
      "source": [
        "test['reservationstatusid_code'].value_counts()\n"
      ],
      "execution_count": 108,
      "outputs": [
        {
          "output_type": "execute_result",
          "data": {
            "text/plain": [
              "A    134262\n",
              "B      6429\n",
              "C      6074\n",
              "Name: reservationstatusid_code, dtype: int64"
            ]
          },
          "metadata": {
            "tags": []
          },
          "execution_count": 108
        }
      ]
    },
    {
      "cell_type": "markdown",
      "metadata": {
        "id": "fWvfn5rVZEiG",
        "colab_type": "text"
      },
      "source": [
        "We can drop row with reservationstatusid_code= D from the datset as it has only one value."
      ]
    },
    {
      "cell_type": "code",
      "metadata": {
        "id": "qD2M0e4jZBFC",
        "colab_type": "code",
        "colab": {
          "base_uri": "https://localhost:8080/",
          "height": 34
        },
        "outputId": "298c7e32-9295-4550-c1a3-cf619a14eb22"
      },
      "source": [
        "train=train[train['reservationstatusid_code']!='D']\n",
        "train.shape"
      ],
      "execution_count": 109,
      "outputs": [
        {
          "output_type": "execute_result",
          "data": {
            "text/plain": [
              "(341423, 51)"
            ]
          },
          "metadata": {
            "tags": []
          },
          "execution_count": 109
        }
      ]
    },
    {
      "cell_type": "markdown",
      "metadata": {
        "id": "_H77zB_zZNIq",
        "colab_type": "text"
      },
      "source": [
        "## Number of resorts in the region?"
      ]
    },
    {
      "cell_type": "code",
      "metadata": {
        "id": "Tm2Vgcm4ZJYL",
        "colab_type": "code",
        "colab": {}
      },
      "source": [
        "num_resorts_region=data.groupby(['resort_region_code'])['resort_id'].nunique().reset_index().rename(columns={'resort_id':\n",
        "                                                                                                           'num_resorts_region'})"
      ],
      "execution_count": 0,
      "outputs": []
    },
    {
      "cell_type": "code",
      "metadata": {
        "id": "zE0sGARQZJ5n",
        "colab_type": "code",
        "colab": {}
      },
      "source": [
        "train=pd.merge(train,num_resorts_region,on='resort_region_code',how='left')\n"
      ],
      "execution_count": 0,
      "outputs": []
    },
    {
      "cell_type": "code",
      "metadata": {
        "id": "Bhdn_D9JZJ3j",
        "colab_type": "code",
        "colab": {}
      },
      "source": [
        "test=pd.merge(test,num_resorts_region,on='resort_region_code',how='left')\n"
      ],
      "execution_count": 0,
      "outputs": []
    },
    {
      "cell_type": "markdown",
      "metadata": {
        "id": "gt49idWrZpD6",
        "colab_type": "text"
      },
      "source": [
        "## Number of resorts booked on a particular checkin date?"
      ]
    },
    {
      "cell_type": "code",
      "metadata": {
        "id": "ToWOglihZJ1V",
        "colab_type": "code",
        "colab": {}
      },
      "source": [
        "num_resorts_booked=data.groupby(['resort_region_code','checkin_date'])['resort_id'].nunique().reset_index().rename(columns={'resort_id':'num_resorts_booked'})\n"
      ],
      "execution_count": 0,
      "outputs": []
    },
    {
      "cell_type": "code",
      "metadata": {
        "id": "-tXk2SOpZJzP",
        "colab_type": "code",
        "colab": {}
      },
      "source": [
        "train=pd.merge(train,num_resorts_booked,on=['resort_region_code','checkin_date'],how='left')\n"
      ],
      "execution_count": 0,
      "outputs": []
    },
    {
      "cell_type": "code",
      "metadata": {
        "id": "2-szsHXOZJws",
        "colab_type": "code",
        "colab": {}
      },
      "source": [
        "test=pd.merge(test,num_resorts_booked,on=['resort_region_code','checkin_date'],how='left')\n"
      ],
      "execution_count": 0,
      "outputs": []
    },
    {
      "cell_type": "code",
      "metadata": {
        "id": "IfeOiLspZJuQ",
        "colab_type": "code",
        "colab": {
          "base_uri": "https://localhost:8080/",
          "height": 34
        },
        "outputId": "20ecd3df-f78b-4f7b-842a-b7c9261d3d88"
      },
      "source": [
        "test.shape\n"
      ],
      "execution_count": 116,
      "outputs": [
        {
          "output_type": "execute_result",
          "data": {
            "text/plain": [
              "(146765, 53)"
            ]
          },
          "metadata": {
            "tags": []
          },
          "execution_count": 116
        }
      ]
    },
    {
      "cell_type": "code",
      "metadata": {
        "id": "fYNEA1Z3Z5gc",
        "colab_type": "code",
        "colab": {
          "base_uri": "https://localhost:8080/",
          "height": 270
        },
        "outputId": "e431f9db-bacf-4c36-c9f2-92607ff97e9f"
      },
      "source": [
        "train.head()"
      ],
      "execution_count": 117,
      "outputs": [
        {
          "output_type": "execute_result",
          "data": {
            "text/html": [
              "<div>\n",
              "<style scoped>\n",
              "    .dataframe tbody tr th:only-of-type {\n",
              "        vertical-align: middle;\n",
              "    }\n",
              "\n",
              "    .dataframe tbody tr th {\n",
              "        vertical-align: top;\n",
              "    }\n",
              "\n",
              "    .dataframe thead th {\n",
              "        text-align: right;\n",
              "    }\n",
              "</style>\n",
              "<table border=\"1\" class=\"dataframe\">\n",
              "  <thead>\n",
              "    <tr style=\"text-align: right;\">\n",
              "      <th></th>\n",
              "      <th>Unnamed: 0</th>\n",
              "      <th>reservation_id</th>\n",
              "      <th>booking_date</th>\n",
              "      <th>checkin_date</th>\n",
              "      <th>checkout_date</th>\n",
              "      <th>channel_code</th>\n",
              "      <th>main_product_code</th>\n",
              "      <th>numberofadults</th>\n",
              "      <th>numberofchildren</th>\n",
              "      <th>persontravellingid</th>\n",
              "      <th>...</th>\n",
              "      <th>days_of_stay</th>\n",
              "      <th>first_booking_date</th>\n",
              "      <th>is_first_booking</th>\n",
              "      <th>total_visitors</th>\n",
              "      <th>visitors_pax_ratio</th>\n",
              "      <th>is_resort_state_same_member_state</th>\n",
              "      <th>num_reservations_resort_on_that_day</th>\n",
              "      <th>num_unique_resorts_booked_by_member</th>\n",
              "      <th>num_resorts_region</th>\n",
              "      <th>num_resorts_booked</th>\n",
              "    </tr>\n",
              "  </thead>\n",
              "  <tbody>\n",
              "    <tr>\n",
              "      <th>0</th>\n",
              "      <td>0</td>\n",
              "      <td>07659f3758d8aee27f5a7e2887adeacb67021cb95ada1b...</td>\n",
              "      <td>2018-04-05</td>\n",
              "      <td>2018-04-05</td>\n",
              "      <td>2018-04-06</td>\n",
              "      <td>3</td>\n",
              "      <td>1</td>\n",
              "      <td>2</td>\n",
              "      <td>0</td>\n",
              "      <td>46</td>\n",
              "      <td>...</td>\n",
              "      <td>1</td>\n",
              "      <td>2015-01-23</td>\n",
              "      <td>0</td>\n",
              "      <td>2</td>\n",
              "      <td>0.666667</td>\n",
              "      <td>0</td>\n",
              "      <td>330</td>\n",
              "      <td>10</td>\n",
              "      <td>10</td>\n",
              "      <td>10</td>\n",
              "    </tr>\n",
              "    <tr>\n",
              "      <th>1</th>\n",
              "      <td>1</td>\n",
              "      <td>03930f033646d073462b35d411616323597715ac4fc398...</td>\n",
              "      <td>2015-01-23</td>\n",
              "      <td>2015-04-11</td>\n",
              "      <td>2015-04-16</td>\n",
              "      <td>1</td>\n",
              "      <td>1</td>\n",
              "      <td>2</td>\n",
              "      <td>0</td>\n",
              "      <td>46</td>\n",
              "      <td>...</td>\n",
              "      <td>5</td>\n",
              "      <td>2015-01-23</td>\n",
              "      <td>1</td>\n",
              "      <td>2</td>\n",
              "      <td>1.000000</td>\n",
              "      <td>0</td>\n",
              "      <td>394</td>\n",
              "      <td>10</td>\n",
              "      <td>10</td>\n",
              "      <td>8</td>\n",
              "    </tr>\n",
              "    <tr>\n",
              "      <th>2</th>\n",
              "      <td>2</td>\n",
              "      <td>d145a32920e6587ad95bfe299d80c0affa268220535aaf...</td>\n",
              "      <td>2015-01-28</td>\n",
              "      <td>2015-02-01</td>\n",
              "      <td>2015-02-05</td>\n",
              "      <td>1</td>\n",
              "      <td>1</td>\n",
              "      <td>2</td>\n",
              "      <td>0</td>\n",
              "      <td>47</td>\n",
              "      <td>...</td>\n",
              "      <td>4</td>\n",
              "      <td>2015-01-23</td>\n",
              "      <td>0</td>\n",
              "      <td>2</td>\n",
              "      <td>1.000000</td>\n",
              "      <td>0</td>\n",
              "      <td>272</td>\n",
              "      <td>10</td>\n",
              "      <td>12</td>\n",
              "      <td>9</td>\n",
              "    </tr>\n",
              "    <tr>\n",
              "      <th>3</th>\n",
              "      <td>3</td>\n",
              "      <td>cfd77f44811ed62f25a220b53324cdbafc662a4c9e5f04...</td>\n",
              "      <td>2015-05-02</td>\n",
              "      <td>2015-06-11</td>\n",
              "      <td>2015-06-16</td>\n",
              "      <td>1</td>\n",
              "      <td>1</td>\n",
              "      <td>2</td>\n",
              "      <td>2</td>\n",
              "      <td>46</td>\n",
              "      <td>...</td>\n",
              "      <td>5</td>\n",
              "      <td>2015-01-23</td>\n",
              "      <td>0</td>\n",
              "      <td>4</td>\n",
              "      <td>2.000000</td>\n",
              "      <td>0</td>\n",
              "      <td>274</td>\n",
              "      <td>10</td>\n",
              "      <td>10</td>\n",
              "      <td>7</td>\n",
              "    </tr>\n",
              "    <tr>\n",
              "      <th>4</th>\n",
              "      <td>4</td>\n",
              "      <td>937cff9e4dcfc2459620153dfc8b9962ac22bea67dfb29...</td>\n",
              "      <td>2015-09-02</td>\n",
              "      <td>2015-12-14</td>\n",
              "      <td>2015-12-19</td>\n",
              "      <td>1</td>\n",
              "      <td>1</td>\n",
              "      <td>2</td>\n",
              "      <td>0</td>\n",
              "      <td>46</td>\n",
              "      <td>...</td>\n",
              "      <td>5</td>\n",
              "      <td>2015-01-23</td>\n",
              "      <td>0</td>\n",
              "      <td>2</td>\n",
              "      <td>1.000000</td>\n",
              "      <td>0</td>\n",
              "      <td>270</td>\n",
              "      <td>10</td>\n",
              "      <td>10</td>\n",
              "      <td>7</td>\n",
              "    </tr>\n",
              "  </tbody>\n",
              "</table>\n",
              "<p>5 rows × 53 columns</p>\n",
              "</div>"
            ],
            "text/plain": [
              "   Unnamed: 0                                     reservation_id booking_date  \\\n",
              "0           0  07659f3758d8aee27f5a7e2887adeacb67021cb95ada1b...   2018-04-05   \n",
              "1           1  03930f033646d073462b35d411616323597715ac4fc398...   2015-01-23   \n",
              "2           2  d145a32920e6587ad95bfe299d80c0affa268220535aaf...   2015-01-28   \n",
              "3           3  cfd77f44811ed62f25a220b53324cdbafc662a4c9e5f04...   2015-05-02   \n",
              "4           4  937cff9e4dcfc2459620153dfc8b9962ac22bea67dfb29...   2015-09-02   \n",
              "\n",
              "  checkin_date checkout_date  channel_code  main_product_code  numberofadults  \\\n",
              "0   2018-04-05    2018-04-06             3                  1               2   \n",
              "1   2015-04-11    2015-04-16             1                  1               2   \n",
              "2   2015-02-01    2015-02-05             1                  1               2   \n",
              "3   2015-06-11    2015-06-16             1                  1               2   \n",
              "4   2015-12-14    2015-12-19             1                  1               2   \n",
              "\n",
              "   numberofchildren  persontravellingid  ...  days_of_stay  \\\n",
              "0                 0                  46  ...             1   \n",
              "1                 0                  46  ...             5   \n",
              "2                 0                  47  ...             4   \n",
              "3                 2                  46  ...             5   \n",
              "4                 0                  46  ...             5   \n",
              "\n",
              "   first_booking_date  is_first_booking  total_visitors  visitors_pax_ratio  \\\n",
              "0          2015-01-23                 0               2            0.666667   \n",
              "1          2015-01-23                 1               2            1.000000   \n",
              "2          2015-01-23                 0               2            1.000000   \n",
              "3          2015-01-23                 0               4            2.000000   \n",
              "4          2015-01-23                 0               2            1.000000   \n",
              "\n",
              "   is_resort_state_same_member_state  num_reservations_resort_on_that_day  \\\n",
              "0                                  0                                  330   \n",
              "1                                  0                                  394   \n",
              "2                                  0                                  272   \n",
              "3                                  0                                  274   \n",
              "4                                  0                                  270   \n",
              "\n",
              "   num_unique_resorts_booked_by_member num_resorts_region  num_resorts_booked  \n",
              "0                                   10                 10                  10  \n",
              "1                                   10                 10                   8  \n",
              "2                                   10                 12                   9  \n",
              "3                                   10                 10                   7  \n",
              "4                                   10                 10                   7  \n",
              "\n",
              "[5 rows x 53 columns]"
            ]
          },
          "metadata": {
            "tags": []
          },
          "execution_count": 117
        }
      ]
    },
    {
      "cell_type": "code",
      "metadata": {
        "id": "B0gQDXJpaH1p",
        "colab_type": "code",
        "colab": {
          "base_uri": "https://localhost:8080/",
          "height": 34
        },
        "outputId": "b34dd276-4764-48c0-c3c5-3ee477c8216b"
      },
      "source": [
        "test.shape"
      ],
      "execution_count": 118,
      "outputs": [
        {
          "output_type": "execute_result",
          "data": {
            "text/plain": [
              "(146765, 53)"
            ]
          },
          "metadata": {
            "tags": []
          },
          "execution_count": 118
        }
      ]
    },
    {
      "cell_type": "code",
      "metadata": {
        "id": "WbL_OYUiaJbY",
        "colab_type": "code",
        "colab": {
          "base_uri": "https://localhost:8080/",
          "height": 34
        },
        "outputId": "356aef7c-a881-471d-c5d7-b02b57121f29"
      },
      "source": [
        "train.shape"
      ],
      "execution_count": 119,
      "outputs": [
        {
          "output_type": "execute_result",
          "data": {
            "text/plain": [
              "(341423, 53)"
            ]
          },
          "metadata": {
            "tags": []
          },
          "execution_count": 119
        }
      ]
    },
    {
      "cell_type": "code",
      "metadata": {
        "id": "wdAicPpTaYSV",
        "colab_type": "code",
        "colab": {
          "base_uri": "https://localhost:8080/",
          "height": 374
        },
        "outputId": "51e11cf9-78be-4f12-ccc4-7360a3bcb870"
      },
      "source": [
        "test.columns"
      ],
      "execution_count": 120,
      "outputs": [
        {
          "output_type": "execute_result",
          "data": {
            "text/plain": [
              "Index(['Unnamed: 0', 'reservation_id', 'booking_date', 'checkin_date',\n",
              "       'checkout_date', 'channel_code', 'main_product_code', 'numberofadults',\n",
              "       'numberofchildren', 'persontravellingid', 'resort_region_code',\n",
              "       'resort_type_code', 'room_type_booked_code', 'roomnights',\n",
              "       'season_holidayed_code', 'state_code_residence', 'state_code_resort',\n",
              "       'total_pax', 'member_age_buckets', 'booking_type_code', 'memberid',\n",
              "       'cluster_code', 'reservationstatusid_code', 'resort_id',\n",
              "       'booking_date_year', 'booking_date_day', 'booking_date_month',\n",
              "       'booking_date_dayofweek', 'booking_date_isweekend', 'checkin_date_year',\n",
              "       'checkin_date_day', 'checkin_date_month', 'checkin_date_dayofweek',\n",
              "       'checkin_date_isweekend', 'checkout_date_year', 'checkout_date_day',\n",
              "       'checkout_date_month', 'checkout_date_dayofweek',\n",
              "       'checkout_date_isweekend', 'amount_spent_per_room_night_scaled',\n",
              "       'dataset', 'season_holidayed_code_new', 'diff_booking_checkin_days',\n",
              "       'days_of_stay', 'first_booking_date', 'is_first_booking',\n",
              "       'total_visitors', 'visitors_pax_ratio',\n",
              "       'is_resort_state_same_member_state',\n",
              "       'num_reservations_resort_on_that_day',\n",
              "       'num_unique_resorts_booked_by_member', 'num_resorts_region',\n",
              "       'num_resorts_booked'],\n",
              "      dtype='object')"
            ]
          },
          "metadata": {
            "tags": []
          },
          "execution_count": 120
        }
      ]
    },
    {
      "cell_type": "code",
      "metadata": {
        "id": "H6nwDISmagnK",
        "colab_type": "code",
        "colab": {
          "base_uri": "https://localhost:8080/",
          "height": 374
        },
        "outputId": "4e82526e-e255-4cc2-ff6e-ae502d0fae9b"
      },
      "source": [
        "train.columns"
      ],
      "execution_count": 121,
      "outputs": [
        {
          "output_type": "execute_result",
          "data": {
            "text/plain": [
              "Index(['Unnamed: 0', 'reservation_id', 'booking_date', 'checkin_date',\n",
              "       'checkout_date', 'channel_code', 'main_product_code', 'numberofadults',\n",
              "       'numberofchildren', 'persontravellingid', 'resort_region_code',\n",
              "       'resort_type_code', 'room_type_booked_code', 'roomnights',\n",
              "       'season_holidayed_code', 'state_code_residence', 'state_code_resort',\n",
              "       'total_pax', 'member_age_buckets', 'booking_type_code', 'memberid',\n",
              "       'cluster_code', 'reservationstatusid_code', 'resort_id',\n",
              "       'amount_spent_per_room_night_scaled', 'booking_date_year',\n",
              "       'booking_date_day', 'booking_date_month', 'booking_date_dayofweek',\n",
              "       'booking_date_isweekend', 'checkin_date_year', 'checkin_date_day',\n",
              "       'checkin_date_month', 'checkin_date_dayofweek',\n",
              "       'checkin_date_isweekend', 'checkout_date_year', 'checkout_date_day',\n",
              "       'checkout_date_month', 'checkout_date_dayofweek',\n",
              "       'checkout_date_isweekend', 'dataset', 'season_holidayed_code_new',\n",
              "       'diff_booking_checkin_days', 'days_of_stay', 'first_booking_date',\n",
              "       'is_first_booking', 'total_visitors', 'visitors_pax_ratio',\n",
              "       'is_resort_state_same_member_state',\n",
              "       'num_reservations_resort_on_that_day',\n",
              "       'num_unique_resorts_booked_by_member', 'num_resorts_region',\n",
              "       'num_resorts_booked'],\n",
              "      dtype='object')"
            ]
          },
          "metadata": {
            "tags": []
          },
          "execution_count": 121
        }
      ]
    },
    {
      "cell_type": "code",
      "metadata": {
        "id": "dyqeUxpFUy12",
        "colab_type": "code",
        "colab": {
          "base_uri": "https://localhost:8080/",
          "height": 457
        },
        "outputId": "7a44d12e-8268-4460-dde3-bb6d5c015058"
      },
      "source": [
        "train.head()"
      ],
      "execution_count": 141,
      "outputs": [
        {
          "output_type": "display_data",
          "data": {
            "text/html": [
              "<table>\n",
              "<thead>\n",
              "<tr><th style=\"text-align: right;\">  Unnamed: 0</th><th>reservation_id                                                  </th><th>booking_date       </th><th>checkin_date       </th><th>checkout_date      </th><th style=\"text-align: right;\">  channel_code</th><th style=\"text-align: right;\">  main_product_code</th><th style=\"text-align: right;\">  numberofadults</th><th style=\"text-align: right;\">  numberofchildren</th><th style=\"text-align: right;\">  persontravellingid</th><th style=\"text-align: right;\">  resort_region_code</th><th style=\"text-align: right;\">  resort_type_code</th><th style=\"text-align: right;\">  room_type_booked_code</th><th style=\"text-align: right;\">  roomnights</th><th style=\"text-align: right;\">  season_holidayed_code</th><th style=\"text-align: right;\">  state_code_residence</th><th style=\"text-align: right;\">  state_code_resort</th><th style=\"text-align: right;\">  total_pax</th><th>member_age_buckets  </th><th style=\"text-align: right;\">  booking_type_code</th><th>memberid                                                        </th><th>cluster_code  </th><th>reservationstatusid_code  </th><th>resort_id                                                       </th><th style=\"text-align: right;\">  amount_spent_per_room_night_scaled</th><th style=\"text-align: right;\">  booking_date_year</th><th style=\"text-align: right;\">  booking_date_day</th><th style=\"text-align: right;\">  booking_date_month</th><th style=\"text-align: right;\">  booking_date_dayofweek</th><th style=\"text-align: right;\">  booking_date_isweekend</th><th style=\"text-align: right;\">  checkin_date_year</th><th style=\"text-align: right;\">  checkin_date_day</th><th style=\"text-align: right;\">  checkin_date_month</th><th style=\"text-align: right;\">  checkin_date_dayofweek</th><th style=\"text-align: right;\">  checkin_date_isweekend</th><th style=\"text-align: right;\">  checkout_date_year</th><th style=\"text-align: right;\">  checkout_date_day</th><th style=\"text-align: right;\">  checkout_date_month</th><th style=\"text-align: right;\">  checkout_date_dayofweek</th><th style=\"text-align: right;\">  checkout_date_isweekend</th><th>dataset  </th><th style=\"text-align: right;\">  season_holidayed_code_new</th><th style=\"text-align: right;\">  diff_booking_checkin_days</th><th style=\"text-align: right;\">  days_of_stay</th><th>first_booking_date  </th><th style=\"text-align: right;\">  is_first_booking</th><th style=\"text-align: right;\">  total_visitors</th><th style=\"text-align: right;\">  visitors_pax_ratio</th><th style=\"text-align: right;\">  is_resort_state_same_member_state</th><th style=\"text-align: right;\">  num_reservations_resort_on_that_day</th><th style=\"text-align: right;\">  num_unique_resorts_booked_by_member</th><th style=\"text-align: right;\">  num_resorts_region</th><th style=\"text-align: right;\">  num_resorts_booked</th></tr>\n",
              "</thead>\n",
              "<tbody>\n",
              "<tr><td style=\"text-align: right;\">           0</td><td>07659f3758d8aee27f5a7e2887adeacb67021cb95ada1b752eebc9b50313e152</td><td>2018-04-05 00:00:00</td><td>2018-04-05 00:00:00</td><td>2018-04-06 00:00:00</td><td style=\"text-align: right;\">             3</td><td style=\"text-align: right;\">                  1</td><td style=\"text-align: right;\">               2</td><td style=\"text-align: right;\">                 0</td><td style=\"text-align: right;\">                  46</td><td style=\"text-align: right;\">                   3</td><td style=\"text-align: right;\">                 3</td><td style=\"text-align: right;\">                      3</td><td style=\"text-align: right;\">           1</td><td style=\"text-align: right;\">                      2</td><td style=\"text-align: right;\">                     7</td><td style=\"text-align: right;\">                  3</td><td style=\"text-align: right;\">          3</td><td>F                   </td><td style=\"text-align: right;\">                  1</td><td>3d1539e56495b6991f0a3ef5a61ca3d03ce4fff7380e9acf56eb3b04793d9ae5</td><td>F             </td><td>C                         </td><td>4e07408562bedb8b60ce05c1decfe3ad16b72230967de01f640b7e4729b49fce</td><td style=\"text-align: right;\">                             7.70643</td><td style=\"text-align: right;\">               2018</td><td style=\"text-align: right;\">                 5</td><td style=\"text-align: right;\">                   4</td><td style=\"text-align: right;\">                       3</td><td style=\"text-align: right;\">                       0</td><td style=\"text-align: right;\">               2018</td><td style=\"text-align: right;\">                 5</td><td style=\"text-align: right;\">                   4</td><td style=\"text-align: right;\">                       3</td><td style=\"text-align: right;\">                       0</td><td style=\"text-align: right;\">                2018</td><td style=\"text-align: right;\">                  6</td><td style=\"text-align: right;\">                    4</td><td style=\"text-align: right;\">                        4</td><td style=\"text-align: right;\">                        0</td><td>train    </td><td style=\"text-align: right;\">                          2</td><td style=\"text-align: right;\">                          0</td><td style=\"text-align: right;\">             1</td><td>2015-01-23 00:00:00 </td><td style=\"text-align: right;\">                 0</td><td style=\"text-align: right;\">               2</td><td style=\"text-align: right;\">            0.666667</td><td style=\"text-align: right;\">                                  0</td><td style=\"text-align: right;\">                                  330</td><td style=\"text-align: right;\">                                   10</td><td style=\"text-align: right;\">                  10</td><td style=\"text-align: right;\">                  10</td></tr>\n",
              "<tr><td style=\"text-align: right;\">           1</td><td>03930f033646d073462b35d411616323597715ac4fc3982021ff25387177a782</td><td>2015-01-23 00:00:00</td><td>2015-04-11 00:00:00</td><td>2015-04-16 00:00:00</td><td style=\"text-align: right;\">             1</td><td style=\"text-align: right;\">                  1</td><td style=\"text-align: right;\">               2</td><td style=\"text-align: right;\">                 0</td><td style=\"text-align: right;\">                  46</td><td style=\"text-align: right;\">                   3</td><td style=\"text-align: right;\">                 3</td><td style=\"text-align: right;\">                      4</td><td style=\"text-align: right;\">           5</td><td style=\"text-align: right;\">                      2</td><td style=\"text-align: right;\">                     7</td><td style=\"text-align: right;\">                  5</td><td style=\"text-align: right;\">          2</td><td>F                   </td><td style=\"text-align: right;\">                  1</td><td>3d1539e56495b6991f0a3ef5a61ca3d03ce4fff7380e9acf56eb3b04793d9ae5</td><td>F             </td><td>A                         </td><td>39fa9ec190eee7b6f4dff1100d6343e10918d044c75eac8f9e9a2596173f80c9</td><td style=\"text-align: right;\">                             6.66256</td><td style=\"text-align: right;\">               2015</td><td style=\"text-align: right;\">                23</td><td style=\"text-align: right;\">                   1</td><td style=\"text-align: right;\">                       4</td><td style=\"text-align: right;\">                       0</td><td style=\"text-align: right;\">               2015</td><td style=\"text-align: right;\">                11</td><td style=\"text-align: right;\">                   4</td><td style=\"text-align: right;\">                       5</td><td style=\"text-align: right;\">                       1</td><td style=\"text-align: right;\">                2015</td><td style=\"text-align: right;\">                 16</td><td style=\"text-align: right;\">                    4</td><td style=\"text-align: right;\">                        3</td><td style=\"text-align: right;\">                        0</td><td>train    </td><td style=\"text-align: right;\">                          2</td><td style=\"text-align: right;\">                         78</td><td style=\"text-align: right;\">             5</td><td>2015-01-23 00:00:00 </td><td style=\"text-align: right;\">                 1</td><td style=\"text-align: right;\">               2</td><td style=\"text-align: right;\">            1       </td><td style=\"text-align: right;\">                                  0</td><td style=\"text-align: right;\">                                  394</td><td style=\"text-align: right;\">                                   10</td><td style=\"text-align: right;\">                  10</td><td style=\"text-align: right;\">                   8</td></tr>\n",
              "<tr><td style=\"text-align: right;\">           2</td><td>d145a32920e6587ad95bfe299d80c0affa268220535aaf11ea2bb87c4b0100a4</td><td>2015-01-28 00:00:00</td><td>2015-02-01 00:00:00</td><td>2015-02-05 00:00:00</td><td style=\"text-align: right;\">             1</td><td style=\"text-align: right;\">                  1</td><td style=\"text-align: right;\">               2</td><td style=\"text-align: right;\">                 0</td><td style=\"text-align: right;\">                  47</td><td style=\"text-align: right;\">                   1</td><td style=\"text-align: right;\">                 5</td><td style=\"text-align: right;\">                      4</td><td style=\"text-align: right;\">           4</td><td style=\"text-align: right;\">                      2</td><td style=\"text-align: right;\">                     7</td><td style=\"text-align: right;\">                  1</td><td style=\"text-align: right;\">          2</td><td>F                   </td><td style=\"text-align: right;\">                  1</td><td>3d1539e56495b6991f0a3ef5a61ca3d03ce4fff7380e9acf56eb3b04793d9ae5</td><td>E             </td><td>A                         </td><td>535fa30d7e25dd8a49f1536779734ec8286108d115da5045d77f3b4185d8f790</td><td style=\"text-align: right;\">                             7.8716 </td><td style=\"text-align: right;\">               2015</td><td style=\"text-align: right;\">                28</td><td style=\"text-align: right;\">                   1</td><td style=\"text-align: right;\">                       2</td><td style=\"text-align: right;\">                       0</td><td style=\"text-align: right;\">               2015</td><td style=\"text-align: right;\">                 1</td><td style=\"text-align: right;\">                   2</td><td style=\"text-align: right;\">                       6</td><td style=\"text-align: right;\">                       1</td><td style=\"text-align: right;\">                2015</td><td style=\"text-align: right;\">                  5</td><td style=\"text-align: right;\">                    2</td><td style=\"text-align: right;\">                        3</td><td style=\"text-align: right;\">                        0</td><td>train    </td><td style=\"text-align: right;\">                          2</td><td style=\"text-align: right;\">                          4</td><td style=\"text-align: right;\">             4</td><td>2015-01-23 00:00:00 </td><td style=\"text-align: right;\">                 0</td><td style=\"text-align: right;\">               2</td><td style=\"text-align: right;\">            1       </td><td style=\"text-align: right;\">                                  0</td><td style=\"text-align: right;\">                                  272</td><td style=\"text-align: right;\">                                   10</td><td style=\"text-align: right;\">                  12</td><td style=\"text-align: right;\">                   9</td></tr>\n",
              "<tr><td style=\"text-align: right;\">           3</td><td>cfd77f44811ed62f25a220b53324cdbafc662a4c9e5f04782dcd41548b3974b5</td><td>2015-05-02 00:00:00</td><td>2015-06-11 00:00:00</td><td>2015-06-16 00:00:00</td><td style=\"text-align: right;\">             1</td><td style=\"text-align: right;\">                  1</td><td style=\"text-align: right;\">               2</td><td style=\"text-align: right;\">                 2</td><td style=\"text-align: right;\">                  46</td><td style=\"text-align: right;\">                   2</td><td style=\"text-align: right;\">                 2</td><td style=\"text-align: right;\">                      3</td><td style=\"text-align: right;\">           5</td><td style=\"text-align: right;\">                      2</td><td style=\"text-align: right;\">                     7</td><td style=\"text-align: right;\">                  2</td><td style=\"text-align: right;\">          2</td><td>F                   </td><td style=\"text-align: right;\">                  1</td><td>3d1539e56495b6991f0a3ef5a61ca3d03ce4fff7380e9acf56eb3b04793d9ae5</td><td>D             </td><td>A                         </td><td>d4735e3a265e16eee03f59718b9b5d03019c07d8b6c51f90da3a666eec13ab35</td><td style=\"text-align: right;\">                             5.34494</td><td style=\"text-align: right;\">               2015</td><td style=\"text-align: right;\">                 2</td><td style=\"text-align: right;\">                   5</td><td style=\"text-align: right;\">                       5</td><td style=\"text-align: right;\">                       1</td><td style=\"text-align: right;\">               2015</td><td style=\"text-align: right;\">                11</td><td style=\"text-align: right;\">                   6</td><td style=\"text-align: right;\">                       3</td><td style=\"text-align: right;\">                       0</td><td style=\"text-align: right;\">                2015</td><td style=\"text-align: right;\">                 16</td><td style=\"text-align: right;\">                    6</td><td style=\"text-align: right;\">                        1</td><td style=\"text-align: right;\">                        0</td><td>train    </td><td style=\"text-align: right;\">                          2</td><td style=\"text-align: right;\">                         40</td><td style=\"text-align: right;\">             5</td><td>2015-01-23 00:00:00 </td><td style=\"text-align: right;\">                 0</td><td style=\"text-align: right;\">               4</td><td style=\"text-align: right;\">            2       </td><td style=\"text-align: right;\">                                  0</td><td style=\"text-align: right;\">                                  274</td><td style=\"text-align: right;\">                                   10</td><td style=\"text-align: right;\">                  10</td><td style=\"text-align: right;\">                   7</td></tr>\n",
              "<tr><td style=\"text-align: right;\">           4</td><td>937cff9e4dcfc2459620153dfc8b9962ac22bea67dfb294ba12c85962b0a9842</td><td>2015-09-02 00:00:00</td><td>2015-12-14 00:00:00</td><td>2015-12-19 00:00:00</td><td style=\"text-align: right;\">             1</td><td style=\"text-align: right;\">                  1</td><td style=\"text-align: right;\">               2</td><td style=\"text-align: right;\">                 0</td><td style=\"text-align: right;\">                  46</td><td style=\"text-align: right;\">                   2</td><td style=\"text-align: right;\">                 2</td><td style=\"text-align: right;\">                      4</td><td style=\"text-align: right;\">           5</td><td style=\"text-align: right;\">                      2</td><td style=\"text-align: right;\">                     7</td><td style=\"text-align: right;\">                  2</td><td style=\"text-align: right;\">          2</td><td>F                   </td><td style=\"text-align: right;\">                  1</td><td>3d1539e56495b6991f0a3ef5a61ca3d03ce4fff7380e9acf56eb3b04793d9ae5</td><td>D             </td><td>A                         </td><td>d4735e3a265e16eee03f59718b9b5d03019c07d8b6c51f90da3a666eec13ab35</td><td style=\"text-align: right;\">                             7.05935</td><td style=\"text-align: right;\">               2015</td><td style=\"text-align: right;\">                 2</td><td style=\"text-align: right;\">                   9</td><td style=\"text-align: right;\">                       2</td><td style=\"text-align: right;\">                       0</td><td style=\"text-align: right;\">               2015</td><td style=\"text-align: right;\">                14</td><td style=\"text-align: right;\">                  12</td><td style=\"text-align: right;\">                       0</td><td style=\"text-align: right;\">                       0</td><td style=\"text-align: right;\">                2015</td><td style=\"text-align: right;\">                 19</td><td style=\"text-align: right;\">                   12</td><td style=\"text-align: right;\">                        5</td><td style=\"text-align: right;\">                        1</td><td>train    </td><td style=\"text-align: right;\">                          2</td><td style=\"text-align: right;\">                        103</td><td style=\"text-align: right;\">             5</td><td>2015-01-23 00:00:00 </td><td style=\"text-align: right;\">                 0</td><td style=\"text-align: right;\">               2</td><td style=\"text-align: right;\">            1       </td><td style=\"text-align: right;\">                                  0</td><td style=\"text-align: right;\">                                  270</td><td style=\"text-align: right;\">                                   10</td><td style=\"text-align: right;\">                  10</td><td style=\"text-align: right;\">                   7</td></tr>\n",
              "<tr><td style=\"text-align: right;\">           5</td><td>cc8f05558362b7589004e57044e8b558bd228fc70da5b0472ff446c520235959</td><td>2015-12-01 00:00:00</td><td>2016-01-12 00:00:00</td><td>2016-01-13 00:00:00</td><td style=\"text-align: right;\">             1</td><td style=\"text-align: right;\">                  1</td><td style=\"text-align: right;\">               2</td><td style=\"text-align: right;\">                 0</td><td style=\"text-align: right;\">                  47</td><td style=\"text-align: right;\">                   1</td><td style=\"text-align: right;\">                 1</td><td style=\"text-align: right;\">                      4</td><td style=\"text-align: right;\">           2</td><td style=\"text-align: right;\">                      2</td><td style=\"text-align: right;\">                     7</td><td style=\"text-align: right;\">                  6</td><td style=\"text-align: right;\">          2</td><td>F                   </td><td style=\"text-align: right;\">                  1</td><td>3d1539e56495b6991f0a3ef5a61ca3d03ce4fff7380e9acf56eb3b04793d9ae5</td><td>F             </td><td>A                         </td><td>b17ef6d19c7a5b1ee83b907c595526dcb1eb06db8227d650d5dda0a9f4ce8cd9</td><td style=\"text-align: right;\">                             8.16771</td><td style=\"text-align: right;\">               2015</td><td style=\"text-align: right;\">                 1</td><td style=\"text-align: right;\">                  12</td><td style=\"text-align: right;\">                       1</td><td style=\"text-align: right;\">                       0</td><td style=\"text-align: right;\">               2016</td><td style=\"text-align: right;\">                12</td><td style=\"text-align: right;\">                   1</td><td style=\"text-align: right;\">                       1</td><td style=\"text-align: right;\">                       0</td><td style=\"text-align: right;\">                2016</td><td style=\"text-align: right;\">                 13</td><td style=\"text-align: right;\">                    1</td><td style=\"text-align: right;\">                        2</td><td style=\"text-align: right;\">                        0</td><td>train    </td><td style=\"text-align: right;\">                          2</td><td style=\"text-align: right;\">                         42</td><td style=\"text-align: right;\">             1</td><td>2015-01-23 00:00:00 </td><td style=\"text-align: right;\">                 0</td><td style=\"text-align: right;\">               2</td><td style=\"text-align: right;\">            1       </td><td style=\"text-align: right;\">                                  0</td><td style=\"text-align: right;\">                                  268</td><td style=\"text-align: right;\">                                   10</td><td style=\"text-align: right;\">                  12</td><td style=\"text-align: right;\">                  11</td></tr>\n",
              "<tr><td style=\"text-align: right;\">           6</td><td>6827da5d76c626deeed81eb9f3afef635db4c17c9cbea0144a833ac3b4d59cdc</td><td>2016-01-20 00:00:00</td><td>2016-01-20 00:00:00</td><td>2016-01-21 00:00:00</td><td style=\"text-align: right;\">             3</td><td style=\"text-align: right;\">                  1</td><td style=\"text-align: right;\">               2</td><td style=\"text-align: right;\">                 0</td><td style=\"text-align: right;\">                  46</td><td style=\"text-align: right;\">                   2</td><td style=\"text-align: right;\">                 7</td><td style=\"text-align: right;\">                      4</td><td style=\"text-align: right;\">           1</td><td style=\"text-align: right;\">                      3</td><td style=\"text-align: right;\">                     7</td><td style=\"text-align: right;\">                  9</td><td style=\"text-align: right;\">          1</td><td>F                   </td><td style=\"text-align: right;\">                  1</td><td>3d1539e56495b6991f0a3ef5a61ca3d03ce4fff7380e9acf56eb3b04793d9ae5</td><td>B             </td><td>A                         </td><td>ff5a1ae012afa5d4c889c50ad427aaf545d31a4fac04ffc1c4d03d403ba4250a</td><td style=\"text-align: right;\">                             6.44984</td><td style=\"text-align: right;\">               2016</td><td style=\"text-align: right;\">                20</td><td style=\"text-align: right;\">                   1</td><td style=\"text-align: right;\">                       2</td><td style=\"text-align: right;\">                       0</td><td style=\"text-align: right;\">               2016</td><td style=\"text-align: right;\">                20</td><td style=\"text-align: right;\">                   1</td><td style=\"text-align: right;\">                       2</td><td style=\"text-align: right;\">                       0</td><td style=\"text-align: right;\">                2016</td><td style=\"text-align: right;\">                 21</td><td style=\"text-align: right;\">                    1</td><td style=\"text-align: right;\">                        3</td><td style=\"text-align: right;\">                        0</td><td>train    </td><td style=\"text-align: right;\">                          3</td><td style=\"text-align: right;\">                          0</td><td style=\"text-align: right;\">             1</td><td>2015-01-23 00:00:00 </td><td style=\"text-align: right;\">                 0</td><td style=\"text-align: right;\">               2</td><td style=\"text-align: right;\">            2       </td><td style=\"text-align: right;\">                                  0</td><td style=\"text-align: right;\">                                  204</td><td style=\"text-align: right;\">                                   10</td><td style=\"text-align: right;\">                  10</td><td style=\"text-align: right;\">                   7</td></tr>\n",
              "<tr><td style=\"text-align: right;\">           7</td><td>b89547398bfff6b8e99939fbeb20ddb55aa2e43ebce9e448fb26cb4382ce9f73</td><td>2016-08-22 00:00:00</td><td>2016-10-20 00:00:00</td><td>2016-10-25 00:00:00</td><td style=\"text-align: right;\">             1</td><td style=\"text-align: right;\">                  1</td><td style=\"text-align: right;\">               2</td><td style=\"text-align: right;\">                 2</td><td style=\"text-align: right;\">                  46</td><td style=\"text-align: right;\">                   1</td><td style=\"text-align: right;\">                 1</td><td style=\"text-align: right;\">                      2</td><td style=\"text-align: right;\">           5</td><td style=\"text-align: right;\">                      3</td><td style=\"text-align: right;\">                     7</td><td style=\"text-align: right;\">                  6</td><td style=\"text-align: right;\">          4</td><td>F                   </td><td style=\"text-align: right;\">                  1</td><td>3d1539e56495b6991f0a3ef5a61ca3d03ce4fff7380e9acf56eb3b04793d9ae5</td><td>F             </td><td>A                         </td><td>b17ef6d19c7a5b1ee83b907c595526dcb1eb06db8227d650d5dda0a9f4ce8cd9</td><td style=\"text-align: right;\">                             7.04617</td><td style=\"text-align: right;\">               2016</td><td style=\"text-align: right;\">                22</td><td style=\"text-align: right;\">                   8</td><td style=\"text-align: right;\">                       0</td><td style=\"text-align: right;\">                       0</td><td style=\"text-align: right;\">               2016</td><td style=\"text-align: right;\">                20</td><td style=\"text-align: right;\">                  10</td><td style=\"text-align: right;\">                       3</td><td style=\"text-align: right;\">                       0</td><td style=\"text-align: right;\">                2016</td><td style=\"text-align: right;\">                 25</td><td style=\"text-align: right;\">                   10</td><td style=\"text-align: right;\">                        1</td><td style=\"text-align: right;\">                        0</td><td>train    </td><td style=\"text-align: right;\">                          3</td><td style=\"text-align: right;\">                         59</td><td style=\"text-align: right;\">             5</td><td>2015-01-23 00:00:00 </td><td style=\"text-align: right;\">                 0</td><td style=\"text-align: right;\">               4</td><td style=\"text-align: right;\">            1       </td><td style=\"text-align: right;\">                                  0</td><td style=\"text-align: right;\">                                  259</td><td style=\"text-align: right;\">                                   10</td><td style=\"text-align: right;\">                  12</td><td style=\"text-align: right;\">                  11</td></tr>\n",
              "<tr><td style=\"text-align: right;\">           8</td><td>3706793a0263706fe541b6e7f3b681be363f0b7e2bdc630d70fe7be84c9232f1</td><td>2016-09-10 00:00:00</td><td>2016-09-18 00:00:00</td><td>2016-09-24 00:00:00</td><td style=\"text-align: right;\">             1</td><td style=\"text-align: right;\">                  1</td><td style=\"text-align: right;\">               2</td><td style=\"text-align: right;\">                 0</td><td style=\"text-align: right;\">                  45</td><td style=\"text-align: right;\">                   2</td><td style=\"text-align: right;\">                 4</td><td style=\"text-align: right;\">                      3</td><td style=\"text-align: right;\">           6</td><td style=\"text-align: right;\">                      4</td><td style=\"text-align: right;\">                     7</td><td style=\"text-align: right;\">                 10</td><td style=\"text-align: right;\">          2</td><td>F                   </td><td style=\"text-align: right;\">                  1</td><td>3d1539e56495b6991f0a3ef5a61ca3d03ce4fff7380e9acf56eb3b04793d9ae5</td><td>B             </td><td>A                         </td><td>0b918943df0962bc7a1824c0555a389347b4febdc7cf9d1254406d80ce44e3f9</td><td style=\"text-align: right;\">                             5.3942 </td><td style=\"text-align: right;\">               2016</td><td style=\"text-align: right;\">                10</td><td style=\"text-align: right;\">                   9</td><td style=\"text-align: right;\">                       5</td><td style=\"text-align: right;\">                       1</td><td style=\"text-align: right;\">               2016</td><td style=\"text-align: right;\">                18</td><td style=\"text-align: right;\">                   9</td><td style=\"text-align: right;\">                       6</td><td style=\"text-align: right;\">                       1</td><td style=\"text-align: right;\">                2016</td><td style=\"text-align: right;\">                 24</td><td style=\"text-align: right;\">                    9</td><td style=\"text-align: right;\">                        5</td><td style=\"text-align: right;\">                        1</td><td>train    </td><td style=\"text-align: right;\">                          4</td><td style=\"text-align: right;\">                          8</td><td style=\"text-align: right;\">             6</td><td>2015-01-23 00:00:00 </td><td style=\"text-align: right;\">                 0</td><td style=\"text-align: right;\">               2</td><td style=\"text-align: right;\">            1       </td><td style=\"text-align: right;\">                                  0</td><td style=\"text-align: right;\">                                  382</td><td style=\"text-align: right;\">                                   10</td><td style=\"text-align: right;\">                  10</td><td style=\"text-align: right;\">                   9</td></tr>\n",
              "<tr><td style=\"text-align: right;\">           9</td><td>1f797a715ff7788cc8162fb033ee0eca345a2209b2759327718a96aa3db1ea58</td><td>2016-08-03 00:00:00</td><td>2016-11-21 00:00:00</td><td>2016-11-24 00:00:00</td><td style=\"text-align: right;\">             1</td><td style=\"text-align: right;\">                  1</td><td style=\"text-align: right;\">               2</td><td style=\"text-align: right;\">                 0</td><td style=\"text-align: right;\">                  45</td><td style=\"text-align: right;\">                   1</td><td style=\"text-align: right;\">                 5</td><td style=\"text-align: right;\">                      4</td><td style=\"text-align: right;\">           4</td><td style=\"text-align: right;\">                      3</td><td style=\"text-align: right;\">                     7</td><td style=\"text-align: right;\">                  1</td><td style=\"text-align: right;\">          2</td><td>F                   </td><td style=\"text-align: right;\">                  1</td><td>3d1539e56495b6991f0a3ef5a61ca3d03ce4fff7380e9acf56eb3b04793d9ae5</td><td>E             </td><td>A                         </td><td>535fa30d7e25dd8a49f1536779734ec8286108d115da5045d77f3b4185d8f790</td><td style=\"text-align: right;\">                             6.56141</td><td style=\"text-align: right;\">               2016</td><td style=\"text-align: right;\">                 3</td><td style=\"text-align: right;\">                   8</td><td style=\"text-align: right;\">                       2</td><td style=\"text-align: right;\">                       0</td><td style=\"text-align: right;\">               2016</td><td style=\"text-align: right;\">                21</td><td style=\"text-align: right;\">                  11</td><td style=\"text-align: right;\">                       0</td><td style=\"text-align: right;\">                       0</td><td style=\"text-align: right;\">                2016</td><td style=\"text-align: right;\">                 24</td><td style=\"text-align: right;\">                   11</td><td style=\"text-align: right;\">                        3</td><td style=\"text-align: right;\">                        0</td><td>train    </td><td style=\"text-align: right;\">                          3</td><td style=\"text-align: right;\">                        110</td><td style=\"text-align: right;\">             3</td><td>2015-01-23 00:00:00 </td><td style=\"text-align: right;\">                 0</td><td style=\"text-align: right;\">               2</td><td style=\"text-align: right;\">            1       </td><td style=\"text-align: right;\">                                  0</td><td style=\"text-align: right;\">                                  285</td><td style=\"text-align: right;\">                                   10</td><td style=\"text-align: right;\">                  12</td><td style=\"text-align: right;\">                  11</td></tr>\n",
              "</tbody>\n",
              "</table>"
            ]
          },
          "metadata": {
            "tags": []
          }
        },
        {
          "output_type": "execute_result",
          "data": {
            "text/plain": [
              ""
            ]
          },
          "metadata": {
            "tags": []
          },
          "execution_count": 141
        }
      ]
    },
    {
      "cell_type": "markdown",
      "metadata": {
        "id": "znn0U1pdaBas",
        "colab_type": "text"
      },
      "source": [
        "# Lets save this while processed data in a new csv file"
      ]
    },
    {
      "cell_type": "code",
      "metadata": {
        "id": "um5upqEGZ6L7",
        "colab_type": "code",
        "colab": {}
      },
      "source": [
        "train.to_csv(\"Train_Preprocessed_version2.csv\",index=False)\n",
        "test.to_csv(\"Test_Preprocessed_version2.csv\",index=False)"
      ],
      "execution_count": 0,
      "outputs": []
    },
    {
      "cell_type": "code",
      "metadata": {
        "id": "SkdOxy__cQhj",
        "colab_type": "code",
        "colab": {}
      },
      "source": [
        ""
      ],
      "execution_count": 0,
      "outputs": []
    },
    {
      "cell_type": "code",
      "metadata": {
        "id": "EyVorPpNiiYi",
        "colab_type": "code",
        "colab": {
          "base_uri": "https://localhost:8080/",
          "height": 343
        },
        "outputId": "52776f8b-aee6-4dfb-999b-37e53a8f4637"
      },
      "source": [
        "! pip install h2o"
      ],
      "execution_count": 123,
      "outputs": [
        {
          "output_type": "stream",
          "text": [
            "Collecting h2o\n",
            "\u001b[?25l  Downloading https://files.pythonhosted.org/packages/eb/c8/2b41bfc87f55285445f0b83603f5179d1909200eb45bab47d7f9eecd5c6b/h2o-3.24.0.3.tar.gz (121.8MB)\n",
            "\u001b[K     |████████████████████████████████| 121.8MB 301kB/s \n",
            "\u001b[?25hRequirement already satisfied: requests in /usr/local/lib/python3.6/dist-packages (from h2o) (2.21.0)\n",
            "Requirement already satisfied: tabulate in /usr/local/lib/python3.6/dist-packages (from h2o) (0.8.3)\n",
            "Requirement already satisfied: future in /usr/local/lib/python3.6/dist-packages (from h2o) (0.16.0)\n",
            "Collecting colorama>=0.3.8 (from h2o)\n",
            "  Downloading https://files.pythonhosted.org/packages/4f/a6/728666f39bfff1719fc94c481890b2106837da9318031f71a8424b662e12/colorama-0.4.1-py2.py3-none-any.whl\n",
            "Requirement already satisfied: idna<2.9,>=2.5 in /usr/local/lib/python3.6/dist-packages (from requests->h2o) (2.8)\n",
            "Requirement already satisfied: chardet<3.1.0,>=3.0.2 in /usr/local/lib/python3.6/dist-packages (from requests->h2o) (3.0.4)\n",
            "Requirement already satisfied: urllib3<1.25,>=1.21.1 in /usr/local/lib/python3.6/dist-packages (from requests->h2o) (1.24.2)\n",
            "Requirement already satisfied: certifi>=2017.4.17 in /usr/local/lib/python3.6/dist-packages (from requests->h2o) (2019.3.9)\n",
            "Building wheels for collected packages: h2o\n",
            "  Building wheel for h2o (setup.py) ... \u001b[?25l\u001b[?25hdone\n",
            "  Stored in directory: /root/.cache/pip/wheels/36/73/57/2ea67a8a35ea9114f7d66cc8c5ec46c915698c909321f8a17d\n",
            "Successfully built h2o\n",
            "Installing collected packages: colorama, h2o\n",
            "Successfully installed colorama-0.4.1 h2o-3.24.0.3\n"
          ],
          "name": "stdout"
        }
      ]
    },
    {
      "cell_type": "code",
      "metadata": {
        "id": "Y9PS4jeaclm7",
        "colab_type": "code",
        "colab": {}
      },
      "source": [
        "import h2o\n",
        "from h2o.automl import H2OAutoML\n"
      ],
      "execution_count": 0,
      "outputs": []
    },
    {
      "cell_type": "code",
      "metadata": {
        "id": "P8IU977pc_xp",
        "colab_type": "code",
        "colab": {
          "base_uri": "https://localhost:8080/",
          "height": 596
        },
        "outputId": "8b159d1b-33ad-4b77-8984-b02bd50a73bf"
      },
      "source": [
        "h2o.init()\n"
      ],
      "execution_count": 125,
      "outputs": [
        {
          "output_type": "stream",
          "text": [
            "Checking whether there is an H2O instance running at http://localhost:54321 ..... not found.\n",
            "Attempting to start a local H2O server...\n",
            "  Java Version: openjdk version \"11.0.2\" 2019-01-15; OpenJDK Runtime Environment (build 11.0.2+9-Ubuntu-3ubuntu118.04.3); OpenJDK 64-Bit Server VM (build 11.0.2+9-Ubuntu-3ubuntu118.04.3, mixed mode, sharing)\n",
            "  Starting server from /usr/local/lib/python3.6/dist-packages/h2o/backend/bin/h2o.jar\n",
            "  Ice root: /tmp/tmpaziw0wo1\n",
            "  JVM stdout: /tmp/tmpaziw0wo1/h2o_unknownUser_started_from_python.out\n",
            "  JVM stderr: /tmp/tmpaziw0wo1/h2o_unknownUser_started_from_python.err\n",
            "  Server is running at http://127.0.0.1:54321\n",
            "Connecting to H2O server at http://127.0.0.1:54321 ... successful.\n"
          ],
          "name": "stdout"
        },
        {
          "output_type": "display_data",
          "data": {
            "text/html": [
              "<div style=\"overflow:auto\"><table style=\"width:50%\"><tr><td>H2O cluster uptime:</td>\n",
              "<td>02 secs</td></tr>\n",
              "<tr><td>H2O cluster timezone:</td>\n",
              "<td>Etc/UTC</td></tr>\n",
              "<tr><td>H2O data parsing timezone:</td>\n",
              "<td>UTC</td></tr>\n",
              "<tr><td>H2O cluster version:</td>\n",
              "<td>3.24.0.3</td></tr>\n",
              "<tr><td>H2O cluster version age:</td>\n",
              "<td>1 day </td></tr>\n",
              "<tr><td>H2O cluster name:</td>\n",
              "<td>H2O_from_python_unknownUser_uagzl1</td></tr>\n",
              "<tr><td>H2O cluster total nodes:</td>\n",
              "<td>1</td></tr>\n",
              "<tr><td>H2O cluster free memory:</td>\n",
              "<td>3 Gb</td></tr>\n",
              "<tr><td>H2O cluster total cores:</td>\n",
              "<td>2</td></tr>\n",
              "<tr><td>H2O cluster allowed cores:</td>\n",
              "<td>2</td></tr>\n",
              "<tr><td>H2O cluster status:</td>\n",
              "<td>accepting new members, healthy</td></tr>\n",
              "<tr><td>H2O connection url:</td>\n",
              "<td>http://127.0.0.1:54321</td></tr>\n",
              "<tr><td>H2O connection proxy:</td>\n",
              "<td>None</td></tr>\n",
              "<tr><td>H2O internal security:</td>\n",
              "<td>False</td></tr>\n",
              "<tr><td>H2O API Extensions:</td>\n",
              "<td>Amazon S3, XGBoost, Algos, AutoML, Core V3, Core V4</td></tr>\n",
              "<tr><td>Python version:</td>\n",
              "<td>3.6.7 final</td></tr></table></div>"
            ],
            "text/plain": [
              "--------------------------  ---------------------------------------------------\n",
              "H2O cluster uptime:         02 secs\n",
              "H2O cluster timezone:       Etc/UTC\n",
              "H2O data parsing timezone:  UTC\n",
              "H2O cluster version:        3.24.0.3\n",
              "H2O cluster version age:    1 day\n",
              "H2O cluster name:           H2O_from_python_unknownUser_uagzl1\n",
              "H2O cluster total nodes:    1\n",
              "H2O cluster free memory:    3 Gb\n",
              "H2O cluster total cores:    2\n",
              "H2O cluster allowed cores:  2\n",
              "H2O cluster status:         accepting new members, healthy\n",
              "H2O connection url:         http://127.0.0.1:54321\n",
              "H2O connection proxy:\n",
              "H2O internal security:      False\n",
              "H2O API Extensions:         Amazon S3, XGBoost, Algos, AutoML, Core V3, Core V4\n",
              "Python version:             3.6.7 final\n",
              "--------------------------  ---------------------------------------------------"
            ]
          },
          "metadata": {
            "tags": []
          }
        }
      ]
    },
    {
      "cell_type": "code",
      "metadata": {
        "id": "1FFwQ6G9ivmi",
        "colab_type": "code",
        "colab": {
          "base_uri": "https://localhost:8080/",
          "height": 51
        },
        "outputId": "effc3fc6-d630-4772-87e2-b5b4fd1fdde2"
      },
      "source": [
        "train=h2o.import_file(\"Train_Preprocessed_version2.csv\")\n",
        "test=h2o.import_file(\"Test_Preprocessed_version2.csv\")"
      ],
      "execution_count": 126,
      "outputs": [
        {
          "output_type": "stream",
          "text": [
            "Parse progress: |█████████████████████████████████████████████████████████| 100%\n",
            "Parse progress: |█████████████████████████████████████████████████████████| 100%\n"
          ],
          "name": "stdout"
        }
      ]
    },
    {
      "cell_type": "code",
      "metadata": {
        "id": "7iLnYOVni5A6",
        "colab_type": "code",
        "colab": {}
      },
      "source": [
        "x = train.columns\n",
        "y = \"amount_spent_per_room_night_scaled\"\n",
        "x.remove(y)\n",
        "x.remove('dataset')\n",
        "x.remove('reservation_id')\n",
        "x.remove('memberid')\n",
        "x.remove('season_holidayed_code')"
      ],
      "execution_count": 0,
      "outputs": []
    },
    {
      "cell_type": "code",
      "metadata": {
        "id": "wSHmNsm3i_ps",
        "colab_type": "code",
        "colab": {}
      },
      "source": [
        "\n",
        "code_cols = ['channel_code','main_product_code','persontravellingid', 'resort_region_code',\n",
        "       'resort_type_code', 'room_type_booked_code', 'season_holidayed_code_new', 'state_code_residence', 'state_code_resort',\n",
        "             'booking_type_code'\n",
        "            ]"
      ],
      "execution_count": 0,
      "outputs": []
    },
    {
      "cell_type": "code",
      "metadata": {
        "id": "fTka7o5Ri_mV",
        "colab_type": "code",
        "colab": {}
      },
      "source": [
        "for col in code_cols:\n",
        "    train[col] = train[col].asfactor()"
      ],
      "execution_count": 0,
      "outputs": []
    },
    {
      "cell_type": "code",
      "metadata": {
        "id": "gB6Y5A6nYIXP",
        "colab_type": "code",
        "colab": {
          "base_uri": "https://localhost:8080/",
          "height": 270
        },
        "outputId": "fe0ec272-4dc0-4a65-976a-a1e2b166ae20"
      },
      "source": [
        "train[code_cols].head()"
      ],
      "execution_count": 147,
      "outputs": [
        {
          "output_type": "display_data",
          "data": {
            "text/html": [
              "<table>\n",
              "<thead>\n",
              "<tr><th style=\"text-align: right;\">  channel_code</th><th style=\"text-align: right;\">  main_product_code</th><th style=\"text-align: right;\">  persontravellingid</th><th style=\"text-align: right;\">  resort_region_code</th><th style=\"text-align: right;\">  resort_type_code</th><th style=\"text-align: right;\">  room_type_booked_code</th><th style=\"text-align: right;\">  season_holidayed_code_new</th><th style=\"text-align: right;\">  state_code_residence</th><th style=\"text-align: right;\">  state_code_resort</th><th style=\"text-align: right;\">  booking_type_code</th></tr>\n",
              "</thead>\n",
              "<tbody>\n",
              "<tr><td style=\"text-align: right;\">             3</td><td style=\"text-align: right;\">                  1</td><td style=\"text-align: right;\">                  46</td><td style=\"text-align: right;\">                   3</td><td style=\"text-align: right;\">                 3</td><td style=\"text-align: right;\">                      3</td><td style=\"text-align: right;\">                          2</td><td style=\"text-align: right;\">                     7</td><td style=\"text-align: right;\">                  3</td><td style=\"text-align: right;\">                  1</td></tr>\n",
              "<tr><td style=\"text-align: right;\">             1</td><td style=\"text-align: right;\">                  1</td><td style=\"text-align: right;\">                  46</td><td style=\"text-align: right;\">                   3</td><td style=\"text-align: right;\">                 3</td><td style=\"text-align: right;\">                      4</td><td style=\"text-align: right;\">                          2</td><td style=\"text-align: right;\">                     7</td><td style=\"text-align: right;\">                  5</td><td style=\"text-align: right;\">                  1</td></tr>\n",
              "<tr><td style=\"text-align: right;\">             1</td><td style=\"text-align: right;\">                  1</td><td style=\"text-align: right;\">                  47</td><td style=\"text-align: right;\">                   1</td><td style=\"text-align: right;\">                 5</td><td style=\"text-align: right;\">                      4</td><td style=\"text-align: right;\">                          2</td><td style=\"text-align: right;\">                     7</td><td style=\"text-align: right;\">                  1</td><td style=\"text-align: right;\">                  1</td></tr>\n",
              "<tr><td style=\"text-align: right;\">             1</td><td style=\"text-align: right;\">                  1</td><td style=\"text-align: right;\">                  46</td><td style=\"text-align: right;\">                   2</td><td style=\"text-align: right;\">                 2</td><td style=\"text-align: right;\">                      3</td><td style=\"text-align: right;\">                          2</td><td style=\"text-align: right;\">                     7</td><td style=\"text-align: right;\">                  2</td><td style=\"text-align: right;\">                  1</td></tr>\n",
              "<tr><td style=\"text-align: right;\">             1</td><td style=\"text-align: right;\">                  1</td><td style=\"text-align: right;\">                  46</td><td style=\"text-align: right;\">                   2</td><td style=\"text-align: right;\">                 2</td><td style=\"text-align: right;\">                      4</td><td style=\"text-align: right;\">                          2</td><td style=\"text-align: right;\">                     7</td><td style=\"text-align: right;\">                  2</td><td style=\"text-align: right;\">                  1</td></tr>\n",
              "<tr><td style=\"text-align: right;\">             1</td><td style=\"text-align: right;\">                  1</td><td style=\"text-align: right;\">                  47</td><td style=\"text-align: right;\">                   1</td><td style=\"text-align: right;\">                 1</td><td style=\"text-align: right;\">                      4</td><td style=\"text-align: right;\">                          2</td><td style=\"text-align: right;\">                     7</td><td style=\"text-align: right;\">                  6</td><td style=\"text-align: right;\">                  1</td></tr>\n",
              "<tr><td style=\"text-align: right;\">             3</td><td style=\"text-align: right;\">                  1</td><td style=\"text-align: right;\">                  46</td><td style=\"text-align: right;\">                   2</td><td style=\"text-align: right;\">                 7</td><td style=\"text-align: right;\">                      4</td><td style=\"text-align: right;\">                          3</td><td style=\"text-align: right;\">                     7</td><td style=\"text-align: right;\">                  9</td><td style=\"text-align: right;\">                  1</td></tr>\n",
              "<tr><td style=\"text-align: right;\">             1</td><td style=\"text-align: right;\">                  1</td><td style=\"text-align: right;\">                  46</td><td style=\"text-align: right;\">                   1</td><td style=\"text-align: right;\">                 1</td><td style=\"text-align: right;\">                      2</td><td style=\"text-align: right;\">                          3</td><td style=\"text-align: right;\">                     7</td><td style=\"text-align: right;\">                  6</td><td style=\"text-align: right;\">                  1</td></tr>\n",
              "<tr><td style=\"text-align: right;\">             1</td><td style=\"text-align: right;\">                  1</td><td style=\"text-align: right;\">                  45</td><td style=\"text-align: right;\">                   2</td><td style=\"text-align: right;\">                 4</td><td style=\"text-align: right;\">                      3</td><td style=\"text-align: right;\">                          4</td><td style=\"text-align: right;\">                     7</td><td style=\"text-align: right;\">                 10</td><td style=\"text-align: right;\">                  1</td></tr>\n",
              "<tr><td style=\"text-align: right;\">             1</td><td style=\"text-align: right;\">                  1</td><td style=\"text-align: right;\">                  45</td><td style=\"text-align: right;\">                   1</td><td style=\"text-align: right;\">                 5</td><td style=\"text-align: right;\">                      4</td><td style=\"text-align: right;\">                          3</td><td style=\"text-align: right;\">                     7</td><td style=\"text-align: right;\">                  1</td><td style=\"text-align: right;\">                  1</td></tr>\n",
              "</tbody>\n",
              "</table>"
            ]
          },
          "metadata": {
            "tags": []
          }
        },
        {
          "output_type": "execute_result",
          "data": {
            "text/plain": [
              ""
            ]
          },
          "metadata": {
            "tags": []
          },
          "execution_count": 147
        }
      ]
    },
    {
      "cell_type": "code",
      "metadata": {
        "id": "M6e7Ha-aYoLL",
        "colab_type": "code",
        "colab": {
          "base_uri": "https://localhost:8080/",
          "height": 457
        },
        "outputId": "be7123fb-4107-4717-883e-d65a6fe7e605"
      },
      "source": [
        "train.head()"
      ],
      "execution_count": 148,
      "outputs": [
        {
          "output_type": "display_data",
          "data": {
            "text/html": [
              "<table>\n",
              "<thead>\n",
              "<tr><th style=\"text-align: right;\">  Unnamed: 0</th><th>reservation_id                                                  </th><th>booking_date       </th><th>checkin_date       </th><th>checkout_date      </th><th style=\"text-align: right;\">  channel_code</th><th style=\"text-align: right;\">  main_product_code</th><th style=\"text-align: right;\">  numberofadults</th><th style=\"text-align: right;\">  numberofchildren</th><th style=\"text-align: right;\">  persontravellingid</th><th style=\"text-align: right;\">  resort_region_code</th><th style=\"text-align: right;\">  resort_type_code</th><th style=\"text-align: right;\">  room_type_booked_code</th><th style=\"text-align: right;\">  roomnights</th><th style=\"text-align: right;\">  season_holidayed_code</th><th style=\"text-align: right;\">  state_code_residence</th><th style=\"text-align: right;\">  state_code_resort</th><th style=\"text-align: right;\">  total_pax</th><th>member_age_buckets  </th><th style=\"text-align: right;\">  booking_type_code</th><th>memberid                                                        </th><th>cluster_code  </th><th>reservationstatusid_code  </th><th>resort_id                                                       </th><th style=\"text-align: right;\">  amount_spent_per_room_night_scaled</th><th style=\"text-align: right;\">  booking_date_year</th><th style=\"text-align: right;\">  booking_date_day</th><th style=\"text-align: right;\">  booking_date_month</th><th style=\"text-align: right;\">  booking_date_dayofweek</th><th style=\"text-align: right;\">  booking_date_isweekend</th><th style=\"text-align: right;\">  checkin_date_year</th><th style=\"text-align: right;\">  checkin_date_day</th><th style=\"text-align: right;\">  checkin_date_month</th><th style=\"text-align: right;\">  checkin_date_dayofweek</th><th style=\"text-align: right;\">  checkin_date_isweekend</th><th style=\"text-align: right;\">  checkout_date_year</th><th style=\"text-align: right;\">  checkout_date_day</th><th style=\"text-align: right;\">  checkout_date_month</th><th style=\"text-align: right;\">  checkout_date_dayofweek</th><th style=\"text-align: right;\">  checkout_date_isweekend</th><th>dataset  </th><th style=\"text-align: right;\">  season_holidayed_code_new</th><th style=\"text-align: right;\">  diff_booking_checkin_days</th><th style=\"text-align: right;\">  days_of_stay</th><th>first_booking_date  </th><th style=\"text-align: right;\">  is_first_booking</th><th style=\"text-align: right;\">  total_visitors</th><th style=\"text-align: right;\">  visitors_pax_ratio</th><th style=\"text-align: right;\">  is_resort_state_same_member_state</th><th style=\"text-align: right;\">  num_reservations_resort_on_that_day</th><th style=\"text-align: right;\">  num_unique_resorts_booked_by_member</th><th style=\"text-align: right;\">  num_resorts_region</th><th style=\"text-align: right;\">  num_resorts_booked</th></tr>\n",
              "</thead>\n",
              "<tbody>\n",
              "<tr><td style=\"text-align: right;\">           0</td><td>07659f3758d8aee27f5a7e2887adeacb67021cb95ada1b752eebc9b50313e152</td><td>2018-04-05 00:00:00</td><td>2018-04-05 00:00:00</td><td>2018-04-06 00:00:00</td><td style=\"text-align: right;\">             3</td><td style=\"text-align: right;\">                  1</td><td style=\"text-align: right;\">               2</td><td style=\"text-align: right;\">                 0</td><td style=\"text-align: right;\">                  46</td><td style=\"text-align: right;\">                   3</td><td style=\"text-align: right;\">                 3</td><td style=\"text-align: right;\">                      3</td><td style=\"text-align: right;\">           1</td><td style=\"text-align: right;\">                      2</td><td style=\"text-align: right;\">                     7</td><td style=\"text-align: right;\">                  3</td><td style=\"text-align: right;\">          3</td><td>F                   </td><td style=\"text-align: right;\">                  1</td><td>3d1539e56495b6991f0a3ef5a61ca3d03ce4fff7380e9acf56eb3b04793d9ae5</td><td>F             </td><td>C                         </td><td>4e07408562bedb8b60ce05c1decfe3ad16b72230967de01f640b7e4729b49fce</td><td style=\"text-align: right;\">                             7.70643</td><td style=\"text-align: right;\">               2018</td><td style=\"text-align: right;\">                 5</td><td style=\"text-align: right;\">                   4</td><td style=\"text-align: right;\">                       3</td><td style=\"text-align: right;\">                       0</td><td style=\"text-align: right;\">               2018</td><td style=\"text-align: right;\">                 5</td><td style=\"text-align: right;\">                   4</td><td style=\"text-align: right;\">                       3</td><td style=\"text-align: right;\">                       0</td><td style=\"text-align: right;\">                2018</td><td style=\"text-align: right;\">                  6</td><td style=\"text-align: right;\">                    4</td><td style=\"text-align: right;\">                        4</td><td style=\"text-align: right;\">                        0</td><td>train    </td><td style=\"text-align: right;\">                          2</td><td style=\"text-align: right;\">                          0</td><td style=\"text-align: right;\">             1</td><td>2015-01-23 00:00:00 </td><td style=\"text-align: right;\">                 0</td><td style=\"text-align: right;\">               2</td><td style=\"text-align: right;\">            0.666667</td><td style=\"text-align: right;\">                                  0</td><td style=\"text-align: right;\">                                  330</td><td style=\"text-align: right;\">                                   10</td><td style=\"text-align: right;\">                  10</td><td style=\"text-align: right;\">                  10</td></tr>\n",
              "<tr><td style=\"text-align: right;\">           1</td><td>03930f033646d073462b35d411616323597715ac4fc3982021ff25387177a782</td><td>2015-01-23 00:00:00</td><td>2015-04-11 00:00:00</td><td>2015-04-16 00:00:00</td><td style=\"text-align: right;\">             1</td><td style=\"text-align: right;\">                  1</td><td style=\"text-align: right;\">               2</td><td style=\"text-align: right;\">                 0</td><td style=\"text-align: right;\">                  46</td><td style=\"text-align: right;\">                   3</td><td style=\"text-align: right;\">                 3</td><td style=\"text-align: right;\">                      4</td><td style=\"text-align: right;\">           5</td><td style=\"text-align: right;\">                      2</td><td style=\"text-align: right;\">                     7</td><td style=\"text-align: right;\">                  5</td><td style=\"text-align: right;\">          2</td><td>F                   </td><td style=\"text-align: right;\">                  1</td><td>3d1539e56495b6991f0a3ef5a61ca3d03ce4fff7380e9acf56eb3b04793d9ae5</td><td>F             </td><td>A                         </td><td>39fa9ec190eee7b6f4dff1100d6343e10918d044c75eac8f9e9a2596173f80c9</td><td style=\"text-align: right;\">                             6.66256</td><td style=\"text-align: right;\">               2015</td><td style=\"text-align: right;\">                23</td><td style=\"text-align: right;\">                   1</td><td style=\"text-align: right;\">                       4</td><td style=\"text-align: right;\">                       0</td><td style=\"text-align: right;\">               2015</td><td style=\"text-align: right;\">                11</td><td style=\"text-align: right;\">                   4</td><td style=\"text-align: right;\">                       5</td><td style=\"text-align: right;\">                       1</td><td style=\"text-align: right;\">                2015</td><td style=\"text-align: right;\">                 16</td><td style=\"text-align: right;\">                    4</td><td style=\"text-align: right;\">                        3</td><td style=\"text-align: right;\">                        0</td><td>train    </td><td style=\"text-align: right;\">                          2</td><td style=\"text-align: right;\">                         78</td><td style=\"text-align: right;\">             5</td><td>2015-01-23 00:00:00 </td><td style=\"text-align: right;\">                 1</td><td style=\"text-align: right;\">               2</td><td style=\"text-align: right;\">            1       </td><td style=\"text-align: right;\">                                  0</td><td style=\"text-align: right;\">                                  394</td><td style=\"text-align: right;\">                                   10</td><td style=\"text-align: right;\">                  10</td><td style=\"text-align: right;\">                   8</td></tr>\n",
              "<tr><td style=\"text-align: right;\">           2</td><td>d145a32920e6587ad95bfe299d80c0affa268220535aaf11ea2bb87c4b0100a4</td><td>2015-01-28 00:00:00</td><td>2015-02-01 00:00:00</td><td>2015-02-05 00:00:00</td><td style=\"text-align: right;\">             1</td><td style=\"text-align: right;\">                  1</td><td style=\"text-align: right;\">               2</td><td style=\"text-align: right;\">                 0</td><td style=\"text-align: right;\">                  47</td><td style=\"text-align: right;\">                   1</td><td style=\"text-align: right;\">                 5</td><td style=\"text-align: right;\">                      4</td><td style=\"text-align: right;\">           4</td><td style=\"text-align: right;\">                      2</td><td style=\"text-align: right;\">                     7</td><td style=\"text-align: right;\">                  1</td><td style=\"text-align: right;\">          2</td><td>F                   </td><td style=\"text-align: right;\">                  1</td><td>3d1539e56495b6991f0a3ef5a61ca3d03ce4fff7380e9acf56eb3b04793d9ae5</td><td>E             </td><td>A                         </td><td>535fa30d7e25dd8a49f1536779734ec8286108d115da5045d77f3b4185d8f790</td><td style=\"text-align: right;\">                             7.8716 </td><td style=\"text-align: right;\">               2015</td><td style=\"text-align: right;\">                28</td><td style=\"text-align: right;\">                   1</td><td style=\"text-align: right;\">                       2</td><td style=\"text-align: right;\">                       0</td><td style=\"text-align: right;\">               2015</td><td style=\"text-align: right;\">                 1</td><td style=\"text-align: right;\">                   2</td><td style=\"text-align: right;\">                       6</td><td style=\"text-align: right;\">                       1</td><td style=\"text-align: right;\">                2015</td><td style=\"text-align: right;\">                  5</td><td style=\"text-align: right;\">                    2</td><td style=\"text-align: right;\">                        3</td><td style=\"text-align: right;\">                        0</td><td>train    </td><td style=\"text-align: right;\">                          2</td><td style=\"text-align: right;\">                          4</td><td style=\"text-align: right;\">             4</td><td>2015-01-23 00:00:00 </td><td style=\"text-align: right;\">                 0</td><td style=\"text-align: right;\">               2</td><td style=\"text-align: right;\">            1       </td><td style=\"text-align: right;\">                                  0</td><td style=\"text-align: right;\">                                  272</td><td style=\"text-align: right;\">                                   10</td><td style=\"text-align: right;\">                  12</td><td style=\"text-align: right;\">                   9</td></tr>\n",
              "<tr><td style=\"text-align: right;\">           3</td><td>cfd77f44811ed62f25a220b53324cdbafc662a4c9e5f04782dcd41548b3974b5</td><td>2015-05-02 00:00:00</td><td>2015-06-11 00:00:00</td><td>2015-06-16 00:00:00</td><td style=\"text-align: right;\">             1</td><td style=\"text-align: right;\">                  1</td><td style=\"text-align: right;\">               2</td><td style=\"text-align: right;\">                 2</td><td style=\"text-align: right;\">                  46</td><td style=\"text-align: right;\">                   2</td><td style=\"text-align: right;\">                 2</td><td style=\"text-align: right;\">                      3</td><td style=\"text-align: right;\">           5</td><td style=\"text-align: right;\">                      2</td><td style=\"text-align: right;\">                     7</td><td style=\"text-align: right;\">                  2</td><td style=\"text-align: right;\">          2</td><td>F                   </td><td style=\"text-align: right;\">                  1</td><td>3d1539e56495b6991f0a3ef5a61ca3d03ce4fff7380e9acf56eb3b04793d9ae5</td><td>D             </td><td>A                         </td><td>d4735e3a265e16eee03f59718b9b5d03019c07d8b6c51f90da3a666eec13ab35</td><td style=\"text-align: right;\">                             5.34494</td><td style=\"text-align: right;\">               2015</td><td style=\"text-align: right;\">                 2</td><td style=\"text-align: right;\">                   5</td><td style=\"text-align: right;\">                       5</td><td style=\"text-align: right;\">                       1</td><td style=\"text-align: right;\">               2015</td><td style=\"text-align: right;\">                11</td><td style=\"text-align: right;\">                   6</td><td style=\"text-align: right;\">                       3</td><td style=\"text-align: right;\">                       0</td><td style=\"text-align: right;\">                2015</td><td style=\"text-align: right;\">                 16</td><td style=\"text-align: right;\">                    6</td><td style=\"text-align: right;\">                        1</td><td style=\"text-align: right;\">                        0</td><td>train    </td><td style=\"text-align: right;\">                          2</td><td style=\"text-align: right;\">                         40</td><td style=\"text-align: right;\">             5</td><td>2015-01-23 00:00:00 </td><td style=\"text-align: right;\">                 0</td><td style=\"text-align: right;\">               4</td><td style=\"text-align: right;\">            2       </td><td style=\"text-align: right;\">                                  0</td><td style=\"text-align: right;\">                                  274</td><td style=\"text-align: right;\">                                   10</td><td style=\"text-align: right;\">                  10</td><td style=\"text-align: right;\">                   7</td></tr>\n",
              "<tr><td style=\"text-align: right;\">           4</td><td>937cff9e4dcfc2459620153dfc8b9962ac22bea67dfb294ba12c85962b0a9842</td><td>2015-09-02 00:00:00</td><td>2015-12-14 00:00:00</td><td>2015-12-19 00:00:00</td><td style=\"text-align: right;\">             1</td><td style=\"text-align: right;\">                  1</td><td style=\"text-align: right;\">               2</td><td style=\"text-align: right;\">                 0</td><td style=\"text-align: right;\">                  46</td><td style=\"text-align: right;\">                   2</td><td style=\"text-align: right;\">                 2</td><td style=\"text-align: right;\">                      4</td><td style=\"text-align: right;\">           5</td><td style=\"text-align: right;\">                      2</td><td style=\"text-align: right;\">                     7</td><td style=\"text-align: right;\">                  2</td><td style=\"text-align: right;\">          2</td><td>F                   </td><td style=\"text-align: right;\">                  1</td><td>3d1539e56495b6991f0a3ef5a61ca3d03ce4fff7380e9acf56eb3b04793d9ae5</td><td>D             </td><td>A                         </td><td>d4735e3a265e16eee03f59718b9b5d03019c07d8b6c51f90da3a666eec13ab35</td><td style=\"text-align: right;\">                             7.05935</td><td style=\"text-align: right;\">               2015</td><td style=\"text-align: right;\">                 2</td><td style=\"text-align: right;\">                   9</td><td style=\"text-align: right;\">                       2</td><td style=\"text-align: right;\">                       0</td><td style=\"text-align: right;\">               2015</td><td style=\"text-align: right;\">                14</td><td style=\"text-align: right;\">                  12</td><td style=\"text-align: right;\">                       0</td><td style=\"text-align: right;\">                       0</td><td style=\"text-align: right;\">                2015</td><td style=\"text-align: right;\">                 19</td><td style=\"text-align: right;\">                   12</td><td style=\"text-align: right;\">                        5</td><td style=\"text-align: right;\">                        1</td><td>train    </td><td style=\"text-align: right;\">                          2</td><td style=\"text-align: right;\">                        103</td><td style=\"text-align: right;\">             5</td><td>2015-01-23 00:00:00 </td><td style=\"text-align: right;\">                 0</td><td style=\"text-align: right;\">               2</td><td style=\"text-align: right;\">            1       </td><td style=\"text-align: right;\">                                  0</td><td style=\"text-align: right;\">                                  270</td><td style=\"text-align: right;\">                                   10</td><td style=\"text-align: right;\">                  10</td><td style=\"text-align: right;\">                   7</td></tr>\n",
              "<tr><td style=\"text-align: right;\">           5</td><td>cc8f05558362b7589004e57044e8b558bd228fc70da5b0472ff446c520235959</td><td>2015-12-01 00:00:00</td><td>2016-01-12 00:00:00</td><td>2016-01-13 00:00:00</td><td style=\"text-align: right;\">             1</td><td style=\"text-align: right;\">                  1</td><td style=\"text-align: right;\">               2</td><td style=\"text-align: right;\">                 0</td><td style=\"text-align: right;\">                  47</td><td style=\"text-align: right;\">                   1</td><td style=\"text-align: right;\">                 1</td><td style=\"text-align: right;\">                      4</td><td style=\"text-align: right;\">           2</td><td style=\"text-align: right;\">                      2</td><td style=\"text-align: right;\">                     7</td><td style=\"text-align: right;\">                  6</td><td style=\"text-align: right;\">          2</td><td>F                   </td><td style=\"text-align: right;\">                  1</td><td>3d1539e56495b6991f0a3ef5a61ca3d03ce4fff7380e9acf56eb3b04793d9ae5</td><td>F             </td><td>A                         </td><td>b17ef6d19c7a5b1ee83b907c595526dcb1eb06db8227d650d5dda0a9f4ce8cd9</td><td style=\"text-align: right;\">                             8.16771</td><td style=\"text-align: right;\">               2015</td><td style=\"text-align: right;\">                 1</td><td style=\"text-align: right;\">                  12</td><td style=\"text-align: right;\">                       1</td><td style=\"text-align: right;\">                       0</td><td style=\"text-align: right;\">               2016</td><td style=\"text-align: right;\">                12</td><td style=\"text-align: right;\">                   1</td><td style=\"text-align: right;\">                       1</td><td style=\"text-align: right;\">                       0</td><td style=\"text-align: right;\">                2016</td><td style=\"text-align: right;\">                 13</td><td style=\"text-align: right;\">                    1</td><td style=\"text-align: right;\">                        2</td><td style=\"text-align: right;\">                        0</td><td>train    </td><td style=\"text-align: right;\">                          2</td><td style=\"text-align: right;\">                         42</td><td style=\"text-align: right;\">             1</td><td>2015-01-23 00:00:00 </td><td style=\"text-align: right;\">                 0</td><td style=\"text-align: right;\">               2</td><td style=\"text-align: right;\">            1       </td><td style=\"text-align: right;\">                                  0</td><td style=\"text-align: right;\">                                  268</td><td style=\"text-align: right;\">                                   10</td><td style=\"text-align: right;\">                  12</td><td style=\"text-align: right;\">                  11</td></tr>\n",
              "<tr><td style=\"text-align: right;\">           6</td><td>6827da5d76c626deeed81eb9f3afef635db4c17c9cbea0144a833ac3b4d59cdc</td><td>2016-01-20 00:00:00</td><td>2016-01-20 00:00:00</td><td>2016-01-21 00:00:00</td><td style=\"text-align: right;\">             3</td><td style=\"text-align: right;\">                  1</td><td style=\"text-align: right;\">               2</td><td style=\"text-align: right;\">                 0</td><td style=\"text-align: right;\">                  46</td><td style=\"text-align: right;\">                   2</td><td style=\"text-align: right;\">                 7</td><td style=\"text-align: right;\">                      4</td><td style=\"text-align: right;\">           1</td><td style=\"text-align: right;\">                      3</td><td style=\"text-align: right;\">                     7</td><td style=\"text-align: right;\">                  9</td><td style=\"text-align: right;\">          1</td><td>F                   </td><td style=\"text-align: right;\">                  1</td><td>3d1539e56495b6991f0a3ef5a61ca3d03ce4fff7380e9acf56eb3b04793d9ae5</td><td>B             </td><td>A                         </td><td>ff5a1ae012afa5d4c889c50ad427aaf545d31a4fac04ffc1c4d03d403ba4250a</td><td style=\"text-align: right;\">                             6.44984</td><td style=\"text-align: right;\">               2016</td><td style=\"text-align: right;\">                20</td><td style=\"text-align: right;\">                   1</td><td style=\"text-align: right;\">                       2</td><td style=\"text-align: right;\">                       0</td><td style=\"text-align: right;\">               2016</td><td style=\"text-align: right;\">                20</td><td style=\"text-align: right;\">                   1</td><td style=\"text-align: right;\">                       2</td><td style=\"text-align: right;\">                       0</td><td style=\"text-align: right;\">                2016</td><td style=\"text-align: right;\">                 21</td><td style=\"text-align: right;\">                    1</td><td style=\"text-align: right;\">                        3</td><td style=\"text-align: right;\">                        0</td><td>train    </td><td style=\"text-align: right;\">                          3</td><td style=\"text-align: right;\">                          0</td><td style=\"text-align: right;\">             1</td><td>2015-01-23 00:00:00 </td><td style=\"text-align: right;\">                 0</td><td style=\"text-align: right;\">               2</td><td style=\"text-align: right;\">            2       </td><td style=\"text-align: right;\">                                  0</td><td style=\"text-align: right;\">                                  204</td><td style=\"text-align: right;\">                                   10</td><td style=\"text-align: right;\">                  10</td><td style=\"text-align: right;\">                   7</td></tr>\n",
              "<tr><td style=\"text-align: right;\">           7</td><td>b89547398bfff6b8e99939fbeb20ddb55aa2e43ebce9e448fb26cb4382ce9f73</td><td>2016-08-22 00:00:00</td><td>2016-10-20 00:00:00</td><td>2016-10-25 00:00:00</td><td style=\"text-align: right;\">             1</td><td style=\"text-align: right;\">                  1</td><td style=\"text-align: right;\">               2</td><td style=\"text-align: right;\">                 2</td><td style=\"text-align: right;\">                  46</td><td style=\"text-align: right;\">                   1</td><td style=\"text-align: right;\">                 1</td><td style=\"text-align: right;\">                      2</td><td style=\"text-align: right;\">           5</td><td style=\"text-align: right;\">                      3</td><td style=\"text-align: right;\">                     7</td><td style=\"text-align: right;\">                  6</td><td style=\"text-align: right;\">          4</td><td>F                   </td><td style=\"text-align: right;\">                  1</td><td>3d1539e56495b6991f0a3ef5a61ca3d03ce4fff7380e9acf56eb3b04793d9ae5</td><td>F             </td><td>A                         </td><td>b17ef6d19c7a5b1ee83b907c595526dcb1eb06db8227d650d5dda0a9f4ce8cd9</td><td style=\"text-align: right;\">                             7.04617</td><td style=\"text-align: right;\">               2016</td><td style=\"text-align: right;\">                22</td><td style=\"text-align: right;\">                   8</td><td style=\"text-align: right;\">                       0</td><td style=\"text-align: right;\">                       0</td><td style=\"text-align: right;\">               2016</td><td style=\"text-align: right;\">                20</td><td style=\"text-align: right;\">                  10</td><td style=\"text-align: right;\">                       3</td><td style=\"text-align: right;\">                       0</td><td style=\"text-align: right;\">                2016</td><td style=\"text-align: right;\">                 25</td><td style=\"text-align: right;\">                   10</td><td style=\"text-align: right;\">                        1</td><td style=\"text-align: right;\">                        0</td><td>train    </td><td style=\"text-align: right;\">                          3</td><td style=\"text-align: right;\">                         59</td><td style=\"text-align: right;\">             5</td><td>2015-01-23 00:00:00 </td><td style=\"text-align: right;\">                 0</td><td style=\"text-align: right;\">               4</td><td style=\"text-align: right;\">            1       </td><td style=\"text-align: right;\">                                  0</td><td style=\"text-align: right;\">                                  259</td><td style=\"text-align: right;\">                                   10</td><td style=\"text-align: right;\">                  12</td><td style=\"text-align: right;\">                  11</td></tr>\n",
              "<tr><td style=\"text-align: right;\">           8</td><td>3706793a0263706fe541b6e7f3b681be363f0b7e2bdc630d70fe7be84c9232f1</td><td>2016-09-10 00:00:00</td><td>2016-09-18 00:00:00</td><td>2016-09-24 00:00:00</td><td style=\"text-align: right;\">             1</td><td style=\"text-align: right;\">                  1</td><td style=\"text-align: right;\">               2</td><td style=\"text-align: right;\">                 0</td><td style=\"text-align: right;\">                  45</td><td style=\"text-align: right;\">                   2</td><td style=\"text-align: right;\">                 4</td><td style=\"text-align: right;\">                      3</td><td style=\"text-align: right;\">           6</td><td style=\"text-align: right;\">                      4</td><td style=\"text-align: right;\">                     7</td><td style=\"text-align: right;\">                 10</td><td style=\"text-align: right;\">          2</td><td>F                   </td><td style=\"text-align: right;\">                  1</td><td>3d1539e56495b6991f0a3ef5a61ca3d03ce4fff7380e9acf56eb3b04793d9ae5</td><td>B             </td><td>A                         </td><td>0b918943df0962bc7a1824c0555a389347b4febdc7cf9d1254406d80ce44e3f9</td><td style=\"text-align: right;\">                             5.3942 </td><td style=\"text-align: right;\">               2016</td><td style=\"text-align: right;\">                10</td><td style=\"text-align: right;\">                   9</td><td style=\"text-align: right;\">                       5</td><td style=\"text-align: right;\">                       1</td><td style=\"text-align: right;\">               2016</td><td style=\"text-align: right;\">                18</td><td style=\"text-align: right;\">                   9</td><td style=\"text-align: right;\">                       6</td><td style=\"text-align: right;\">                       1</td><td style=\"text-align: right;\">                2016</td><td style=\"text-align: right;\">                 24</td><td style=\"text-align: right;\">                    9</td><td style=\"text-align: right;\">                        5</td><td style=\"text-align: right;\">                        1</td><td>train    </td><td style=\"text-align: right;\">                          4</td><td style=\"text-align: right;\">                          8</td><td style=\"text-align: right;\">             6</td><td>2015-01-23 00:00:00 </td><td style=\"text-align: right;\">                 0</td><td style=\"text-align: right;\">               2</td><td style=\"text-align: right;\">            1       </td><td style=\"text-align: right;\">                                  0</td><td style=\"text-align: right;\">                                  382</td><td style=\"text-align: right;\">                                   10</td><td style=\"text-align: right;\">                  10</td><td style=\"text-align: right;\">                   9</td></tr>\n",
              "<tr><td style=\"text-align: right;\">           9</td><td>1f797a715ff7788cc8162fb033ee0eca345a2209b2759327718a96aa3db1ea58</td><td>2016-08-03 00:00:00</td><td>2016-11-21 00:00:00</td><td>2016-11-24 00:00:00</td><td style=\"text-align: right;\">             1</td><td style=\"text-align: right;\">                  1</td><td style=\"text-align: right;\">               2</td><td style=\"text-align: right;\">                 0</td><td style=\"text-align: right;\">                  45</td><td style=\"text-align: right;\">                   1</td><td style=\"text-align: right;\">                 5</td><td style=\"text-align: right;\">                      4</td><td style=\"text-align: right;\">           4</td><td style=\"text-align: right;\">                      3</td><td style=\"text-align: right;\">                     7</td><td style=\"text-align: right;\">                  1</td><td style=\"text-align: right;\">          2</td><td>F                   </td><td style=\"text-align: right;\">                  1</td><td>3d1539e56495b6991f0a3ef5a61ca3d03ce4fff7380e9acf56eb3b04793d9ae5</td><td>E             </td><td>A                         </td><td>535fa30d7e25dd8a49f1536779734ec8286108d115da5045d77f3b4185d8f790</td><td style=\"text-align: right;\">                             6.56141</td><td style=\"text-align: right;\">               2016</td><td style=\"text-align: right;\">                 3</td><td style=\"text-align: right;\">                   8</td><td style=\"text-align: right;\">                       2</td><td style=\"text-align: right;\">                       0</td><td style=\"text-align: right;\">               2016</td><td style=\"text-align: right;\">                21</td><td style=\"text-align: right;\">                  11</td><td style=\"text-align: right;\">                       0</td><td style=\"text-align: right;\">                       0</td><td style=\"text-align: right;\">                2016</td><td style=\"text-align: right;\">                 24</td><td style=\"text-align: right;\">                   11</td><td style=\"text-align: right;\">                        3</td><td style=\"text-align: right;\">                        0</td><td>train    </td><td style=\"text-align: right;\">                          3</td><td style=\"text-align: right;\">                        110</td><td style=\"text-align: right;\">             3</td><td>2015-01-23 00:00:00 </td><td style=\"text-align: right;\">                 0</td><td style=\"text-align: right;\">               2</td><td style=\"text-align: right;\">            1       </td><td style=\"text-align: right;\">                                  0</td><td style=\"text-align: right;\">                                  285</td><td style=\"text-align: right;\">                                   10</td><td style=\"text-align: right;\">                  12</td><td style=\"text-align: right;\">                  11</td></tr>\n",
              "</tbody>\n",
              "</table>"
            ]
          },
          "metadata": {
            "tags": []
          }
        },
        {
          "output_type": "execute_result",
          "data": {
            "text/plain": [
              ""
            ]
          },
          "metadata": {
            "tags": []
          },
          "execution_count": 148
        }
      ]
    },
    {
      "cell_type": "code",
      "metadata": {
        "id": "q3WOwUk1i_jr",
        "colab_type": "code",
        "colab": {
          "base_uri": "https://localhost:8080/",
          "height": 34
        },
        "outputId": "319cab75-25ed-4d6e-f23e-a655f71bad6d"
      },
      "source": [
        "aml = H2OAutoML(max_models=30, seed=42,max_runtime_secs=7200,project_name=\"ClubMahindra_Version2\",max_runtime_secs_per_model=400)\n",
        "aml.train(x=x, y=y, training_frame=train)"
      ],
      "execution_count": 130,
      "outputs": [
        {
          "output_type": "stream",
          "text": [
            "AutoML progress: |████████████████████████████████████████████████████████| 100%\n"
          ],
          "name": "stdout"
        }
      ]
    },
    {
      "cell_type": "code",
      "metadata": {
        "id": "ioE9RcAYi_gF",
        "colab_type": "code",
        "colab": {
          "base_uri": "https://localhost:8080/",
          "height": 250
        },
        "outputId": "e4413b5f-1c5f-4b24-a197-9134fdfd2eb9"
      },
      "source": [
        "aml.leaderboard"
      ],
      "execution_count": 132,
      "outputs": [
        {
          "output_type": "display_data",
          "data": {
            "text/html": [
              "<table>\n",
              "<thead>\n",
              "<tr><th>model_id                                           </th><th style=\"text-align: right;\">  mean_residual_deviance</th><th style=\"text-align: right;\">    rmse</th><th style=\"text-align: right;\">     mse</th><th style=\"text-align: right;\">     mae</th><th style=\"text-align: right;\">   rmsle</th></tr>\n",
              "</thead>\n",
              "<tbody>\n",
              "<tr><td>StackedEnsemble_AllModels_AutoML_20190508_092734   </td><td style=\"text-align: right;\">                0.958729</td><td style=\"text-align: right;\">0.979147</td><td style=\"text-align: right;\">0.958729</td><td style=\"text-align: right;\">0.717336</td><td style=\"text-align: right;\">0.126409</td></tr>\n",
              "<tr><td>StackedEnsemble_BestOfFamily_AutoML_20190508_092734</td><td style=\"text-align: right;\">                0.960638</td><td style=\"text-align: right;\">0.980121</td><td style=\"text-align: right;\">0.960638</td><td style=\"text-align: right;\">0.718422</td><td style=\"text-align: right;\">0.126522</td></tr>\n",
              "<tr><td>GBM_1_AutoML_20190508_092734                       </td><td style=\"text-align: right;\">                0.964646</td><td style=\"text-align: right;\">0.982164</td><td style=\"text-align: right;\">0.964646</td><td style=\"text-align: right;\">0.720682</td><td style=\"text-align: right;\">0.126742</td></tr>\n",
              "<tr><td>GBM_2_AutoML_20190508_092734                       </td><td style=\"text-align: right;\">                0.96519 </td><td style=\"text-align: right;\">0.982441</td><td style=\"text-align: right;\">0.96519 </td><td style=\"text-align: right;\">0.720858</td><td style=\"text-align: right;\">0.126771</td></tr>\n",
              "<tr><td>GBM_3_AutoML_20190508_092734                       </td><td style=\"text-align: right;\">                0.965868</td><td style=\"text-align: right;\">0.982786</td><td style=\"text-align: right;\">0.965868</td><td style=\"text-align: right;\">0.720991</td><td style=\"text-align: right;\">0.126799</td></tr>\n",
              "<tr><td>DeepLearning_1_AutoML_20190508_092734              </td><td style=\"text-align: right;\">                0.970623</td><td style=\"text-align: right;\">0.985202</td><td style=\"text-align: right;\">0.970623</td><td style=\"text-align: right;\">0.720101</td><td style=\"text-align: right;\">0.127184</td></tr>\n",
              "<tr><td>GBM_4_AutoML_20190508_092734                       </td><td style=\"text-align: right;\">                0.970679</td><td style=\"text-align: right;\">0.98523 </td><td style=\"text-align: right;\">0.970679</td><td style=\"text-align: right;\">0.722945</td><td style=\"text-align: right;\">0.127035</td></tr>\n",
              "<tr><td>GBM_5_AutoML_20190508_092734                       </td><td style=\"text-align: right;\">                0.978446</td><td style=\"text-align: right;\">0.989164</td><td style=\"text-align: right;\">0.978446</td><td style=\"text-align: right;\">0.727061</td><td style=\"text-align: right;\">0.127491</td></tr>\n",
              "<tr><td>GLM_grid_1_AutoML_20190508_092734_model_1          </td><td style=\"text-align: right;\">                0.994703</td><td style=\"text-align: right;\">0.997348</td><td style=\"text-align: right;\">0.994703</td><td style=\"text-align: right;\">0.733024</td><td style=\"text-align: right;\">0.128342</td></tr>\n",
              "<tr><td>DeepLearning_grid_1_AutoML_20190508_092734_model_1 </td><td style=\"text-align: right;\">                0.999272</td><td style=\"text-align: right;\">0.999636</td><td style=\"text-align: right;\">0.999272</td><td style=\"text-align: right;\">0.736334</td><td style=\"text-align: right;\">0.128567</td></tr>\n",
              "</tbody>\n",
              "</table>"
            ]
          },
          "metadata": {
            "tags": []
          }
        },
        {
          "output_type": "execute_result",
          "data": {
            "text/plain": [
              ""
            ]
          },
          "metadata": {
            "tags": []
          },
          "execution_count": 132
        }
      ]
    },
    {
      "cell_type": "code",
      "metadata": {
        "id": "f93kBbJvWiya",
        "colab_type": "code",
        "colab": {}
      },
      "source": [
        "# aml.leader"
      ],
      "execution_count": 0,
      "outputs": []
    },
    {
      "cell_type": "code",
      "metadata": {
        "id": "j1IJYdL9O8dC",
        "colab_type": "code",
        "colab": {
          "base_uri": "https://localhost:8080/",
          "height": 34
        },
        "outputId": "c7b70e98-fd38-4398-ac31-e6107fbdd3d8"
      },
      "source": [
        "h2o.save_model(aml.leader, path = \"Best_AutoModel_v2\")"
      ],
      "execution_count": 133,
      "outputs": [
        {
          "output_type": "execute_result",
          "data": {
            "text/plain": [
              "'/content/Best_AutoModel_v2/StackedEnsemble_AllModels_AutoML_20190508_092734'"
            ]
          },
          "metadata": {
            "tags": []
          },
          "execution_count": 133
        }
      ]
    },
    {
      "cell_type": "code",
      "metadata": {
        "id": "Kgex-POEPRXJ",
        "colab_type": "code",
        "colab": {}
      },
      "source": [
        "for col in code_cols:\n",
        "    test[col] = test[col].asfactor()"
      ],
      "execution_count": 0,
      "outputs": []
    },
    {
      "cell_type": "code",
      "metadata": {
        "id": "pA2XUpqUPUyU",
        "colab_type": "code",
        "colab": {
          "base_uri": "https://localhost:8080/",
          "height": 34
        },
        "outputId": "a0fd0834-27ab-417b-add7-1867f1244ad5"
      },
      "source": [
        "preds=aml.predict(test)"
      ],
      "execution_count": 135,
      "outputs": [
        {
          "output_type": "stream",
          "text": [
            "stackedensemble prediction progress: |████████████████████████████████████| 100%\n"
          ],
          "name": "stdout"
        }
      ]
    },
    {
      "cell_type": "code",
      "metadata": {
        "id": "c8ak5V9LPWZ9",
        "colab_type": "code",
        "colab": {}
      },
      "source": [
        "submission=pd.read_csv(\"sample_submission.csv\")\n"
      ],
      "execution_count": 0,
      "outputs": []
    },
    {
      "cell_type": "code",
      "metadata": {
        "id": "OeJnmaC3PWVK",
        "colab_type": "code",
        "colab": {}
      },
      "source": [
        "preds=preds.as_data_frame()\n"
      ],
      "execution_count": 0,
      "outputs": []
    },
    {
      "cell_type": "code",
      "metadata": {
        "id": "azx8fkl1PWQI",
        "colab_type": "code",
        "colab": {}
      },
      "source": [
        "submission['amount_spent_per_room_night_scaled']=preds['predict']\n"
      ],
      "execution_count": 0,
      "outputs": []
    },
    {
      "cell_type": "code",
      "metadata": {
        "id": "CWRh-hWqPWKC",
        "colab_type": "code",
        "colab": {}
      },
      "source": [
        "submission.to_csv(\"Best_AutoML_v2.csv\",index=False)\n"
      ],
      "execution_count": 0,
      "outputs": []
    },
    {
      "cell_type": "code",
      "metadata": {
        "id": "PIvIsr_HPWDU",
        "colab_type": "code",
        "colab": {}
      },
      "source": [
        ""
      ],
      "execution_count": 0,
      "outputs": []
    }
  ]
}
